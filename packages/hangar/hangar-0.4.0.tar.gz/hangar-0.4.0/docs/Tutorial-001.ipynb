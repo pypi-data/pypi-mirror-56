{
 "cells": [
  {
   "cell_type": "markdown",
   "metadata": {},
   "source": [
    "## Part 1: Creating A Repository And Working With Data\n",
    "\n",
    "\n",
    "This tutorial will review the first steps of working with a hangar repository. \n",
    "\n",
    "To fit with the beginner's theme, we will use the MNIST dataset. Later examples will show off how to work with much more complex data."
   ]
  },
  {
   "cell_type": "code",
   "execution_count": 1,
   "metadata": {},
   "outputs": [],
   "source": [
    "from hangar import Repository\n",
    "\n",
    "import numpy as np\n",
    "import pickle\n",
    "import gzip\n",
    "import matplotlib.pyplot as plt\n",
    "\n",
    "from tqdm import tqdm"
   ]
  },
  {
   "cell_type": "markdown",
   "metadata": {},
   "source": [
    "### Creating & Interacting with a Hangar Repository\n",
    "\n",
    "Hangar is designed to “just make sense” in every operation you have to perform.\n",
    "As such, there is a single interface which all interaction begins with: the\n",
    " designed to “just make sense” in every operation you have to perform.\n",
    "As such, there is a single interface which all interaction begins with: the\n",
    "[Repository](api.rst#hangar.repository.Repository) object.\n",
    "\n",
    "Whether a hangar repository exists at the path you specify or not, just tell\n",
    "hangar where it should live!\n",
    "\n",
    "#### Intitializing a repository\n",
    "\n",
    "The first time you want to work with a new repository, the repository \n",
    "[init()](api.rst#hangar.repository.Repository.init) method\n",
    "must be called. This is where you provide Hangar with your name and email\n",
    "address (to be used in the commit log), as well as implicitly confirming that\n",
    "you do want to create the underlying data files hangar uses on disk."
   ]
  },
  {
   "cell_type": "code",
   "execution_count": 2,
   "metadata": {},
   "outputs": [
    {
     "name": "stdout",
     "output_type": "stream",
     "text": [
      "Hangar Repo initialized at: /Users/rick/projects/tensorwerk/hangar/dev/mnist/.hangar\n"
     ]
    },
    {
     "data": {
      "text/plain": [
       "'/Users/rick/projects/tensorwerk/hangar/dev/mnist/.hangar'"
      ]
     },
     "execution_count": 2,
     "metadata": {},
     "output_type": "execute_result"
    }
   ],
   "source": [
    "repo = Repository(path='/Users/rick/projects/tensorwerk/hangar/dev/mnist/')\n",
    "\n",
    "# First time a repository is accessed only!\n",
    "# Note: if you feed a path to the `Repository` which does not contain a pre-initialized hangar repo, \n",
    "# when the Repository object is initialized it will let you know that you need to run `init()`\n",
    "\n",
    "repo.init(user_name='Rick Izzo', user_email='rick@tensorwerk.com', remove_old=True)"
   ]
  },
  {
   "cell_type": "markdown",
   "metadata": {},
   "source": [
    "#### Checking out the repo for writing\n",
    "\n",
    "A repository can be checked out in two modes:\n",
    "\n",
    "1. [write-enabled](api.rst#hangar.checkout.WriterCheckout): applies all operations to the staging area’s current\n",
    "   state. Only one write-enabled checkout can be active at a different time,\n",
    "   must be closed upon last use, or manual intervention will be needed to remove\n",
    "   the writer lock.\n",
    "\n",
    "2. [read-only](api.rst#read-only-checkout): checkout a commit or branch to view repository state as it\n",
    "   existed at that point in time.\n",
    "   \n",
    "#### Lots of useful information is in the iPython `__repr__`\n",
    "\n",
    "If you're ever in doubt about what the state of the object your working\n",
    "on is, just call its reps, and the most relevant information will be\n",
    "sent to your screen!"
   ]
  },
  {
   "cell_type": "code",
   "execution_count": 3,
   "metadata": {},
   "outputs": [
    {
     "data": {
      "text/plain": [
       "Hangar WriterCheckout                \n",
       "    Writer       : True                \n",
       "    Base Branch  : master                \n",
       "    Num Arraysets : 0                \n",
       "    Num Metadata : 0\n"
      ]
     },
     "execution_count": 3,
     "metadata": {},
     "output_type": "execute_result"
    }
   ],
   "source": [
    "co = repo.checkout(write=True)\n",
    "co"
   ]
  },
  {
   "cell_type": "markdown",
   "metadata": {},
   "source": [
    "#### A checkout allows access to [arraysets](api.rst#hangar.arrayset.Arraysets) and [metadata](api.rst#hangar.metadata.MetadataWriter)\n",
    "\n",
    "The [arraysets](api.rst#hangar.checkout.WriterCheckout.arraysets) and \n",
    "[metadata](api.rst#hangar.checkout.WriterCheckout.metadata) attributes \n",
    "of a checkout provide the interface to working with all of the data on disk!"
   ]
  },
  {
   "cell_type": "code",
   "execution_count": 4,
   "metadata": {},
   "outputs": [
    {
     "data": {
      "text/plain": [
       "Hangar Arraysets                \n",
       "    Writeable: True                \n",
       "    Arrayset Names / Partial Remote References:                \n",
       "      - "
      ]
     },
     "execution_count": 4,
     "metadata": {},
     "output_type": "execute_result"
    }
   ],
   "source": [
    "co.arraysets"
   ]
  },
  {
   "cell_type": "code",
   "execution_count": 5,
   "metadata": {},
   "outputs": [
    {
     "data": {
      "text/plain": [
       "Hangar Metadata                \n",
       "    Writeable: True                \n",
       "    Number of Keys: 0\n"
      ]
     },
     "execution_count": 5,
     "metadata": {},
     "output_type": "execute_result"
    }
   ],
   "source": [
    "co.metadata"
   ]
  },
  {
   "cell_type": "markdown",
   "metadata": {},
   "source": [
    "### Before data can be added to a repository, a arrayset must be initialized.\n",
    "\n",
    "We're going to first load up a the MNIST pickled dataset so it can be added to\n",
    "the repo!"
   ]
  },
  {
   "cell_type": "code",
   "execution_count": 6,
   "metadata": {},
   "outputs": [],
   "source": [
    "# Load the dataset\n",
    "with gzip.open('/Users/rick/projects/tensorwerk/hangar/dev/data/mnist.pkl.gz', 'rb') as f:\n",
    "    train_set, valid_set, test_set = pickle.load(f, encoding='bytes')\n",
    "\n",
    "def rescale(array):\n",
    "    array = array * 256\n",
    "    rounded = np.round(array)\n",
    "    return rounded.astype(np.uint8())\n",
    "\n",
    "sample_trimg = rescale(train_set[0][0])\n",
    "sample_trlabel = np.array([train_set[1][0]])\n",
    "trimgs = rescale(train_set[0])\n",
    "trlabels = train_set[1]"
   ]
  },
  {
   "cell_type": "markdown",
   "metadata": {},
   "source": [
    "#### Before data can be added to a repository, a arrayset must be initialized. \n",
    "\n",
    "An \"Arrayset\" is a named grouping of data samples where each sample shares a\n",
    "number of similar attributes and array properties. \n",
    "\n",
    "See the docstrings below or in [init_arrayset()](api.rst#hangar.arrayset.Arraysets.init_arrayset)\n",
    "\n",
    ".. include:: ./noindexapi/apiinit.rst"
   ]
  },
  {
   "cell_type": "code",
   "execution_count": 7,
   "metadata": {},
   "outputs": [
    {
     "data": {
      "text/plain": [
       "Hangar ArraysetDataWriter                 \n",
       "    Arrayset Name             : mnist_training_images                \n",
       "    Schema Hash              : 976ba57033bb                \n",
       "    Variable Shape           : False                \n",
       "    (max) Shape              : (784,)                \n",
       "    Datatype                 : <class 'numpy.uint8'>                \n",
       "    Named Samples            : True                \n",
       "    Access Mode              : a                \n",
       "    Number of Samples        : 0                \n",
       "    Partial Remote Data Refs : False\n"
      ]
     },
     "execution_count": 7,
     "metadata": {},
     "output_type": "execute_result"
    }
   ],
   "source": [
    "co.arraysets.init_arrayset(name='mnist_training_images', prototype=trimgs[0])"
   ]
  },
  {
   "cell_type": "markdown",
   "metadata": {},
   "source": [
    "### Interaction \n",
    "\n",
    "#### Through arraysets attribute\n",
    "\n",
    "When a arrayset is initialized, a arrayset accessor object will be returned,\n",
    "however, depending on your use case, this may or may not be the most convenient\n",
    "way to access a arrayset.\n",
    "\n",
    "In general, we have implemented a full `dict` mapping interface on top of all\n",
    "objects. To access the `'mnist_training_images'` arrayset you can just use a\n",
    "dict style access like the following (note: if operating in iPython/Jupyter, the\n",
    "arrayset keys will autocomplete for you).\n",
    "\n",
    "The arrayset objects returned here contain many useful instrospecion methods which\n",
    "we will review over the rest of the tutorial."
   ]
  },
  {
   "cell_type": "code",
   "execution_count": 8,
   "metadata": {},
   "outputs": [
    {
     "data": {
      "text/plain": [
       "Hangar ArraysetDataWriter                 \n",
       "    Arrayset Name             : mnist_training_images                \n",
       "    Schema Hash              : 976ba57033bb                \n",
       "    Variable Shape           : False                \n",
       "    (max) Shape              : (784,)                \n",
       "    Datatype                 : <class 'numpy.uint8'>                \n",
       "    Named Samples            : True                \n",
       "    Access Mode              : a                \n",
       "    Number of Samples        : 0                \n",
       "    Partial Remote Data Refs : False\n"
      ]
     },
     "execution_count": 8,
     "metadata": {},
     "output_type": "execute_result"
    }
   ],
   "source": [
    "co.arraysets['mnist_training_images']"
   ]
  },
  {
   "cell_type": "code",
   "execution_count": 9,
   "metadata": {},
   "outputs": [
    {
     "data": {
      "text/plain": [
       "Hangar ArraysetDataWriter                 \n",
       "    Arrayset Name             : mnist_training_images                \n",
       "    Schema Hash              : 976ba57033bb                \n",
       "    Variable Shape           : False                \n",
       "    (max) Shape              : (784,)                \n",
       "    Datatype                 : <class 'numpy.uint8'>                \n",
       "    Named Samples            : True                \n",
       "    Access Mode              : a                \n",
       "    Number of Samples        : 0                \n",
       "    Partial Remote Data Refs : False\n"
      ]
     },
     "execution_count": 9,
     "metadata": {},
     "output_type": "execute_result"
    }
   ],
   "source": [
    "train_aset = co.arraysets['mnist_training_images']\n",
    "\n",
    "# OR an equivalent way using the `.get()` method\n",
    "\n",
    "train_aset = co.arraysets.get('mnist_training_images')\n",
    "train_aset"
   ]
  },
  {
   "cell_type": "markdown",
   "metadata": {},
   "source": [
    "#### Through the checkout object (arrayset and sample access)\n",
    "\n",
    "In addition to the standard `co.arraysets` access methods, we have implemented a convenience mapping to [arraysets](api.rst#hangar.arrayset.Arraysets) and [samples](api.rst#hangar.arrayset.ArraysetDataWriter) (ie. data) for both reading and writing from the [checkout](api.rst#hangar.checkout.WriterCheckout) object itself. \n",
    "\n",
    "To get the same arrayset object from the checkout, simply use:"
   ]
  },
  {
   "cell_type": "code",
   "execution_count": 10,
   "metadata": {},
   "outputs": [
    {
     "data": {
      "text/plain": [
       "Hangar ArraysetDataWriter                 \n",
       "    Arrayset Name             : mnist_training_images                \n",
       "    Schema Hash              : 976ba57033bb                \n",
       "    Variable Shape           : False                \n",
       "    (max) Shape              : (784,)                \n",
       "    Datatype                 : <class 'numpy.uint8'>                \n",
       "    Named Samples            : True                \n",
       "    Access Mode              : a                \n",
       "    Number of Samples        : 0                \n",
       "    Partial Remote Data Refs : False\n"
      ]
     },
     "execution_count": 10,
     "metadata": {},
     "output_type": "execute_result"
    }
   ],
   "source": [
    "train_asets = co['mnist_training_images']\n",
    "train_asets"
   ]
  },
  {
   "cell_type": "markdown",
   "metadata": {},
   "source": [
    "Though that works as expected, most use cases will take advantage of adding and reading data from multiple arraysets / samples at a time. This is shown in the next section."
   ]
  },
  {
   "cell_type": "markdown",
   "metadata": {},
   "source": [
    "#### Adding Data\n",
    "\n",
    "To add data to a named arrayset, we can use [dict-style setting](api.rst#hangar.arrayset.ArraysetDataWriter) \n",
    "(refer to the `__setitem__`, `__getitem__`, and `__delitem__` methods), \n",
    "or the [add()](api.rst#hangar.arrayset.ArraysetDataWriter.add) method. \n",
    "Sample keys can be either `str` or `int` type."
   ]
  },
  {
   "cell_type": "code",
   "execution_count": 11,
   "metadata": {},
   "outputs": [],
   "source": [
    "train_aset['0'] = trimgs[0]\n",
    "train_aset.add(data=trimgs[1], name='1')\n",
    "train_aset[51] = trimgs[51]"
   ]
  },
  {
   "cell_type": "markdown",
   "metadata": {},
   "source": [
    "Using the checkout method"
   ]
  },
  {
   "cell_type": "code",
   "execution_count": 12,
   "metadata": {},
   "outputs": [],
   "source": [
    "co['mnist_training_images', 60] = trimgs[60]"
   ]
  },
  {
   "cell_type": "markdown",
   "metadata": {},
   "source": [
    "#### How many samples are in the arrayset?"
   ]
  },
  {
   "cell_type": "code",
   "execution_count": 13,
   "metadata": {},
   "outputs": [
    {
     "data": {
      "text/plain": [
       "4"
      ]
     },
     "execution_count": 13,
     "metadata": {},
     "output_type": "execute_result"
    }
   ],
   "source": [
    "len(train_aset)"
   ]
  },
  {
   "cell_type": "markdown",
   "metadata": {},
   "source": [
    "#### Containment Testing"
   ]
  },
  {
   "cell_type": "code",
   "execution_count": 14,
   "metadata": {},
   "outputs": [
    {
     "data": {
      "text/plain": [
       "False"
      ]
     },
     "execution_count": 14,
     "metadata": {},
     "output_type": "execute_result"
    }
   ],
   "source": [
    "'hi' in train_aset"
   ]
  },
  {
   "cell_type": "code",
   "execution_count": 15,
   "metadata": {},
   "outputs": [
    {
     "data": {
      "text/plain": [
       "True"
      ]
     },
     "execution_count": 15,
     "metadata": {},
     "output_type": "execute_result"
    }
   ],
   "source": [
    "'0' in train_aset"
   ]
  },
  {
   "cell_type": "code",
   "execution_count": 16,
   "metadata": {},
   "outputs": [
    {
     "data": {
      "text/plain": [
       "True"
      ]
     },
     "execution_count": 16,
     "metadata": {},
     "output_type": "execute_result"
    }
   ],
   "source": [
    "60 in train_aset"
   ]
  },
  {
   "cell_type": "markdown",
   "metadata": {},
   "source": [
    "#### Dictionary Style Retrieval for known keys"
   ]
  },
  {
   "cell_type": "code",
   "execution_count": 17,
   "metadata": {},
   "outputs": [
    {
     "name": "stdout",
     "output_type": "stream",
     "text": [
      "True\n"
     ]
    },
    {
     "data": {
      "text/plain": [
       "<matplotlib.image.AxesImage at 0x38476ea90>"
      ]
     },
     "execution_count": 17,
     "metadata": {},
     "output_type": "execute_result"
    },
    {
     "data": {
      "image/png": "[encoded data removed]",
      "text/plain": [
       "<Figure size 432x288 with 1 Axes>"
      ]
     },
     "metadata": {
      "needs_background": "light"
     },
     "output_type": "display_data"
    }
   ],
   "source": [
    "out1 = train_aset['0']\n",
    "# OR\n",
    "out2 = co['mnist_training_images', '0']\n",
    "\n",
    "print(np.allclose(out1, out2))\n",
    "\n",
    "plt.imshow(out1.reshape(28, 28))"
   ]
  },
  {
   "cell_type": "markdown",
   "metadata": {},
   "source": [
    "### Dict style iteration supported out of the box"
   ]
  },
  {
   "cell_type": "code",
   "execution_count": 18,
   "metadata": {},
   "outputs": [
    {
     "name": "stdout",
     "output_type": "stream",
     "text": [
      "0\n",
      "1\n",
      "51\n",
      "60\n"
     ]
    },
    {
     "data": {
      "image/png": "[encoded data removed]",
      "text/plain": [
       "<Figure size 720x720 with 4 Axes>"
      ]
     },
     "metadata": {
      "needs_background": "light"
     },
     "output_type": "display_data"
    }
   ],
   "source": [
    "# iterate normally over keys\n",
    "\n",
    "for k in train_aset:   \n",
    "    # equivalent method: for k in train_aset.keys():\n",
    "    print(k)\n",
    "    \n",
    "# iterate over items (plot results)\n",
    "\n",
    "fig, axs = plt.subplots(nrows=1, ncols=4, figsize=(10, 10))\n",
    "\n",
    "for idx, v in enumerate(train_aset.values()):\n",
    "    axs[idx].imshow(v.reshape(28, 28))\n",
    "plt.show()\n",
    "\n",
    "# iterate over items, store k, v in dict\n",
    "\n",
    "myDict = {}\n",
    "for k, v in train_aset.items():\n",
    "    myDict[k] = v"
   ]
  },
  {
   "cell_type": "markdown",
   "metadata": {},
   "source": [
    "### Performance\n",
    "\n",
    "Once you’ve completed an interactive exploration, be sure to use the context\n",
    "manager form of the [add()](api.rst#hangar.arrayset.ArraysetDataWriter.add) and \n",
    "[get()](api.rst#hangar.arrayset.ArraysetDataWriter.get) methods!\n",
    "\n",
    "In order to make sure that all your data is always safe in Hangar, the backend\n",
    "diligently ensures that all contexts (operations which can somehow interact\n",
    "with the record structures) are opened and closed appropriately. When you use the\n",
    "context manager form of a arrayset object, we can offload a significant amount of\n",
    "work to the python runtime, and dramatically increase read and write speeds.\n",
    "\n",
    "Most arraysets we’ve tested see an increased throughput differential of 250% -\n",
    "500% for writes and 300% - 600% for reads when comparing using the context\n",
    "manager form vs the naked form!"
   ]
  },
  {
   "cell_type": "code",
   "execution_count": 27,
   "metadata": {},
   "outputs": [
    {
     "name": "stdout",
     "output_type": "stream",
     "text": [
      "beginning non-context manager form\n",
      "Finished non-context manager form in: 107.4064199924469 seconds\n",
      "Hard reset requested with writer_lock: 5b66da6a-51c5-4beb-9b34-964c600957c2\n",
      "\n",
      " beginning context manager form\n",
      "Finished context manager form in: 20.784971952438354 seconds\n",
      "Hard reset requested with writer_lock: 6bd0f286-e78f-4777-939b-ab9a60c6518e\n",
      "\n",
      " beginning context manager form with checkout access\n",
      "Finished context manager with checkout form in: 20.909255981445312 seconds\n"
     ]
    }
   ],
   "source": [
    "import time\n",
    "\n",
    "# ----------------- Non Context Manager Form ----------------------\n",
    "\n",
    "co = repo.checkout(write=True)\n",
    "aset_trimgs = co.arraysets.init_arrayset(name='train_images', prototype=sample_trimg)\n",
    "aset_trlabels = co.arraysets.init_arrayset(name='train_labels', prototype=sample_trlabel)\n",
    "\n",
    "print(f'beginning non-context manager form')\n",
    "start_time = time.time()\n",
    "\n",
    "for idx, img in enumerate(trimgs):\n",
    "    aset_trimgs.add(data=img, name=idx)\n",
    "    aset_trlabels.add(data=np.array([trlabels[idx]]), name=str(idx))        \n",
    "\n",
    "print(f'Finished non-context manager form in: {time.time() - start_time} seconds')\n",
    "\n",
    "co.reset_staging_area()\n",
    "co.close()\n",
    "\n",
    "# ----------------- Context Manager Form --------------------------\n",
    "\n",
    "co = repo.checkout(write=True)\n",
    "aset_trimgs = co.arraysets.init_arrayset(name='train_images', prototype=sample_trimg)\n",
    "aset_trlabels = co.arraysets.init_arrayset(name='train_labels', prototype=sample_trlabel)\n",
    "\n",
    "print(f'\\n beginning context manager form')\n",
    "start_time = time.time()\n",
    "\n",
    "with aset_trimgs, aset_trlabels:\n",
    "    for idx, img in enumerate(trimgs):\n",
    "        aset_trimgs.add(data=img, name=str(idx))\n",
    "        aset_trlabels.add(data=np.array([trlabels[idx]]), name=str(idx))\n",
    "\n",
    "print(f'Finished context manager form in: {time.time() - start_time} seconds')\n",
    "\n",
    "co.reset_staging_area()\n",
    "co.close()\n",
    "\n",
    "# -------------- Context Manager With Checkout Access -------------\n",
    "\n",
    "co = repo.checkout(write=True)\n",
    "co.arraysets.init_arrayset(name='train_images', prototype=sample_trimg)\n",
    "co.arraysets.init_arrayset(name='train_labels', prototype=sample_trlabel)\n",
    "\n",
    "print(f'\\n beginning context manager form with checkout access')\n",
    "start_time = time.time()\n",
    "\n",
    "with co:\n",
    "    for idx, img in enumerate(trimgs):\n",
    "        co[['train_images', 'train_labels'], idx] = [img, np.array([trlabels[idx]])]\n",
    "\n",
    "print(f'Finished context manager with checkout form in: {time.time() - start_time} seconds')\n",
    "\n",
    "co.close()"
   ]
  },
  {
   "cell_type": "markdown",
   "metadata": {},
   "source": [
    "Clearly, the context manager form is far and away superior, however we fell that\n",
    "for the purposes of interactive use that the \"Naked\" form is valubal to the\n",
    "average user!"
   ]
  },
  {
   "cell_type": "markdown",
   "metadata": {},
   "source": [
    "### Commiting Changes\n",
    "\n",
    "Once you have made a set of changes you want to commit, just simply call the [commit()](api.rst#hangar.checkout.WriterCheckout.commit) method (and pass in a message)!"
   ]
  },
  {
   "cell_type": "code",
   "execution_count": 30,
   "metadata": {},
   "outputs": [
    {
     "data": {
      "text/plain": [
       "'e11d061dc457b361842801e24cbd119a745089d6'"
      ]
     },
     "execution_count": 30,
     "metadata": {},
     "output_type": "execute_result"
    }
   ],
   "source": [
    "co.commit('hello world, this is my first hangar commit')"
   ]
  },
  {
   "cell_type": "markdown",
   "metadata": {},
   "source": [
    "The returned value (`'e11d061dc457b361842801e24cbd119a745089d6'`) is the commit hash of this commit. It\n",
    "may be useful to assign this to a variable and follow this up by creating a\n",
    "branch from this commit!"
   ]
  },
  {
   "cell_type": "markdown",
   "metadata": {},
   "source": [
    "#### Don't Forget to Close the Write-Enabled Checkout to Release the Lock!\n",
    "\n",
    "We mentioned in `Checking out the repo for writing` that when a\n",
    "`write-enabled` checkout is created, it places a lock on writers until it is\n",
    "closed. If for whatever reason the program terminates via a non python `SIGKILL` or fatal\n",
    "interpreter error without closing the\n",
    "write-enabled checkout, this lock will persist (forever technically, but\n",
    "realistically until it is manually freed).\n",
    "\n",
    "Luckily, preventing this issue from occurring is as simple as calling\n",
    "[close()](api.rst#hangar.checkout.WriterCheckout.close)!\n",
    "\n",
    "If you forget, normal interperter shutdown should trigger an `atexit` hook automatically,\n",
    "however this behavior should not be relied upon. Is better to just call\n",
    "[close()](api.rst#hangar.checkout.WriterCheckout.close)."
   ]
  },
  {
   "cell_type": "code",
   "execution_count": 31,
   "metadata": {},
   "outputs": [],
   "source": [
    "co.close()"
   ]
  },
  {
   "cell_type": "markdown",
   "metadata": {},
   "source": [
    "#### But if you did forget, and you recieve a `PermissionError` next time you open a checkout\n",
    "\n",
    "```\n",
    "PermissionError: Cannot acquire the writer lock. Only one instance of\n",
    "a writer checkout can be active at a time. If the last checkout of this \n",
    "repository did not properly close, or a crash occured, the lock must be\n",
    "manually freed before another writer can be instantiated.\n",
    "```\n",
    "\n",
    "You can manually free the lock with the following method. However!\n",
    "\n",
    "This is a dangerous operation, and it's one of the only ways where a user can put\n",
    "data in their repository at risk! If another python process is still holding the\n",
    "lock, do NOT force the release. Kill the process (that's totally fine to do at\n",
    "any time, then force the lock release)."
   ]
  },
  {
   "cell_type": "code",
   "execution_count": 32,
   "metadata": {},
   "outputs": [
    {
     "data": {
      "text/plain": [
       "True"
      ]
     },
     "execution_count": 32,
     "metadata": {},
     "output_type": "execute_result"
    }
   ],
   "source": [
    "repo.force_release_writer_lock()"
   ]
  },
  {
   "cell_type": "markdown",
   "metadata": {},
   "source": [
    "### Inspecting state from the top!\n",
    "\n",
    "After your first commit, the summary and log methods will begin to work, and you can either print the stream to the console (as shown below), or you can \n",
    "dig deep into the internal of how hangar thinks about your data! (To be covered in an advanced tutorial later on). \n",
    "\n",
    "The point is, regardless of your level of interaction with a live hangar repository, all level of state is accessable from the top, and in general has been built to be the only way to directly access it!"
   ]
  },
  {
   "cell_type": "code",
   "execution_count": 33,
   "metadata": {},
   "outputs": [
    {
     "name": "stdout",
     "output_type": "stream",
     "text": [
      "Summary of Contents Contained in Data Repository \n",
      " \n",
      "================== \n",
      "| Repository Info \n",
      "|----------------- \n",
      "|  Base Directory: /Users/rick/projects/tensorwerk/hangar/dev/mnist \n",
      "|  Disk Usage: 67.29 MB \n",
      " \n",
      "=================== \n",
      "| Commit Details \n",
      "------------------- \n",
      "|  Commit: e11d061dc457b361842801e24cbd119a745089d6 \n",
      "|  Created: Thu Sep  5 23:32:46 2019 \n",
      "|  By: Rick Izzo \n",
      "|  Email: rick@tensorwerk.com \n",
      "|  Message: hello world, this is my first hangar commit \n",
      " \n",
      "================== \n",
      "| DataSets \n",
      "|----------------- \n",
      "|  Number of Named Arraysets: 3 \n",
      "|\n",
      "|  * Arrayset Name: mnist_training_images \n",
      "|    Num Arrays: 4 \n",
      "|    Details: \n",
      "|    - schema_hash: 976ba57033bb \n",
      "|    - schema_dtype: 2 \n",
      "|    - schema_is_var: False \n",
      "|    - schema_max_shape: (784,) \n",
      "|    - schema_is_named: True \n",
      "|    - schema_default_backend: 00 \n",
      "|\n",
      "|  * Arrayset Name: train_images \n",
      "|    Num Arrays: 50000 \n",
      "|    Details: \n",
      "|    - schema_hash: 976ba57033bb \n",
      "|    - schema_dtype: 2 \n",
      "|    - schema_is_var: False \n",
      "|    - schema_max_shape: (784,) \n",
      "|    - schema_is_named: True \n",
      "|    - schema_default_backend: 00 \n",
      "|\n",
      "|  * Arrayset Name: train_labels \n",
      "|    Num Arrays: 50000 \n",
      "|    Details: \n",
      "|    - schema_hash: 631f0f57c469 \n",
      "|    - schema_dtype: 7 \n",
      "|    - schema_is_var: False \n",
      "|    - schema_max_shape: (1,) \n",
      "|    - schema_is_named: True \n",
      "|    - schema_default_backend: 10 \n",
      " \n",
      "================== \n",
      "| Metadata: \n",
      "|----------------- \n",
      "|  Number of Keys: 0 \n",
      "\n"
     ]
    }
   ],
   "source": [
    "repo.summary()"
   ]
  },
  {
   "cell_type": "code",
   "execution_count": 34,
   "metadata": {},
   "outputs": [
    {
     "name": "stdout",
     "output_type": "stream",
     "text": [
      "* e11d061dc457b361842801e24cbd119a745089d6 (\u001b[1;31mmaster\u001b[m) : hello world, this is my first hangar commit\n",
      "* 7293dded698c41f32434e670841d15d96c1c6f8b : ya\n"
     ]
    }
   ],
   "source": [
    "repo.log()"
   ]
  }
 ],
 "metadata": {
  "kernelspec": {
   "display_name": "Python 3",
   "language": "python",
   "name": "python3"
  },
  "language_info": {
   "codemirror_mode": {
    "name": "ipython",
    "version": 3
   },
   "file_extension": ".py",
   "mimetype": "text/x-python",
   "name": "python",
   "nbconvert_exporter": "python",
   "pygments_lexer": "ipython3",
   "version": "3.7.3"
  }
 },
 "nbformat": 4,
 "nbformat_minor": 4
}