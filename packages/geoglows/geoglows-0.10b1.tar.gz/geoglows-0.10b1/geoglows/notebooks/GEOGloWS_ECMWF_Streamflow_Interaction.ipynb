{
  "nbformat": 4,
  "nbformat_minor": 0,
  "metadata": {
    "colab": {
      "name": "GEOGloWS ECMWF Streamflow Interaction",
      "provenance": [],
      "private_outputs": true,
      "collapsed_sections": []
    },
    "kernelspec": {
      "name": "python3",
      "display_name": "Python 3"
    }
  },
  "cells": [
    {
      "cell_type": "markdown",
      "metadata": {
        "id": "gLu_P8v5M2kb",
        "colab_type": "text"
      },
      "source": [
        "# GEOGloWS ECMWF Streamflow\n",
        "You can interact with the streamflow model using the geoglows python package. This notebook will take you through some of the functions available. For more information, please refer to https://geoglows.readthedocs.io.\n",
        "\n",
        "Before starting or if you experience problems, find the menu on the top left of your webpage, near the Google Collaboratory or Jupyter Notebook logo.\n",
        "\n",
        "In Collaboratory\n",
        "1.   Click runtime -> reset all runtimes\n",
        "2.   Click Edit -> clear all outputs\n",
        "\n",
        "In Jupyter Notebook:\n",
        "1.   Click Kernel -> Reset & Clear Output\n",
        "\n",
        "Start by installing the package and importing them to your code. Run the next cell to do that."
      ]
    },
    {
      "cell_type": "code",
      "metadata": {
        "id": "2ng-MT1PHyZI",
        "colab_type": "code",
        "colab": {}
      },
      "source": [
        "!pip install geoglows\n",
        "import geoglows\n",
        "from IPython.core.display import display, HTML"
      ],
      "execution_count": 0,
      "outputs": []
    },
    {
      "cell_type": "markdown",
      "metadata": {
        "id": "cJs-CcWVMxlX",
        "colab_type": "text"
      },
      "source": [
        "## Searching by latitude and longitude\n",
        "There are many options to interact with the API, you can search with latitude and longitude for anywhere on the planet."
      ]
    },
    {
      "cell_type": "code",
      "metadata": {
        "id": "t8VtCOb6H6CZ",
        "colab_type": "code",
        "colab": {}
      },
      "source": [
        "# Example in DR Congo Africa, Ubangi River\n",
        "latitude = 2\n",
        "longitude = 18.08"
      ],
      "execution_count": 0,
      "outputs": []
    },
    {
      "cell_type": "code",
      "metadata": {
        "id": "61EoN9rbOC6s",
        "colab_type": "code",
        "colab": {}
      },
      "source": [
        "# Want to check where this stream is? Run this cell to get a link to open a google maps page zoomed to this location!\n",
        "print('https://www.google.com/maps/place/' + str(latitude) + ',' + str(longitude))"
      ],
      "execution_count": 0,
      "outputs": []
    },
    {
      "cell_type": "code",
      "metadata": {
        "id": "H7I9xhRMOAJI",
        "colab_type": "code",
        "colab": {}
      },
      "source": [
        "# This cell gets some basic forecast data and return period data with the latitude and longitude from above\n",
        "forecasts = geoglows.streamflow.forecast_stats(lat=latitude, lon=longitude)\n",
        "return_periods = geoglows.streamflow.return_periods(lat=latitude, lon=longitude)"
      ],
      "execution_count": 0,
      "outputs": []
    },
    {
      "cell_type": "code",
      "metadata": {
        "id": "4FRztvdHTSga",
        "colab_type": "code",
        "colab": {}
      },
      "source": [
        "# This cell turns the forecast data and return periods information into a plot\n",
        "forecast_figure = geoglows.streamflow.forecast_plot(forecasts, return_periods)\n",
        "forecast_figure.show()"
      ],
      "execution_count": 0,
      "outputs": []
    },
    {
      "cell_type": "markdown",
      "metadata": {
        "id": "EIyb6gQxSxO3",
        "colab_type": "text"
      },
      "source": [
        "## Interface with a reach_id\n",
        "\n",
        "You just turned the latitude and longitude of a stream and a couple seconds of waiting into a graph of forecasted streamflow. How cool is that!? What else can GEOGloWS do for you?\n",
        "\n",
        "You can also speed up your process and get access to even more data if you use some information about the model. Each river on the planet has been assigned an ID for logistical purposes. You can determine the ID and then use that in place of latitude and longitude. This makes your process faster so we can get even more done!\n",
        "\n",
        "Run the next 3 cells to turn your latitude and longitude into a reach_id and get some metadata about that spot."
      ]
    },
    {
      "cell_type": "code",
      "metadata": {
        "id": "R0IYMmZRTECb",
        "colab_type": "code",
        "colab": {}
      },
      "source": [
        "# Same example, But this time map the latitude and longitude to an ID used by the GEOGloWS model\n",
        "latitude = 2\n",
        "longitude = 18.08\n",
        "mapping_data = geoglows.streamflow.latlon_to_reach(latitude, longitude)"
      ],
      "execution_count": 0,
      "outputs": []
    },
    {
      "cell_type": "code",
      "metadata": {
        "id": "qLbC-jQDWa3a",
        "colab_type": "code",
        "colab": {}
      },
      "source": [
        "# Take a look at the kind of information thats available by interacting with the model directly.\n",
        "# The distances are in degrees of latitude and longitude\n",
        "mapping_data"
      ],
      "execution_count": 0,
      "outputs": []
    },
    {
      "cell_type": "code",
      "metadata": {
        "id": "MZTXWWP2Wr6-",
        "colab_type": "code",
        "colab": {}
      },
      "source": [
        "# What we're really interested in is just the identifier, so we'll pick that\n",
        "reach_id = mapping_data['reach_id']"
      ],
      "execution_count": 0,
      "outputs": []
    },
    {
      "cell_type": "markdown",
      "metadata": {
        "id": "-VyXO0tTd5iz",
        "colab_type": "text"
      },
      "source": [
        "## Access even more data using your reach_id\n",
        "Now that we have an ID, we can speed up our hydrology.\n",
        "\n",
        "Run the next cell. It requests 5 different pieces of information from the GEOGloWS model. Notice that this cell that asks for 5 pieces of information will take less time than the 2 we did earlier using only latitude and longitude."
      ]
    },
    {
      "cell_type": "code",
      "metadata": {
        "id": "Fdpd2cFpSZd-",
        "colab_type": "code",
        "colab": {}
      },
      "source": [
        "# Go collect all the data \n",
        "stats = geoglows.streamflow.forecast_stats(reach_id)\n",
        "ensembles = geoglows.streamflow.forecast_ensembles(reach_id)\n",
        "hist = geoglows.streamflow.historic_simulation(reach_id)\n",
        "rperiods = geoglows.streamflow.return_periods(reach_id)\n",
        "seasonal = geoglows.streamflow.seasonal_average(reach_id)"
      ],
      "execution_count": 0,
      "outputs": []
    },
    {
      "cell_type": "markdown",
      "metadata": {
        "id": "zvuxpaKTXdkN",
        "colab_type": "text"
      },
      "source": [
        "## Visualizing data\n",
        "You just gathered forecasted and historical simulation streamflow data for the river you chose by latitude and longitude. Now what can we do with it? \n",
        "\n",
        "The geoglows package has some tools for showing all the data you can get from the GEOGloWS ECMWF Streamflow model. The easiest way to show this data is to plot it. Each of the following cells will turn the data we requested into a figure and then show it."
      ]
    },
    {
      "cell_type": "code",
      "metadata": {
        "id": "zYutYzsv2erQ",
        "colab_type": "code",
        "colab": {}
      },
      "source": [
        "# Statistical summary of the forecasted flows\n",
        "forecast_figure = geoglows.streamflow.forecast_plot(stats, rperiods, reach_id=reach_id)\n",
        "forecast_figure.show()"
      ],
      "execution_count": 0,
      "outputs": []
    },
    {
      "cell_type": "code",
      "metadata": {
        "scrolled": true,
        "id": "GyPhvx-f2erT",
        "colab_type": "code",
        "colab": {}
      },
      "source": [
        "# View each of the forecasts individually\n",
        "ensembles_figure = geoglows.streamflow.ensembles_plot(ensembles, rperiods, reach_id=reach_id)\n",
        "ensembles_figure.show()"
      ],
      "execution_count": 0,
      "outputs": []
    },
    {
      "cell_type": "code",
      "metadata": {
        "pycharm": {
          "name": "#%%\n"
        },
        "id": "chzrX8m12erY",
        "colab_type": "code",
        "colab": {}
      },
      "source": [
        "# Historically simulated flow\n",
        "historic_figure = geoglows.streamflow.historical_plot(hist, rperiods, reach_id=reach_id)\n",
        "historic_figure.show()"
      ],
      "execution_count": 0,
      "outputs": []
    },
    {
      "cell_type": "code",
      "metadata": {
        "id": "WQZj06ai2erb",
        "colab_type": "code",
        "colab": {}
      },
      "source": [
        "# Processing the historical data into a daily average flow\n",
        "seasonal_figure = geoglows.streamflow.seasonal_plot(seasonal, reach_id=reach_id)\n",
        "seasonal_figure.show()"
      ],
      "execution_count": 0,
      "outputs": []
    },
    {
      "cell_type": "code",
      "metadata": {
        "id": "ZJS9A-01lJw1",
        "colab_type": "code",
        "colab": {}
      },
      "source": [
        "# Flow Duration Curve (derived from the historical data)\n",
        "flow_duration_figure = geoglows.streamflow.flow_duration_curve_plot(hist, reach_id=reach_id)\n",
        "flow_duration_figure.show()"
      ],
      "execution_count": 0,
      "outputs": []
    },
    {
      "cell_type": "code",
      "metadata": {
        "id": "PtJ0C4B_oMNq",
        "colab_type": "code",
        "colab": {}
      },
      "source": [
        "# View the probabilities table\n",
        "prob_table = geoglows.streamflow.probabilities_table(stats, ensembles, rperiods)\n",
        "display(HTML(prob_table))"
      ],
      "execution_count": 0,
      "outputs": []
    },
    {
      "cell_type": "markdown",
      "metadata": {
        "id": "gnV5NdFRe_xN",
        "colab_type": "text"
      },
      "source": [
        "## What's next?\n",
        "Go learn more about this tool at http://geoglows.readthedocs.io and more about GEOGloWS at https://www.geoglows.org.\n",
        "\n",
        "This python library was developed at Brigham Young University in the Civil and Environmental Engineering Department by Riley Hales, Dr E. James Nelson, Dr Michael Suffront, and supported by the rest of the Hydroinformatics team."
      ]
    }
  ]
}