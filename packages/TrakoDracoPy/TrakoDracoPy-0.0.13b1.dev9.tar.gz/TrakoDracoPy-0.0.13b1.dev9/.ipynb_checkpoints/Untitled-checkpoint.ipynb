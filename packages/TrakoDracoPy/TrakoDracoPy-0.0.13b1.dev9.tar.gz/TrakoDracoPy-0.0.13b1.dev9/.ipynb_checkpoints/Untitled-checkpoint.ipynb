{
 "cells": [
  {
   "cell_type": "code",
   "execution_count": 4,
   "metadata": {},
   "outputs": [],
   "source": [
    "import DracoPy"
   ]
  },
  {
   "cell_type": "code",
   "execution_count": 1,
   "metadata": {},
   "outputs": [],
   "source": [
    "import tests"
   ]
  },
  {
   "cell_type": "code",
   "execution_count": 3,
   "metadata": {},
   "outputs": [],
   "source": [
    "tests.test_decoding_and_encoding_file()"
   ]
  },
  {
   "cell_type": "code",
   "execution_count": 3,
   "metadata": {},
   "outputs": [],
   "source": [
    "DracoPy.encode_pointcloud_to_buffer([1,2,3])"
   ]
  },
  {
   "cell_type": "code",
   "execution_count": 5,
   "metadata": {},
   "outputs": [
    {
     "name": "stdout",
     "output_type": "stream",
     "text": [
      "number of points in original file: 104502\n",
      "number of faces in original file: 208353\n",
      "number of points in test file: 104502\n",
      "number of faces in test file: 208353\n"
     ]
    }
   ],
   "source": [
    "with open('bunny.drc', 'rb') as draco_file:\n",
    "  file_content = draco_file.read()\n",
    "  mesh_object = DracoPy.decode_buffer_to_mesh(file_content)\n",
    "  print('number of points in original file: {0}'.format(len(mesh_object.points)))\n",
    "  print('number of faces in original file: {0}'.format(len(mesh_object.faces)))\n",
    "  encoding_test = DracoPy.encode_mesh_to_buffer(mesh_object.points, mesh_object.faces)\n",
    "  with open('bunny_test.drc', 'wb') as test_file:\n",
    "    test_file.write(encoding_test)\n",
    "\n",
    "with open('bunny_test.drc', 'rb') as test_file:\n",
    "  file_content = test_file.read()\n",
    "  mesh_object = DracoPy.decode_buffer_to_mesh(file_content)\n",
    "  print('number of points in test file: {0}'.format(len(mesh_object.points)))\n",
    "  print('number of faces in test file: {0}'.format(len(mesh_object.faces)))\n"
   ]
  },
  {
   "cell_type": "code",
   "execution_count": null,
   "metadata": {},
   "outputs": [],
   "source": [
    "DracoPy.encode_mesh_to_buffer(mesh_object.points[0:6], mesh_object.faces[0:2])"
   ]
  },
  {
   "cell_type": "code",
   "execution_count": null,
   "metadata": {},
   "outputs": [],
   "source": []
  }
 ],
 "metadata": {
  "kernelspec": {
   "display_name": "Python 3",
   "language": "python",
   "name": "python3"
  },
  "language_info": {
   "codemirror_mode": {
    "name": "ipython",
    "version": 3
   },
   "file_extension": ".py",
   "mimetype": "text/x-python",
   "name": "python",
   "nbconvert_exporter": "python",
   "pygments_lexer": "ipython3",
   "version": "3.7.1"
  }
 },
 "nbformat": 4,
 "nbformat_minor": 2
}
