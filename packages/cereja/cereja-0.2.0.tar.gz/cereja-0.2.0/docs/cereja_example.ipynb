{
  "nbformat": 4,
  "nbformat_minor": 0,
  "metadata": {
    "colab": {
      "name": "cereja_example.ipynb",
      "provenance": [],
      "collapsed_sections": [],
      "toc_visible": true,
      "include_colab_link": true
    },
    "kernelspec": {
      "name": "python3",
      "display_name": "Python 3"
    }
  },
  "cells": [
    {
      "cell_type": "markdown",
      "metadata": {
        "id": "view-in-github",
        "colab_type": "text"
      },
      "source": [
        "<a href=\"https://colab.research.google.com/github/jlsneto/cereja/blob/master/docs/cereja_example.ipynb\" target=\"_parent\"><img src=\"https://colab.research.google.com/assets/colab-badge.svg\" alt=\"Open In Colab\"/></a>"
      ]
    },
    {
      "cell_type": "markdown",
      "metadata": {
        "id": "8OIpCsdKwlet",
        "colab_type": "text"
      },
      "source": [
        "#Install cereja"
      ]
    },
    {
      "cell_type": "code",
      "metadata": {
        "id": "B1qNEuxZwVs_",
        "colab_type": "code",
        "outputId": "480dee03-d555-4a60-f642-58ca50461b5b",
        "colab": {
          "base_uri": "https://localhost:8080/",
          "height": 85
        }
      },
      "source": [
        "!pip install cereja"
      ],
      "execution_count": 0,
      "outputs": [
        {
          "output_type": "stream",
          "text": [
            "Collecting cereja\n",
            "  Downloading https://files.pythonhosted.org/packages/6f/b5/3aab34c98ec1d5886d9a28ddbe5f307ebc393eec1986fba5f4685c3aaace/cereja-0.1.9-py3-none-any.whl\n",
            "Installing collected packages: cereja\n",
            "Successfully installed cereja-0.1.9\n"
          ],
          "name": "stdout"
        }
      ]
    },
    {
      "cell_type": "markdown",
      "metadata": {
        "id": "B-6AKLqiwuGR",
        "colab_type": "text"
      },
      "source": [
        "#The module Utils"
      ]
    },
    {
      "cell_type": "code",
      "metadata": {
        "id": "KhRIV54DxZ6Z",
        "colab_type": "code",
        "colab": {}
      },
      "source": [
        "from cereja import utils as cj"
      ],
      "execution_count": 0,
      "outputs": []
    },
    {
      "cell_type": "markdown",
      "metadata": {
        "id": "_FvoFjndxKIk",
        "colab_type": "text"
      },
      "source": [
        "##Commons"
      ]
    },
    {
      "cell_type": "markdown",
      "metadata": {
        "id": "2lxP-3C2tIZB",
        "colab_type": "text"
      },
      "source": [
        "###is_iterable\n",
        "return whether an object is iterable or not."
      ]
    },
    {
      "cell_type": "code",
      "metadata": {
        "id": "w_6TLC0DxI1f",
        "colab_type": "code",
        "cellView": "both",
        "outputId": "7088dbf1-2ead-435e-fcd4-a21a47628d33",
        "colab": {
          "base_uri": "https://localhost:8080/",
          "height": 34
        }
      },
      "source": [
        "my_var = [1,2,3] # change value and execute the cell\n",
        "cj.common.is_iterable(my_var)"
      ],
      "execution_count": 0,
      "outputs": [
        {
          "output_type": "execute_result",
          "data": {
            "text/plain": [
              "True"
            ]
          },
          "metadata": {
            "tags": []
          },
          "execution_count": 4
        }
      ]
    },
    {
      "cell_type": "markdown",
      "metadata": {
        "id": "Ho09h5KStktn",
        "colab_type": "text"
      },
      "source": [
        "###group_items_in_batches\n",
        "responsible for grouping items in batch taking into account the quantity of items per batch"
      ]
    },
    {
      "cell_type": "code",
      "metadata": {
        "id": "TXgvv3b2y1A9",
        "colab_type": "code",
        "colab": {}
      },
      "source": [
        "my_var = [1,2,3,4]\n",
        "num_items_per_batch = 4\n",
        "result = cj.common.group_items_in_batches(items=my_var, items_per_batch=num_items_per_batch)\n",
        "print(f\"items per batch with leftovers: {result}\")"
      ],
      "execution_count": 0,
      "outputs": []
    },
    {
      "cell_type": "code",
      "metadata": {
        "id": "YWvTGuECtwHj",
        "colab_type": "code",
        "colab": {
          "base_uri": "https://localhost:8080/",
          "height": 34
        },
        "outputId": "6021f208-b338-443b-b01c-502ce179c708"
      },
      "source": [
        "\"\"\"\n",
        "Note that the last batch does not contain the same number as the previous batch,\n",
        "this is due to the split split. You can choose to fill this void as in the example below.\n",
        "\"\"\"\n",
        "my_var = [1,2,3,4]\n",
        "num_items_per_batch = 4\n",
        "\n",
        "result = cj.common.group_items_in_batches(items=my_var, items_per_batch=3, fill=\"cereja\")\n",
        "print(f\"fill values: {result}\")"
      ],
      "execution_count": 116,
      "outputs": [
        {
          "output_type": "stream",
          "text": [
            "fill values: [[1, 2, 3], [4, 'cereja', 'cereja']]\n"
          ],
          "name": "stdout"
        }
      ]
    },
    {
      "cell_type": "code",
      "metadata": {
        "id": "PPVLm9VNt3wj",
        "colab_type": "code",
        "colab": {
          "base_uri": "https://localhost:8080/",
          "height": 34
        },
        "outputId": "39dfa1b2-8077-4558-954f-8c37a3e5122a"
      },
      "source": [
        "# Other examples\n",
        "result = cj.common.group_items_in_batches(items=['a','b','c','d'], items_per_batch=2)\n",
        "print(f\"Other examples: {result}\")"
      ],
      "execution_count": 114,
      "outputs": [
        {
          "output_type": "stream",
          "text": [
            "Other examples: [['a', 'b'], ['c', 'd']]\n"
          ],
          "name": "stdout"
        }
      ]
    },
    {
      "cell_type": "markdown",
      "metadata": {
        "id": "y7fcQ6WPuGkn",
        "colab_type": "text"
      },
      "source": [
        "###remove_duplicate_items\n",
        "remove duplicates items in an item list or duplicate items list of list"
      ]
    },
    {
      "cell_type": "code",
      "metadata": {
        "id": "M9lJN5t8AMvs",
        "colab_type": "code",
        "outputId": "2866f986-fb96-44ee-ca55-cb72b77c7147",
        "colab": {
          "base_uri": "https://localhost:8080/",
          "height": 34
        }
      },
      "source": [
        "#simple list\n",
        "my_var = [1,2,3,4,4]\n",
        "result = cj.common.remove_duplicate_items(my_var)\n",
        "print(f\"simple list: {my_var} --> {result}\")"
      ],
      "execution_count": 117,
      "outputs": [
        {
          "output_type": "stream",
          "text": [
            "simple list: [1, 2, 3, 4, 4] --> [1, 2, 3, 4]\n"
          ],
          "name": "stdout"
        }
      ]
    },
    {
      "cell_type": "code",
      "metadata": {
        "id": "KUVj-_W0uXxa",
        "colab_type": "code",
        "colab": {
          "base_uri": "https://localhost:8080/",
          "height": 34
        },
        "outputId": "0b45918b-a78c-4ded-df6f-3cef022d8571"
      },
      "source": [
        "#list of list\n",
        "my_var = [[1,2,3,4,4], [1,2,3,4,4]]\n",
        "result = cj.common.remove_duplicate_items(my_var)\n",
        "print(f\"list of list: {my_var} --> {result}\")"
      ],
      "execution_count": 118,
      "outputs": [
        {
          "output_type": "stream",
          "text": [
            "list of list: [[1, 2, 3, 4, 4], [1, 2, 3, 4, 4]] --> [[1, 2, 3, 4, 4]]\n"
          ],
          "name": "stdout"
        }
      ]
    },
    {
      "cell_type": "code",
      "metadata": {
        "id": "vBPxDdzfujKO",
        "colab_type": "code",
        "colab": {
          "base_uri": "https://localhost:8080/",
          "height": 34
        },
        "outputId": "0f05eb06-8d13-41a0-e97a-132662d9ba58"
      },
      "source": [
        "# other example\n",
        "my_var = [['hi'], ['hi'], ['ih']]\n",
        "result = cj.common.remove_duplicate_items(my_var)\n",
        "print(f\"other example: {my_var} --> {result}\")"
      ],
      "execution_count": 119,
      "outputs": [
        {
          "output_type": "stream",
          "text": [
            "other example: [['hi'], ['hi'], ['ih']] --> [['hi'], ['ih']]\n"
          ],
          "name": "stdout"
        }
      ]
    },
    {
      "cell_type": "markdown",
      "metadata": {
        "id": "pzo5oUytvnsG",
        "colab_type": "text"
      },
      "source": [
        "###Freq Class\n",
        "Enumerates the amount of identical intens generating a dictionary of frequencies. Where KEY is item - the original list's item -  and VALUE is the total amount."
      ]
    },
    {
      "cell_type": "markdown",
      "metadata": {
        "id": "qOn877TQxhKW",
        "colab_type": "text"
      },
      "source": [
        "####instance of Freq"
      ]
    },
    {
      "cell_type": "code",
      "metadata": {
        "id": "cNO-l7MKvlRG",
        "colab_type": "code",
        "colab": {
          "base_uri": "https://localhost:8080/",
          "height": 34
        },
        "outputId": "f450c2eb-e132-432f-ed37-2c0b24eb0323"
      },
      "source": [
        "# Instance\n",
        "freq = cj.common.Freq([1,2,3,3,4,5,6,7,6,7,12,31,123,5,3])\n",
        "print(freq)"
      ],
      "execution_count": 123,
      "outputs": [
        {
          "output_type": "stream",
          "text": [
            "{3: 3, 5: 2, 6: 2, 7: 2, 1: 1, 2: 1, 4: 1, 12: 1, 31: 1, 123: 1}\n"
          ],
          "name": "stdout"
        }
      ]
    },
    {
      "cell_type": "markdown",
      "metadata": {
        "id": "ddCDXmX0xmzD",
        "colab_type": "text"
      },
      "source": [
        "####most_freq"
      ]
    },
    {
      "cell_type": "markdown",
      "metadata": {
        "id": "MasIEXjPyD7P",
        "colab_type": "text"
      },
      "source": [
        "returns the most frequent items from the list, the maximum number of items must be entered."
      ]
    },
    {
      "cell_type": "code",
      "metadata": {
        "id": "Sp3jZx3KxYXO",
        "colab_type": "code",
        "colab": {
          "base_uri": "https://localhost:8080/",
          "height": 34
        },
        "outputId": "5ace4cee-483e-45b1-9ea3-a54092020183"
      },
      "source": [
        "freq = cj.common.Freq([1,2,3,3,4,5,6,7,6,7,12,31,123,5,3])\n",
        "freq.most_freq(4)"
      ],
      "execution_count": 124,
      "outputs": [
        {
          "output_type": "execute_result",
          "data": {
            "text/plain": [
              "{3: 3, 5: 2, 6: 2, 7: 2}"
            ]
          },
          "metadata": {
            "tags": []
          },
          "execution_count": 124
        }
      ]
    },
    {
      "cell_type": "markdown",
      "metadata": {
        "id": "aErkzjfoyUgj",
        "colab_type": "text"
      },
      "source": [
        "####least_freq\n",
        "When returning the least frequent items from the list, the maximum number of items must be entered."
      ]
    },
    {
      "cell_type": "code",
      "metadata": {
        "id": "aVkXduKezIYs",
        "colab_type": "code",
        "colab": {}
      },
      "source": [
        ""
      ],
      "execution_count": 0,
      "outputs": []
    },
    {
      "cell_type": "markdown",
      "metadata": {
        "id": "SCpqGct6BCmn",
        "colab_type": "text"
      },
      "source": [
        "##Decorators"
      ]
    },
    {
      "cell_type": "markdown",
      "metadata": {
        "id": "5_RAxSJru0ZV",
        "colab_type": "text"
      },
      "source": [
        "###time_exec\n",
        "used to signal or perform a particular function."
      ]
    },
    {
      "cell_type": "code",
      "metadata": {
        "id": "8faV1ZV9BN1w",
        "colab_type": "code",
        "outputId": "7c7077d2-5191-44ef-9a14-0a9dfc5c4fe4",
        "colab": {
          "base_uri": "https://localhost:8080/",
          "height": 51
        }
      },
      "source": [
        "@cj.decorators.time_exec\n",
        "def my_function(my_param): # Change-me\n",
        "    print(my_param)\n",
        "\n",
        "my_function(\"Hi Cereja\")"
      ],
      "execution_count": 120,
      "outputs": [
        {
          "output_type": "stream",
          "text": [
            "Hi Cereja\n",
            "[my_function] performed 0.0011606216430664062\n"
          ],
          "name": "stdout"
        }
      ]
    },
    {
      "cell_type": "markdown",
      "metadata": {
        "id": "XTqMg2BqCutt",
        "colab_type": "text"
      },
      "source": [
        "##Path"
      ]
    },
    {
      "cell_type": "markdown",
      "metadata": {
        "id": "UtBVEmZAvFA8",
        "colab_type": "text"
      },
      "source": [
        "###group_path_from_dir \n",
        "returns data tuples based on the number of items entered for each tuple,\n",
        "follows the default order if no sort function is sent"
      ]
    },
    {
      "cell_type": "code",
      "metadata": {
        "id": "qxpaAczOCxCn",
        "colab_type": "code",
        "outputId": "c751b6c4-374f-4770-b892-df7b7b3570ab",
        "colab": {
          "base_uri": "https://localhost:8080/",
          "height": 85
        }
      },
      "source": [
        "\"\"\"\n",
        "group_path_from_dir function ...\n",
        "\n",
        "\"\"\"\n",
        "my_dir = '/content/sample_data'\n",
        "my_ext_file = '.csv'\n",
        "\n",
        "cj.path.group_path_from_dir(dir_path=my_dir, num_items_on_tuple=2, ext_file=my_ext_file)"
      ],
      "execution_count": 121,
      "outputs": [
        {
          "output_type": "execute_result",
          "data": {
            "text/plain": [
              "[['/content/sample_data/california_housing_test.csv',\n",
              "  '/content/sample_data/california_housing_train.csv'],\n",
              " ['/content/sample_data/mnist_test.csv',\n",
              "  '/content/sample_data/mnist_train_small.csv']]"
            ]
          },
          "metadata": {
            "tags": []
          },
          "execution_count": 121
        }
      ]
    },
    {
      "cell_type": "markdown",
      "metadata": {
        "id": "ckTiv8_kvQAA",
        "colab_type": "text"
      },
      "source": [
        "###file_name"
      ]
    },
    {
      "cell_type": "code",
      "metadata": {
        "id": "qgiqJp8vEU-r",
        "colab_type": "code",
        "outputId": "73a30ca8-92d9-4d58-c2de-52622c307dc5",
        "colab": {
          "base_uri": "https://localhost:8080/",
          "height": 51
        }
      },
      "source": [
        "my_file_path = '/content/sample_data/california_housing_test.csv'\n",
        "result = cj.path.file_name(file_path=my_file_path)\n",
        "print(f\"file_path: {my_file_path} --> {result}\")\n",
        "\n",
        "# or with ext\n",
        "result = cj.path.file_name(file_path=my_file_path, with_ext=True)\n",
        "print(f\"file_path: {my_file_path} --> {result}\")"
      ],
      "execution_count": 122,
      "outputs": [
        {
          "output_type": "stream",
          "text": [
            "file_path: /content/sample_data/california_housing_test.csv --> california_housing_test\n",
            "file_path: /content/sample_data/california_housing_test.csv --> california_housing_test.csv\n"
          ],
          "name": "stdout"
        }
      ]
    }
  ]
}