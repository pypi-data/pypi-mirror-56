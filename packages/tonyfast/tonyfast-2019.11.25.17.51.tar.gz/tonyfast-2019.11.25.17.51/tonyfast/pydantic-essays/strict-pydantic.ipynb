{
 "cells": [
  {
   "cell_type": "markdown",
   "metadata": {},
   "source": [
    "This notebook enhances the `pydantic.BaseModel` to provide interactive type checking of `object`s."
   ]
  },
  {
   "cell_type": "markdown",
   "metadata": {},
   "source": [
    "One of the features of `traitlets` is that it provides interactive type validation when values are set.  `pydantic` only checks the validates when the `type` is instantiated."
   ]
  },
  {
   "cell_type": "code",
   "execution_count": 1,
   "metadata": {},
   "outputs": [],
   "source": [
    "    import pydantic"
   ]
  },
  {
   "cell_type": "code",
   "execution_count": 2,
   "metadata": {},
   "outputs": [
    {
     "data": {
      "text/plain": [
       "{'title': 'X',\n",
       " 'type': 'object',\n",
       " 'properties': {'a': {'title': 'A', 'type': 'integer'}},\n",
       " 'required': ['a']}"
      ]
     },
     "execution_count": 2,
     "metadata": {},
     "output_type": "execute_result"
    }
   ],
   "source": [
    "    class X(pydantic.BaseModel): a: int\n",
    "    X.schema()"
   ]
  },
  {
   "cell_type": "markdown",
   "metadata": {},
   "source": [
    "Although the `type` should be an `int`, we can set a `str` `property` value."
   ]
  },
  {
   "cell_type": "code",
   "execution_count": 3,
   "metadata": {},
   "outputs": [],
   "source": [
    "    X(a=12).a = 'asdf'"
   ]
  },
  {
   "cell_type": "markdown",
   "metadata": {},
   "source": [
    "`pydantic` provides custom `setattr` heuristics.  The `BaseModel` below extends the `pydantic` version to require strict `type` values on the properties."
   ]
  },
  {
   "cell_type": "code",
   "execution_count": 4,
   "metadata": {},
   "outputs": [],
   "source": [
    "    class BaseModel(pydantic.BaseModel):\n",
    "        def __setattr__(self, str, value):\n",
    "            data = self.dict()\n",
    "            data.update({str: value})\n",
    "            self.validate(data)\n",
    "            return object.__setattr__(self, str, value)"
   ]
  },
  {
   "cell_type": "code",
   "execution_count": 5,
   "metadata": {},
   "outputs": [],
   "source": [
    "    class Y(BaseModel): a: int\n",
    "    with __import__('pytest').raises(pydantic.ValidationError): \n",
    "        \n",
    "        Y(a=12).a = 'asdf'"
   ]
  },
  {
   "cell_type": "markdown",
   "metadata": {},
   "source": [
    "Numeric `str`ings are edge cases because `pydantic` serializes the `object`s."
   ]
  },
  {
   "cell_type": "code",
   "execution_count": 6,
   "metadata": {},
   "outputs": [],
   "source": [
    "    Y(a=12).a = '10'"
   ]
  }
 ],
 "metadata": {
  "kernelspec": {
   "display_name": "Python 3",
   "language": "python",
   "name": "python3"
  },
  "language_info": {
   "codemirror_mode": {
    "name": "ipython",
    "version": 3
   },
   "file_extension": ".py",
   "mimetype": "text/x-python",
   "name": "python",
   "nbconvert_exporter": "python",
   "pygments_lexer": "ipython3",
   "version": "3.7.3"
  }
 },
 "nbformat": 4,
 "nbformat_minor": 4
}
