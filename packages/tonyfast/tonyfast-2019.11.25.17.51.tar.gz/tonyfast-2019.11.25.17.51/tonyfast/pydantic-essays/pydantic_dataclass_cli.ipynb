{
 "cells": [
  {
   "cell_type": "markdown",
   "metadata": {},
   "source": [
    "`pydantic.dataclasses` make it possible to create CLI's from `dataclasses` syntax.  The `pydantic_cli` package already does this for us, but it is strictly for `pydantic.BaseModel` objects.  When we call `pydantic_cli.to_runner`, we must explicity use the `dataclasses`'s `__pydantic_model__`."
   ]
  },
  {
   "cell_type": "code",
   "execution_count": 1,
   "metadata": {},
   "outputs": [
    {
     "data": {
      "text/plain": [
       "<Signature (a: int, b: int = None) -> None>"
      ]
     },
     "execution_count": 1,
     "metadata": {},
     "output_type": "execute_result"
    }
   ],
   "source": [
    "    import pydantic, pathlib\n",
    "    @pydantic.dataclasses.dataclass\n",
    "    class Y: a: int; b: int = None\n",
    "    __import__('inspect').signature(Y)"
   ]
  },
  {
   "cell_type": "code",
   "execution_count": 2,
   "metadata": {},
   "outputs": [],
   "source": [
    "    from IPython import get_ipython, display; Ø = __name__ == '__main__'"
   ]
  },
  {
   "cell_type": "code",
   "execution_count": 3,
   "metadata": {},
   "outputs": [
    {
     "data": {
      "text/html": [
       "<style>.output_html .hll { background-color: #ffffcc }\n",
       ".output_html  { background: #f8f8f8; }\n",
       ".output_html .c { color: #408080; font-style: italic } /* Comment */\n",
       ".output_html .err { border: 1px solid #FF0000 } /* Error */\n",
       ".output_html .k { color: #008000; font-weight: bold } /* Keyword */\n",
       ".output_html .o { color: #666666 } /* Operator */\n",
       ".output_html .ch { color: #408080; font-style: italic } /* Comment.Hashbang */\n",
       ".output_html .cm { color: #408080; font-style: italic } /* Comment.Multiline */\n",
       ".output_html .cp { color: #BC7A00 } /* Comment.Preproc */\n",
       ".output_html .cpf { color: #408080; font-style: italic } /* Comment.PreprocFile */\n",
       ".output_html .c1 { color: #408080; font-style: italic } /* Comment.Single */\n",
       ".output_html .cs { color: #408080; font-style: italic } /* Comment.Special */\n",
       ".output_html .gd { color: #A00000 } /* Generic.Deleted */\n",
       ".output_html .ge { font-style: italic } /* Generic.Emph */\n",
       ".output_html .gr { color: #FF0000 } /* Generic.Error */\n",
       ".output_html .gh { color: #000080; font-weight: bold } /* Generic.Heading */\n",
       ".output_html .gi { color: #00A000 } /* Generic.Inserted */\n",
       ".output_html .go { color: #888888 } /* Generic.Output */\n",
       ".output_html .gp { color: #000080; font-weight: bold } /* Generic.Prompt */\n",
       ".output_html .gs { font-weight: bold } /* Generic.Strong */\n",
       ".output_html .gu { color: #800080; font-weight: bold } /* Generic.Subheading */\n",
       ".output_html .gt { color: #0044DD } /* Generic.Traceback */\n",
       ".output_html .kc { color: #008000; font-weight: bold } /* Keyword.Constant */\n",
       ".output_html .kd { color: #008000; font-weight: bold } /* Keyword.Declaration */\n",
       ".output_html .kn { color: #008000; font-weight: bold } /* Keyword.Namespace */\n",
       ".output_html .kp { color: #008000 } /* Keyword.Pseudo */\n",
       ".output_html .kr { color: #008000; font-weight: bold } /* Keyword.Reserved */\n",
       ".output_html .kt { color: #B00040 } /* Keyword.Type */\n",
       ".output_html .m { color: #666666 } /* Literal.Number */\n",
       ".output_html .s { color: #BA2121 } /* Literal.String */\n",
       ".output_html .na { color: #7D9029 } /* Name.Attribute */\n",
       ".output_html .nb { color: #008000 } /* Name.Builtin */\n",
       ".output_html .nc { color: #0000FF; font-weight: bold } /* Name.Class */\n",
       ".output_html .no { color: #880000 } /* Name.Constant */\n",
       ".output_html .nd { color: #AA22FF } /* Name.Decorator */\n",
       ".output_html .ni { color: #999999; font-weight: bold } /* Name.Entity */\n",
       ".output_html .ne { color: #D2413A; font-weight: bold } /* Name.Exception */\n",
       ".output_html .nf { color: #0000FF } /* Name.Function */\n",
       ".output_html .nl { color: #A0A000 } /* Name.Label */\n",
       ".output_html .nn { color: #0000FF; font-weight: bold } /* Name.Namespace */\n",
       ".output_html .nt { color: #008000; font-weight: bold } /* Name.Tag */\n",
       ".output_html .nv { color: #19177C } /* Name.Variable */\n",
       ".output_html .ow { color: #AA22FF; font-weight: bold } /* Operator.Word */\n",
       ".output_html .w { color: #bbbbbb } /* Text.Whitespace */\n",
       ".output_html .mb { color: #666666 } /* Literal.Number.Bin */\n",
       ".output_html .mf { color: #666666 } /* Literal.Number.Float */\n",
       ".output_html .mh { color: #666666 } /* Literal.Number.Hex */\n",
       ".output_html .mi { color: #666666 } /* Literal.Number.Integer */\n",
       ".output_html .mo { color: #666666 } /* Literal.Number.Oct */\n",
       ".output_html .sa { color: #BA2121 } /* Literal.String.Affix */\n",
       ".output_html .sb { color: #BA2121 } /* Literal.String.Backtick */\n",
       ".output_html .sc { color: #BA2121 } /* Literal.String.Char */\n",
       ".output_html .dl { color: #BA2121 } /* Literal.String.Delimiter */\n",
       ".output_html .sd { color: #BA2121; font-style: italic } /* Literal.String.Doc */\n",
       ".output_html .s2 { color: #BA2121 } /* Literal.String.Double */\n",
       ".output_html .se { color: #BB6622; font-weight: bold } /* Literal.String.Escape */\n",
       ".output_html .sh { color: #BA2121 } /* Literal.String.Heredoc */\n",
       ".output_html .si { color: #BB6688; font-weight: bold } /* Literal.String.Interpol */\n",
       ".output_html .sx { color: #008000 } /* Literal.String.Other */\n",
       ".output_html .sr { color: #BB6688 } /* Literal.String.Regex */\n",
       ".output_html .s1 { color: #BA2121 } /* Literal.String.Single */\n",
       ".output_html .ss { color: #19177C } /* Literal.String.Symbol */\n",
       ".output_html .bp { color: #008000 } /* Name.Builtin.Pseudo */\n",
       ".output_html .fm { color: #0000FF } /* Name.Function.Magic */\n",
       ".output_html .vc { color: #19177C } /* Name.Variable.Class */\n",
       ".output_html .vg { color: #19177C } /* Name.Variable.Global */\n",
       ".output_html .vi { color: #19177C } /* Name.Variable.Instance */\n",
       ".output_html .vm { color: #19177C } /* Name.Variable.Magic */\n",
       ".output_html .il { color: #666666 } /* Literal.Number.Integer.Long */</style><div class=\"highlight\"><pre><span></span><span class=\"kn\">import</span> <span class=\"nn\">pydantic</span><span class=\"o\">,</span> <span class=\"nn\">sys</span><span class=\"o\">,</span> <span class=\"nn\">pydantic_cli</span>\n",
       "<span class=\"k\">with</span> <span class=\"nb\">__import__</span><span class=\"p\">(</span><span class=\"s1\">&#39;importnb&#39;</span><span class=\"p\">)</span><span class=\"o\">.</span><span class=\"n\">Notebook</span><span class=\"p\">():</span> <span class=\"kn\">import</span> <span class=\"nn\">pydantic_dataclass_cli</span>\n",
       "\n",
       "<span class=\"k\">def</span> <span class=\"nf\">main</span><span class=\"p\">(</span><span class=\"nb\">object</span><span class=\"p\">:</span> <span class=\"n\">pydantic_dataclass_cli</span><span class=\"o\">.</span><span class=\"n\">Y</span><span class=\"p\">)</span> <span class=\"o\">-&gt;</span> <span class=\"nb\">int</span><span class=\"p\">:</span>\n",
       "    <span class=\"k\">print</span><span class=\"p\">(</span><span class=\"nb\">object</span><span class=\"o\">.</span><span class=\"n\">dict</span><span class=\"p\">())</span>\n",
       "    <span class=\"k\">return</span> <span class=\"mi\">0</span>\n",
       "\n",
       "<span class=\"vm\">__name__</span> <span class=\"o\">==</span> <span class=\"s1\">&#39;__main__&#39;</span> <span class=\"ow\">and</span> <span class=\"n\">sys</span><span class=\"o\">.</span><span class=\"n\">exit</span><span class=\"p\">(</span>\n",
       "    <span class=\"n\">pydantic_cli</span><span class=\"o\">.</span><span class=\"n\">to_runner</span><span class=\"p\">(</span>\n",
       "        <span class=\"n\">pydantic_dataclass_cli</span><span class=\"o\">.</span><span class=\"n\">Y</span><span class=\"o\">.</span><span class=\"n\">__pydantic_model__</span><span class=\"p\">,</span> \n",
       "        <span class=\"n\">main</span><span class=\"p\">)(</span><span class=\"n\">sys</span><span class=\"o\">.</span><span class=\"n\">argv</span><span class=\"p\">[</span><span class=\"mi\">1</span><span class=\"p\">:]))</span>\n",
       "</pre></div>\n"
      ],
      "text/latex": [
       "\\begin{Verbatim}[commandchars=\\\\\\{\\}]\n",
       "\\PY{k+kn}{import} \\PY{n+nn}{pydantic}\\PY{o}{,} \\PY{n+nn}{sys}\\PY{o}{,} \\PY{n+nn}{pydantic\\PYZus{}cli}\n",
       "\\PY{k}{with} \\PY{n+nb}{\\PYZus{}\\PYZus{}import\\PYZus{}\\PYZus{}}\\PY{p}{(}\\PY{l+s+s1}{\\PYZsq{}}\\PY{l+s+s1}{importnb}\\PY{l+s+s1}{\\PYZsq{}}\\PY{p}{)}\\PY{o}{.}\\PY{n}{Notebook}\\PY{p}{(}\\PY{p}{)}\\PY{p}{:} \\PY{k+kn}{import} \\PY{n+nn}{pydantic\\PYZus{}dataclass\\PYZus{}cli}\n",
       "\n",
       "\\PY{k}{def} \\PY{n+nf}{main}\\PY{p}{(}\\PY{n+nb}{object}\\PY{p}{:} \\PY{n}{pydantic\\PYZus{}dataclass\\PYZus{}cli}\\PY{o}{.}\\PY{n}{Y}\\PY{p}{)} \\PY{o}{\\PYZhy{}}\\PY{o}{\\PYZgt{}} \\PY{n+nb}{int}\\PY{p}{:}\n",
       "    \\PY{k}{print}\\PY{p}{(}\\PY{n+nb}{object}\\PY{o}{.}\\PY{n}{dict}\\PY{p}{(}\\PY{p}{)}\\PY{p}{)}\n",
       "    \\PY{k}{return} \\PY{l+m+mi}{0}\n",
       "\n",
       "\\PY{n+nv+vm}{\\PYZus{}\\PYZus{}name\\PYZus{}\\PYZus{}} \\PY{o}{==} \\PY{l+s+s1}{\\PYZsq{}}\\PY{l+s+s1}{\\PYZus{}\\PYZus{}main\\PYZus{}\\PYZus{}}\\PY{l+s+s1}{\\PYZsq{}} \\PY{o+ow}{and} \\PY{n}{sys}\\PY{o}{.}\\PY{n}{exit}\\PY{p}{(}\n",
       "    \\PY{n}{pydantic\\PYZus{}cli}\\PY{o}{.}\\PY{n}{to\\PYZus{}runner}\\PY{p}{(}\n",
       "        \\PY{n}{pydantic\\PYZus{}dataclass\\PYZus{}cli}\\PY{o}{.}\\PY{n}{Y}\\PY{o}{.}\\PY{n}{\\PYZus{}\\PYZus{}pydantic\\PYZus{}model\\PYZus{}\\PYZus{}}\\PY{p}{,} \n",
       "        \\PY{n}{main}\\PY{p}{)}\\PY{p}{(}\\PY{n}{sys}\\PY{o}{.}\\PY{n}{argv}\\PY{p}{[}\\PY{l+m+mi}{1}\\PY{p}{:}\\PY{p}{]}\\PY{p}{)}\\PY{p}{)}\n",
       "\\end{Verbatim}\n"
      ],
      "text/plain": [
       "\n",
       "import pydantic, sys, pydantic_cli\n",
       "with __import__('importnb').Notebook(): import pydantic_dataclass_cli\n",
       "\n",
       "def main(object: pydantic_dataclass_cli.Y) -> int:\n",
       "    print(object.dict())\n",
       "    return 0\n",
       "\n",
       "__name__ == '__main__' and sys.exit(\n",
       "    pydantic_cli.to_runner(\n",
       "        pydantic_dataclass_cli.Y.__pydantic_model__, \n",
       "        main)(sys.argv[1:]))"
      ]
     },
     "execution_count": 3,
     "metadata": {},
     "output_type": "execute_result"
    }
   ],
   "source": [
    "    main = display.Code(\"\"\"\n",
    "    import pydantic, sys, pydantic_cli\n",
    "    with __import__('importnb').Notebook(): import pydantic_dataclass_cli\n",
    "\n",
    "    def main(object: pydantic_dataclass_cli.Y) -> int:\n",
    "        print(object.dict())\n",
    "        return 0\n",
    "\n",
    "    __name__ == '__main__' and sys.exit(\n",
    "        pydantic_cli.to_runner(\n",
    "            pydantic_dataclass_cli.Y.__pydantic_model__, \n",
    "            main)(sys.argv[1:]))\"\"\", language=\"python\"); main"
   ]
  },
  {
   "cell_type": "code",
   "execution_count": 4,
   "metadata": {},
   "outputs": [
    {
     "data": {
      "text/plain": [
       "344"
      ]
     },
     "execution_count": 4,
     "metadata": {},
     "output_type": "execute_result"
    }
   ],
   "source": [
    "    Ø and pathlib.Path('__main__.py').write_text(main.data)"
   ]
  },
  {
   "cell_type": "markdown",
   "metadata": {},
   "source": [
    "The sample `__main__.py` file above demons"
   ]
  },
  {
   "cell_type": "code",
   "execution_count": 5,
   "metadata": {},
   "outputs": [
    {
     "name": "stdout",
     "output_type": "stream",
     "text": [
      "\u001b]0;IPython: tonyfast/gists2\u0007usage: __main__.py [-h] [--b B] a\n",
      "\n",
      "positional arguments:\n",
      "  a           (type:<class 'int'> )\n",
      "\n",
      "optional arguments:\n",
      "  -h, --help  show this help message and exit\n",
      "  --b B       (type:<class 'int'> default:None)\n"
     ]
    }
   ],
   "source": [
    "    if Ø: \n",
    "        !ipython __main__.py -- --help"
   ]
  },
  {
   "cell_type": "code",
   "execution_count": 6,
   "metadata": {},
   "outputs": [
    {
     "name": "stdout",
     "output_type": "stream",
     "text": [
      "{'a': 10, 'b': None}\n"
     ]
    }
   ],
   "source": [
    "    if Ø:\n",
    "        !python __main__.py 10"
   ]
  }
 ],
 "metadata": {
  "kernelspec": {
   "display_name": "Python 3",
   "language": "python",
   "name": "python3"
  },
  "language_info": {
   "codemirror_mode": {
    "name": "ipython",
    "version": 3
   },
   "file_extension": ".py",
   "mimetype": "text/x-python",
   "name": "python",
   "nbconvert_exporter": "python",
   "pygments_lexer": "ipython3",
   "version": "3.7.3"
  }
 },
 "nbformat": 4,
 "nbformat_minor": 4
}
