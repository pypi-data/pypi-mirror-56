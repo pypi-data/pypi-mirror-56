{
 "cells": [
  {
   "cell_type": "markdown",
   "metadata": {},
   "source": [
    "An observable-ish pattern with `dask`'s pub sub model.\n",
    "\n",
    "https://docs.dask.org/en/latest/futures.html#actors"
   ]
  },
  {
   "cell_type": "code",
   "execution_count": 1,
   "metadata": {},
   "outputs": [],
   "source": [
    "    import distributed, dataclasses, typing, munch, itertools, toolz"
   ]
  },
  {
   "cell_type": "markdown",
   "metadata": {},
   "source": [
    "Use threads on the in-process client"
   ]
  },
  {
   "cell_type": "code",
   "execution_count": 2,
   "metadata": {},
   "outputs": [
    {
     "data": {
      "text/html": [
       "<table style=\"border: 2px solid white;\">\n",
       "<tr>\n",
       "<td style=\"vertical-align: top; border: 0px solid white\">\n",
       "<h3 style=\"text-align: left;\">Client</h3>\n",
       "<ul style=\"text-align: left; list-style: none; margin: 0; padding: 0;\">\n",
       "  <li><b>Scheduler: </b>inproc://10.8.0.40/15634/1</li>\n",
       "  <li><b>Dashboard: </b><a href='http://localhost:8787/status' target='_blank'>http://localhost:8787/status</a>\n",
       "</ul>\n",
       "</td>\n",
       "<td style=\"vertical-align: top; border: 0px solid white\">\n",
       "<h3 style=\"text-align: left;\">Cluster</h3>\n",
       "<ul style=\"text-align: left; list-style:none; margin: 0; padding: 0;\">\n",
       "  <li><b>Workers: </b>1</li>\n",
       "  <li><b>Cores: </b>8</li>\n",
       "  <li><b>Memory: </b>17.18 GB</li>\n",
       "</ul>\n",
       "</td>\n",
       "</tr>\n",
       "</table>"
      ],
      "text/plain": [
       "<Client: 'inproc://10.8.0.40/15634/1' processes=1 threads=8, memory=17.18 GB>"
      ]
     },
     "execution_count": 2,
     "metadata": {},
     "output_type": "execute_result"
    }
   ],
   "source": [
    "    client = distributed.Client(processes=False); client"
   ]
  },
  {
   "cell_type": "markdown",
   "metadata": {},
   "source": [
    "The `Observable` class is built to comply with the `distributed` client actor model."
   ]
  },
  {
   "cell_type": "code",
   "execution_count": 6,
   "metadata": {},
   "outputs": [],
   "source": [
    "    class Observable:\n",
    "        value = munch.Munch()\n",
    "        def dlink(self, source, target=None, callable=None):\n",
    "            source = id(source[0]), source[1]\n",
    "            if target and callable is None: callable = toolz.partial(setattr, *target)\n",
    "            if target: target = id(target[0]), target[1]\n",
    "            self.value.update({source:{target:callable}})\n",
    "\n",
    "        def link(self, source, target=None, callable=None):\n",
    "            self.dlink(source, target, callable), self.dlink(target, source, callable)\n",
    "\n",
    "        def trigger(self, source): \n",
    "            toolz.juxt(*self.value[id(source[0]), source[1]].values())(getattr(*source))"
   ]
  },
  {
   "cell_type": "markdown",
   "metadata": {},
   "source": [
    "Create our `pubsub` client."
   ]
  },
  {
   "cell_type": "code",
   "execution_count": 7,
   "metadata": {},
   "outputs": [],
   "source": [
    "    pubsub = client.submit(Observable, actor=True).result()"
   ]
  },
  {
   "cell_type": "markdown",
   "metadata": {},
   "source": [
    "Demonstrate the efficacy with `Thing`."
   ]
  },
  {
   "cell_type": "code",
   "execution_count": 8,
   "metadata": {},
   "outputs": [],
   "source": [
    "    @dataclasses.dataclass(unsafe_hash=True, eq=True)\n",
    "    class Thing: a: int = 10"
   ]
  },
  {
   "cell_type": "code",
   "execution_count": 14,
   "metadata": {},
   "outputs": [],
   "source": [
    "    t = Thing(a=10)\n",
    "    s = Thing(20)\n",
    "    assert s != t"
   ]
  },
  {
   "cell_type": "markdown",
   "metadata": {},
   "source": [
    "Link the traits."
   ]
  },
  {
   "cell_type": "code",
   "execution_count": 15,
   "metadata": {},
   "outputs": [],
   "source": [
    "    pubsub.link((t, 'a'), (s, 'a'))\n",
    "    t.a = 30\n",
    "    assert s != t"
   ]
  },
  {
   "cell_type": "markdown",
   "metadata": {},
   "source": [
    "`s` has not changed yet because we have no asked to update it yet.  We should likely over the `__setattr__` method for usability."
   ]
  },
  {
   "cell_type": "code",
   "execution_count": 18,
   "metadata": {},
   "outputs": [],
   "source": [
    "    pubsub.trigger((t, 'a'))\n",
    "    __import__('time').sleep(.1) # it seems now there race conditions!\n",
    "    assert s.a == t.a == 30"
   ]
  },
  {
   "cell_type": "markdown",
   "metadata": {},
   "source": [
    "go back the other way."
   ]
  },
  {
   "cell_type": "code",
   "execution_count": 20,
   "metadata": {},
   "outputs": [],
   "source": [
    "    s.a = 40\n",
    "    pubsub.trigger((s, 'a'))\n",
    "    __import__('time').sleep(.1)\n",
    "    assert t.a == 40"
   ]
  }
 ],
 "metadata": {
  "kernelspec": {
   "display_name": "Python 3",
   "language": "python",
   "name": "python3"
  },
  "language_info": {
   "codemirror_mode": {
    "name": "ipython",
    "version": 3
   },
   "file_extension": ".py",
   "mimetype": "text/x-python",
   "name": "python",
   "nbconvert_exporter": "python",
   "pygments_lexer": "ipython3",
   "version": "3.7.3"
  }
 },
 "nbformat": 4,
 "nbformat_minor": 4
}
