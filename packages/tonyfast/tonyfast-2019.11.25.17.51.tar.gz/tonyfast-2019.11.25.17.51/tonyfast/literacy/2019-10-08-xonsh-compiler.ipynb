{
 "cells": [
  {
   "cell_type": "code",
   "execution_count": 17,
   "metadata": {},
   "outputs": [],
   "source": [
    "    import xonsh.main, xonsh.execer, IPython, ast\n",
    "    execer = xonsh.execer.Execer()\n",
    "    class CachingCompiler(IPython.core.compilerop.CachingCompiler):\n",
    "        def ast_parse(self, source, filename='<unknown>', symbol='exec'): \n",
    "            return globals()['execer']._parse_ctx_free(source + \"\\n\", symbol, filename)[0] or ast.Module([])"
   ]
  },
  {
   "cell_type": "code",
   "execution_count": 18,
   "metadata": {},
   "outputs": [],
   "source": [
    "    def load_ipython_extension(shell): \n",
    "        if not hasattr(__import__('builtins'), '__xonsh__'):\n",
    "            with xonsh.main.main_context('-i'.split()): ...\n",
    "        shell.compile = CachingCompiler()\n",
    "\n",
    "    def unload_ipython_extension(shell): shell.compile = IPython.core.compilerop.CachingCompiler\n",
    "    __name__ == '__main__' and load_ipython_extension(get_ipython())"
   ]
  }
 ],
 "metadata": {
  "kernelspec": {
   "display_name": "Python 3",
   "language": "python",
   "name": "python3"
  },
  "language_info": {
   "codemirror_mode": {
    "name": "ipython",
    "version": 3
   },
   "file_extension": ".py",
   "mimetype": "text/x-python",
   "name": "python",
   "nbconvert_exporter": "python",
   "pygments_lexer": "ipython3",
   "version": "3.7.3"
  }
 },
 "nbformat": 4,
 "nbformat_minor": 4
}
