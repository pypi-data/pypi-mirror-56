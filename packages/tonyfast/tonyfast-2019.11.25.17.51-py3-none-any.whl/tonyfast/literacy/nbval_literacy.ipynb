{
 "cells": [
  {
   "cell_type": "code",
   "execution_count": 19,
   "metadata": {},
   "outputs": [
    {
     "data": {
      "text/markdown": [
       "    with __import__('importnb').Notebook():\n",
       "        try: from .__init__ import load_ipython_extension\n",
       "        except: from __init__ import load_ipython_extension\n",
       "    load_ipython_extension(__import__('IPython').get_ipython())"
      ],
      "text/plain": [
       "    with __import__('importnb').Notebook():\n",
       "        try: from .__init__ import load_ipython_extension\n",
       "        except: from __init__ import load_ipython_extension\n",
       "    load_ipython_extension(__import__('IPython').get_ipython())"
      ]
     },
     "metadata": {},
     "output_type": "display_data"
    }
   ],
   "source": [
    "    with __import__('importnb').Notebook():\n",
    "        try: from .__init__ import load_ipython_extension\n",
    "        except: from __init__ import load_ipython_extension\n",
    "    load_ipython_extension(__import__('IPython').get_ipython())"
   ]
  },
  {
   "cell_type": "code",
   "execution_count": 20,
   "metadata": {},
   "outputs": [
    {
     "name": "stdout",
     "output_type": "stream",
     "text": [
      "11\n"
     ]
    },
    {
     "data": {
      "text/markdown": [
       "Testing\n",
       "\n",
       "    print(11)"
      ],
      "text/plain": [
       "Testing\n",
       "\n",
       "    print(11)"
      ]
     },
     "metadata": {},
     "output_type": "display_data"
    }
   ],
   "source": [
    "Testing\n",
    "\n",
    "    print(11)"
   ]
  },
  {
   "cell_type": "code",
   "execution_count": 21,
   "metadata": {},
   "outputs": [
    {
     "name": "stdout",
     "output_type": "stream",
     "text": [
      "# This is the docstring \n",
      " def f():\n",
      "    \"\"\"# This is the docstring\"\"\";\n",
      "\n",
      "    ...\n",
      "\n"
     ]
    },
    {
     "data": {
      "text/markdown": [
       "    def f():\n",
       "# This is the docstring\n",
       "        \n",
       "        ...\n",
       "    print(f.__doc__, '\\n', __import__('inspect').getsource(f))"
      ],
      "text/plain": [
       "    def f():\n",
       "# This is the docstring\n",
       "        \n",
       "        ...\n",
       "    print(f.__doc__, '\\n', __import__('inspect').getsource(f))"
      ]
     },
     "metadata": {},
     "output_type": "display_data"
    }
   ],
   "source": [
    "    def f():\n",
    "# This is the docstring\n",
    "        \n",
    "        ...\n",
    "    print(f.__doc__, '\\n', __import__('inspect').getsource(f))"
   ]
  },
  {
   "cell_type": "code",
   "execution_count": 14,
   "metadata": {},
   "outputs": [
    {
     "name": "stdout",
     "output_type": "stream",
     "text": [
      "hi\n"
     ]
    },
    {
     "data": {
      "text/plain": []
     },
     "execution_count": 14,
     "metadata": {},
     "output_type": "execute_result"
    },
    {
     "data": {
      "text/markdown": [
       "Bash in markdown\n",
       "    \n",
       "    echo hi"
      ],
      "text/plain": [
       "Bash in markdown\n",
       "    \n",
       "    echo hi"
      ]
     },
     "metadata": {},
     "output_type": "display_data"
    }
   ],
   "source": [
    "Bash in markdown\n",
    "    \n",
    "    echo hi"
   ]
  }
 ],
 "metadata": {
  "kernelspec": {
   "display_name": "Python 3",
   "language": "python",
   "name": "python3"
  },
  "language_info": {
   "codemirror_mode": {
    "name": "ipython",
    "version": 3
   },
   "file_extension": ".py",
   "mimetype": "text/x-python",
   "name": "python",
   "nbconvert_exporter": "python",
   "pygments_lexer": "ipython3",
   "version": "3.7.3"
  }
 },
 "nbformat": 4,
 "nbformat_minor": 4
}
