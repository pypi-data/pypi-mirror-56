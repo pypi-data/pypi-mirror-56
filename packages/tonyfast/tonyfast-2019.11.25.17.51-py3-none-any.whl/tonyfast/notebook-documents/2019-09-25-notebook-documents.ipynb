{
 "cells": [
  {
   "cell_type": "code",
   "execution_count": 1,
   "metadata": {
    "jupyter": {
     "source_hidden": true
    }
   },
   "outputs": [
    {
     "data": {
      "text/html": [
       "<pre class=\"ipython\"><code>%reload_ext pidgin\n",
       "import graphviz</code></pre>\n"
      ],
      "text/plain": [
       "    %reload_ext pidgin\n",
       "    import graphviz"
      ]
     },
     "metadata": {},
     "output_type": "display_data"
    }
   ],
   "source": [
    "    %reload_ext pidgin\n",
    "    import graphviz"
   ]
  },
  {
   "cell_type": "code",
   "execution_count": 2,
   "metadata": {
    "jupyter": {
     "source_hidden": true
    }
   },
   "outputs": [
    {
     "data": {
      "text/html": [
       "<h1 id=\"notebooks-computational-documents\">Notebooks &amp; computational documents</h1>\n",
       "<h3 id=\"computational-documents\">Computational documents</h3>\n",
       "<h2 id=\"multi-hypermedia-collage\">multi hypermedia collage</h2>\n",
       "<h2 id=\"an-example-business-reports\">An example: Business reports</h2>\n",
       "<ul>\n",
       "<li>Word, Excel, Powerpoint, <code>...</code></li>\n",
       "</ul>\n",
       "<blockquote>\n",
       "<h3 id=\"name-some-other-computational-documents.\">Name some other computational documents.</h3>\n",
       "</blockquote>\n"
      ],
      "text/plain": [
       "# Notebooks & computational documents\n",
       "\n",
       "\n",
       "### Computational documents\n",
       "## multi hypermedia collage\n",
       "\n",
       "## An example: Business reports\n",
       "\n",
       "* Word, Excel, Powerpoint, `...`\n",
       "\n",
       "\n",
       "> ### Name some other computational documents."
      ]
     },
     "metadata": {},
     "output_type": "display_data"
    }
   ],
   "source": [
    "# Notebooks & computational documents\n",
    "\n",
    "\n",
    "### Computational documents\n",
    "## multi hypermedia collage\n",
    "\n",
    "## An example: Business reports\n",
    "\n",
    "* Word, Excel, Powerpoint, `...`\n",
    "\n",
    "\n",
    "> ### Name some other computational documents."
   ]
  },
  {
   "cell_type": "code",
   "execution_count": 3,
   "metadata": {},
   "outputs": [
    {
     "data": {
      "text/html": [
       "<h2 id=\"some-other-computational-documents\">Some other computational documents</h2>\n",
       "<ul>\n",
       "<li>HTML</li>\n",
       "<li>Markdown</li>\n",
       "<li>PDF</li>\n",
       "<li>Latex</li>\n",
       "<li>Jupyter notebooks</li>\n",
       "<li>Software packages</li>\n",
       "</ul>\n"
      ],
      "text/plain": [
       "## Some other computational documents\n",
       "\n",
       "* HTML\n",
       "* Markdown\n",
       "* PDF\n",
       "* Latex\n",
       "* Jupyter notebooks\n",
       "* Software packages"
      ]
     },
     "metadata": {},
     "output_type": "display_data"
    }
   ],
   "source": [
    "## Some other computational documents\n",
    "\n",
    "* HTML\n",
    "* Markdown\n",
    "* PDF\n",
    "* Latex\n",
    "* Jupyter notebooks\n",
    "* Software packages"
   ]
  },
  {
   "cell_type": "code",
   "execution_count": 4,
   "metadata": {
    "jupyter": {
     "source_hidden": true
    }
   },
   "outputs": [
    {
     "data": {
      "text/html": [
       "<h2 id=\"words-not-words\">Words &amp; not words</h2>\n",
       "<p>Data-driven documents go beyond words to include data, code, &amp; visuals fill voids in language.</p>\n",
       "<h3 id=\"computational-documents-are-multi-lingual\">Computational Documents are multi-lingual</h3>\n"
      ],
      "text/plain": [
       "## Words & not words\n",
       "\n",
       "Data-driven documents go beyond words to include data, code, & visuals fill voids in language.\n",
       "\n",
       "### Computational Documents are multi-lingual"
      ]
     },
     "metadata": {},
     "output_type": "display_data"
    }
   ],
   "source": [
    "## Words & not words\n",
    "\n",
    "Data-driven documents go beyond words to include data, code, & visuals fill voids in language.\n",
    "\n",
    "### Computational Documents are multi-lingual"
   ]
  },
  {
   "cell_type": "code",
   "execution_count": 5,
   "metadata": {},
   "outputs": [
    {
     "data": {
      "text/html": [
       "<h2 id=\"literate-programs\">Literate programs</h2>\n",
       "<p>Our savior <a href=\"https://en.wikipedia.org/wiki/Donald_Knuth\">Donald Knuth</a>.</p>\n",
       "<ul>\n",
       "<li><a href=\"https://yakshav.es/the-patron-saint-of-yakshaves/\">The Patron Saint of Yak Shaves</a></li>\n",
       "</ul>\n"
      ],
      "text/plain": [
       "## Literate programs\n",
       "\n",
       "Our savior [Donald Knuth](https://en.wikipedia.org/wiki/Donald_Knuth).\n",
       "\n",
       "* [The Patron Saint of Yak Shaves](https://yakshav.es/the-patron-saint-of-yakshaves/)"
      ]
     },
     "metadata": {},
     "output_type": "display_data"
    }
   ],
   "source": [
    "## Literate programs\n",
    "\n",
    "Our savior [Donald Knuth](https://en.wikipedia.org/wiki/Donald_Knuth).\n",
    "\n",
    "* [The Patron Saint of Yak Shaves](https://yakshav.es/the-patron-saint-of-yakshaves/)"
   ]
  },
  {
   "cell_type": "code",
   "execution_count": 6,
   "metadata": {},
   "outputs": [
    {
     "data": {
      "text/html": [
       "<h2 id=\"precedence-in-journalism\">Precedence in journalism</h2>\n",
       "<p>Data driven journalism is athe forefront of comminicating information.|</p>\n",
       "<ul>\n",
       "<li><p><a href=\"https://en.wikipedia.org/wiki/Django_(web_framework)\"><code>\"django\"</code></a></p>\n",
       "<p><img src=\"https://user-images.githubusercontent.com/4236275/65614341-fc2ec700-dfa6-11e9-9b00-741b974d3142.png\" /></p></li>\n",
       "<li><p><a href=\"http://nytlabs.com/blog/2015/10/20/particles/\">The future of news is not an article</a></p></li>\n",
       "<li><p><a href=\"https://github.com/datadesk/altair-latimes/pull/1\">LA times uses altair</a></p></li>\n",
       "</ul>\n"
      ],
      "text/plain": [
       "## Precedence in journalism\n",
       "\n",
       "Data driven journalism is athe forefront of comminicating information.|\n",
       "\n",
       "* [`\"django\"`](https://en.wikipedia.org/wiki/Django_(web_framework))\n",
       "    \n",
       "    ![](https://user-images.githubusercontent.com/4236275/65614341-fc2ec700-dfa6-11e9-9b00-741b974d3142.png)\n",
       "    \n",
       "* [The future of news is not an article](http://nytlabs.com/blog/2015/10/20/particles/)\n",
       "* [LA times uses altair](https://github.com/datadesk/altair-latimes/pull/1)"
      ]
     },
     "metadata": {},
     "output_type": "display_data"
    }
   ],
   "source": [
    "## Precedence in journalism\n",
    "\n",
    "Data driven journalism is athe forefront of comminicating information.|\n",
    "\n",
    "* [`\"django\"`](https://en.wikipedia.org/wiki/Django_(web_framework))\n",
    "    \n",
    "    ![](https://user-images.githubusercontent.com/4236275/65614341-fc2ec700-dfa6-11e9-9b00-741b974d3142.png)\n",
    "    \n",
    "* [The future of news is not an article](http://nytlabs.com/blog/2015/10/20/particles/)\n",
    "* [LA times uses altair](https://github.com/datadesk/altair-latimes/pull/1)"
   ]
  },
  {
   "cell_type": "code",
   "execution_count": 7,
   "metadata": {},
   "outputs": [
    {
     "data": {
      "text/html": [
       "<ul>\n",
       "<li><h2 id=\"code-narrative\">Code &gt; Narrative</h2></li>\n",
       "<li><h2 id=\"narrative-code\">Narrative &gt; Code</h2></li>\n",
       "</ul>\n",
       "<blockquote>\n",
       "<h3 id=\"which-is-role-the-of-data-scientist-and-software-engineer\">Which is role the of <code>\"data scientist\"</code>, and <code>\"software engineer\"</code>?</h3>\n",
       "</blockquote>\n"
      ],
      "text/plain": [
       "* ## Code > Narrative\n",
       "* ## Narrative > Code\n",
       "\n",
       "> ### Which is role the of `\"data scientist\"`, and `\"software engineer\"`?"
      ]
     },
     "metadata": {},
     "output_type": "display_data"
    }
   ],
   "source": [
    "* ## Code > Narrative\n",
    "* ## Narrative > Code\n",
    "\n",
    "> ### Which is role the of `\"data scientist\"`, and `\"software engineer\"`?"
   ]
  },
  {
   "cell_type": "markdown",
   "metadata": {},
   "source": [
    "`my_function_that_changes_the_world_cause_I_said_so` then I'll key programming"
   ]
  },
  {
   "cell_type": "markdown",
   "metadata": {},
   "source": [
    "## Code > Narrative\n",
    "\n",
    "Informal names are adopted for literacy and narrative in `\"docstrings\"` are secondary to the code."
   ]
  },
  {
   "cell_type": "code",
   "execution_count": 27,
   "metadata": {},
   "outputs": [
    {
     "data": {
      "text/html": [
       "<pre class=\"ipython\"><code>def my_function_that_changes_the_world_cause_I_said_so(): \n",
       "    &quot;&quot;&quot;&gt;&gt;&gt; assert 42, &#39;This function does not change the world&#39;&quot;&quot;&quot;</code></pre>\n"
      ],
      "text/plain": [
       "    def my_function_that_changes_the_world_cause_I_said_so(): \n",
       "        \"\"\">>> assert 42, 'This function does not change the world'\"\"\""
      ]
     },
     "metadata": {},
     "output_type": "display_data"
    }
   ],
   "source": [
    "    def my_function_that_changes_the_world_cause_I_said_so(): \n",
    "        \"\"\">>> assert 42, 'This function does not change the world'\"\"\""
   ]
  },
  {
   "cell_type": "markdown",
   "metadata": {},
   "source": [
    "## Narrative Over Code\n",
    "\n",
    "my `function` that `changes_the_world` cause I said so` then I'll key programming\n",
    "\n",
    "    def function(): \"\"\">>> assert 42\"\"\"\n",
    "    def changes_the_world(): \"\"\">>> assert True\"\"\""
   ]
  },
  {
   "cell_type": "markdown",
   "metadata": {},
   "source": [
    "Literate documents include code & multimedia in formal language to connect features of the human and machine language."
   ]
  },
  {
   "cell_type": "code",
   "execution_count": null,
   "metadata": {},
   "outputs": [
    {
     "data": {
      "text/plain": [
       "TestResults(failed=0, attempted=3)"
      ]
     },
     "execution_count": 28,
     "metadata": {},
     "output_type": "execute_result"
    }
   ],
   "source": [
    "### Doctesting and docstrings\n",
    "\n",
    "    import doctest\n",
    "\n",
    "Tests provide trust to an `object`.  Place `doctest`s in your function to run tests interactively.\n",
    "\n",
    "    doctest.testmod()"
   ]
  },
  {
   "cell_type": "markdown",
   "metadata": {},
   "source": [
    "## Notebooks simulate a document.\n",
    "\n",
    "# They are a flexible form to project different forms of multi hypermedia documents."
   ]
  },
  {
   "cell_type": "code",
   "execution_count": 17,
   "metadata": {},
   "outputs": [
    {
     "data": {
      "image/svg+xml": [
       "<?xml version=\"1.0\" encoding=\"UTF-8\" standalone=\"no\"?>\n",
       "<!DOCTYPE svg PUBLIC \"-//W3C//DTD SVG 1.1//EN\"\n",
       " \"http://www.w3.org/Graphics/SVG/1.1/DTD/svg11.dtd\">\n",
       "<!-- Generated by graphviz version 2.40.1 (20161225.0304)\n",
       " -->\n",
       "<!-- Title: %3 Pages: 1 -->\n",
       "<svg width=\"1074pt\" height=\"116pt\"\n",
       " viewBox=\"0.00 0.00 1074.33 116.00\" xmlns=\"http://www.w3.org/2000/svg\" xmlns:xlink=\"http://www.w3.org/1999/xlink\">\n",
       "<g id=\"graph0\" class=\"graph\" transform=\"scale(1 1) rotate(0) translate(4 112)\">\n",
       "<title>%3</title>\n",
       "<polygon fill=\"#ffffff\" stroke=\"transparent\" points=\"-4,4 -4,-112 1070.332,-112 1070.332,4 -4,4\"/>\n",
       "<!-- Notebooks -->\n",
       "<g id=\"node1\" class=\"node\">\n",
       "<title>Notebooks</title>\n",
       "<ellipse fill=\"none\" stroke=\"#000000\" cx=\"531.0813\" cy=\"-90\" rx=\"48.3514\" ry=\"18\"/>\n",
       "<text text-anchor=\"middle\" x=\"531.0813\" y=\"-85.8\" font-family=\"Times,serif\" font-size=\"14.00\" fill=\"#000000\">Notebooks</text>\n",
       "</g>\n",
       "<!-- asciidoc -->\n",
       "<g id=\"node2\" class=\"node\">\n",
       "<title>asciidoc</title>\n",
       "<ellipse fill=\"none\" stroke=\"#000000\" cx=\"39.0813\" cy=\"-18\" rx=\"39.1627\" ry=\"18\"/>\n",
       "<text text-anchor=\"middle\" x=\"39.0813\" y=\"-13.8\" font-family=\"Times,serif\" font-size=\"14.00\" fill=\"#000000\">asciidoc</text>\n",
       "</g>\n",
       "<!-- Notebooks&#45;&gt;asciidoc -->\n",
       "<g id=\"edge1\" class=\"edge\">\n",
       "<title>Notebooks&#45;&gt;asciidoc</title>\n",
       "<path fill=\"none\" stroke=\"#000000\" d=\"M482.7735,-87.8831C400.487,-83.4468 228.3194,-70.5482 87.0813,-36 84.0663,-35.2625 80.9819,-34.3919 77.9031,-33.4381\"/>\n",
       "<polygon fill=\"#000000\" stroke=\"#000000\" points=\"78.7737,-30.0384 68.1796,-30.1697 76.5433,-36.6736 78.7737,-30.0384\"/>\n",
       "</g>\n",
       "<!-- custom -->\n",
       "<g id=\"node3\" class=\"node\">\n",
       "<title>custom</title>\n",
       "<ellipse fill=\"none\" stroke=\"#000000\" cx=\"132.0813\" cy=\"-18\" rx=\"35.806\" ry=\"18\"/>\n",
       "<text text-anchor=\"middle\" x=\"132.0813\" y=\"-13.8\" font-family=\"Times,serif\" font-size=\"14.00\" fill=\"#000000\">custom</text>\n",
       "</g>\n",
       "<!-- Notebooks&#45;&gt;custom -->\n",
       "<g id=\"edge2\" class=\"edge\">\n",
       "<title>Notebooks&#45;&gt;custom</title>\n",
       "<path fill=\"none\" stroke=\"#000000\" d=\"M483.6972,-86.2467C415.1086,-80.0361 284.6021,-65.2879 177.0813,-36 174.4326,-35.2785 171.7282,-34.4486 169.0252,-33.5496\"/>\n",
       "<polygon fill=\"#000000\" stroke=\"#000000\" points=\"169.9401,-30.159 159.3457,-30.0618 167.5671,-36.7445 169.9401,-30.159\"/>\n",
       "</g>\n",
       "<!-- html -->\n",
       "<g id=\"node4\" class=\"node\">\n",
       "<title>html</title>\n",
       "<ellipse fill=\"none\" stroke=\"#000000\" cx=\"213.0813\" cy=\"-18\" rx=\"27\" ry=\"18\"/>\n",
       "<text text-anchor=\"middle\" x=\"213.0813\" y=\"-13.8\" font-family=\"Times,serif\" font-size=\"14.00\" fill=\"#000000\">html</text>\n",
       "</g>\n",
       "<!-- Notebooks&#45;&gt;html -->\n",
       "<g id=\"edge3\" class=\"edge\">\n",
       "<title>Notebooks&#45;&gt;html</title>\n",
       "<path fill=\"none\" stroke=\"#000000\" d=\"M484.1643,-85.0119C427.3665,-78.0697 329.3479,-63.1729 249.0813,-36 247.1949,-35.3614 245.2824,-34.6419 243.3729,-33.8674\"/>\n",
       "<polygon fill=\"#000000\" stroke=\"#000000\" points=\"244.5426,-30.5562 233.986,-29.657 241.6777,-36.9431 244.5426,-30.5562\"/>\n",
       "</g>\n",
       "<!-- latex -->\n",
       "<g id=\"node5\" class=\"node\">\n",
       "<title>latex</title>\n",
       "<ellipse fill=\"none\" stroke=\"#000000\" cx=\"285.0813\" cy=\"-18\" rx=\"27.0873\" ry=\"18\"/>\n",
       "<text text-anchor=\"middle\" x=\"285.0813\" y=\"-13.8\" font-family=\"Times,serif\" font-size=\"14.00\" fill=\"#000000\">latex</text>\n",
       "</g>\n",
       "<!-- Notebooks&#45;&gt;latex -->\n",
       "<g id=\"edge4\" class=\"edge\">\n",
       "<title>Notebooks&#45;&gt;latex</title>\n",
       "<path fill=\"none\" stroke=\"#000000\" d=\"M488.0339,-81.7262C445.0026,-72.8096 377.3243,-57.0205 321.0813,-36 319.2649,-35.3211 317.4193,-34.578 315.5721,-33.7924\"/>\n",
       "<polygon fill=\"#000000\" stroke=\"#000000\" points=\"317.0007,-30.597 306.4517,-29.6125 314.0843,-36.9606 317.0007,-30.597\"/>\n",
       "</g>\n",
       "<!-- markdown -->\n",
       "<g id=\"node6\" class=\"node\">\n",
       "<title>markdown</title>\n",
       "<ellipse fill=\"none\" stroke=\"#000000\" cx=\"378.0813\" cy=\"-18\" rx=\"47.8582\" ry=\"18\"/>\n",
       "<text text-anchor=\"middle\" x=\"378.0813\" y=\"-13.8\" font-family=\"Times,serif\" font-size=\"14.00\" fill=\"#000000\">markdown</text>\n",
       "</g>\n",
       "<!-- Notebooks&#45;&gt;markdown -->\n",
       "<g id=\"edge5\" class=\"edge\">\n",
       "<title>Notebooks&#45;&gt;markdown</title>\n",
       "<path fill=\"none\" stroke=\"#000000\" d=\"M500.8534,-75.7751C476.8866,-64.4966 443.214,-48.6507 417.1937,-36.4058\"/>\n",
       "<polygon fill=\"#000000\" stroke=\"#000000\" points=\"418.5242,-33.1638 407.9857,-32.0727 415.5435,-39.4975 418.5242,-33.1638\"/>\n",
       "</g>\n",
       "<!-- notebook -->\n",
       "<g id=\"node7\" class=\"node\">\n",
       "<title>notebook</title>\n",
       "<ellipse fill=\"none\" stroke=\"#000000\" cx=\"487.0813\" cy=\"-18\" rx=\"43.0387\" ry=\"18\"/>\n",
       "<text text-anchor=\"middle\" x=\"487.0813\" y=\"-13.8\" font-family=\"Times,serif\" font-size=\"14.00\" fill=\"#000000\">notebook</text>\n",
       "</g>\n",
       "<!-- Notebooks&#45;&gt;notebook -->\n",
       "<g id=\"edge6\" class=\"edge\">\n",
       "<title>Notebooks&#45;&gt;notebook</title>\n",
       "<path fill=\"none\" stroke=\"#000000\" d=\"M520.2049,-72.2022C515.0364,-63.7448 508.7564,-53.4685 503.06,-44.147\"/>\n",
       "<polygon fill=\"#000000\" stroke=\"#000000\" points=\"506.0336,-42.3008 497.8326,-35.593 500.0606,-45.951 506.0336,-42.3008\"/>\n",
       "</g>\n",
       "<!-- pdf -->\n",
       "<g id=\"node8\" class=\"node\">\n",
       "<title>pdf</title>\n",
       "<ellipse fill=\"none\" stroke=\"#000000\" cx=\"575.0813\" cy=\"-18\" rx=\"27\" ry=\"18\"/>\n",
       "<text text-anchor=\"middle\" x=\"575.0813\" y=\"-13.8\" font-family=\"Times,serif\" font-size=\"14.00\" fill=\"#000000\">pdf</text>\n",
       "</g>\n",
       "<!-- Notebooks&#45;&gt;pdf -->\n",
       "<g id=\"edge7\" class=\"edge\">\n",
       "<title>Notebooks&#45;&gt;pdf</title>\n",
       "<path fill=\"none\" stroke=\"#000000\" d=\"M541.9577,-72.2022C547.2033,-63.6186 553.5938,-53.1613 559.3572,-43.7303\"/>\n",
       "<polygon fill=\"#000000\" stroke=\"#000000\" points=\"562.4049,-45.4551 564.633,-35.0972 556.4319,-41.805 562.4049,-45.4551\"/>\n",
       "</g>\n",
       "<!-- python -->\n",
       "<g id=\"node9\" class=\"node\">\n",
       "<title>python</title>\n",
       "<ellipse fill=\"none\" stroke=\"#000000\" cx=\"655.0813\" cy=\"-18\" rx=\"34.8458\" ry=\"18\"/>\n",
       "<text text-anchor=\"middle\" x=\"655.0813\" y=\"-13.8\" font-family=\"Times,serif\" font-size=\"14.00\" fill=\"#000000\">python</text>\n",
       "</g>\n",
       "<!-- Notebooks&#45;&gt;python -->\n",
       "<g id=\"edge8\" class=\"edge\">\n",
       "<title>Notebooks&#45;&gt;python</title>\n",
       "<path fill=\"none\" stroke=\"#000000\" d=\"M557.3785,-74.7307C576.49,-63.6336 602.4673,-48.5501 622.8318,-36.7255\"/>\n",
       "<polygon fill=\"#000000\" stroke=\"#000000\" points=\"624.8583,-39.5961 631.7487,-31.5479 621.3433,-33.5426 624.8583,-39.5961\"/>\n",
       "</g>\n",
       "<!-- rst -->\n",
       "<g id=\"node10\" class=\"node\">\n",
       "<title>rst</title>\n",
       "<ellipse fill=\"none\" stroke=\"#000000\" cx=\"735.0813\" cy=\"-18\" rx=\"27\" ry=\"18\"/>\n",
       "<text text-anchor=\"middle\" x=\"735.0813\" y=\"-13.8\" font-family=\"Times,serif\" font-size=\"14.00\" fill=\"#000000\">rst</text>\n",
       "</g>\n",
       "<!-- Notebooks&#45;&gt;rst -->\n",
       "<g id=\"edge9\" class=\"edge\">\n",
       "<title>Notebooks&#45;&gt;rst</title>\n",
       "<path fill=\"none\" stroke=\"#000000\" d=\"M570.0455,-79.3107C604.485,-69.4317 655.8217,-53.6468 699.0813,-36 700.8767,-35.2676 702.7059,-34.4824 704.5405,-33.6646\"/>\n",
       "<polygon fill=\"#000000\" stroke=\"#000000\" points=\"706.0637,-36.8161 713.6262,-29.3959 703.087,-30.4805 706.0637,-36.8161\"/>\n",
       "</g>\n",
       "<!-- script -->\n",
       "<g id=\"node11\" class=\"node\">\n",
       "<title>script</title>\n",
       "<ellipse fill=\"none\" stroke=\"#000000\" cx=\"810.0813\" cy=\"-18\" rx=\"29.5104\" ry=\"18\"/>\n",
       "<text text-anchor=\"middle\" x=\"810.0813\" y=\"-13.8\" font-family=\"Times,serif\" font-size=\"14.00\" fill=\"#000000\">script</text>\n",
       "</g>\n",
       "<!-- Notebooks&#45;&gt;script -->\n",
       "<g id=\"edge10\" class=\"edge\">\n",
       "<title>Notebooks&#45;&gt;script</title>\n",
       "<path fill=\"none\" stroke=\"#000000\" d=\"M575.6445,-82.8808C624.4212,-74.4217 704.5457,-58.557 771.0813,-36 773.2044,-35.2802 775.3667,-34.4813 777.5297,-33.6316\"/>\n",
       "<polygon fill=\"#000000\" stroke=\"#000000\" points=\"779.0502,-36.7888 786.8979,-29.6709 776.3243,-30.3414 779.0502,-36.7888\"/>\n",
       "</g>\n",
       "<!-- selectLanguage -->\n",
       "<g id=\"node12\" class=\"node\">\n",
       "<title>selectLanguage</title>\n",
       "<ellipse fill=\"none\" stroke=\"#000000\" cx=\"923.0813\" cy=\"-18\" rx=\"65.2044\" ry=\"18\"/>\n",
       "<text text-anchor=\"middle\" x=\"923.0813\" y=\"-13.8\" font-family=\"Times,serif\" font-size=\"14.00\" fill=\"#000000\">selectLanguage</text>\n",
       "</g>\n",
       "<!-- Notebooks&#45;&gt;selectLanguage -->\n",
       "<g id=\"edge11\" class=\"edge\">\n",
       "<title>Notebooks&#45;&gt;selectLanguage</title>\n",
       "<path fill=\"none\" stroke=\"#000000\" d=\"M576.2937,-83.3482C638.1238,-74.0181 752.4184,-55.9377 849.0813,-36 854.3419,-34.9149 859.7964,-33.721 865.2508,-32.48\"/>\n",
       "<polygon fill=\"#000000\" stroke=\"#000000\" points=\"866.0783,-35.881 875.0268,-30.2088 864.4941,-29.0626 866.0783,-35.881\"/>\n",
       "</g>\n",
       "<!-- slides -->\n",
       "<g id=\"node13\" class=\"node\">\n",
       "<title>slides</title>\n",
       "<ellipse fill=\"none\" stroke=\"#000000\" cx=\"1036.0813\" cy=\"-18\" rx=\"30.0035\" ry=\"18\"/>\n",
       "<text text-anchor=\"middle\" x=\"1036.0813\" y=\"-13.8\" font-family=\"Times,serif\" font-size=\"14.00\" fill=\"#000000\">slides</text>\n",
       "</g>\n",
       "<!-- Notebooks&#45;&gt;slides -->\n",
       "<g id=\"edge12\" class=\"edge\">\n",
       "<title>Notebooks&#45;&gt;slides</title>\n",
       "<path fill=\"none\" stroke=\"#000000\" d=\"M578.8833,-86.3904C681.3514,-78.3393 919.1628,-57.8909 997.0813,-36 999.2395,-35.3936 1001.4287,-34.6815 1003.6118,-33.8967\"/>\n",
       "<polygon fill=\"#000000\" stroke=\"#000000\" points=\"1005.0668,-37.0838 1013.029,-30.0943 1002.4459,-30.593 1005.0668,-37.0838\"/>\n",
       "</g>\n",
       "</g>\n",
       "</svg>\n"
      ],
      "text/plain": [
       "<graphviz.files.Source at 0x10d88ca58>"
      ]
     },
     "execution_count": 17,
     "metadata": {},
     "output_type": "execute_result"
    },
    {
     "data": {
      "text/html": [
       "<pre class=\"ipython\"><code>graphviz.Source(&quot;digraph {Notebooks-&gt;{ %s }}&quot;%&#39; &#39;.join(x for x in __import__(&#39;nbconvert&#39;).get_export_names() if not &#39;_&#39; in x))</code></pre>\n"
      ],
      "text/plain": [
       "    graphviz.Source(\"digraph {Notebooks->{ %s }}\"%' '.join(x for x in __import__('nbconvert').get_export_names() if not '_' in x))"
      ]
     },
     "metadata": {},
     "output_type": "display_data"
    }
   ],
   "source": [
    "    graphviz.Source(\"digraph {Notebooks->{ %s }}\"%' '.join(x for x in __import__('nbconvert').get_export_names() if not '_' in x))"
   ]
  },
  {
   "cell_type": "code",
   "execution_count": null,
   "metadata": {},
   "outputs": [],
   "source": []
  }
 ],
 "metadata": {
  "kernelspec": {
   "display_name": "Python 3",
   "language": "python",
   "name": "python3"
  },
  "language_info": {
   "codemirror_mode": {
    "name": "ipython",
    "version": 3
   },
   "file_extension": ".py",
   "mimetype": "text/x-python",
   "name": "python",
   "nbconvert_exporter": "python",
   "pygments_lexer": "ipython3",
   "version": "3.7.3"
  }
 },
 "nbformat": 4,
 "nbformat_minor": 4
}
