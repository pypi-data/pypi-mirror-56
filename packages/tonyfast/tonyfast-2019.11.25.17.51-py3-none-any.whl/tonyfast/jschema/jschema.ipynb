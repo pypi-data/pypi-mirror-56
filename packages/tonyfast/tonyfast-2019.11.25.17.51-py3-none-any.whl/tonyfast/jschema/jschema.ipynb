{
 "cells": [
  {
   "cell_type": "markdown",
   "metadata": {},
   "source": [
    "Semantic JsonSchema types in python."
   ]
  },
  {
   "cell_type": "code",
   "execution_count": 1,
   "metadata": {},
   "outputs": [],
   "source": [
    "    import jsonschema, requests, requests_cache, altair.vega.v4, json\n",
    "    import dataclasses, typing, pandas, toolz.curried as toolz, anyconfig\n",
    "    requests_cache.install_cache('schemas.sqlite')"
   ]
  },
  {
   "cell_type": "code",
   "execution_count": 2,
   "metadata": {},
   "outputs": [],
   "source": [
    "    class Schema(__import__('munch').Munch):\n",
    "        __validator__ = None\n",
    "        def __init__(self, *args, **kwargs):\n",
    "            super().__init__(*args, **kwargs), jsonschema.validate(self, __import__('jsonschema').Draft7Validator.META_SCHEMA)\n",
    "            self.__validator__ = __import__('jsonschema').Draft7Validator(self, format_checker=__import__('jsonschema').draft7_format_checker)\n",
    "        def validate(self, object): return self.__validator__.validate(object)\n",
    "        def valid(cls, object) -> bool:\n",
    "            try: cls.validate(object); return True\n",
    "            except BaseException: return False"
   ]
  },
  {
   "cell_type": "code",
   "execution_count": 3,
   "metadata": {},
   "outputs": [],
   "source": [
    "    class Validator:\n",
    "        def __init_subclass__(cls, **schema):\n",
    "            for object in reversed(cls.__mro__): schema = {**(getattr(object, '__schema__', {}) or {}), **schema}\n",
    "            cls.__schema__ = Schema(schema, title=cls.__name__, **(dict(description=cls.__doc__) if cls.__doc__ else {})) # Schema will validate the schema\n",
    "            \n",
    "    class MetaType(Validator, __import__('abc').ABCMeta):             \n",
    "        def new(cls, object=None, **schema):  \n",
    "            schema = {**cls.__schema__, **(object if isinstance(object, dict) else {}), **schema}\n",
    "            return type(schema.get('title', __import__('json').dumps(schema)), (cls,), {}, **schema)\n",
    "        def __instancecheck__(cls, object): return cls.__schema__.valid(object)\n"
   ]
  },
  {
   "cell_type": "code",
   "execution_count": 4,
   "metadata": {},
   "outputs": [
    {
     "data": {
      "text/plain": [
       "(pandas.core.frame.DataFrame, pandas.core.series.Series)"
      ]
     },
     "execution_count": 4,
     "metadata": {},
     "output_type": "execute_result"
    }
   ],
   "source": [
    "    class Type(Validator, metaclass=MetaType): \n",
    "        __schema__ = None\n",
    "        def __new__(cls, object=None, *args, **kwargs):\n",
    "            if object is None: object = __import__('copy').copy(cls.__schema__.get('default', super().__new__(cls)))\n",
    "            if isinstance(object, dict): object.update(kwargs); kwargs = {}\n",
    "            cls.__schema__.validate(object)\n",
    "            self = super().__new__(cls, object, *args, **kwargs); self.__init__(object, *args, **kwargs)\n",
    "            return self\n",
    "        \n",
    "        @classmethod\n",
    "        def discover(x, object=None, **schema):\n",
    "            for cls in x.__subclasses__():\n",
    "                try: object = cls(object); break\n",
    "                except BaseException as e: ...\n",
    "            else: return object\n",
    "            return cls.discover(object)\n",
    "        \n",
    "        def _repr_mimebundle_(x, include=None, exclude=None, **metadata): \n",
    "            for k, v in globals().items():\n",
    "                if k[0].isalpha() and v is getattr(x, 'object', x): metadata['@id'] = k; break\n",
    "            metadata.update(x.__schema__, examples=[x])\n",
    "            return {}, metadata\n",
    "\n",
    "    \n",
    "    class Null(Type, type='null'): \n",
    "        def __new__(cls, object=None, *args, **kwargs): return cls.__schema__.validate(object)\n",
    "    class Integer(Type, int, type='integer'): ...\n",
    "    class Number(Type, float, type='number'): ...\n",
    "    class List(Type, list, type='array'): \n",
    "        \n",
    "        def __new__(cls, object=None, *args, **kwargs): \n",
    "            if isinstance(object, tuple): object = list(object)\n",
    "            return super().__new__(cls, object, *args, **kwargs)        \n",
    "    class Dict(Type, dict): \n",
    "        def __init_subclass__(cls, **schema): \n",
    "            if schema: ...\n",
    "            else: schema = dict(schema, type='object', properties={key: value.__schema__ for key, value in getattr(cls, '__annotations__', {}).items() if hasattr(value, '__schema__')}, default={})\n",
    "            cls.__schema__ = Schema(**schema)\n",
    "\n",
    "    class String(Type, str, type='string'): ...\n",
    "    class Uri(String, format='uri'): ...\n",
    "    class Date(String, format='date'): ...\n",
    "    class Datetime(String, format='date-time'): ...\n",
    "    class Time(String, format='time'): ...\n",
    "    class Email(String, format='email'): ...\n",
    "    class JsonPointer(String, format='json-pointer'): ...\n",
    "    class File(String): \n",
    "        \"\"\"`File` is only valid if it exists on disk.\"\"\"\n",
    "        def __init__(self, object):\n",
    "            if __import__('pathlib').Path(object).exists(): return \n",
    "            raise ValueError(F\"{object} is not a file.\")\n",
    "    @toolz.do(toolz.partial(setattr, File, 'load'))\n",
    "    def load(x): return Type.discover(__import__('anyconfig').load(x))\n",
    "    @toolz.do(toolz.partial(setattr, File, 'json'))\n",
    "    def file_json(x): return Type.discover(__import__('json').loads(__import__('pathlib').Path(x).read_text()))\n",
    "    @toolz.do(toolz.partial(setattr, Uri, 'json'))\n",
    "    def json(x): return Type.discover(__import__('requests').get(x).json())\n",
    "    @toolz.do(toolz.partial(setattr, Uri, 'text'))\n",
    "    def text(x): return Type.discover(__import__('requests').get(x).text)\n",
    "    \n",
    "    class UserObject(Type, str):\n",
    "        \"\"\"Use abc registration to connect to python types.\"\"\"\n",
    "        object: None        \n",
    "        def __post_init__(x): \n",
    "            x.object = getattr(x, 'object', x.object)\n",
    "            assert issubclass(\n",
    "                type(x.object), tuple(UserObject.__subclasses__()) \n",
    "                if type(x)==UserObject else type(x))\n",
    "        def _repr_mimebundle_(x, include=None, exclude=None, **metadata): return {}, metadata\n",
    "    dataclasses.dataclass(UserObject)        \n",
    "    \n",
    "    class Pandas(UserObject): \n",
    "        def _repr_mimebundle_(x, include=None, exclude=None):\n",
    "            data, metadata = super()._repr_mimebundle_(include, exclude)\n",
    "            return data, {**metadata, 'allOf':[\n",
    "                TableSchema(__import__('json').loads(x.object.to_json(orient='table'))['schema']),\n",
    "                List.new(minItems=len(x.object), maxItems=len(x.object)).__schema__,]}\n",
    "        \n",
    "    Pandas.register(pandas.DataFrame), Pandas.register(pandas.Series)\n",
    "        \n"
   ]
  },
  {
   "cell_type": "code",
   "execution_count": 5,
   "metadata": {},
   "outputs": [],
   "source": [
    "    class ListofUri(List, items=Uri.__schema__, minItems=1): \n",
    "        def text(x): return [Uri.text(x) for x in x]\n",
    "        def json(x): return [Uri.json(x) for x in x]"
   ]
  },
  {
   "cell_type": "code",
   "execution_count": 6,
   "metadata": {},
   "outputs": [],
   "source": [
    "    class NbFormat(Dict, **__import__('nbformat').validator._get_schema_json(__import__('nbformat').v4)): ...\n",
    "    class JsonPatch(List, **requests.get(\"http://json.schemastore.org/json-patch\").json()):\n",
    "        def __call__(self, object): return Type.discover(__import__('jsonpatch').apply_patch(object, self))\n",
    "    class TableSchema(Dict, **requests.get(\"https://frictionlessdata.io/schemas/table-schema.json\").json()): ...\n",
    "    class GeoJson(Dict, **requests.get(\"http://json.schemastore.org/geojson\").json()): ..."
   ]
  },
  {
   "cell_type": "code",
   "execution_count": 7,
   "metadata": {},
   "outputs": [],
   "source": [
    "    class DictofDict(Dict, additionalProperties=Dict.__schema__): ...\n",
    "    class DictofList(Dict, additionalProperties=List.__schema__): ...\n",
    "    class ListofList(List, additionalProperties=List.__schema__): ...\n",
    "    class ListofDict(List, additionalProperties=Dict.__schema__): ..."
   ]
  },
  {
   "cell_type": "code",
   "execution_count": 8,
   "metadata": {},
   "outputs": [],
   "source": [
    "    class Jpeg(String, pattern='[.jpeg|.jpg]$', contentMediaType='image/jpeg'): ...\n",
    "    class Png(String, pattern='.png$', contentMediaType='image/png'): ..."
   ]
  },
  {
   "cell_type": "markdown",
   "metadata": {},
   "source": [
    "# tests"
   ]
  },
  {
   "cell_type": "code",
   "execution_count": 9,
   "metadata": {},
   "outputs": [],
   "source": [
    "    class Test(__import__('unittest').TestCase):\n",
    "        def test_instance(x):\n",
    "            assert isinstance('http://xx', Uri)\n",
    "            assert not isinstance('xx', Date)\n",
    "            assert isinstance('2019-01-01', Date)\n",
    "        def test_schema(x):\n",
    "            schema = Schema({'type': 'object'})\n",
    "            assert schema.valid({})\n",
    "            assert not schema.valid(1)\n",
    "            \n",
    "        def test_discovery(x):\n",
    "            assert isinstance(Type.discover(10), Integer)\n",
    "            assert isinstance(Type.discover(10.1), Number)\n",
    "            assert isinstance(Type.discover('http://thing'), Uri)\n",
    "            assert isinstance(Type.discover('jschema.ipynb'), File)\n",
    "            assert isinstance(Type.discover('2019-08-01'), Date)\n",
    "            assert isinstance(Type.discover({}), Dict)\n",
    "            assert isinstance(Type.discover([]), List)\n",
    "                        \n",
    "        def test_import(x):\n",
    "            with __import__('importnb').Notebook(): import jschema\n",
    "            assert jschema.__file__.endswith('.ipynb')\n",
    "            \n",
    "        def test_custom_dict(x):\n",
    "            class Custom(Dict): a: Integer\n",
    "            with pytest.raises(jsonschema.ValidationError): Custom(a='asdf')\n",
    "            assert Custom(a=10)\n",
    "            \n",
    "        def test_new_api(x):\n",
    "            type = String.new(pattern='^x')\n",
    "            with pytest.raises(jsonschema.ValidationError): type('asdf')            \n",
    "            assert type('xxxx')\n",
    "            \n",
    "        def test_pandas(x):\n",
    "            assert Pandas(object=pandas.util.testing.makeDataFrame())\n",
    "            assert isinstance(Type.discover(pandas.util.testing.makeDataFrame()), Pandas)\n",
    "    class TestSchemaDiscovery(__import__('unittest').TestCase):\n",
    "        def test_geojson(x):\n",
    "            assert not isinstance({'xx': 2}, GeoJson)\n",
    "            assert isinstance(File('geojson_sample.geojson').json(), GeoJson)\n",
    "            \n",
    "        def test_table_schema(x):\n",
    "            assert not isinstance({'a': 10}, TableSchema)\n",
    "            assert isinstance(__import__('json').loads(\n",
    "                __import__('pandas').util.testing.makeDataFrame().to_json(orient='table'))['schema'], TableSchema)\n",
    "        \n",
    "        def test_nb(x):\n",
    "            assert not isinstance({'a': 10}, NbFormat)\n",
    "            assert isinstance(File('jschema.ipynb').json(), NbFormat)\n"
   ]
  },
  {
   "cell_type": "code",
   "execution_count": 10,
   "metadata": {},
   "outputs": [
    {
     "name": "stderr",
     "output_type": "stream",
     "text": [
      "../Users/tonyfast/anaconda3/lib/python3.7/site-packages/IPython/core/inputsplitter.py:22: DeprecationWarning: IPython.core.inputsplitter is deprecated since IPython 7 in favor of `IPython.core.inputtransformer2`\n",
      "  DeprecationWarning)\n",
      "........\n",
      "----------------------------------------------------------------------\n",
      "Ran 10 tests in 0.212s\n",
      "\n",
      "OK\n"
     ]
    }
   ],
   "source": [
    "    def load_tests(loader, tests, ignore): tests.addTests(doctest.DocTestSuite(importlib.import_module(__name__), optionflags=doctest.ELLIPSIS)); return tests\n",
    "    if __name__ == '__main__': \n",
    "        import unittest, pytest, jsonschema, importlib, doctest\n",
    "        unittest.main(argv=' ', exit=False, verbosity=1)"
   ]
  },
  {
   "cell_type": "markdown",
   "metadata": {},
   "source": [
    "http://schemastore.org/json/"
   ]
  },
  {
   "cell_type": "code",
   "execution_count": null,
   "metadata": {},
   "outputs": [
    {
     "name": "stdout",
     "output_type": "stream",
     "text": [
      "[NbConvertApp] Converting notebook jschema.ipynb to script\n",
      "[NbConvertApp] Writing 9213 bytes to jschema.py\n",
      "\u001b[1mreformatted jschema.py\u001b[0m\n",
      "\u001b[1mAll done! ✨ 🍰 ✨\u001b[0m\n",
      "\u001b[1m1 file reformatted\u001b[0m.\u001b[0m\n"
     ]
    }
   ],
   "source": [
    "    if __name__ == '__main__': \n",
    "        !jupyter nbconvert --to script jschema.ipynb\n",
    "        !black jschema.py\n",
    "        !pyreverse jschema -osvg -pjschema\n",
    "        !rm jschema.py\n",
    "        display(__import__('IPython').display.SVG('classes_jschema.svg'))"
   ]
  }
 ],
 "metadata": {
  "kernelspec": {
   "display_name": "Python 3",
   "language": "python",
   "name": "python3"
  },
  "language_info": {
   "codemirror_mode": {
    "name": "ipython",
    "version": 3
   },
   "file_extension": ".py",
   "mimetype": "text/x-python",
   "name": "python",
   "nbconvert_exporter": "python",
   "pygments_lexer": "ipython3",
   "version": "3.7.3"
  }
 },
 "nbformat": 4,
 "nbformat_minor": 4
}
