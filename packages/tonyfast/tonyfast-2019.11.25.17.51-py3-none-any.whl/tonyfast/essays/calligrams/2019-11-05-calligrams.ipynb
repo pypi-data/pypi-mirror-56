{
 "cells": [
  {
   "cell_type": "code",
   "execution_count": 271,
   "metadata": {
    "jupyter": {
     "source_hidden": true
    }
   },
   "outputs": [],
   "source": [
    "    \n",
    "    import pathlib, hvplot.pandas, notebook; from tonyfast.poser import λ\n",
    "    %reload_ext tonyfast.literacy\n",
    "    iframe = λ.partial('IPython.display.IFrame', width='100%', height=800)\n",
    "    pictures = λ[pathlib.Path].methodcaller('glob', '*.jpg').drop(1)[list].sorted(key=lambda x: x.stat().st_ctime).map(str)[list]\n",
    "    λ['requests_cache.install_cache']('calligrams')\n",
    "    calligram = \"C@𝔏𝔏👁𝓖ⓇⒶ𝔐\""
   ]
  },
  {
   "cell_type": "code",
   "execution_count": 229,
   "metadata": {
    "jupyter": {
     "source_hidden": true
    }
   },
   "outputs": [
    {
     "data": {
      "image/jpeg": "[encoded data removed]",
      "text/plain": [
       "<IPython.core.display.Image object>"
      ]
     },
     "execution_count": 229,
     "metadata": {
      "image/jpeg": {
       "width": 800
      }
     },
     "output_type": "execute_result"
    },
    {
     "data": {
      "text/markdown": [
       "    λ['IPython.display.Image']('https://upload.wikimedia.org/wikipedia/en/thumb/b/b9/MagrittePipe.jpg/300px-MagrittePipe.jpg', width=800)"
      ],
      "text/plain": [
       "    λ['IPython.display.Image']('https://upload.wikimedia.org/wikipedia/en/thumb/b/b9/MagrittePipe.jpg/300px-MagrittePipe.jpg', width=800)"
      ]
     },
     "metadata": {},
     "output_type": "display_data"
    }
   ],
   "source": [
    "    λ['IPython.display.Image']('https://upload.wikimedia.org/wikipedia/en/thumb/b/b9/MagrittePipe.jpg/300px-MagrittePipe.jpg', width=800)"
   ]
  },
  {
   "cell_type": "code",
   "execution_count": 103,
   "metadata": {
    "jupyter": {
     "source_hidden": true
    }
   },
   "outputs": [
    {
     "data": {
      "text/html": [
       "\n",
       "        <iframe\n",
       "            width=\"100%\"\n",
       "            height=\"600\"\n",
       "            src=\"https://en.m.wikipedia.org/wiki/The_Treachery_of_Images\"\n",
       "            frameborder=\"0\"\n",
       "            allowfullscreen\n",
       "        ></iframe>\n",
       "        "
      ],
      "text/plain": [
       "<IPython.lib.display.IFrame at 0x1199d2898>"
      ]
     },
     "execution_count": 103,
     "metadata": {},
     "output_type": "execute_result"
    },
    {
     "data": {
      "text/markdown": [
       "    iframe(\"https://en.m.wikipedia.org/wiki/The_Treachery_of_Images\")    "
      ],
      "text/plain": [
       "    iframe(\"https://en.m.wikipedia.org/wiki/The_Treachery_of_Images\")    "
      ]
     },
     "metadata": {},
     "output_type": "display_data"
    }
   ],
   "source": [
    "    iframe(\"https://en.m.wikipedia.org/wiki/The_Treachery_of_Images\")    "
   ]
  },
  {
   "cell_type": "code",
   "execution_count": 255,
   "metadata": {
    "jupyter": {
     "source_hidden": true
    }
   },
   "outputs": [
    {
     "data": {
      "text/markdown": [
       "# C@𝔏𝔏👁𝓖ⓇⒶ𝔐\n",
       "\n",
       "### C@𝔏𝔏👁𝓖ⓇⒶ𝔐s express meaning through `complex` irreducible `unyt`s of `type` and form."
      ],
      "text/plain": [
       "# {{calligram}}\n",
       "\n",
       "### {{calligram}}s express meaning through `complex` irreducible `unyt`s of `type` and form."
      ]
     },
     "metadata": {},
     "output_type": "display_data"
    }
   ],
   "source": [
    "# {{calligram}}\n",
    "\n",
    "### {{calligram}}s express meaning through `complex` irreducible `unyt`s of `type` and form."
   ]
  },
  {
   "cell_type": "code",
   "execution_count": 258,
   "metadata": {
    "jupyter": {
     "source_hidden": true
    }
   },
   "outputs": [
    {
     "data": {
      "text/markdown": [
       "# Some examples of calligrams\n",
       "\n",
       "<iframe width=100% height=800 src=https://en.m.wikipedia.org/wiki/Calligram#Gallery frameborder=0 allowfullscreen></iframe>"
      ],
      "text/plain": [
       "# Some examples of calligrams\n",
       "\n",
       "{{iframe('https://en.m.wikipedia.org/wiki/Calligram#Gallery')}}"
      ]
     },
     "metadata": {},
     "output_type": "display_data"
    }
   ],
   "source": [
    "# Some examples of calligrams\n",
    "\n",
    "{{iframe('https://en.m.wikipedia.org/wiki/Calligram#Gallery')}}"
   ]
  },
  {
   "cell_type": "markdown",
   "metadata": {},
   "source": [
    "## My practices in abstract calligrams."
   ]
  },
  {
   "cell_type": "code",
   "execution_count": 259,
   "metadata": {
    "jupyter": {
     "source_hidden": true
    }
   },
   "outputs": [
    {
     "data": {
      "application/vnd.jupyter.widget-view+json": {
       "model_id": "175855188b7d4b96ad86eb31904b2232",
       "version_major": 2,
       "version_minor": 0
      },
      "text/plain": [
       "interactive(children=(IntSlider(value=54, description='id', max=107, min=1), Output()), _dom_classes=('widget-…"
      ]
     },
     "metadata": {},
     "output_type": "display_data"
    },
    {
     "data": {
      "text/markdown": [
       "    files = pictures('docfast')\n",
       "    @λ.partial('ipywidgets.interact')\n",
       "    def show(id=(1, len(files)-3)): λ['IPython.display.display'](*(λ.partial('IPython.display.Image', width=400)(files[id]) for id in range(id, id+3)))\n",
       "\n",
       "\n",
       "###### Downloading instagram photos in python `\"instaloader\"` https://instaloader.github.io/basic-usage.html\n",
       "    \n",
       "    # instaloader profile docfast"
      ],
      "text/plain": [
       "    files = pictures('docfast')\n",
       "    @λ.partial('ipywidgets.interact')\n",
       "    def show(id=(1, len(files)-3)): λ['IPython.display.display'](*(λ.partial('IPython.display.Image', width=400)(files[id]) for id in range(id, id+3)))\n",
       "\n",
       "\n",
       "###### Downloading instagram photos in python `\"instaloader\"` https://instaloader.github.io/basic-usage.html\n",
       "    \n",
       "    # instaloader profile docfast"
      ]
     },
     "metadata": {},
     "output_type": "display_data"
    }
   ],
   "source": [
    "    files = pictures('docfast')\n",
    "    @λ.partial('ipywidgets.interact')\n",
    "    def show(id=(1, len(files)-3)): λ['IPython.display.display'](*(λ.partial('IPython.display.Image', width=400)(files[id]) for id in range(id, id+3)))\n",
    "\n",
    "\n",
    "###### Downloading instagram photos in python `\"instaloader\"` https://instaloader.github.io/basic-usage.html\n",
    "    \n",
    "    # instaloader profile docfast"
   ]
  },
  {
   "cell_type": "code",
   "execution_count": 262,
   "metadata": {
    "jupyter": {
     "source_hidden": true
    }
   },
   "outputs": [
    {
     "data": {
      "text/markdown": [
       "## \"The Treachery of Images\" _does not follow the rules_\n",
       "\n",
       "# [This is not a pipe](https://monoskop.org/images/9/99/Foucault_Michel_This_Is_Not_a_Pipe.pdf) `...`\n",
       "\n",
       "> #### Foucault provides varying analyses of Magritte's \"The Treachery of Images\". One chapter is formed on the basis of calligrams.\n",
       "\n",
       "# C@𝔏𝔏👁𝓖ⓇⒶ𝔐\n",
       "\n",
       "* # augment[ing] the alphabet.\n",
       "* ## repeat[ing] something without the aid of rhetoric. \n",
       "    ### _`for ever in 'ever':...`_\n",
       "* ### trap[ping] things into a double cipher."
      ],
      "text/plain": [
       "## \"The Treachery of Images\" _does not follow the rules_\n",
       "\n",
       "# [This is not a pipe](https://monoskop.org/images/9/99/Foucault_Michel_This_Is_Not_a_Pipe.pdf) `...`\n",
       "\n",
       "> #### Foucault provides varying analyses of Magritte's \"The Treachery of Images\". One chapter is formed on the basis of calligrams.\n",
       "\n",
       "# {{calligram}}\n",
       "\n",
       "* # augment[ing] the alphabet.\n",
       "* ## repeat[ing] something without the aid of rhetoric. \n",
       "    ### _`for ever in 'ever':...`_\n",
       "* ### trap[ping] things into a double cipher.\n"
      ]
     },
     "metadata": {},
     "output_type": "display_data"
    }
   ],
   "source": [
    "## \"The Treachery of Images\" _does not follow the rules_\n",
    "\n",
    "# [This is not a pipe](https://monoskop.org/images/9/99/Foucault_Michel_This_Is_Not_a_Pipe.pdf) `...`\n",
    "\n",
    "> #### Foucault provides varying analyses of Magritte's \"The Treachery of Images\". One chapter is formed on the basis of calligrams.\n",
    "\n",
    "# {{calligram}}\n",
    "\n",
    "* # augment[ing] the alphabet.\n",
    "* ## repeat[ing] something without the aid of rhetoric. \n",
    "    ### _`for ever in 'ever':...`_\n",
    "* ### trap[ping] things into a double cipher.\n"
   ]
  },
  {
   "cell_type": "code",
   "execution_count": 263,
   "metadata": {
    "jupyter": {
     "source_hidden": true
    }
   },
   "outputs": [
    {
     "data": {
      "text/markdown": [
       "---\n",
       "---\n",
       "* # The C@𝔏𝔏👁𝓖ⓇⒶ𝔐 is thus tautological, ...\n",
       "    * #### It uses the possibility of repeating the same thing in different words, \n",
       "        * ##### and profits from the extra richness of language that \n",
       "    * ## allows us to say different things with a single word. \n",
       "---\n",
       "* ###### ... As a sign, the letter permits us to fix words; as line, it lets us give shape to things. Thus the calligram aspires playfully to efface the oldest oppositions of our alphabetical civilization: \n",
       "    * #### to show and to name; \n",
       "        * ### to shape and to say; \n",
       "            * ## to reproduce and to articulate; \n",
       "                * # to imitate and to signify; "
      ],
      "text/plain": [
       "---\n",
       "---\n",
       "* # The {{calligram}} is thus tautological, ...\n",
       "    * #### It uses the possibility of repeating the same thing in different words, \n",
       "        * ##### and profits from the extra richness of language that \n",
       "    * ## allows us to say different things with a single word. \n",
       "---\n",
       "* ###### ... As a sign, the letter permits us to fix words; as line, it lets us give shape to things. Thus the calligram aspires playfully to efface the oldest oppositions of our alphabetical civilization: \n",
       "    * #### to show and to name; \n",
       "        * ### to shape and to say; \n",
       "            * ## to reproduce and to articulate; \n",
       "                * # to imitate and to signify; "
      ]
     },
     "metadata": {},
     "output_type": "display_data"
    }
   ],
   "source": [
    "---\n",
    "---\n",
    "* # The {{calligram}} is thus tautological, ...\n",
    "    * #### It uses the possibility of repeating the same thing in different words, \n",
    "        * ##### and profits from the extra richness of language that \n",
    "    * ## allows us to say different things with a single word. \n",
    "---\n",
    "* ###### ... As a sign, the letter permits us to fix words; as line, it lets us give shape to things. Thus the calligram aspires playfully to efface the oldest oppositions of our alphabetical civilization: \n",
    "    * #### to show and to name; \n",
    "        * ### to shape and to say; \n",
    "            * ## to reproduce and to articulate; \n",
    "                * # to imitate and to signify; "
   ]
  },
  {
   "cell_type": "code",
   "execution_count": 265,
   "metadata": {
    "jupyter": {
     "source_hidden": true
    }
   },
   "outputs": [
    {
     "data": {
      "text/markdown": [
       "---\n",
       "---\n",
       "\n",
       "# C@𝔏𝔏👁𝓖ⓇⒶ𝔐 in practice\n",
       "\n",
       "C@𝔏𝔏👁𝓖ⓇⒶ𝔐 are irredicuble `unyt`s of work `...` independent of medium.\n",
       "\n",
       "--- \n",
       "### _I practice calligraphy in notebooks_\n",
       "## Scientists practice~~d~~ science in lab notebooks\n",
       "---"
      ],
      "text/plain": [
       "---\n",
       "---\n",
       "\n",
       "# {{calligram}} in practice\n",
       "\n",
       "{{calligram}} are irredicuble `unyt`s of work `...` independent of medium.\n",
       "\n",
       "--- \n",
       "### _I practice calligraphy in notebooks_\n",
       "## Scientists practice~~d~~ science in lab notebooks\n",
       "---"
      ]
     },
     "metadata": {},
     "output_type": "display_data"
    }
   ],
   "source": [
    "---\n",
    "---\n",
    "\n",
    "# {{calligram}} in practice\n",
    "\n",
    "{{calligram}} are irredicuble `unyt`s of work `...` independent of medium.\n",
    "\n",
    "--- \n",
    "### _I practice calligraphy in notebooks_\n",
    "## Scientists practice~~d~~ science in lab notebooks\n",
    "---"
   ]
  },
  {
   "cell_type": "code",
   "execution_count": 267,
   "metadata": {
    "jupyter": {
     "source_hidden": true
    }
   },
   "outputs": [
    {
     "data": {
      "image/svg+xml": [
       "<?xml version=\"1.0\" encoding=\"UTF-8\" standalone=\"no\"?>\n",
       "<!DOCTYPE svg PUBLIC \"-//W3C//DTD SVG 1.1//EN\"\n",
       " \"http://www.w3.org/Graphics/SVG/1.1/DTD/svg11.dtd\">\n",
       "<!-- Generated by graphviz version 2.40.1 (20161225.0304)\n",
       " -->\n",
       "<!-- Title: %3 Pages: 1 -->\n",
       "<svg width=\"600pt\" height=\"362pt\"\n",
       " viewBox=\"0.00 0.00 600.00 362.39\" xmlns=\"http://www.w3.org/2000/svg\" xmlns:xlink=\"http://www.w3.org/1999/xlink\">\n",
       "<g id=\"graph0\" class=\"graph\" transform=\"scale(1 1) rotate(0) translate(4 358.3919)\">\n",
       "<title>%3</title>\n",
       "<polygon fill=\"#ffffff\" stroke=\"transparent\" points=\"-4,4 -4,-358.3919 596,-358.3919 596,4 -4,4\"/>\n",
       "<g id=\"clust2\" class=\"cluster\">\n",
       "<title>cluster_ousterhout</title>\n",
       "<polygon fill=\"none\" stroke=\"#000000\" points=\"8,-93.598 8,-185.196 312,-185.196 312,-93.598 8,-93.598\"/>\n",
       "<text text-anchor=\"middle\" x=\"160\" y=\"-169.996\" font-family=\"Times,serif\" font-size=\"14.00\" fill=\"#000000\">ousterhout&#39;s</text>\n",
       "<text text-anchor=\"middle\" x=\"160\" y=\"-155.996\" font-family=\"Times,serif\" font-size=\"14.00\" fill=\"#000000\">dichotomy</text>\n",
       "</g>\n",
       "<g id=\"clust3\" class=\"cluster\">\n",
       "<title>cluster_narrative</title>\n",
       "<polygon fill=\"none\" stroke=\"#000000\" points=\"224,-193.196 224,-346.3919 364,-346.3919 364,-193.196 224,-193.196\"/>\n",
       "<text text-anchor=\"middle\" x=\"294\" y=\"-331.1919\" font-family=\"Times,serif\" font-size=\"14.00\" fill=\"#000000\">document</text>\n",
       "</g>\n",
       "<g id=\"clust4\" class=\"cluster\">\n",
       "<title>cluster_types</title>\n",
       "<polygon fill=\"none\" stroke=\"#000000\" points=\"209,-8 209,-85.598 445,-85.598 445,-8 209,-8\"/>\n",
       "<text text-anchor=\"middle\" x=\"327\" y=\"-70.398\" font-family=\"Times,serif\" font-size=\"14.00\" fill=\"#000000\">types</text>\n",
       "</g>\n",
       "<g id=\"clust5\" class=\"cluster\">\n",
       "<title>cluster_literate</title>\n",
       "<polygon fill=\"none\" stroke=\"#000000\" points=\"320,-93.598 320,-171.196 584,-171.196 584,-93.598 320,-93.598\"/>\n",
       "<text text-anchor=\"middle\" x=\"452\" y=\"-155.996\" font-family=\"Times,serif\" font-size=\"14.00\" fill=\"#000000\">language</text>\n",
       "</g>\n",
       "<!-- narrative -->\n",
       "<g id=\"node1\" class=\"node\">\n",
       "<title>narrative</title>\n",
       "<ellipse fill=\"none\" stroke=\"#000000\" stroke-width=\"0\" cx=\"294\" cy=\"-296.5929\" rx=\"61.6278\" ry=\"19.6\"/>\n",
       "<text text-anchor=\"middle\" x=\"294\" y=\"-290.5929\" font-family=\"Times,serif\" font-size=\"20.00\" fill=\"#000000\">narrative</text>\n",
       "</g>\n",
       "<!-- program -->\n",
       "<g id=\"node2\" class=\"node\">\n",
       "<title>program</title>\n",
       "<ellipse fill=\"none\" stroke=\"#000000\" stroke-width=\"0\" cx=\"292\" cy=\"-220.9949\" rx=\"59.4468\" ry=\"19.6\"/>\n",
       "<text text-anchor=\"middle\" x=\"292\" y=\"-214.9949\" font-family=\"Times,serif\" font-size=\"20.00\" fill=\"#000000\">program</text>\n",
       "</g>\n",
       "<!-- narrative&#45;&gt;program -->\n",
       "<g id=\"edge1\" class=\"edge\">\n",
       "<title>narrative&#45;&gt;program</title>\n",
       "<polygon fill=\"#000000\" stroke=\"transparent\" stroke-width=\"5\" points=\"295.9736,-276.6643 295.8267,-275.482 295.6775,-274.281 295.5261,-273.0628 295.3727,-271.8288 295.2176,-270.5804 295.0609,-269.3192 294.9027,-268.0463 294.7433,-266.7634 294.5828,-265.4718 294.4213,-264.173 294.2592,-262.8683 294.0965,-261.5591 293.9335,-260.247 293.7702,-258.9332 293.6069,-257.6193 293.4438,-256.3066 293.281,-254.9966 293.1187,-253.6907 292.9571,-252.3903 292.7964,-251.0968 292.7964,-251.0968 292.7042,-252.397 292.6116,-253.7041 292.5186,-255.0168 292.4253,-256.3336 292.3318,-257.653 292.2382,-258.9737 292.1447,-260.2943 292.0512,-261.6132 291.958,-262.9291 291.8651,-264.2406 291.7725,-265.5462 291.6806,-266.8445 291.5892,-268.134 291.4985,-269.4134 291.4087,-270.6812 291.3198,-271.936 291.2319,-273.1764 291.1451,-274.4009 291.0596,-275.6081 290.9754,-276.7966 295.9736,-276.6643\"/>\n",
       "<polygon fill=\"#000000\" stroke=\"#000000\" stroke-width=\"5\" points=\"297.1669,-250.868 292.5289,-240.9872 288.42,-251.0995 297.1669,-250.868\"/>\n",
       "</g>\n",
       "<!-- human -->\n",
       "<g id=\"node7\" class=\"node\">\n",
       "<title>human</title>\n",
       "<ellipse fill=\"none\" stroke=\"#000000\" stroke-width=\"0\" cx=\"526\" cy=\"-121.397\" rx=\"49.6089\" ry=\"19.6\"/>\n",
       "<text text-anchor=\"middle\" x=\"526\" y=\"-115.397\" font-family=\"Times,serif\" font-size=\"20.00\" fill=\"#000000\">human</text>\n",
       "</g>\n",
       "<!-- narrative&#45;&gt;human -->\n",
       "<g id=\"edge6\" class=\"edge\">\n",
       "<title>narrative&#45;&gt;human</title>\n",
       "<polygon fill=\"#000000\" stroke=\"transparent\" stroke-width=\"5\" points=\"326.8505,-281.6464 332.3914,-278.436 338.2625,-274.9958 344.4305,-271.3386 350.8671,-267.4744 357.5443,-263.4132 364.4337,-259.165 371.5073,-254.7397 378.7367,-250.1473 386.0939,-245.3979 393.5505,-240.5014 401.0785,-235.4678 408.6495,-230.3071 416.2353,-225.0293 423.8077,-219.6445 431.3385,-214.1625 438.7994,-208.5935 446.1623,-202.9475 453.3987,-197.2344 460.4805,-191.4645 467.3786,-185.6483 469.3556,-183.9293 471.3285,-182.1722 473.296,-180.3801 475.2561,-178.5565 477.2071,-176.7051 479.147,-174.8294 481.0739,-172.9331 482.9859,-171.0197 484.8812,-169.0928 486.7577,-167.156 488.6136,-165.213 490.447,-163.2672 492.2559,-161.3224 494.0385,-159.3822 495.7927,-157.45 497.5168,-155.5297 499.2087,-153.6246 500.8665,-151.7385 502.4883,-149.875 504.0722,-148.0376 504.0722,-148.0376 502.4475,-149.8389 500.7846,-151.6652 499.0853,-153.5131 497.3518,-155.3789 495.586,-157.2591 493.79,-159.1501 491.9659,-161.0482 490.1157,-162.95 488.2413,-164.8518 486.345,-166.7499 484.4286,-168.641 482.4943,-170.5212 480.5441,-172.3871 478.5801,-174.2351 476.6042,-176.0614 474.6187,-177.8627 472.6255,-179.6352 470.6268,-181.3753 468.6245,-183.0795 466.6214,-184.7437 459.6105,-190.3906 452.4198,-195.9855 445.0768,-201.5197 437.6098,-206.9839 430.0471,-212.3688 422.417,-217.6651 414.7478,-222.8635 407.068,-227.9547 399.4058,-232.9294 391.7896,-237.7781 384.2478,-242.4917 376.8086,-247.0608 369.5006,-251.476 362.352,-255.728 355.3912,-259.8074 348.6466,-263.705 342.1466,-267.4113 335.9195,-270.917 329.9937,-274.2128 324.3926,-277.2922 326.8505,-281.6464\"/>\n",
       "<polygon fill=\"#000000\" stroke=\"#000000\" stroke-width=\"5\" points=\"507.3883,-150.8914 510.6013,-140.4597 500.7594,-145.1799 507.3883,-150.8914\"/>\n",
       "</g>\n",
       "<!-- application -->\n",
       "<g id=\"node3\" class=\"node\">\n",
       "<title>application</title>\n",
       "<ellipse fill=\"none\" stroke=\"#000000\" stroke-width=\"0\" cx=\"90\" cy=\"-121.397\" rx=\"74.2911\" ry=\"19.6\"/>\n",
       "<text text-anchor=\"middle\" x=\"90\" y=\"-115.397\" font-family=\"Times,serif\" font-size=\"20.00\" fill=\"#000000\">application</text>\n",
       "</g>\n",
       "<!-- program&#45;&gt;application -->\n",
       "<g id=\"edge2\" class=\"edge\">\n",
       "<title>program&#45;&gt;application</title>\n",
       "<polygon fill=\"#000000\" stroke=\"transparent\" stroke-width=\"5\" points=\"242.749,-207.8833 239.4281,-207.0594 236.0649,-206.2012 232.6576,-205.3063 229.2118,-204.3743 225.7332,-203.4048 222.2278,-202.3976 218.7012,-201.3522 215.1591,-200.2683 211.6074,-199.1457 208.0518,-197.9838 204.498,-196.7824 200.9517,-195.5412 197.4188,-194.2598 193.905,-192.9378 190.416,-191.5749 186.9575,-190.1708 183.5354,-188.7252 180.1552,-187.2376 176.8229,-185.7078 173.5442,-184.1355 170.5607,-182.6371 167.5771,-181.0699 164.5964,-179.4389 161.6225,-177.7493 158.6591,-176.0063 155.71,-174.2152 152.7788,-172.3812 149.8692,-170.5096 146.9849,-168.6056 144.1296,-166.6745 141.3068,-164.7215 138.5202,-162.7519 135.7734,-160.7709 133.07,-158.7837 130.4137,-156.7955 127.808,-154.8117 125.2565,-152.8375 122.7628,-150.878 120.3305,-148.9385 117.9631,-147.0243 117.9631,-147.0243 120.2613,-149.0216 122.6241,-151.047 125.0482,-153.0951 127.5303,-155.1606 130.067,-157.2382 132.6552,-159.3227 135.2914,-161.4087 137.9724,-163.4909 140.695,-165.5641 143.4558,-167.6229 146.2516,-169.662 149.0791,-171.6762 151.9351,-173.6602 154.8164,-175.6086 157.7197,-177.5162 160.6419,-179.3777 163.5798,-181.1878 166.5303,-182.9412 169.4902,-184.6326 172.4558,-186.2564 175.7145,-187.964 179.0279,-189.6301 182.3905,-191.2548 185.7964,-192.8384 189.2399,-194.381 192.7152,-195.8828 196.2164,-197.3439 199.7378,-198.7646 203.2736,-200.145 206.8181,-201.4852 210.3654,-202.7855 213.9098,-204.046 217.4455,-205.2668 220.9667,-206.4481 224.4677,-207.5901 227.9426,-208.693 231.3858,-209.7568 234.7914,-210.7819 238.1536,-211.7682 241.459,-212.714 242.749,-207.8833\"/>\n",
       "<polygon fill=\"#000000\" stroke=\"#000000\" stroke-width=\"5\" points=\"120.8164,-143.7078 110.3864,-140.4898 115.1017,-150.3339 120.8164,-143.7078\"/>\n",
       "</g>\n",
       "<!-- scripting -->\n",
       "<g id=\"node4\" class=\"node\">\n",
       "<title>scripting</title>\n",
       "<ellipse fill=\"none\" stroke=\"#000000\" stroke-width=\"0\" cx=\"243\" cy=\"-121.397\" rx=\"60.6092\" ry=\"19.6\"/>\n",
       "<text text-anchor=\"middle\" x=\"243\" y=\"-115.397\" font-family=\"Times,serif\" font-size=\"20.00\" fill=\"#000000\">scripting</text>\n",
       "</g>\n",
       "<!-- program&#45;&gt;scripting -->\n",
       "<g id=\"edge3\" class=\"edge\">\n",
       "<title>program&#45;&gt;scripting</title>\n",
       "<polygon fill=\"#000000\" stroke=\"transparent\" stroke-width=\"5\" points=\"284.5624,-200.214 283.3676,-198.0324 282.132,-195.7764 280.8595,-193.4528 279.5536,-191.0684 278.2182,-188.6301 276.8569,-186.1445 275.4734,-183.6185 274.0716,-181.0589 272.655,-178.4724 271.2275,-175.8659 269.7927,-173.2461 268.3544,-170.6198 266.9162,-167.9939 265.4819,-165.375 264.0553,-162.7701 262.6399,-160.1858 261.2396,-157.6291 259.8581,-155.1065 258.4991,-152.6251 257.1663,-150.1915 257.1663,-150.1915 258.2808,-152.7325 259.4173,-155.3234 260.5726,-157.9572 261.7436,-160.6268 262.9271,-163.3251 264.1201,-166.045 265.3195,-168.7794 266.5222,-171.5212 267.725,-174.2633 268.9248,-176.9987 270.1186,-179.7203 271.3031,-182.4209 272.4754,-185.0934 273.6323,-187.7309 274.7707,-190.3262 275.8874,-192.8721 276.9794,-195.3617 278.0436,-197.7878 279.0768,-200.1433 280.076,-202.4212 284.5624,-200.214\"/>\n",
       "<polygon fill=\"#000000\" stroke=\"#000000\" stroke-width=\"5\" points=\"261.0009,-148.075 252.6607,-141.0334 253.1496,-151.9377 261.0009,-148.075\"/>\n",
       "</g>\n",
       "<!-- computer -->\n",
       "<g id=\"node8\" class=\"node\">\n",
       "<title>computer</title>\n",
       "<ellipse fill=\"none\" stroke=\"#000000\" stroke-width=\"0\" cx=\"393\" cy=\"-121.397\" rx=\"64.94\" ry=\"19.6\"/>\n",
       "<text text-anchor=\"middle\" x=\"393\" y=\"-115.397\" font-family=\"Times,serif\" font-size=\"20.00\" fill=\"#000000\">computer</text>\n",
       "</g>\n",
       "<!-- program&#45;&gt;computer -->\n",
       "<g id=\"edge8\" class=\"edge\">\n",
       "<title>program&#45;&gt;computer</title>\n",
       "<polygon fill=\"#000000\" stroke=\"transparent\" stroke-width=\"5\" points=\"313.2292,-203.5715 315.5257,-201.1542 317.9068,-198.648 320.3643,-196.0613 322.8903,-193.4025 325.4766,-190.6801 328.1154,-187.9026 330.7985,-185.0785 333.5178,-182.2161 336.2655,-179.324 339.0334,-176.4105 341.8135,-173.4843 344.5977,-170.5536 347.3781,-167.627 350.1466,-164.713 352.8952,-161.8199 355.6158,-158.9563 358.3003,-156.1305 360.9409,-153.3511 363.5294,-150.6266 366.0577,-147.9652 366.0577,-147.9652 363.3613,-150.4562 360.6008,-153.0063 357.7848,-155.6077 354.9218,-158.2526 352.0205,-160.9329 349.0892,-163.6407 346.1368,-166.3682 343.1716,-169.1074 340.2023,-171.8504 337.2375,-174.5893 334.2856,-177.3162 331.3554,-180.0232 328.4553,-182.7023 325.5939,-185.3457 322.7798,-187.9453 320.0216,-190.4934 317.3277,-192.9819 314.7069,-195.4031 312.1676,-197.7489 309.7184,-200.0114 313.2292,-203.5715\"/>\n",
       "<polygon fill=\"#000000\" stroke=\"#000000\" stroke-width=\"5\" points=\"369.5375,-150.6782 373.586,-140.5415 363.3937,-144.4479 369.5375,-150.6782\"/>\n",
       "</g>\n",
       "<!-- static -->\n",
       "<g id=\"node5\" class=\"node\">\n",
       "<title>static</title>\n",
       "<ellipse fill=\"none\" stroke=\"#000000\" stroke-width=\"0\" cx=\"258\" cy=\"-35.799\" rx=\"41.3178\" ry=\"19.6\"/>\n",
       "<text text-anchor=\"middle\" x=\"258\" y=\"-29.799\" font-family=\"Times,serif\" font-size=\"20.00\" fill=\"#000000\">static</text>\n",
       "</g>\n",
       "<!-- application&#45;&gt;static -->\n",
       "<g id=\"edge5\" class=\"edge\">\n",
       "<title>application&#45;&gt;static</title>\n",
       "<polygon fill=\"#000000\" stroke=\"transparent\" stroke-width=\"5\" points=\"125.9447,-105.8885 130.1587,-103.6162 134.5223,-101.2633 139.0194,-98.8383 143.634,-96.35 148.35,-93.807 153.1516,-91.2179 158.0225,-88.5913 162.9469,-85.936 167.9086,-83.2605 172.8917,-80.5735 177.8801,-77.8836 182.8579,-75.1995 187.8089,-72.5298 192.7171,-69.8831 197.5666,-67.2681 202.3413,-64.6935 207.0252,-62.1678 211.6022,-59.6998 216.0564,-57.298 220.3717,-54.9711 220.3717,-54.9711 215.9526,-57.0944 211.3914,-59.286 206.7044,-61.5381 201.9079,-63.8428 197.0184,-66.1922 192.0523,-68.5784 187.0261,-70.9935 181.9561,-73.4296 176.8587,-75.8788 171.7504,-78.3334 166.6475,-80.7853 161.5665,-83.2267 156.5237,-85.6497 151.5357,-88.0464 146.6187,-90.409 141.7893,-92.7295 137.0638,-95.0001 132.4585,-97.2129 127.9901,-99.36 123.6748,-101.4335 125.9447,-105.8885\"/>\n",
       "<polygon fill=\"#000000\" stroke=\"#000000\" stroke-width=\"5\" points=\"222.7182,-58.6857 229.6421,-50.2477 218.7458,-50.8893 222.7182,-58.6857\"/>\n",
       "</g>\n",
       "<!-- dynamic -->\n",
       "<g id=\"node6\" class=\"node\">\n",
       "<title>dynamic</title>\n",
       "<ellipse fill=\"none\" stroke=\"#000000\" stroke-width=\"0\" cx=\"377\" cy=\"-35.799\" rx=\"60.0203\" ry=\"19.6\"/>\n",
       "<text text-anchor=\"middle\" x=\"377\" y=\"-29.799\" font-family=\"Times,serif\" font-size=\"20.00\" fill=\"#000000\">dynamic</text>\n",
       "</g>\n",
       "<!-- scripting&#45;&gt;dynamic -->\n",
       "<g id=\"edge4\" class=\"edge\">\n",
       "<title>scripting&#45;&gt;dynamic</title>\n",
       "<polygon fill=\"#000000\" stroke=\"transparent\" stroke-width=\"5\" points=\"276.7177,-106.6894 278.28,-105.7733 279.8589,-104.8429 281.4503,-103.9002 283.0526,-102.9461 284.6639,-101.9813 286.2825,-101.0065 287.9067,-100.0225 289.5347,-99.0302 291.1647,-98.0302 292.795,-97.0233 294.4238,-96.0104 296.0494,-94.9921 297.6699,-93.9692 299.2838,-92.9426 300.8891,-91.9129 302.4842,-90.881 304.0672,-89.8476 305.6365,-88.8134 307.1903,-87.7793 308.7267,-86.746 310.5521,-85.5049 312.3859,-84.2445 314.2264,-82.9666 316.0718,-81.6731 317.9204,-80.3655 319.7706,-79.0456 321.6205,-77.7151 323.4684,-76.3758 325.3126,-75.0293 327.1513,-73.6773 328.9829,-72.3216 330.8055,-70.9639 332.6175,-69.606 334.417,-68.2495 336.2023,-66.8961 337.9718,-65.5477 339.7235,-64.2059 341.4558,-62.8724 343.1669,-61.549 344.8551,-60.2374 344.8551,-60.2374 343.0906,-61.4441 341.3027,-62.661 339.4933,-63.8864 337.6643,-65.1189 335.8176,-66.3567 333.955,-67.5981 332.0784,-68.8416 330.1898,-70.0856 328.291,-71.3283 326.3839,-72.5682 324.4704,-73.8035 322.5524,-75.0328 320.6317,-76.2543 318.7103,-77.4665 316.7901,-78.6675 314.8729,-79.856 312.9608,-81.03 311.0555,-82.1881 309.1591,-83.3286 307.2733,-84.4499 305.6888,-85.3811 304.0868,-86.3123 302.4692,-87.2427 300.8378,-88.1716 299.1943,-89.0985 297.5406,-90.0226 295.8785,-90.9434 294.2098,-91.86 292.5362,-92.7719 290.8596,-93.6784 289.1817,-94.5789 287.5044,-95.4726 285.8295,-96.3589 284.1588,-97.2371 282.494,-98.1067 280.837,-98.9668 279.1895,-99.817 277.5535,-100.6564 275.9306,-101.4844 274.3203,-102.3016 276.7177,-106.6894\"/>\n",
       "<polygon fill=\"#000000\" stroke=\"#000000\" stroke-width=\"5\" points=\"347.7857,-63.5118 353.2293,-54.051 342.5865,-56.474 347.7857,-63.5118\"/>\n",
       "</g>\n",
       "<!-- human&#45;&gt;dynamic -->\n",
       "<g id=\"edge7\" class=\"edge\">\n",
       "<title>human&#45;&gt;dynamic</title>\n",
       "<polygon fill=\"#000000\" stroke=\"transparent\" stroke-width=\"5\" points=\"498.8689,-102.9274 495.2651,-100.9822 491.5248,-98.9633 487.6611,-96.8777 483.687,-94.7325 479.6156,-92.5349 475.4602,-90.2919 471.2337,-88.0105 466.9493,-85.6979 462.6201,-83.3611 458.2592,-81.0072 453.8797,-78.6432 449.4947,-76.2763 445.1173,-73.9135 440.7607,-71.5618 436.4379,-69.2285 432.162,-66.9204 427.9461,-64.6448 423.8035,-62.4087 419.7471,-60.2191 415.79,-58.0832 415.79,-58.0832 419.6284,-60.4256 423.5632,-62.8269 427.5817,-65.2792 431.6712,-67.7748 435.8188,-70.306 440.0121,-72.8649 444.2381,-75.4439 448.4842,-78.0352 452.7378,-80.6309 456.986,-83.2234 461.2161,-85.8049 465.4156,-88.3677 469.5715,-90.9039 473.6713,-93.4058 477.7022,-95.8657 481.6514,-98.2758 485.5064,-100.6283 489.2543,-102.9155 492.8825,-105.1296 496.3782,-107.2629 498.8689,-102.9274\"/>\n",
       "<polygon fill=\"#000000\" stroke=\"#000000\" stroke-width=\"5\" points=\"417.911,-54.2561 407.0606,-53.0683 413.5523,-61.8433 417.911,-54.2561\"/>\n",
       "</g>\n",
       "<!-- computer&#45;&gt;static -->\n",
       "<g id=\"edge9\" class=\"edge\">\n",
       "<title>computer&#45;&gt;static</title>\n",
       "<polygon fill=\"#000000\" stroke=\"transparent\" stroke-width=\"5\" points=\"349.9291,-104.2959 347.8482,-103.5151 345.7606,-102.7159 343.6613,-101.8951 341.5529,-101.0528 339.4377,-100.1891 337.3183,-99.3039 335.1973,-98.3974 333.0771,-97.4696 330.9603,-96.5204 328.8493,-95.55 326.7467,-94.5584 324.655,-93.5457 322.5766,-92.5118 320.5142,-91.4568 318.4701,-90.3807 316.4468,-89.2836 314.447,-88.1655 312.473,-87.0264 310.5273,-85.8664 308.6124,-84.6854 307.126,-83.7362 305.6427,-82.7564 304.1633,-81.7479 302.689,-80.7125 301.2208,-79.6522 299.7597,-78.5688 298.3067,-77.4642 296.863,-76.3404 295.4295,-75.1991 294.0071,-74.0424 292.597,-72.8722 291.2,-71.6902 289.8173,-70.4984 288.4497,-69.2988 287.0982,-68.0931 285.7639,-66.8833 284.4476,-65.6713 283.1504,-64.459 281.8733,-63.2482 280.6171,-62.0408 280.6171,-62.0408 281.7979,-63.3225 283,-64.6094 284.2226,-65.8996 285.4648,-67.1913 286.7259,-68.4826 288.0052,-69.7715 289.3017,-71.0561 290.6148,-72.3347 291.9437,-73.6052 293.2876,-74.8658 294.6457,-76.1146 296.0173,-77.3497 297.4017,-78.5692 298.7981,-79.7713 300.2057,-80.9539 301.6239,-82.1153 303.0518,-83.2536 304.4889,-84.3668 305.9345,-85.4532 307.3876,-86.5105 309.2557,-87.8255 311.1564,-89.1213 313.0871,-90.3976 315.0453,-91.6542 317.0284,-92.8909 319.0339,-94.1075 321.0592,-95.3038 323.1018,-96.4797 325.1592,-97.6349 327.2287,-98.7693 329.3079,-99.8826 331.3943,-100.9747 333.4852,-102.0454 335.5783,-103.0945 337.6708,-104.1218 339.7604,-105.1271 341.8445,-106.1102 343.9205,-107.0709 345.986,-108.0091 348.0308,-108.9215 349.9291,-104.2959\"/>\n",
       "<polygon fill=\"#000000\" stroke=\"#000000\" stroke-width=\"5\" points=\"283.6998,-58.9323 273.6692,-54.6279 277.3156,-64.916 283.6998,-58.9323\"/>\n",
       "</g>\n",
       "</g>\n",
       "</svg>\n"
      ],
      "text/plain": [
       "<graphviz.files.Source at 0x1231c9518>"
      ]
     },
     "execution_count": 267,
     "metadata": {},
     "output_type": "execute_result"
    }
   ],
   "source": [
    "    \n",
    "    λ['graphviz.Source'](\"\"\"digraph {\n",
    "        layout=dot\n",
    "        node[penwidth=0 fontsize=20]\n",
    "        edge[style=tapered penwidth=5]\n",
    "        narrative->program -> {application scripting}\n",
    "        subgraph cluster_ousterhout {scripting application label=\"ousterhout's\\ndichotomy\"}\n",
    "        subgraph cluster_narrative {narrative program label=document}\n",
    "        subgraph cluster_types {static dynamic label=types}\n",
    "        scripting->dynamic\n",
    "        application->static\n",
    "        narrative-> human -> dynamic\n",
    "        program -> computer -> static\n",
    "        subgraph cluster_literate {human computer label=\"language\"}\n",
    "        }\"\"\")"
   ]
  },
  {
   "cell_type": "code",
   "execution_count": 273,
   "metadata": {
    "jupyter": {
     "source_hidden": true
    }
   },
   "outputs": [
    {
     "data": {
      "text/markdown": [
       "### There are static and dynamic media\n",
       "\n",
       "### I'm a modern scientist\n",
       "## I draw in `notebook`s\n",
       "# I program in `notebook`s"
      ],
      "text/plain": [
       "### There are static and dynamic media\n",
       "\n",
       "### I'm a modern scientist\n",
       "## I draw in `notebook`s\n",
       "# I program in `notebook`s"
      ]
     },
     "metadata": {},
     "output_type": "display_data"
    }
   ],
   "source": [
    "### There are static and dynamic media\n",
    "\n",
    "### I'm a modern scientist\n",
    "## I draw in `notebook`s\n",
    "# I program in `notebook`s"
   ]
  },
  {
   "cell_type": "code",
   "execution_count": 274,
   "metadata": {
    "jupyter": {
     "source_hidden": true
    }
   },
   "outputs": [
    {
     "data": {
      "text/markdown": [
       "# Modern `notebook`s\n",
       "### multi-<i><ins>hyper</ins></i>media literate documents \n",
       "\n",
       "## Modern computational `notebook`s represent C@𝔏𝔏👁𝓖ⓇⒶ𝔐s.  \n",
       "> ### 🎗🎗🎗\n",
       "\n",
       "##### C@𝔏𝔏👁𝓖ⓇⒶ𝔐s\n",
       "\n",
       "* # augment[ing] the alphabet.\n",
       "* ## repeat[ing] something without the aid of rhetoric.\n",
       "* ### trap[ping] things into a double cipher."
      ],
      "text/plain": [
       "# Modern `notebook`s\n",
       "### multi-<i><ins>hyper</ins></i>media literate documents \n",
       "\n",
       "## Modern computational `notebook`s represent {{calligram}}s.  \n",
       "> ### 🎗🎗🎗\n",
       "\n",
       "##### {{calligram}}s\n",
       "\n",
       "* # augment[ing] the alphabet.\n",
       "* ## repeat[ing] something without the aid of rhetoric.\n",
       "* ### trap[ping] things into a double cipher."
      ]
     },
     "metadata": {},
     "output_type": "display_data"
    }
   ],
   "source": [
    "# Modern `notebook`s\n",
    "### multi-<i><ins>hyper</ins></i>media literate documents \n",
    "\n",
    "## Modern computational `notebook`s represent {{calligram}}s.  \n",
    "> ### 🎗🎗🎗\n",
    "\n",
    "##### {{calligram}}s\n",
    "\n",
    "* # augment[ing] the alphabet.\n",
    "* ## repeat[ing] something without the aid of rhetoric.\n",
    "* ### trap[ping] things into a double cipher."
   ]
  },
  {
   "cell_type": "code",
   "execution_count": 216,
   "metadata": {},
   "outputs": [],
   "source": [
    "    \n",
    "Load a bunch of gist into a dataframe.\n",
    "    \n",
    "    gists = λ(1).range().map(λ[\"https://api.github.com/users/tonyfast/gists?page={}\".format]['requests.get'].methodcaller('json').frame())[list]['pandas.concat'](20).set_index('id')\n",
    "    t = [x for x in gists.columns if x.endswith('_at')]; gists[t] = gists[t].apply(λ['pandas.to_datetime']); del t\n",
    "    files = gists.files.apply(dict.values).apply(list).apply(pandas.Series).stack().apply(pandas.Series).join(gists)\n",
    "\n",
    "# Annual documents count.\n",
    "    \n",
    "    plot = None; years = files.set_index('created_at').groupby([λ['pandas.Grouper'](freq='Y'), 'language']).filename.count().unstack().fillna(0)\n",
    "    for i in reversed(years.index):\n",
    "        if plot is None: plot = years.loc[i].rename('count').hvplot.bar(grid=True, title=str(i.year)).opts(width=300)\n",
    "        else: plot = plot + years.loc[i].rename('count').hvplot.bar(grid=True, title=str(i.year)).opts(width=300)"
   ]
  },
  {
   "cell_type": "code",
   "execution_count": 218,
   "metadata": {
    "jupyter": {
     "source_hidden": true
    }
   },
   "outputs": [
    {
     "data": {
      "application/vnd.holoviews_exec.v0+json": "",
      "text/html": [
       "<div id='13200' style='display: table; margin: 0 auto;'>\n",
       "\n",
       "\n",
       "\n",
       "\n",
       "\n",
       "  <div class=\"bk-root\" id=\"89910eb0-794b-4193-8e7f-60346b712757\" data-root-id=\"13200\"></div>\n",
       "</div>\n",
       "<script type=\"application/javascript\">(function(root) {\n",
       "  function embed_document(root) {\n",
       "    \n",
       "  var docs_json = {\"e5bcd8f5-ecd6-4a5d-b586-8a3da28161a2\":{\"roots\":{\"references\":[{\"attributes\":{\"align\":null,\"below\":[{\"id\":\"13209\",\"type\":\"CategoricalAxis\"}],\"center\":[{\"id\":\"13212\",\"type\":\"Grid\"},{\"id\":\"13217\",\"type\":\"Grid\"},{\"id\":\"13245\",\"type\":\"Legend\"}],\"left\":[{\"id\":\"13213\",\"type\":\"LinearAxis\"}],\"margin\":null,\"min_border_bottom\":10,\"min_border_left\":10,\"min_border_right\":10,\"min_border_top\":10,\"plot_height\":300,\"plot_width\":900,\"renderers\":[{\"id\":\"13237\",\"type\":\"GlyphRenderer\"}],\"right\":[{\"id\":\"13245\",\"type\":\"Legend\"}],\"sizing_mode\":\"fixed\",\"title\":{\"id\":\"13201\",\"type\":\"Title\"},\"toolbar\":{\"id\":\"13223\",\"type\":\"Toolbar\"},\"x_range\":{\"id\":\"13197\",\"type\":\"FactorRange\"},\"x_scale\":{\"id\":\"13205\",\"type\":\"CategoricalScale\"},\"y_range\":{\"id\":\"13198\",\"type\":\"Range1d\"},\"y_scale\":{\"id\":\"13207\",\"type\":\"LinearScale\"}},\"id\":\"13200\",\"subtype\":\"Figure\",\"type\":\"Plot\"},{\"attributes\":{\"active_drag\":\"auto\",\"active_inspect\":\"auto\",\"active_multi\":null,\"active_scroll\":\"auto\",\"active_tap\":\"auto\",\"tools\":[{\"id\":\"13199\",\"type\":\"HoverTool\"},{\"id\":\"13218\",\"type\":\"SaveTool\"},{\"id\":\"13219\",\"type\":\"PanTool\"},{\"id\":\"13220\",\"type\":\"WheelZoomTool\"},{\"id\":\"13221\",\"type\":\"BoxZoomTool\"},{\"id\":\"13222\",\"type\":\"ResetTool\"}]},\"id\":\"13223\",\"type\":\"Toolbar\"},{\"attributes\":{},\"id\":\"13222\",\"type\":\"ResetTool\"},{\"attributes\":{\"dimension\":1,\"ticker\":{\"id\":\"13214\",\"type\":\"BasicTicker\"}},\"id\":\"13217\",\"type\":\"Grid\"},{\"attributes\":{\"axis_label\":\"created_at\",\"bounds\":\"auto\",\"formatter\":{\"id\":\"13241\",\"type\":\"CategoricalTickFormatter\"},\"major_label_orientation\":\"horizontal\",\"ticker\":{\"id\":\"13210\",\"type\":\"CategoricalTicker\"}},\"id\":\"13209\",\"type\":\"CategoricalAxis\"},{\"attributes\":{\"source\":{\"id\":\"13231\",\"type\":\"ColumnDataSource\"}},\"id\":\"13238\",\"type\":\"CDSView\"},{\"attributes\":{},\"id\":\"13218\",\"type\":\"SaveTool\"},{\"attributes\":{\"callback\":null,\"factors\":[\"2015-03-31 00:00:00\",\"2015-04-30 00:00:00\",\"2015-05-31 00:00:00\",\"2015-06-30 00:00:00\",\"2015-07-31 00:00:00\",\"2015-08-31 00:00:00\",\"2015-09-30 00:00:00\",\"2015-10-31 00:00:00\",\"2015-11-30 00:00:00\",\"2015-12-31 00:00:00\",\"2016-01-31 00:00:00\",\"2016-02-29 00:00:00\",\"2016-03-31 00:00:00\",\"2016-04-30 00:00:00\",\"2016-05-31 00:00:00\",\"2016-06-30 00:00:00\",\"2016-07-31 00:00:00\",\"2016-08-31 00:00:00\",\"2016-09-30 00:00:00\",\"2016-10-31 00:00:00\",\"2016-11-30 00:00:00\",\"2016-12-31 00:00:00\",\"2017-01-31 00:00:00\",\"2017-02-28 00:00:00\",\"2017-03-31 00:00:00\",\"2017-04-30 00:00:00\",\"2017-05-31 00:00:00\",\"2017-06-30 00:00:00\",\"2017-07-31 00:00:00\",\"2017-08-31 00:00:00\",\"2017-09-30 00:00:00\",\"2017-10-31 00:00:00\",\"2017-11-30 00:00:00\",\"2017-12-31 00:00:00\",\"2018-01-31 00:00:00\",\"2018-02-28 00:00:00\",\"2018-03-31 00:00:00\",\"2018-04-30 00:00:00\",\"2018-05-31 00:00:00\",\"2018-06-30 00:00:00\",\"2018-07-31 00:00:00\",\"2018-08-31 00:00:00\",\"2018-10-31 00:00:00\",\"2018-11-30 00:00:00\",\"2018-12-31 00:00:00\",\"2019-01-31 00:00:00\",\"2019-02-28 00:00:00\",\"2019-03-31 00:00:00\",\"2019-04-30 00:00:00\",\"2019-05-31 00:00:00\",\"2019-06-30 00:00:00\",\"2019-07-31 00:00:00\",\"2019-08-31 00:00:00\",\"2019-09-30 00:00:00\",\"2019-10-31 00:00:00\",\"2019-11-30 00:00:00\"],\"tags\":[[[\"created_at\",\"created_at\",null]]]},\"id\":\"13197\",\"type\":\"FactorRange\"},{\"attributes\":{\"text\":\"\",\"text_color\":{\"value\":\"black\"},\"text_font_size\":{\"value\":\"12pt\"}},\"id\":\"13201\",\"type\":\"Title\"},{\"attributes\":{\"bottom_units\":\"screen\",\"fill_alpha\":{\"value\":0.5},\"fill_color\":{\"value\":\"lightgrey\"},\"left_units\":\"screen\",\"level\":\"overlay\",\"line_alpha\":{\"value\":1.0},\"line_color\":{\"value\":\"black\"},\"line_dash\":[4,4],\"line_width\":{\"value\":2},\"render_mode\":\"css\",\"right_units\":\"screen\",\"top_units\":\"screen\"},\"id\":\"13244\",\"type\":\"BoxAnnotation\"},{\"attributes\":{},\"id\":\"13258\",\"type\":\"UnionRenderers\"},{\"attributes\":{\"axis_label\":\"\",\"bounds\":\"auto\",\"formatter\":{\"id\":\"13243\",\"type\":\"BasicTickFormatter\"},\"major_label_orientation\":\"horizontal\",\"ticker\":{\"id\":\"13214\",\"type\":\"BasicTicker\"}},\"id\":\"13213\",\"type\":\"LinearAxis\"},{\"attributes\":{},\"id\":\"13243\",\"type\":\"BasicTickFormatter\"},{\"attributes\":{},\"id\":\"13219\",\"type\":\"PanTool\"},{\"attributes\":{\"bottom\":{\"field\":\"bottom\"},\"fill_alpha\":{\"value\":0.1},\"fill_color\":{\"field\":\"Variable\",\"transform\":{\"id\":\"13230\",\"type\":\"CategoricalColorMapper\"}},\"line_alpha\":{\"value\":0.1},\"line_color\":{\"value\":\"black\"},\"top\":{\"field\":\"top\"},\"width\":{\"value\":0.8},\"x\":{\"field\":\"created_at\"}},\"id\":\"13235\",\"type\":\"VBar\"},{\"attributes\":{\"factors\":[\"CSS\",\"CSV\",\"CoffeeScript\",\"Graphviz (DOT)\",\"HTML\",\"JSON\",\"JavaScript\",\"Jupyter Notebook\",\"Markdown\",\"Python\",\"SVG\",\"Smarty\",\"Text\",\"TypeScript\",\"XML\",\"YAML\"],\"palette\":[\"#1f77b3\",\"#ff7e0e\",\"#2ba02b\",\"#d62628\",\"#9367bc\",\"#8c564b\",\"#e277c1\",\"#7e7e7e\",\"#bcbc21\",\"#16bdcf\",\"#3a0182\",\"#004201\",\"#0fffa8\",\"#5d003f\",\"#bcbcff\",\"#d8afa1\"]},\"id\":\"13230\",\"type\":\"CategoricalColorMapper\"},{\"attributes\":{},\"id\":\"13207\",\"type\":\"LinearScale\"},{\"attributes\":{\"bottom\":{\"field\":\"bottom\"},\"fill_alpha\":{\"value\":0.2},\"fill_color\":{\"field\":\"Variable\",\"transform\":{\"id\":\"13230\",\"type\":\"CategoricalColorMapper\"}},\"line_alpha\":{\"value\":0.2},\"line_color\":{\"value\":\"black\"},\"top\":{\"field\":\"top\"},\"width\":{\"value\":0.8},\"x\":{\"field\":\"created_at\"}},\"id\":\"13236\",\"type\":\"VBar\"},{\"attributes\":{\"bottom\":{\"field\":\"bottom\"},\"fill_color\":{\"field\":\"Variable\",\"transform\":{\"id\":\"13230\",\"type\":\"CategoricalColorMapper\"}},\"top\":{\"field\":\"top\"},\"width\":{\"value\":0.8},\"x\":{\"field\":\"created_at\"}},\"id\":\"13234\",\"type\":\"VBar\"},{\"attributes\":{\"overlay\":{\"id\":\"13244\",\"type\":\"BoxAnnotation\"}},\"id\":\"13221\",\"type\":\"BoxZoomTool\"},{\"attributes\":{},\"id\":\"13220\",\"type\":\"WheelZoomTool\"},{\"attributes\":{},\"id\":\"13210\",\"type\":\"CategoricalTicker\"},{\"attributes\":{\"ticker\":{\"id\":\"13210\",\"type\":\"CategoricalTicker\"}},\"id\":\"13212\",\"type\":\"Grid\"},{\"attributes\":{\"callback\":null,\"end\":42.0,\"reset_end\":42.0,\"reset_start\":0.0,\"tags\":[[[\"value\",\"value\",null]]]},\"id\":\"13198\",\"type\":\"Range1d\"},{\"attributes\":{},\"id\":\"13241\",\"type\":\"CategoricalTickFormatter\"},{\"attributes\":{\"label\":{\"field\":\"Variable\"},\"renderers\":[{\"id\":\"13237\",\"type\":\"GlyphRenderer\"}]},\"id\":\"13246\",\"type\":\"LegendItem\"},{\"attributes\":{\"data_source\":{\"id\":\"13231\",\"type\":\"ColumnDataSource\"},\"glyph\":{\"id\":\"13234\",\"type\":\"VBar\"},\"hover_glyph\":null,\"muted_glyph\":{\"id\":\"13236\",\"type\":\"VBar\"},\"nonselection_glyph\":{\"id\":\"13235\",\"type\":\"VBar\"},\"selection_glyph\":null,\"view\":{\"id\":\"13238\",\"type\":\"CDSView\"}},\"id\":\"13237\",\"type\":\"GlyphRenderer\"},{\"attributes\":{},\"id\":\"13232\",\"type\":\"Selection\"},{\"attributes\":{},\"id\":\"13205\",\"type\":\"CategoricalScale\"},{\"attributes\":{\"callback\":null,\"data\":{\"Variable\":[\"CSS\",\"CSS\",\"CSS\",\"CSS\",\"CSS\",\"CSS\",\"CSS\",\"CSS\",\"CSS\",\"CSS\",\"CSS\",\"CSS\",\"CSS\",\"CSS\",\"CSS\",\"CSS\",\"CSS\",\"CSS\",\"CSS\",\"CSS\",\"CSS\",\"CSS\",\"CSS\",\"CSS\",\"CSS\",\"CSS\",\"CSS\",\"CSS\",\"CSS\",\"CSS\",\"CSS\",\"CSS\",\"CSS\",\"CSS\",\"CSS\",\"CSS\",\"CSS\",\"CSS\",\"CSS\",\"CSS\",\"CSS\",\"CSS\",\"CSS\",\"CSS\",\"CSS\",\"CSS\",\"CSS\",\"CSS\",\"CSS\",\"CSS\",\"CSS\",\"CSS\",\"CSS\",\"CSS\",\"CSS\",\"CSS\",\"CSV\",\"CSV\",\"CSV\",\"CSV\",\"CSV\",\"CSV\",\"CSV\",\"CSV\",\"CSV\",\"CSV\",\"CSV\",\"CSV\",\"CSV\",\"CSV\",\"CSV\",\"CSV\",\"CSV\",\"CSV\",\"CSV\",\"CSV\",\"CSV\",\"CSV\",\"CSV\",\"CSV\",\"CSV\",\"CSV\",\"CSV\",\"CSV\",\"CSV\",\"CSV\",\"CSV\",\"CSV\",\"CSV\",\"CSV\",\"CSV\",\"CSV\",\"CSV\",\"CSV\",\"CSV\",\"CSV\",\"CSV\",\"CSV\",\"CSV\",\"CSV\",\"CSV\",\"CSV\",\"CSV\",\"CSV\",\"CSV\",\"CSV\",\"CSV\",\"CSV\",\"CSV\",\"CSV\",\"CSV\",\"CSV\",\"CoffeeScript\",\"CoffeeScript\",\"CoffeeScript\",\"CoffeeScript\",\"CoffeeScript\",\"CoffeeScript\",\"CoffeeScript\",\"CoffeeScript\",\"CoffeeScript\",\"CoffeeScript\",\"CoffeeScript\",\"CoffeeScript\",\"CoffeeScript\",\"CoffeeScript\",\"CoffeeScript\",\"CoffeeScript\",\"CoffeeScript\",\"CoffeeScript\",\"CoffeeScript\",\"CoffeeScript\",\"CoffeeScript\",\"CoffeeScript\",\"CoffeeScript\",\"CoffeeScript\",\"CoffeeScript\",\"CoffeeScript\",\"CoffeeScript\",\"CoffeeScript\",\"CoffeeScript\",\"CoffeeScript\",\"CoffeeScript\",\"CoffeeScript\",\"CoffeeScript\",\"CoffeeScript\",\"CoffeeScript\",\"CoffeeScript\",\"CoffeeScript\",\"CoffeeScript\",\"CoffeeScript\",\"CoffeeScript\",\"CoffeeScript\",\"CoffeeScript\",\"CoffeeScript\",\"CoffeeScript\",\"CoffeeScript\",\"CoffeeScript\",\"CoffeeScript\",\"CoffeeScript\",\"CoffeeScript\",\"CoffeeScript\",\"CoffeeScript\",\"CoffeeScript\",\"CoffeeScript\",\"CoffeeScript\",\"CoffeeScript\",\"CoffeeScript\",\"Graphviz (DOT)\",\"Graphviz (DOT)\",\"Graphviz (DOT)\",\"Graphviz (DOT)\",\"Graphviz (DOT)\",\"Graphviz (DOT)\",\"Graphviz (DOT)\",\"Graphviz (DOT)\",\"Graphviz (DOT)\",\"Graphviz (DOT)\",\"Graphviz (DOT)\",\"Graphviz (DOT)\",\"Graphviz (DOT)\",\"Graphviz (DOT)\",\"Graphviz (DOT)\",\"Graphviz (DOT)\",\"Graphviz (DOT)\",\"Graphviz (DOT)\",\"Graphviz (DOT)\",\"Graphviz (DOT)\",\"Graphviz (DOT)\",\"Graphviz (DOT)\",\"Graphviz (DOT)\",\"Graphviz (DOT)\",\"Graphviz (DOT)\",\"Graphviz (DOT)\",\"Graphviz (DOT)\",\"Graphviz (DOT)\",\"Graphviz (DOT)\",\"Graphviz (DOT)\",\"Graphviz (DOT)\",\"Graphviz (DOT)\",\"Graphviz (DOT)\",\"Graphviz (DOT)\",\"Graphviz (DOT)\",\"Graphviz (DOT)\",\"Graphviz (DOT)\",\"Graphviz (DOT)\",\"Graphviz (DOT)\",\"Graphviz (DOT)\",\"Graphviz (DOT)\",\"Graphviz (DOT)\",\"Graphviz (DOT)\",\"Graphviz (DOT)\",\"Graphviz (DOT)\",\"Graphviz (DOT)\",\"Graphviz (DOT)\",\"Graphviz (DOT)\",\"Graphviz (DOT)\",\"Graphviz (DOT)\",\"Graphviz (DOT)\",\"Graphviz (DOT)\",\"Graphviz (DOT)\",\"Graphviz (DOT)\",\"Graphviz (DOT)\",\"Graphviz (DOT)\",\"HTML\",\"HTML\",\"HTML\",\"HTML\",\"HTML\",\"HTML\",\"HTML\",\"HTML\",\"HTML\",\"HTML\",\"HTML\",\"HTML\",\"HTML\",\"HTML\",\"HTML\",\"HTML\",\"HTML\",\"HTML\",\"HTML\",\"HTML\",\"HTML\",\"HTML\",\"HTML\",\"HTML\",\"HTML\",\"HTML\",\"HTML\",\"HTML\",\"HTML\",\"HTML\",\"HTML\",\"HTML\",\"HTML\",\"HTML\",\"HTML\",\"HTML\",\"HTML\",\"HTML\",\"HTML\",\"HTML\",\"HTML\",\"HTML\",\"HTML\",\"HTML\",\"HTML\",\"HTML\",\"HTML\",\"HTML\",\"HTML\",\"HTML\",\"HTML\",\"HTML\",\"HTML\",\"HTML\",\"HTML\",\"HTML\",\"JSON\",\"JSON\",\"JSON\",\"JSON\",\"JSON\",\"JSON\",\"JSON\",\"JSON\",\"JSON\",\"JSON\",\"JSON\",\"JSON\",\"JSON\",\"JSON\",\"JSON\",\"JSON\",\"JSON\",\"JSON\",\"JSON\",\"JSON\",\"JSON\",\"JSON\",\"JSON\",\"JSON\",\"JSON\",\"JSON\",\"JSON\",\"JSON\",\"JSON\",\"JSON\",\"JSON\",\"JSON\",\"JSON\",\"JSON\",\"JSON\",\"JSON\",\"JSON\",\"JSON\",\"JSON\",\"JSON\",\"JSON\",\"JSON\",\"JSON\",\"JSON\",\"JSON\",\"JSON\",\"JSON\",\"JSON\",\"JSON\",\"JSON\",\"JSON\",\"JSON\",\"JSON\",\"JSON\",\"JSON\",\"JSON\",\"JavaScript\",\"JavaScript\",\"JavaScript\",\"JavaScript\",\"JavaScript\",\"JavaScript\",\"JavaScript\",\"JavaScript\",\"JavaScript\",\"JavaScript\",\"JavaScript\",\"JavaScript\",\"JavaScript\",\"JavaScript\",\"JavaScript\",\"JavaScript\",\"JavaScript\",\"JavaScript\",\"JavaScript\",\"JavaScript\",\"JavaScript\",\"JavaScript\",\"JavaScript\",\"JavaScript\",\"JavaScript\",\"JavaScript\",\"JavaScript\",\"JavaScript\",\"JavaScript\",\"JavaScript\",\"JavaScript\",\"JavaScript\",\"JavaScript\",\"JavaScript\",\"JavaScript\",\"JavaScript\",\"JavaScript\",\"JavaScript\",\"JavaScript\",\"JavaScript\",\"JavaScript\",\"JavaScript\",\"JavaScript\",\"JavaScript\",\"JavaScript\",\"JavaScript\",\"JavaScript\",\"JavaScript\",\"JavaScript\",\"JavaScript\",\"JavaScript\",\"JavaScript\",\"JavaScript\",\"JavaScript\",\"JavaScript\",\"JavaScript\",\"Jupyter Notebook\",\"Jupyter Notebook\",\"Jupyter Notebook\",\"Jupyter Notebook\",\"Jupyter Notebook\",\"Jupyter Notebook\",\"Jupyter Notebook\",\"Jupyter Notebook\",\"Jupyter Notebook\",\"Jupyter Notebook\",\"Jupyter Notebook\",\"Jupyter Notebook\",\"Jupyter Notebook\",\"Jupyter Notebook\",\"Jupyter Notebook\",\"Jupyter Notebook\",\"Jupyter Notebook\",\"Jupyter Notebook\",\"Jupyter Notebook\",\"Jupyter Notebook\",\"Jupyter Notebook\",\"Jupyter Notebook\",\"Jupyter Notebook\",\"Jupyter Notebook\",\"Jupyter Notebook\",\"Jupyter Notebook\",\"Jupyter Notebook\",\"Jupyter Notebook\",\"Jupyter Notebook\",\"Jupyter Notebook\",\"Jupyter Notebook\",\"Jupyter Notebook\",\"Jupyter Notebook\",\"Jupyter Notebook\",\"Jupyter Notebook\",\"Jupyter Notebook\",\"Jupyter Notebook\",\"Jupyter Notebook\",\"Jupyter Notebook\",\"Jupyter Notebook\",\"Jupyter Notebook\",\"Jupyter Notebook\",\"Jupyter Notebook\",\"Jupyter Notebook\",\"Jupyter Notebook\",\"Jupyter Notebook\",\"Jupyter Notebook\",\"Jupyter Notebook\",\"Jupyter Notebook\",\"Jupyter Notebook\",\"Jupyter Notebook\",\"Jupyter Notebook\",\"Jupyter Notebook\",\"Jupyter Notebook\",\"Jupyter Notebook\",\"Jupyter Notebook\",\"Markdown\",\"Markdown\",\"Markdown\",\"Markdown\",\"Markdown\",\"Markdown\",\"Markdown\",\"Markdown\",\"Markdown\",\"Markdown\",\"Markdown\",\"Markdown\",\"Markdown\",\"Markdown\",\"Markdown\",\"Markdown\",\"Markdown\",\"Markdown\",\"Markdown\",\"Markdown\",\"Markdown\",\"Markdown\",\"Markdown\",\"Markdown\",\"Markdown\",\"Markdown\",\"Markdown\",\"Markdown\",\"Markdown\",\"Markdown\",\"Markdown\",\"Markdown\",\"Markdown\",\"Markdown\",\"Markdown\",\"Markdown\",\"Markdown\",\"Markdown\",\"Markdown\",\"Markdown\",\"Markdown\",\"Markdown\",\"Markdown\",\"Markdown\",\"Markdown\",\"Markdown\",\"Markdown\",\"Markdown\",\"Markdown\",\"Markdown\",\"Markdown\",\"Markdown\",\"Markdown\",\"Markdown\",\"Markdown\",\"Markdown\",\"Python\",\"Python\",\"Python\",\"Python\",\"Python\",\"Python\",\"Python\",\"Python\",\"Python\",\"Python\",\"Python\",\"Python\",\"Python\",\"Python\",\"Python\",\"Python\",\"Python\",\"Python\",\"Python\",\"Python\",\"Python\",\"Python\",\"Python\",\"Python\",\"Python\",\"Python\",\"Python\",\"Python\",\"Python\",\"Python\",\"Python\",\"Python\",\"Python\",\"Python\",\"Python\",\"Python\",\"Python\",\"Python\",\"Python\",\"Python\",\"Python\",\"Python\",\"Python\",\"Python\",\"Python\",\"Python\",\"Python\",\"Python\",\"Python\",\"Python\",\"Python\",\"Python\",\"Python\",\"Python\",\"Python\",\"Python\",\"SVG\",\"SVG\",\"SVG\",\"SVG\",\"SVG\",\"SVG\",\"SVG\",\"SVG\",\"SVG\",\"SVG\",\"SVG\",\"SVG\",\"SVG\",\"SVG\",\"SVG\",\"SVG\",\"SVG\",\"SVG\",\"SVG\",\"SVG\",\"SVG\",\"SVG\",\"SVG\",\"SVG\",\"SVG\",\"SVG\",\"SVG\",\"SVG\",\"SVG\",\"SVG\",\"SVG\",\"SVG\",\"SVG\",\"SVG\",\"SVG\",\"SVG\",\"SVG\",\"SVG\",\"SVG\",\"SVG\",\"SVG\",\"SVG\",\"SVG\",\"SVG\",\"SVG\",\"SVG\",\"SVG\",\"SVG\",\"SVG\",\"SVG\",\"SVG\",\"SVG\",\"SVG\",\"SVG\",\"SVG\",\"SVG\",\"Smarty\",\"Smarty\",\"Smarty\",\"Smarty\",\"Smarty\",\"Smarty\",\"Smarty\",\"Smarty\",\"Smarty\",\"Smarty\",\"Smarty\",\"Smarty\",\"Smarty\",\"Smarty\",\"Smarty\",\"Smarty\",\"Smarty\",\"Smarty\",\"Smarty\",\"Smarty\",\"Smarty\",\"Smarty\",\"Smarty\",\"Smarty\",\"Smarty\",\"Smarty\",\"Smarty\",\"Smarty\",\"Smarty\",\"Smarty\",\"Smarty\",\"Smarty\",\"Smarty\",\"Smarty\",\"Smarty\",\"Smarty\",\"Smarty\",\"Smarty\",\"Smarty\",\"Smarty\",\"Smarty\",\"Smarty\",\"Smarty\",\"Smarty\",\"Smarty\",\"Smarty\",\"Smarty\",\"Smarty\",\"Smarty\",\"Smarty\",\"Smarty\",\"Smarty\",\"Smarty\",\"Smarty\",\"Smarty\",\"Smarty\",\"Text\",\"Text\",\"Text\",\"Text\",\"Text\",\"Text\",\"Text\",\"Text\",\"Text\",\"Text\",\"Text\",\"Text\",\"Text\",\"Text\",\"Text\",\"Text\",\"Text\",\"Text\",\"Text\",\"Text\",\"Text\",\"Text\",\"Text\",\"Text\",\"Text\",\"Text\",\"Text\",\"Text\",\"Text\",\"Text\",\"Text\",\"Text\",\"Text\",\"Text\",\"Text\",\"Text\",\"Text\",\"Text\",\"Text\",\"Text\",\"Text\",\"Text\",\"Text\",\"Text\",\"Text\",\"Text\",\"Text\",\"Text\",\"Text\",\"Text\",\"Text\",\"Text\",\"Text\",\"Text\",\"Text\",\"Text\",\"TypeScript\",\"TypeScript\",\"TypeScript\",\"TypeScript\",\"TypeScript\",\"TypeScript\",\"TypeScript\",\"TypeScript\",\"TypeScript\",\"TypeScript\",\"TypeScript\",\"TypeScript\",\"TypeScript\",\"TypeScript\",\"TypeScript\",\"TypeScript\",\"TypeScript\",\"TypeScript\",\"TypeScript\",\"TypeScript\",\"TypeScript\",\"TypeScript\",\"TypeScript\",\"TypeScript\",\"TypeScript\",\"TypeScript\",\"TypeScript\",\"TypeScript\",\"TypeScript\",\"TypeScript\",\"TypeScript\",\"TypeScript\",\"TypeScript\",\"TypeScript\",\"TypeScript\",\"TypeScript\",\"TypeScript\",\"TypeScript\",\"TypeScript\",\"TypeScript\",\"TypeScript\",\"TypeScript\",\"TypeScript\",\"TypeScript\",\"TypeScript\",\"TypeScript\",\"TypeScript\",\"TypeScript\",\"TypeScript\",\"TypeScript\",\"TypeScript\",\"TypeScript\",\"TypeScript\",\"TypeScript\",\"TypeScript\",\"TypeScript\",\"XML\",\"XML\",\"XML\",\"XML\",\"XML\",\"XML\",\"XML\",\"XML\",\"XML\",\"XML\",\"XML\",\"XML\",\"XML\",\"XML\",\"XML\",\"XML\",\"XML\",\"XML\",\"XML\",\"XML\",\"XML\",\"XML\",\"XML\",\"XML\",\"XML\",\"XML\",\"XML\",\"XML\",\"XML\",\"XML\",\"XML\",\"XML\",\"XML\",\"XML\",\"XML\",\"XML\",\"XML\",\"XML\",\"XML\",\"XML\",\"XML\",\"XML\",\"XML\",\"XML\",\"XML\",\"XML\",\"XML\",\"XML\",\"XML\",\"XML\",\"XML\",\"XML\",\"XML\",\"XML\",\"XML\",\"XML\",\"YAML\",\"YAML\",\"YAML\",\"YAML\",\"YAML\",\"YAML\",\"YAML\",\"YAML\",\"YAML\",\"YAML\",\"YAML\",\"YAML\",\"YAML\",\"YAML\",\"YAML\",\"YAML\",\"YAML\",\"YAML\",\"YAML\",\"YAML\",\"YAML\",\"YAML\",\"YAML\",\"YAML\",\"YAML\",\"YAML\",\"YAML\",\"YAML\",\"YAML\",\"YAML\",\"YAML\",\"YAML\",\"YAML\",\"YAML\",\"YAML\",\"YAML\",\"YAML\",\"YAML\",\"YAML\",\"YAML\",\"YAML\",\"YAML\",\"YAML\",\"YAML\",\"YAML\",\"YAML\",\"YAML\",\"YAML\",\"YAML\",\"YAML\",\"YAML\",\"YAML\",\"YAML\",\"YAML\",\"YAML\",\"YAML\"],\"bottom\":{\"__ndarray__\":\"AAAAAAAAAAAAAAAAAAAAAAAAAAAAAAAAAAAAAAAAAAAAAAAAAAAAAAAAAAAAAAAAAAAAAAAAAAAAAAAAAAAAAAAAAAAAAAAAAAAAAAAAAAAAAAAAAAAAAAAAAAAAAAAAAAAAAAAAAAAAAAAAAAAAAAAAAAAAAAAAAAAAAAAAAAAAAAAAAAAAAAAAAAAAAAAAAAAAAAAAAAAAAAAAAAAAAAAAAAAAAAAAAAAAAAAAAAAAAAAAAAAAAAAAAAAAAAAAAAAAAAAAAAAAAAAAAAAAAAAAAAAAAAAAAAAAAAAAAAAAAAAAAAAAAAAAAAAAAAAAAAAAAAAAAAAAAAAAAAAAAAAAAAAAAAAAAAAAAAAAAAAAAAAAAAAAAAAAAAAAAAAAAAAAAAAAAAAAAAAAAAAAAAAAAAAAAAAAAAAAAAAAAAAAAAAAAAAAAAAAAAAAAAAAAAAAAAAAAAAAAAAAAAAAAAAAAAAAAAAAAAAAAAAAAAAAAAAAAAAAAAAAAAAAAAAAAAAAAAAAAAAAAAAAAAAAAAAAAAAAAAAAAAAAAAAAAAAAAAAAAAAAAAAAAAAAAAAAAAAAAAAAAAAAAAAAAAAAAAAAAAAAAAAAAAAAAAAA8D8AAAAAAAAAAAAAAAAAAAAAAAAAAAAAAAAAAAAAAAAAAAAAAAAAAAAAAAAAAAAAAAAAAAAAAAAAAAAAAAAAAAAAAAAAAAAAAAAAAAAAAAAAAAAAAAAAAAAAAAAAAAAAAAAAAAAAAAAAAAAAAAAAAAAAAAAAAAAAAAAAAAAAAAAAAAAAAAAAAAAAAAAAAAAAAAAAAAAAAAAAAAAAAAAAAAAAAAAAAAAAAAAAAAAAAAAAAAAAAAAAAAAAAAAAAAAAAAAAAAAAAAAAAAAAAAAAAABAAAAAAAAAAAAAAAAAAAAAAAAAAAAAAAAAAAAAAAAAAAAAAAAAAAAAAAAAAAAAAAAAAAAAAAAAAAAAAAAAAAAAAAAAAAAAAAAAAAAAAAAAAAAAAAAAAAAAAAAAAAAAAAAAAAAAAAAAAAAAAAAAAAAAAAAAAAAAAAAAAAAAAAAAAAAAAAAAAAAAAAAAAAAAAAAAAAAAAAAAAAAAAAAAAAAAAAAAAAAAAAAAAAAAAAAAAAAAAAAAAAAAAAAAAAAAAAAAAAAAAAAAAAAAAAAAAAAAAAAAAAAAAAAAAAAAAAAAAAAAAAAAAAAAQAAAAAAAAPA/AAAAAAAAAAAAAAAAAAAAAAAAAAAAAPA/AAAAAAAAAAAAAAAAAAAAAAAAAAAAAAAAAAAAAAAAAAAAAAAAAAAAAAAAAAAAAPA/AAAAAAAA8D8AAAAAAAAAAAAAAAAAAAAAAAAAAAAA8D8AAAAAAAAAAAAAAAAAAAAAAAAAAAAAAAAAAAAAAAAAAAAAAAAAAAAAAAAAAAAAAAAAAAAAAAAAAAAAAAAAAAAAAAAAAAAAAAAAAAAAAAAAAAAAAAAAAAAAAAAAAAAAAAAAAAAAAAAAQAAAAAAAAAAAAAAAAAAAAAAAAAAAAAAAAAAAAAAAAAAAAAAAAAAAAAAAAAAAAAAAAAAAAAAAAAAAAAAAAAAA8D8AAAAAAAAAAAAAAAAAAAAAAAAAAAAAAAAAAAAAAAAAAAAAAAAAAAAAAAAAAAAAAAAAAAAAAAAAAAAAAAAAAAAAAAAAAAAAAAAAAAAAAAAAAAAAAAAAAAAAAAAAAAAAAAAAAAAAAAAAAAAAAAAAAAAAAAAAAAAAAAAAAAAAAAAAAAAAAAAAAPA/AAAAAAAAAAAAAAAAAAAAAAAAAAAAAAAAAAAAAAAAAEAAAAAAAAAAQAAAAAAAAAAAAAAAAAAAAAAAAAAAAAAAQAAAAAAAAAAAAAAAAAAAAAAAAAAAAAAAAAAAAAAAAAAAAAAAAAAAAEAAAAAAAAAIQAAAAAAAAPA/AAAAAAAAAAAAAAAAAAAAAAAAAAAAAPA/AAAAAAAAAAAAAAAAAAAAAAAAAAAAAAAAAAAAAAAAAAAAAAAAAAAAAAAAAAAAAAAAAAAAAAAAAAAAAAAAAAAAAAAAAAAAAAAAAAAAAAAAAAAAAAAAAAAAAAAAAAAAAAAAAAAAAAAAAEAAAAAAAAAAAAAAAAAAAAAAAAAAAAAAAAAAAAAAAAAAAAAAAAAAAAAAAAAAAAAAAAAAAAAAAAAAAAAAAAAAAPA/AAAAAAAAAAAAAAAAAAAAAAAAAAAAAAAAAAAAAAAAAAAAAAAAAAAAAAAAAAAAAAAAAAAAAAAAAAAAAAAAAAAAAAAAAAAAAAAAAAAAAAAAAAAAAAAAAAAAAAAAAAAAAAAAAAAAAAAAAAAAAAAAAAAAAAAAAAAAAAAAAAAAAAAAAAAAAAAAAADwPwAAAAAAAAAAAAAAAAAAAAAAAAAAAAAAAAAAAAAAAABAAAAAAAAAAEAAAAAAAAAAAAAAAAAAAAAAAAAAAAAAAEAAAAAAAAAAAAAAAAAAAAAAAAAAAAAAAAAAAAAAAAAAAAAAAAAAAABAAAAAAAAACEAAAAAAAADwPwAAAAAAAAAAAAAAAAAAAAAAAAAAAADwPwAAAAAAAAAAAAAAAAAAAAAAAAAAAAAAAAAAAAAAAAAAAAAAAAAAAAAAAAAAAAAAAAAAAAAAAAAAAAAAAAAAAAAAAAAAAAAAAAAAAAAAAAAAAAAAAAAAAAAAAAAAAAAAAAAAAAAAAABAAAAAAAAAAAAAAAAAAAAAAAAAAAAAAAAAAAAAAAAAAAAAAAAAAAAAAAAAAAAAAAAAAAAAAAAA8D8AAAAAAADwPwAAAAAAAAAAAAAAAAAAAAAAAAAAAAAAAAAAAAAAAAAAAAAAAAAAAAAAAAAAAAAAAAAAAAAAAAAAAAAAAAAAAAAAAAAAAAAAAAAAAAAAAAAAAAAAAAAAAAAAAAAAAAAAAAAAAAAAAAAAAAAAAAAAAAAAAAAAAAAAAAAAAAAAAPA/AAAAAAAA8D8AAAAAAAAAAAAAAAAAAPA/AAAAAAAAAAAAAAAAAAAQQAAAAAAAABhAAAAAAAAAAAAAAAAAAAAAQAAAAAAAACBAAAAAAAAAAEAAAAAAAAAAAAAAAAAAAAAAAAAAAAAA8D8AAAAAAAAAQAAAAAAAAAhAAAAAAAAAAEAAAAAAAAAAAAAAAAAAAABAAAAAAAAA8D8AAAAAAAAAAAAAAAAAAABAAAAAAAAAAAAAAAAAAAAAAAAAAAAAAAAAAAAAAAAAAAAAAAAAAAAAAAAAAAAAAAAAAAAAAAAAAAAAAAAAAAAAAAAAAAAAAAAAAAAAAAAAAAAAAAAAAAAIQAAAAAAAAAAAAAAAAAAAAAAAAAAAAADwPwAAAAAAAAAAAAAAAAAAAAAAAAAAAAAAAAAAAAAAAPA/AAAAAAAA8D8AAAAAAAAAAAAAAAAAAAAAAAAAAAAAAAAAAAAAAADwPwAAAAAAAAAAAAAAAAAAAAAAAAAAAAAAAAAAAAAAAAAAAAAAAAAAAAAAAAAAAADwPwAAAAAAAAAAAAAAAAAAAAAAAAAAAAAAAAAAAAAAAAAAAAAAAAAAAAAAAAAAAADwPwAAAAAAAPA/AAAAAAAAAAAAAAAAAADwPwAAAAAAAAAAAAAAAAAAEEAAAAAAAAAYQAAAAAAAAAAAAAAAAAAAFEAAAAAAAAAkQAAAAAAAAABAAAAAAAAAAAAAAAAAAAAAAAAAAAAAAPA/AAAAAAAAAEAAAAAAAAAQQAAAAAAAAABAAAAAAAAAAAAAAAAAAAAAQAAAAAAAAPA/AAAAAAAAAAAAAAAAAAAAQAAAAAAAAAAAAAAAAAAA8D8AAAAAAAAAAAAAAAAAAAAAAAAAAAAAAAAAAAAAAAAAAAAAAAAAAAAAAAAAAAAAAAAAAAAAAAAAAAAAAAAAAAAAAAAAAAAAEEAAAAAAAAAAAAAAAAAAAAAAAAAAAAAA8D8AAAAAAAAAAAAAAAAAAAAAAAAAAAAAAAAAAAAAAADwPwAAAAAAAPA/AAAAAAAAAAAAAAAAAAAAAAAAAAAAAAAAAAAAAAAA8D8AAAAAAAAAAAAAAAAAAAAAAAAAAAAAAAAAAAAAAAAAAAAAAAAAAAAAAAAAAAAA8D8AAAAAAAAAAAAAAAAAAAAAAAAAAAAAAAAAAAAAAAAAAAAAAAAAAAAAAAAAAAAA8D8AAAAAAADwPwAAAAAAAAAAAAAAAAAA8D8AAAAAAAAAAAAAAAAAABBAAAAAAAAAHEAAAAAAAADwPwAAAAAAABhAAAAAAAAAKkAAAAAAAAAAQAAAAAAAAAAAAAAAAAAAAAAAAAAAAAAAQAAAAAAAAABAAAAAAAAAEEAAAAAAAAAQQAAAAAAAAAAAAAAAAAAAAEAAAAAAAADwPwAAAAAAAAAAAAAAAAAAAEAAAAAAAAAAAAAAAAAAAPA/AAAAAAAAAAAAAAAAAAAAAAAAAAAAAAAAAAAAAAAAAAAAAAAAAAAAAAAAAAAAAAAAAAAAAAAAAAAAAAAAAAAAAAAAAAAAABhAAAAAAAAAAAAAAAAAAAAAAAAAAAAAAPA/AAAAAAAAAAAAAAAAAAAAAAAAAAAAAAAAAAAAAAAA8D8AAAAAAADwPwAAAAAAAAAAAAAAAAAAAAAAAAAAAAAAAAAAAAAAAPA/AAAAAAAAAAAAAAAAAAAAAAAAAAAAAAAAAAAAAAAAAAAAAAAAAAAAAAAAAAAAAPA/AAAAAAAAAAAAAAAAAAAAAAAAAAAAAAAAAAAAAAAAAAAAAAAAAAAAAAAAAAAAAPA/AAAAAAAA8D8AAAAAAAAAAAAAAAAAAPA/AAAAAAAAAAAAAAAAAAAQQAAAAAAAACBAAAAAAAAAHEAAAAAAAAA3QAAAAAAAADhAAAAAAAAAMEAAAAAAAAAiQAAAAAAAACxAAAAAAAAAKEAAAAAAAAAiQAAAAAAAACpAAAAAAAAANEAAAAAAAAAwQAAAAAAAADhAAAAAAAAAAEAAAAAAAAAUQAAAAAAAACRAAAAAAAAAFEAAAAAAAAAAQAAAAAAAAABAAAAAAAAAAEAAAAAAAAAAQAAAAAAAAAhAAAAAAAAAHEAAAAAAAAAIQAAAAAAAACRAAAAAAAAAKEAAAAAAAAAsQAAAAAAAACBAAAAAAAAAFEAAAAAAAAAcQAAAAAAAABxAAAAAAAAAJkAAAAAAAAAcQAAAAAAAADlAAAAAAAAAMkAAAAAAAAAYQAAAAAAAABxAAAAAAAAAHEAAAAAAAAAUQAAAAAAAAAhAAAAAAAAAEEAAAAAAAAAUQAAAAAAAAPA/AAAAAAAAAAAAAAAAAADwPwAAAAAAAABAAAAAAAAAGEAAAAAAAAAIQAAAAAAAAAhAAAAAAAAAOUAAAAAAAAA8QAAAAAAAADlAAAAAAAAAOkAAAAAAAAA3QAAAAAAAABRAAAAAAAAAEEAAAAAAAAAwQAAAAAAAAChAAAAAAAAAPEAAAAAAAAA9QAAAAAAAADNAAAAAAAAAIkAAAAAAAAAuQAAAAAAAACpAAAAAAAAAJEAAAAAAAAAqQAAAAAAAADRAAAAAAAAAMEAAAAAAAAA6QAAAAAAAAAhAAAAAAAAAFEAAAAAAAAAkQAAAAAAAABhAAAAAAAAACEAAAAAAAAAAQAAAAAAAAABAAAAAAAAAAEAAAAAAAAAIQAAAAAAAABxAAAAAAAAACEAAAAAAAAAmQAAAAAAAAChAAAAAAAAALkAAAAAAAAAgQAAAAAAAABRAAAAAAAAAHEAAAAAAAAAcQAAAAAAAACZAAAAAAAAAHEAAAAAAAAA5QAAAAAAAADZAAAAAAAAAGEAAAAAAAAAcQAAAAAAAABxAAAAAAAAAGEAAAAAAAAAIQAAAAAAAABBAAAAAAAAAHEAAAAAAAADwPwAAAAAAAAAAAAAAAAAAAEAAAAAAAAAAQAAAAAAAABhAAAAAAAAACEAAAAAAAAAQQAAAAAAAADtAAAAAAAAAPEAAAAAAAAA6QAAAAAAAADpAAAAAAAAAN0AAAAAAAAAUQAAAAAAAABBAAAAAAAAAMEAAAAAAAAAoQAAAAAAAAD9AAAAAAAAAPUAAAAAAAAA0QAAAAAAAACJAAAAAAAAALkAAAAAAAAAqQAAAAAAAACRAAAAAAAAAKkAAAAAAAAA0QAAAAAAAADBAAAAAAAAAO0AAAAAAAAAQQAAAAAAAABRAAAAAAAAAJkAAAAAAAAAiQAAAAAAAACBAAAAAAAAAFEAAAAAAAAAYQAAAAAAAAAhAAAAAAAAAFEAAAAAAAAAcQAAAAAAAACBAAAAAAAAALkAAAAAAAAAqQAAAAAAAADFAAAAAAAAAIEAAAAAAAAAUQAAAAAAAABxAAAAAAAAAHEAAAAAAAAAmQAAAAAAAACBAAAAAAAAAPEAAAAAAAAA3QAAAAAAAABhAAAAAAAAAHEAAAAAAAAAcQAAAAAAAABhAAAAAAAAACEAAAAAAAAAUQAAAAAAAACBAAAAAAAAA8D8AAAAAAAAAQAAAAAAAAABAAAAAAAAACEAAAAAAAAAcQAAAAAAAABRAAAAAAAAAEEAAAAAAAAA+QAAAAAAAADxAAAAAAAAAPEAAAAAAAABAQAAAAAAAADxAAAAAAAAAFEAAAAAAAAAQQAAAAAAAADBAAAAAAAAAKEAAAAAAAAA/QAAAAAAAAD1AAAAAAAAANEAAAAAAAAAiQAAAAAAAAC5AAAAAAAAAKkAAAAAAAAAkQAAAAAAAACxAAAAAAAAANEAAAAAAAAAwQAAAAAAAADtAAAAAAAAAEEAAAAAAAAAUQAAAAAAAACZAAAAAAAAAIkAAAAAAAAAgQAAAAAAAABRAAAAAAAAAGEAAAAAAAAAIQAAAAAAAABRAAAAAAAAAHEAAAAAAAAAgQAAAAAAAAC5AAAAAAAAAKkAAAAAAAAAxQAAAAAAAACBAAAAAAAAAFEAAAAAAAAAcQAAAAAAAABxAAAAAAAAAJkAAAAAAAAAgQAAAAAAAAD1AAAAAAAAAN0AAAAAAAAAYQAAAAAAAABxAAAAAAAAAHEAAAAAAAAAYQAAAAAAAAAhAAAAAAAAAFEAAAAAAAAAgQAAAAAAAAPA/AAAAAAAAAEAAAAAAAAAAQAAAAAAAAAhAAAAAAAAAHEAAAAAAAAAUQAAAAAAAABBAAAAAAAAAPkAAAAAAAAA9QAAAAAAAADxAAAAAAAAAQEAAAAAAAAA8QAAAAAAAABRAAAAAAAAAEEAAAAAAAAAwQAAAAAAAAChAAAAAAAAAP0AAAAAAAAA9QAAAAAAAADRAAAAAAAAAIkAAAAAAAAAuQAAAAAAAACpAAAAAAAAAJEAAAAAAAAAsQAAAAAAAADRAAAAAAAAAMEAAAAAAAAA7QAAAAAAAABBAAAAAAAAAFEAAAAAAAAAmQAAAAAAAACJAAAAAAAAAIEAAAAAAAAAUQAAAAAAAABhAAAAAAAAACEAAAAAAAAAUQAAAAAAAABxAAAAAAAAAIEAAAAAAAAAwQAAAAAAAACpAAAAAAAAAMUAAAAAAAAAgQAAAAAAAABRAAAAAAAAAHEAAAAAAAAAcQAAAAAAAACZAAAAAAAAAIEAAAAAAAAA9QAAAAAAAADdAAAAAAAAAGEAAAAAAAAAcQAAAAAAAABxAAAAAAAAAGEAAAAAAAAAIQAAAAAAAABRAAAAAAAAAIEAAAAAAAADwPwAAAAAAAABAAAAAAAAAAEAAAAAAAAAIQAAAAAAAABxAAAAAAAAAFEAAAAAAAAAQQAAAAAAAAD5AAAAAAAAAPUAAAAAAAAA8QAAAAAAAAEBAAAAAAAAAPEAAAAAAAAAUQAAAAAAAABBAAAAAAAAAMEAAAAAAAAAoQAAAAAAAAD9AAAAAAAAAPUAAAAAAAAA0QAAAAAAAACJAAAAAAAAALkAAAAAAAAAqQAAAAAAAACRAAAAAAAAALEAAAAAAAAA1QAAAAAAAADBAAAAAAAAAPEAAAAAAAAAQQAAAAAAAABhAAAAAAAAAJkAAAAAAAAAiQAAAAAAAACBAAAAAAAAAGEAAAAAAAAAYQAAAAAAAABBAAAAAAAAAGEAAAAAAAAAcQAAAAAAAACJAAAAAAAAAMkAAAAAAAAAqQAAAAAAAADFAAAAAAAAAIEAAAAAAAAAYQAAAAAAAABxAAAAAAAAAIEAAAAAAAAAqQAAAAAAAACBAAAAAAAAAP0AAAAAAAAA5QAAAAAAAABhAAAAAAAAAJEAAAAAAAAAcQAAAAAAAABhAAAAAAAAACEAAAAAAAAAcQAAAAAAAACJAAAAAAAAAAEAAAAAAAAAIQAAAAAAAAABAAAAAAAAACEAAAAAAAAAgQAAAAAAAABRAAAAAAAAAFEAAAAAAAABDQAAAAAAAAERAAAAAAACAQ0AAAAAAAIBEQAAAAAAAAEJAAAAAAAAAGEAAAAAAAAAQQAAAAAAAADBAAAAAAAAAKEAAAAAAAAA/QAAAAAAAAD1AAAAAAAAANEAAAAAAAAAiQAAAAAAAAC5AAAAAAAAAKkAAAAAAAAAkQAAAAAAAACxAAAAAAAAANUAAAAAAAAAwQAAAAAAAADxAAAAAAAAAEEAAAAAAAAAYQAAAAAAAACZAAAAAAAAAIkAAAAAAAAAgQAAAAAAAABhAAAAAAAAAGEAAAAAAAAAQQAAAAAAAABhAAAAAAAAAHEAAAAAAAAAiQAAAAAAAADJAAAAAAAAAKkAAAAAAAAAzQAAAAAAAACBAAAAAAAAAGEAAAAAAAAAcQAAAAAAAACBAAAAAAAAAKkAAAAAAAAAgQAAAAAAAAD9AAAAAAAAAOUAAAAAAAAAYQAAAAAAAACRAAAAAAAAAHEAAAAAAAAAYQAAAAAAAAAhAAAAAAAAAHEAAAAAAAAAiQAAAAAAAAABAAAAAAAAACEAAAAAAAAAAQAAAAAAAAAhAAAAAAAAAIEAAAAAAAAAUQAAAAAAAABRAAAAAAAAAQ0AAAAAAAABEQAAAAAAAgENAAAAAAACAREAAAAAAAABCQAAAAAAAABhAAAAAAAAAEEAAAAAAAAAwQAAAAAAAAChAAAAAAAAAQEAAAAAAAAA9QAAAAAAAADRAAAAAAAAAIkAAAAAAAAAuQAAAAAAAACpAAAAAAAAAJEAAAAAAAAAsQAAAAAAAADVAAAAAAAAAMEAAAAAAAAA8QAAAAAAAABBAAAAAAAAAGEAAAAAAAAAmQAAAAAAAACJAAAAAAAAAIEAAAAAAAAAYQAAAAAAAABhAAAAAAAAAEEAAAAAAAAAYQAAAAAAAABxAAAAAAAAAIkAAAAAAAAAyQAAAAAAAACpAAAAAAAAAM0AAAAAAAAAgQAAAAAAAABhAAAAAAAAAHEAAAAAAAAAgQAAAAAAAACpAAAAAAAAAIEAAAAAAAAA/QAAAAAAAADlAAAAAAAAAGEAAAAAAAAAkQAAAAAAAABxAAAAAAAAAGEAAAAAAAAAIQAAAAAAAABxAAAAAAAAAIkAAAAAAAAAAQAAAAAAAAAhAAAAAAAAAAEAAAAAAAAAIQAAAAAAAACBAAAAAAAAAFEAAAAAAAAAUQAAAAAAAAENAAAAAAAAAREAAAAAAAIBDQAAAAAAAgERAAAAAAAAAQkAAAAAAAAAYQA==\",\"dtype\":\"float64\",\"shape\":[896]},\"created_at\":[\"2015-03-31 00:00:00\",\"2015-04-30 00:00:00\",\"2015-05-31 00:00:00\",\"2015-06-30 00:00:00\",\"2015-07-31 00:00:00\",\"2015-08-31 00:00:00\",\"2015-09-30 00:00:00\",\"2015-10-31 00:00:00\",\"2015-11-30 00:00:00\",\"2015-12-31 00:00:00\",\"2016-01-31 00:00:00\",\"2016-02-29 00:00:00\",\"2016-03-31 00:00:00\",\"2016-04-30 00:00:00\",\"2016-05-31 00:00:00\",\"2016-06-30 00:00:00\",\"2016-07-31 00:00:00\",\"2016-08-31 00:00:00\",\"2016-09-30 00:00:00\",\"2016-10-31 00:00:00\",\"2016-11-30 00:00:00\",\"2016-12-31 00:00:00\",\"2017-01-31 00:00:00\",\"2017-02-28 00:00:00\",\"2017-03-31 00:00:00\",\"2017-04-30 00:00:00\",\"2017-05-31 00:00:00\",\"2017-06-30 00:00:00\",\"2017-07-31 00:00:00\",\"2017-08-31 00:00:00\",\"2017-09-30 00:00:00\",\"2017-10-31 00:00:00\",\"2017-11-30 00:00:00\",\"2017-12-31 00:00:00\",\"2018-01-31 00:00:00\",\"2018-02-28 00:00:00\",\"2018-03-31 00:00:00\",\"2018-04-30 00:00:00\",\"2018-05-31 00:00:00\",\"2018-06-30 00:00:00\",\"2018-07-31 00:00:00\",\"2018-08-31 00:00:00\",\"2018-10-31 00:00:00\",\"2018-11-30 00:00:00\",\"2018-12-31 00:00:00\",\"2019-01-31 00:00:00\",\"2019-02-28 00:00:00\",\"2019-03-31 00:00:00\",\"2019-04-30 00:00:00\",\"2019-05-31 00:00:00\",\"2019-06-30 00:00:00\",\"2019-07-31 00:00:00\",\"2019-08-31 00:00:00\",\"2019-09-30 00:00:00\",\"2019-10-31 00:00:00\",\"2019-11-30 00:00:00\",\"2015-03-31 00:00:00\",\"2015-04-30 00:00:00\",\"2015-05-31 00:00:00\",\"2015-06-30 00:00:00\",\"2015-07-31 00:00:00\",\"2015-08-31 00:00:00\",\"2015-09-30 00:00:00\",\"2015-10-31 00:00:00\",\"2015-11-30 00:00:00\",\"2015-12-31 00:00:00\",\"2016-01-31 00:00:00\",\"2016-02-29 00:00:00\",\"2016-03-31 00:00:00\",\"2016-04-30 00:00:00\",\"2016-05-31 00:00:00\",\"2016-06-30 00:00:00\",\"2016-07-31 00:00:00\",\"2016-08-31 00:00:00\",\"2016-09-30 00:00:00\",\"2016-10-31 00:00:00\",\"2016-11-30 00:00:00\",\"2016-12-31 00:00:00\",\"2017-01-31 00:00:00\",\"2017-02-28 00:00:00\",\"2017-03-31 00:00:00\",\"2017-04-30 00:00:00\",\"2017-05-31 00:00:00\",\"2017-06-30 00:00:00\",\"2017-07-31 00:00:00\",\"2017-08-31 00:00:00\",\"2017-09-30 00:00:00\",\"2017-10-31 00:00:00\",\"2017-11-30 00:00:00\",\"2017-12-31 00:00:00\",\"2018-01-31 00:00:00\",\"2018-02-28 00:00:00\",\"2018-03-31 00:00:00\",\"2018-04-30 00:00:00\",\"2018-05-31 00:00:00\",\"2018-06-30 00:00:00\",\"2018-07-31 00:00:00\",\"2018-08-31 00:00:00\",\"2018-10-31 00:00:00\",\"2018-11-30 00:00:00\",\"2018-12-31 00:00:00\",\"2019-01-31 00:00:00\",\"2019-02-28 00:00:00\",\"2019-03-31 00:00:00\",\"2019-04-30 00:00:00\",\"2019-05-31 00:00:00\",\"2019-06-30 00:00:00\",\"2019-07-31 00:00:00\",\"2019-08-31 00:00:00\",\"2019-09-30 00:00:00\",\"2019-10-31 00:00:00\",\"2019-11-30 00:00:00\",\"2015-03-31 00:00:00\",\"2015-04-30 00:00:00\",\"2015-05-31 00:00:00\",\"2015-06-30 00:00:00\",\"2015-07-31 00:00:00\",\"2015-08-31 00:00:00\",\"2015-09-30 00:00:00\",\"2015-10-31 00:00:00\",\"2015-11-30 00:00:00\",\"2015-12-31 00:00:00\",\"2016-01-31 00:00:00\",\"2016-02-29 00:00:00\",\"2016-03-31 00:00:00\",\"2016-04-30 00:00:00\",\"2016-05-31 00:00:00\",\"2016-06-30 00:00:00\",\"2016-07-31 00:00:00\",\"2016-08-31 00:00:00\",\"2016-09-30 00:00:00\",\"2016-10-31 00:00:00\",\"2016-11-30 00:00:00\",\"2016-12-31 00:00:00\",\"2017-01-31 00:00:00\",\"2017-02-28 00:00:00\",\"2017-03-31 00:00:00\",\"2017-04-30 00:00:00\",\"2017-05-31 00:00:00\",\"2017-06-30 00:00:00\",\"2017-07-31 00:00:00\",\"2017-08-31 00:00:00\",\"2017-09-30 00:00:00\",\"2017-10-31 00:00:00\",\"2017-11-30 00:00:00\",\"2017-12-31 00:00:00\",\"2018-01-31 00:00:00\",\"2018-02-28 00:00:00\",\"2018-03-31 00:00:00\",\"2018-04-30 00:00:00\",\"2018-05-31 00:00:00\",\"2018-06-30 00:00:00\",\"2018-07-31 00:00:00\",\"2018-08-31 00:00:00\",\"2018-10-31 00:00:00\",\"2018-11-30 00:00:00\",\"2018-12-31 00:00:00\",\"2019-01-31 00:00:00\",\"2019-02-28 00:00:00\",\"2019-03-31 00:00:00\",\"2019-04-30 00:00:00\",\"2019-05-31 00:00:00\",\"2019-06-30 00:00:00\",\"2019-07-31 00:00:00\",\"2019-08-31 00:00:00\",\"2019-09-30 00:00:00\",\"2019-10-31 00:00:00\",\"2019-11-30 00:00:00\",\"2015-03-31 00:00:00\",\"2015-04-30 00:00:00\",\"2015-05-31 00:00:00\",\"2015-06-30 00:00:00\",\"2015-07-31 00:00:00\",\"2015-08-31 00:00:00\",\"2015-09-30 00:00:00\",\"2015-10-31 00:00:00\",\"2015-11-30 00:00:00\",\"2015-12-31 00:00:00\",\"2016-01-31 00:00:00\",\"2016-02-29 00:00:00\",\"2016-03-31 00:00:00\",\"2016-04-30 00:00:00\",\"2016-05-31 00:00:00\",\"2016-06-30 00:00:00\",\"2016-07-31 00:00:00\",\"2016-08-31 00:00:00\",\"2016-09-30 00:00:00\",\"2016-10-31 00:00:00\",\"2016-11-30 00:00:00\",\"2016-12-31 00:00:00\",\"2017-01-31 00:00:00\",\"2017-02-28 00:00:00\",\"2017-03-31 00:00:00\",\"2017-04-30 00:00:00\",\"2017-05-31 00:00:00\",\"2017-06-30 00:00:00\",\"2017-07-31 00:00:00\",\"2017-08-31 00:00:00\",\"2017-09-30 00:00:00\",\"2017-10-31 00:00:00\",\"2017-11-30 00:00:00\",\"2017-12-31 00:00:00\",\"2018-01-31 00:00:00\",\"2018-02-28 00:00:00\",\"2018-03-31 00:00:00\",\"2018-04-30 00:00:00\",\"2018-05-31 00:00:00\",\"2018-06-30 00:00:00\",\"2018-07-31 00:00:00\",\"2018-08-31 00:00:00\",\"2018-10-31 00:00:00\",\"2018-11-30 00:00:00\",\"2018-12-31 00:00:00\",\"2019-01-31 00:00:00\",\"2019-02-28 00:00:00\",\"2019-03-31 00:00:00\",\"2019-04-30 00:00:00\",\"2019-05-31 00:00:00\",\"2019-06-30 00:00:00\",\"2019-07-31 00:00:00\",\"2019-08-31 00:00:00\",\"2019-09-30 00:00:00\",\"2019-10-31 00:00:00\",\"2019-11-30 00:00:00\",\"2015-03-31 00:00:00\",\"2015-04-30 00:00:00\",\"2015-05-31 00:00:00\",\"2015-06-30 00:00:00\",\"2015-07-31 00:00:00\",\"2015-08-31 00:00:00\",\"2015-09-30 00:00:00\",\"2015-10-31 00:00:00\",\"2015-11-30 00:00:00\",\"2015-12-31 00:00:00\",\"2016-01-31 00:00:00\",\"2016-02-29 00:00:00\",\"2016-03-31 00:00:00\",\"2016-04-30 00:00:00\",\"2016-05-31 00:00:00\",\"2016-06-30 00:00:00\",\"2016-07-31 00:00:00\",\"2016-08-31 00:00:00\",\"2016-09-30 00:00:00\",\"2016-10-31 00:00:00\",\"2016-11-30 00:00:00\",\"2016-12-31 00:00:00\",\"2017-01-31 00:00:00\",\"2017-02-28 00:00:00\",\"2017-03-31 00:00:00\",\"2017-04-30 00:00:00\",\"2017-05-31 00:00:00\",\"2017-06-30 00:00:00\",\"2017-07-31 00:00:00\",\"2017-08-31 00:00:00\",\"2017-09-30 00:00:00\",\"2017-10-31 00:00:00\",\"2017-11-30 00:00:00\",\"2017-12-31 00:00:00\",\"2018-01-31 00:00:00\",\"2018-02-28 00:00:00\",\"2018-03-31 00:00:00\",\"2018-04-30 00:00:00\",\"2018-05-31 00:00:00\",\"2018-06-30 00:00:00\",\"2018-07-31 00:00:00\",\"2018-08-31 00:00:00\",\"2018-10-31 00:00:00\",\"2018-11-30 00:00:00\",\"2018-12-31 00:00:00\",\"2019-01-31 00:00:00\",\"2019-02-28 00:00:00\",\"2019-03-31 00:00:00\",\"2019-04-30 00:00:00\",\"2019-05-31 00:00:00\",\"2019-06-30 00:00:00\",\"2019-07-31 00:00:00\",\"2019-08-31 00:00:00\",\"2019-09-30 00:00:00\",\"2019-10-31 00:00:00\",\"2019-11-30 00:00:00\",\"2015-03-31 00:00:00\",\"2015-04-30 00:00:00\",\"2015-05-31 00:00:00\",\"2015-06-30 00:00:00\",\"2015-07-31 00:00:00\",\"2015-08-31 00:00:00\",\"2015-09-30 00:00:00\",\"2015-10-31 00:00:00\",\"2015-11-30 00:00:00\",\"2015-12-31 00:00:00\",\"2016-01-31 00:00:00\",\"2016-02-29 00:00:00\",\"2016-03-31 00:00:00\",\"2016-04-30 00:00:00\",\"2016-05-31 00:00:00\",\"2016-06-30 00:00:00\",\"2016-07-31 00:00:00\",\"2016-08-31 00:00:00\",\"2016-09-30 00:00:00\",\"2016-10-31 00:00:00\",\"2016-11-30 00:00:00\",\"2016-12-31 00:00:00\",\"2017-01-31 00:00:00\",\"2017-02-28 00:00:00\",\"2017-03-31 00:00:00\",\"2017-04-30 00:00:00\",\"2017-05-31 00:00:00\",\"2017-06-30 00:00:00\",\"2017-07-31 00:00:00\",\"2017-08-31 00:00:00\",\"2017-09-30 00:00:00\",\"2017-10-31 00:00:00\",\"2017-11-30 00:00:00\",\"2017-12-31 00:00:00\",\"2018-01-31 00:00:00\",\"2018-02-28 00:00:00\",\"2018-03-31 00:00:00\",\"2018-04-30 00:00:00\",\"2018-05-31 00:00:00\",\"2018-06-30 00:00:00\",\"2018-07-31 00:00:00\",\"2018-08-31 00:00:00\",\"2018-10-31 00:00:00\",\"2018-11-30 00:00:00\",\"2018-12-31 00:00:00\",\"2019-01-31 00:00:00\",\"2019-02-28 00:00:00\",\"2019-03-31 00:00:00\",\"2019-04-30 00:00:00\",\"2019-05-31 00:00:00\",\"2019-06-30 00:00:00\",\"2019-07-31 00:00:00\",\"2019-08-31 00:00:00\",\"2019-09-30 00:00:00\",\"2019-10-31 00:00:00\",\"2019-11-30 00:00:00\",\"2015-03-31 00:00:00\",\"2015-04-30 00:00:00\",\"2015-05-31 00:00:00\",\"2015-06-30 00:00:00\",\"2015-07-31 00:00:00\",\"2015-08-31 00:00:00\",\"2015-09-30 00:00:00\",\"2015-10-31 00:00:00\",\"2015-11-30 00:00:00\",\"2015-12-31 00:00:00\",\"2016-01-31 00:00:00\",\"2016-02-29 00:00:00\",\"2016-03-31 00:00:00\",\"2016-04-30 00:00:00\",\"2016-05-31 00:00:00\",\"2016-06-30 00:00:00\",\"2016-07-31 00:00:00\",\"2016-08-31 00:00:00\",\"2016-09-30 00:00:00\",\"2016-10-31 00:00:00\",\"2016-11-30 00:00:00\",\"2016-12-31 00:00:00\",\"2017-01-31 00:00:00\",\"2017-02-28 00:00:00\",\"2017-03-31 00:00:00\",\"2017-04-30 00:00:00\",\"2017-05-31 00:00:00\",\"2017-06-30 00:00:00\",\"2017-07-31 00:00:00\",\"2017-08-31 00:00:00\",\"2017-09-30 00:00:00\",\"2017-10-31 00:00:00\",\"2017-11-30 00:00:00\",\"2017-12-31 00:00:00\",\"2018-01-31 00:00:00\",\"2018-02-28 00:00:00\",\"2018-03-31 00:00:00\",\"2018-04-30 00:00:00\",\"2018-05-31 00:00:00\",\"2018-06-30 00:00:00\",\"2018-07-31 00:00:00\",\"2018-08-31 00:00:00\",\"2018-10-31 00:00:00\",\"2018-11-30 00:00:00\",\"2018-12-31 00:00:00\",\"2019-01-31 00:00:00\",\"2019-02-28 00:00:00\",\"2019-03-31 00:00:00\",\"2019-04-30 00:00:00\",\"2019-05-31 00:00:00\",\"2019-06-30 00:00:00\",\"2019-07-31 00:00:00\",\"2019-08-31 00:00:00\",\"2019-09-30 00:00:00\",\"2019-10-31 00:00:00\",\"2019-11-30 00:00:00\",\"2015-03-31 00:00:00\",\"2015-04-30 00:00:00\",\"2015-05-31 00:00:00\",\"2015-06-30 00:00:00\",\"2015-07-31 00:00:00\",\"2015-08-31 00:00:00\",\"2015-09-30 00:00:00\",\"2015-10-31 00:00:00\",\"2015-11-30 00:00:00\",\"2015-12-31 00:00:00\",\"2016-01-31 00:00:00\",\"2016-02-29 00:00:00\",\"2016-03-31 00:00:00\",\"2016-04-30 00:00:00\",\"2016-05-31 00:00:00\",\"2016-06-30 00:00:00\",\"2016-07-31 00:00:00\",\"2016-08-31 00:00:00\",\"2016-09-30 00:00:00\",\"2016-10-31 00:00:00\",\"2016-11-30 00:00:00\",\"2016-12-31 00:00:00\",\"2017-01-31 00:00:00\",\"2017-02-28 00:00:00\",\"2017-03-31 00:00:00\",\"2017-04-30 00:00:00\",\"2017-05-31 00:00:00\",\"2017-06-30 00:00:00\",\"2017-07-31 00:00:00\",\"2017-08-31 00:00:00\",\"2017-09-30 00:00:00\",\"2017-10-31 00:00:00\",\"2017-11-30 00:00:00\",\"2017-12-31 00:00:00\",\"2018-01-31 00:00:00\",\"2018-02-28 00:00:00\",\"2018-03-31 00:00:00\",\"2018-04-30 00:00:00\",\"2018-05-31 00:00:00\",\"2018-06-30 00:00:00\",\"2018-07-31 00:00:00\",\"2018-08-31 00:00:00\",\"2018-10-31 00:00:00\",\"2018-11-30 00:00:00\",\"2018-12-31 00:00:00\",\"2019-01-31 00:00:00\",\"2019-02-28 00:00:00\",\"2019-03-31 00:00:00\",\"2019-04-30 00:00:00\",\"2019-05-31 00:00:00\",\"2019-06-30 00:00:00\",\"2019-07-31 00:00:00\",\"2019-08-31 00:00:00\",\"2019-09-30 00:00:00\",\"2019-10-31 00:00:00\",\"2019-11-30 00:00:00\",\"2015-03-31 00:00:00\",\"2015-04-30 00:00:00\",\"2015-05-31 00:00:00\",\"2015-06-30 00:00:00\",\"2015-07-31 00:00:00\",\"2015-08-31 00:00:00\",\"2015-09-30 00:00:00\",\"2015-10-31 00:00:00\",\"2015-11-30 00:00:00\",\"2015-12-31 00:00:00\",\"2016-01-31 00:00:00\",\"2016-02-29 00:00:00\",\"2016-03-31 00:00:00\",\"2016-04-30 00:00:00\",\"2016-05-31 00:00:00\",\"2016-06-30 00:00:00\",\"2016-07-31 00:00:00\",\"2016-08-31 00:00:00\",\"2016-09-30 00:00:00\",\"2016-10-31 00:00:00\",\"2016-11-30 00:00:00\",\"2016-12-31 00:00:00\",\"2017-01-31 00:00:00\",\"2017-02-28 00:00:00\",\"2017-03-31 00:00:00\",\"2017-04-30 00:00:00\",\"2017-05-31 00:00:00\",\"2017-06-30 00:00:00\",\"2017-07-31 00:00:00\",\"2017-08-31 00:00:00\",\"2017-09-30 00:00:00\",\"2017-10-31 00:00:00\",\"2017-11-30 00:00:00\",\"2017-12-31 00:00:00\",\"2018-01-31 00:00:00\",\"2018-02-28 00:00:00\",\"2018-03-31 00:00:00\",\"2018-04-30 00:00:00\",\"2018-05-31 00:00:00\",\"2018-06-30 00:00:00\",\"2018-07-31 00:00:00\",\"2018-08-31 00:00:00\",\"2018-10-31 00:00:00\",\"2018-11-30 00:00:00\",\"2018-12-31 00:00:00\",\"2019-01-31 00:00:00\",\"2019-02-28 00:00:00\",\"2019-03-31 00:00:00\",\"2019-04-30 00:00:00\",\"2019-05-31 00:00:00\",\"2019-06-30 00:00:00\",\"2019-07-31 00:00:00\",\"2019-08-31 00:00:00\",\"2019-09-30 00:00:00\",\"2019-10-31 00:00:00\",\"2019-11-30 00:00:00\",\"2015-03-31 00:00:00\",\"2015-04-30 00:00:00\",\"2015-05-31 00:00:00\",\"2015-06-30 00:00:00\",\"2015-07-31 00:00:00\",\"2015-08-31 00:00:00\",\"2015-09-30 00:00:00\",\"2015-10-31 00:00:00\",\"2015-11-30 00:00:00\",\"2015-12-31 00:00:00\",\"2016-01-31 00:00:00\",\"2016-02-29 00:00:00\",\"2016-03-31 00:00:00\",\"2016-04-30 00:00:00\",\"2016-05-31 00:00:00\",\"2016-06-30 00:00:00\",\"2016-07-31 00:00:00\",\"2016-08-31 00:00:00\",\"2016-09-30 00:00:00\",\"2016-10-31 00:00:00\",\"2016-11-30 00:00:00\",\"2016-12-31 00:00:00\",\"2017-01-31 00:00:00\",\"2017-02-28 00:00:00\",\"2017-03-31 00:00:00\",\"2017-04-30 00:00:00\",\"2017-05-31 00:00:00\",\"2017-06-30 00:00:00\",\"2017-07-31 00:00:00\",\"2017-08-31 00:00:00\",\"2017-09-30 00:00:00\",\"2017-10-31 00:00:00\",\"2017-11-30 00:00:00\",\"2017-12-31 00:00:00\",\"2018-01-31 00:00:00\",\"2018-02-28 00:00:00\",\"2018-03-31 00:00:00\",\"2018-04-30 00:00:00\",\"2018-05-31 00:00:00\",\"2018-06-30 00:00:00\",\"2018-07-31 00:00:00\",\"2018-08-31 00:00:00\",\"2018-10-31 00:00:00\",\"2018-11-30 00:00:00\",\"2018-12-31 00:00:00\",\"2019-01-31 00:00:00\",\"2019-02-28 00:00:00\",\"2019-03-31 00:00:00\",\"2019-04-30 00:00:00\",\"2019-05-31 00:00:00\",\"2019-06-30 00:00:00\",\"2019-07-31 00:00:00\",\"2019-08-31 00:00:00\",\"2019-09-30 00:00:00\",\"2019-10-31 00:00:00\",\"2019-11-30 00:00:00\",\"2015-03-31 00:00:00\",\"2015-04-30 00:00:00\",\"2015-05-31 00:00:00\",\"2015-06-30 00:00:00\",\"2015-07-31 00:00:00\",\"2015-08-31 00:00:00\",\"2015-09-30 00:00:00\",\"2015-10-31 00:00:00\",\"2015-11-30 00:00:00\",\"2015-12-31 00:00:00\",\"2016-01-31 00:00:00\",\"2016-02-29 00:00:00\",\"2016-03-31 00:00:00\",\"2016-04-30 00:00:00\",\"2016-05-31 00:00:00\",\"2016-06-30 00:00:00\",\"2016-07-31 00:00:00\",\"2016-08-31 00:00:00\",\"2016-09-30 00:00:00\",\"2016-10-31 00:00:00\",\"2016-11-30 00:00:00\",\"2016-12-31 00:00:00\",\"2017-01-31 00:00:00\",\"2017-02-28 00:00:00\",\"2017-03-31 00:00:00\",\"2017-04-30 00:00:00\",\"2017-05-31 00:00:00\",\"2017-06-30 00:00:00\",\"2017-07-31 00:00:00\",\"2017-08-31 00:00:00\",\"2017-09-30 00:00:00\",\"2017-10-31 00:00:00\",\"2017-11-30 00:00:00\",\"2017-12-31 00:00:00\",\"2018-01-31 00:00:00\",\"2018-02-28 00:00:00\",\"2018-03-31 00:00:00\",\"2018-04-30 00:00:00\",\"2018-05-31 00:00:00\",\"2018-06-30 00:00:00\",\"2018-07-31 00:00:00\",\"2018-08-31 00:00:00\",\"2018-10-31 00:00:00\",\"2018-11-30 00:00:00\",\"2018-12-31 00:00:00\",\"2019-01-31 00:00:00\",\"2019-02-28 00:00:00\",\"2019-03-31 00:00:00\",\"2019-04-30 00:00:00\",\"2019-05-31 00:00:00\",\"2019-06-30 00:00:00\",\"2019-07-31 00:00:00\",\"2019-08-31 00:00:00\",\"2019-09-30 00:00:00\",\"2019-10-31 00:00:00\",\"2019-11-30 00:00:00\",\"2015-03-31 00:00:00\",\"2015-04-30 00:00:00\",\"2015-05-31 00:00:00\",\"2015-06-30 00:00:00\",\"2015-07-31 00:00:00\",\"2015-08-31 00:00:00\",\"2015-09-30 00:00:00\",\"2015-10-31 00:00:00\",\"2015-11-30 00:00:00\",\"2015-12-31 00:00:00\",\"2016-01-31 00:00:00\",\"2016-02-29 00:00:00\",\"2016-03-31 00:00:00\",\"2016-04-30 00:00:00\",\"2016-05-31 00:00:00\",\"2016-06-30 00:00:00\",\"2016-07-31 00:00:00\",\"2016-08-31 00:00:00\",\"2016-09-30 00:00:00\",\"2016-10-31 00:00:00\",\"2016-11-30 00:00:00\",\"2016-12-31 00:00:00\",\"2017-01-31 00:00:00\",\"2017-02-28 00:00:00\",\"2017-03-31 00:00:00\",\"2017-04-30 00:00:00\",\"2017-05-31 00:00:00\",\"2017-06-30 00:00:00\",\"2017-07-31 00:00:00\",\"2017-08-31 00:00:00\",\"2017-09-30 00:00:00\",\"2017-10-31 00:00:00\",\"2017-11-30 00:00:00\",\"2017-12-31 00:00:00\",\"2018-01-31 00:00:00\",\"2018-02-28 00:00:00\",\"2018-03-31 00:00:00\",\"2018-04-30 00:00:00\",\"2018-05-31 00:00:00\",\"2018-06-30 00:00:00\",\"2018-07-31 00:00:00\",\"2018-08-31 00:00:00\",\"2018-10-31 00:00:00\",\"2018-11-30 00:00:00\",\"2018-12-31 00:00:00\",\"2019-01-31 00:00:00\",\"2019-02-28 00:00:00\",\"2019-03-31 00:00:00\",\"2019-04-30 00:00:00\",\"2019-05-31 00:00:00\",\"2019-06-30 00:00:00\",\"2019-07-31 00:00:00\",\"2019-08-31 00:00:00\",\"2019-09-30 00:00:00\",\"2019-10-31 00:00:00\",\"2019-11-30 00:00:00\",\"2015-03-31 00:00:00\",\"2015-04-30 00:00:00\",\"2015-05-31 00:00:00\",\"2015-06-30 00:00:00\",\"2015-07-31 00:00:00\",\"2015-08-31 00:00:00\",\"2015-09-30 00:00:00\",\"2015-10-31 00:00:00\",\"2015-11-30 00:00:00\",\"2015-12-31 00:00:00\",\"2016-01-31 00:00:00\",\"2016-02-29 00:00:00\",\"2016-03-31 00:00:00\",\"2016-04-30 00:00:00\",\"2016-05-31 00:00:00\",\"2016-06-30 00:00:00\",\"2016-07-31 00:00:00\",\"2016-08-31 00:00:00\",\"2016-09-30 00:00:00\",\"2016-10-31 00:00:00\",\"2016-11-30 00:00:00\",\"2016-12-31 00:00:00\",\"2017-01-31 00:00:00\",\"2017-02-28 00:00:00\",\"2017-03-31 00:00:00\",\"2017-04-30 00:00:00\",\"2017-05-31 00:00:00\",\"2017-06-30 00:00:00\",\"2017-07-31 00:00:00\",\"2017-08-31 00:00:00\",\"2017-09-30 00:00:00\",\"2017-10-31 00:00:00\",\"2017-11-30 00:00:00\",\"2017-12-31 00:00:00\",\"2018-01-31 00:00:00\",\"2018-02-28 00:00:00\",\"2018-03-31 00:00:00\",\"2018-04-30 00:00:00\",\"2018-05-31 00:00:00\",\"2018-06-30 00:00:00\",\"2018-07-31 00:00:00\",\"2018-08-31 00:00:00\",\"2018-10-31 00:00:00\",\"2018-11-30 00:00:00\",\"2018-12-31 00:00:00\",\"2019-01-31 00:00:00\",\"2019-02-28 00:00:00\",\"2019-03-31 00:00:00\",\"2019-04-30 00:00:00\",\"2019-05-31 00:00:00\",\"2019-06-30 00:00:00\",\"2019-07-31 00:00:00\",\"2019-08-31 00:00:00\",\"2019-09-30 00:00:00\",\"2019-10-31 00:00:00\",\"2019-11-30 00:00:00\",\"2015-03-31 00:00:00\",\"2015-04-30 00:00:00\",\"2015-05-31 00:00:00\",\"2015-06-30 00:00:00\",\"2015-07-31 00:00:00\",\"2015-08-31 00:00:00\",\"2015-09-30 00:00:00\",\"2015-10-31 00:00:00\",\"2015-11-30 00:00:00\",\"2015-12-31 00:00:00\",\"2016-01-31 00:00:00\",\"2016-02-29 00:00:00\",\"2016-03-31 00:00:00\",\"2016-04-30 00:00:00\",\"2016-05-31 00:00:00\",\"2016-06-30 00:00:00\",\"2016-07-31 00:00:00\",\"2016-08-31 00:00:00\",\"2016-09-30 00:00:00\",\"2016-10-31 00:00:00\",\"2016-11-30 00:00:00\",\"2016-12-31 00:00:00\",\"2017-01-31 00:00:00\",\"2017-02-28 00:00:00\",\"2017-03-31 00:00:00\",\"2017-04-30 00:00:00\",\"2017-05-31 00:00:00\",\"2017-06-30 00:00:00\",\"2017-07-31 00:00:00\",\"2017-08-31 00:00:00\",\"2017-09-30 00:00:00\",\"2017-10-31 00:00:00\",\"2017-11-30 00:00:00\",\"2017-12-31 00:00:00\",\"2018-01-31 00:00:00\",\"2018-02-28 00:00:00\",\"2018-03-31 00:00:00\",\"2018-04-30 00:00:00\",\"2018-05-31 00:00:00\",\"2018-06-30 00:00:00\",\"2018-07-31 00:00:00\",\"2018-08-31 00:00:00\",\"2018-10-31 00:00:00\",\"2018-11-30 00:00:00\",\"2018-12-31 00:00:00\",\"2019-01-31 00:00:00\",\"2019-02-28 00:00:00\",\"2019-03-31 00:00:00\",\"2019-04-30 00:00:00\",\"2019-05-31 00:00:00\",\"2019-06-30 00:00:00\",\"2019-07-31 00:00:00\",\"2019-08-31 00:00:00\",\"2019-09-30 00:00:00\",\"2019-10-31 00:00:00\",\"2019-11-30 00:00:00\",\"2015-03-31 00:00:00\",\"2015-04-30 00:00:00\",\"2015-05-31 00:00:00\",\"2015-06-30 00:00:00\",\"2015-07-31 00:00:00\",\"2015-08-31 00:00:00\",\"2015-09-30 00:00:00\",\"2015-10-31 00:00:00\",\"2015-11-30 00:00:00\",\"2015-12-31 00:00:00\",\"2016-01-31 00:00:00\",\"2016-02-29 00:00:00\",\"2016-03-31 00:00:00\",\"2016-04-30 00:00:00\",\"2016-05-31 00:00:00\",\"2016-06-30 00:00:00\",\"2016-07-31 00:00:00\",\"2016-08-31 00:00:00\",\"2016-09-30 00:00:00\",\"2016-10-31 00:00:00\",\"2016-11-30 00:00:00\",\"2016-12-31 00:00:00\",\"2017-01-31 00:00:00\",\"2017-02-28 00:00:00\",\"2017-03-31 00:00:00\",\"2017-04-30 00:00:00\",\"2017-05-31 00:00:00\",\"2017-06-30 00:00:00\",\"2017-07-31 00:00:00\",\"2017-08-31 00:00:00\",\"2017-09-30 00:00:00\",\"2017-10-31 00:00:00\",\"2017-11-30 00:00:00\",\"2017-12-31 00:00:00\",\"2018-01-31 00:00:00\",\"2018-02-28 00:00:00\",\"2018-03-31 00:00:00\",\"2018-04-30 00:00:00\",\"2018-05-31 00:00:00\",\"2018-06-30 00:00:00\",\"2018-07-31 00:00:00\",\"2018-08-31 00:00:00\",\"2018-10-31 00:00:00\",\"2018-11-30 00:00:00\",\"2018-12-31 00:00:00\",\"2019-01-31 00:00:00\",\"2019-02-28 00:00:00\",\"2019-03-31 00:00:00\",\"2019-04-30 00:00:00\",\"2019-05-31 00:00:00\",\"2019-06-30 00:00:00\",\"2019-07-31 00:00:00\",\"2019-08-31 00:00:00\",\"2019-09-30 00:00:00\",\"2019-10-31 00:00:00\",\"2019-11-30 00:00:00\",\"2015-03-31 00:00:00\",\"2015-04-30 00:00:00\",\"2015-05-31 00:00:00\",\"2015-06-30 00:00:00\",\"2015-07-31 00:00:00\",\"2015-08-31 00:00:00\",\"2015-09-30 00:00:00\",\"2015-10-31 00:00:00\",\"2015-11-30 00:00:00\",\"2015-12-31 00:00:00\",\"2016-01-31 00:00:00\",\"2016-02-29 00:00:00\",\"2016-03-31 00:00:00\",\"2016-04-30 00:00:00\",\"2016-05-31 00:00:00\",\"2016-06-30 00:00:00\",\"2016-07-31 00:00:00\",\"2016-08-31 00:00:00\",\"2016-09-30 00:00:00\",\"2016-10-31 00:00:00\",\"2016-11-30 00:00:00\",\"2016-12-31 00:00:00\",\"2017-01-31 00:00:00\",\"2017-02-28 00:00:00\",\"2017-03-31 00:00:00\",\"2017-04-30 00:00:00\",\"2017-05-31 00:00:00\",\"2017-06-30 00:00:00\",\"2017-07-31 00:00:00\",\"2017-08-31 00:00:00\",\"2017-09-30 00:00:00\",\"2017-10-31 00:00:00\",\"2017-11-30 00:00:00\",\"2017-12-31 00:00:00\",\"2018-01-31 00:00:00\",\"2018-02-28 00:00:00\",\"2018-03-31 00:00:00\",\"2018-04-30 00:00:00\",\"2018-05-31 00:00:00\",\"2018-06-30 00:00:00\",\"2018-07-31 00:00:00\",\"2018-08-31 00:00:00\",\"2018-10-31 00:00:00\",\"2018-11-30 00:00:00\",\"2018-12-31 00:00:00\",\"2019-01-31 00:00:00\",\"2019-02-28 00:00:00\",\"2019-03-31 00:00:00\",\"2019-04-30 00:00:00\",\"2019-05-31 00:00:00\",\"2019-06-30 00:00:00\",\"2019-07-31 00:00:00\",\"2019-08-31 00:00:00\",\"2019-09-30 00:00:00\",\"2019-10-31 00:00:00\",\"2019-11-30 00:00:00\"],\"top\":{\"__ndarray__\":\"AAAAAAAAAAAAAAAAAADwPwAAAAAAAAAAAAAAAAAAAAAAAAAAAAAAAAAAAAAAAAAAAAAAAAAAAAAAAAAAAAAAAAAAAAAAAAAAAAAAAAAAAAAAAAAAAAAAAAAAAAAAAAAAAAAAAAAAAAAAAAAAAAAAAAAAAAAAAAAAAAAAAAAAAAAAAAAAAAAAAAAAAAAAAAAAAAAAAAAAAAAAAAAAAAAAAAAAAAAAAAAAAAAAAAAAAAAAAAAAAAAAAAAAAAAAAAAAAAAAAAAAAAAAAAAAAAAAAAAAAAAAAAAAAAAAAAAAAEAAAAAAAAAAAAAAAAAAAAAAAAAAAAAAAAAAAAAAAAAAAAAAAAAAAAAAAAAAAAAAAAAAAAAAAAAAAAAAAAAAAAAAAAAAAAAAAAAAAAAAAAAAAAAAAAAAAAAAAAAAAAAAAAAAAAAAAAAAAAAAAAAAAAAAAAAAAAAAAAAAAAAAAAAAAAAAAAAAAAAAAAAAAAAAAAAAAAAAAAAAAAAAAAAAAAAAAAAAAAAAAAAAAAAAAAAAAAAAAAAAAAAAAAAAAAAAAAAAAAAAAAAAAAAAAAAAAAAAAAAAAAAAAAAAAAAAAAAAAAAAAAAAAABAAAAAAAAA8D8AAAAAAAAAAAAAAAAAAAAAAAAAAAAA8D8AAAAAAAAAAAAAAAAAAAAAAAAAAAAAAAAAAAAAAAAAAAAAAAAAAAAAAAAAAAAA8D8AAAAAAADwPwAAAAAAAAAAAAAAAAAAAAAAAAAAAADwPwAAAAAAAAAAAAAAAAAAAAAAAAAAAAAAAAAAAAAAAAAAAAAAAAAAAAAAAAAAAAAAAAAAAAAAAAAAAAAAAAAAAAAAAAAAAAAAAAAAAAAAAAAAAAAAAAAAAAAAAAAAAAAAAAAAAAAAAABAAAAAAAAAAAAAAAAAAAAAAAAAAAAAAAAAAAAAAAAAAAAAAAAAAAAAAAAAAAAAAAAAAAAAAAAAAAAAAAAAAADwPwAAAAAAAAAAAAAAAAAAAAAAAAAAAAAAAAAAAAAAAAAAAAAAAAAAAAAAAAAAAAAAAAAAAAAAAAAAAAAAAAAAAAAAAAAAAAAAAAAAAAAAAAAAAAAAAAAAAAAAAAAAAAAAAAAAAAAAAAAAAAAAAAAAAAAAAAAAAAAAAAAAAAAAAAAAAAAAAAAA8D8AAAAAAAAAAAAAAAAAAAAAAAAAAAAAAAAAAAAAAAAAQAAAAAAAAABAAAAAAAAAAAAAAAAAAAAAAAAAAAAAAABAAAAAAAAAAAAAAAAAAAAAAAAAAAAAAAAAAAAAAAAAAAAAAAAAAAAAQAAAAAAAAAhAAAAAAAAA8D8AAAAAAAAAAAAAAAAAAAAAAAAAAAAA8D8AAAAAAAAAAAAAAAAAAAAAAAAAAAAAAAAAAAAAAAAAAAAAAAAAAAAAAAAAAAAAAAAAAAAAAAAAAAAAAAAAAAAAAAAAAAAAAAAAAAAAAAAAAAAAAAAAAAAAAAAAAAAAAAAAAAAAAAAAQAAAAAAAAAAAAAAAAAAAAAAAAAAAAAAAAAAAAAAAAAAAAAAAAAAAAAAAAAAAAAAAAAAAAAAAAAAAAAAAAAAA8D8AAAAAAAAAAAAAAAAAAAAAAAAAAAAAAAAAAAAAAAAAAAAAAAAAAAAAAAAAAAAAAAAAAAAAAAAAAAAAAAAAAAAAAAAAAAAAAAAAAAAAAAAAAAAAAAAAAAAAAAAAAAAAAAAAAAAAAAAAAAAAAAAAAAAAAAAAAAAAAAAAAAAAAAAAAAAAAAAAAPA/AAAAAAAAAAAAAAAAAAAAAAAAAAAAAAAAAAAAAAAAAEAAAAAAAAAAQAAAAAAAAAAAAAAAAAAAAAAAAAAAAAAAQAAAAAAAAAAAAAAAAAAAAAAAAAAAAAAAAAAAAAAAAAAAAAAAAAAAAEAAAAAAAAAIQAAAAAAAAPA/AAAAAAAAAAAAAAAAAAAAAAAAAAAAAPA/AAAAAAAAAAAAAAAAAAAAAAAAAAAAAAAAAAAAAAAAAAAAAAAAAAAAAAAAAAAAAAAAAAAAAAAAAAAAAAAAAAAAAAAAAAAAAAAAAAAAAAAAAAAAAAAAAAAAAAAAAAAAAAAAAAAAAAAAAEAAAAAAAAAAAAAAAAAAAAAAAAAAAAAAAAAAAAAAAAAAAAAAAAAAAAAAAAAAAAAAAAAAAAAAAADwPwAAAAAAAPA/AAAAAAAAAAAAAAAAAAAAAAAAAAAAAAAAAAAAAAAAAAAAAAAAAAAAAAAAAAAAAAAAAAAAAAAAAAAAAAAAAAAAAAAAAAAAAAAAAAAAAAAAAAAAAAAAAAAAAAAAAAAAAAAAAAAAAAAAAAAAAAAAAAAAAAAAAAAAAAAAAAAAAAAA8D8AAAAAAADwPwAAAAAAAAAAAAAAAAAA8D8AAAAAAAAAAAAAAAAAABBAAAAAAAAAGEAAAAAAAAAAAAAAAAAAAABAAAAAAAAAIEAAAAAAAAAAQAAAAAAAAAAAAAAAAAAAAAAAAAAAAADwPwAAAAAAAABAAAAAAAAACEAAAAAAAAAAQAAAAAAAAAAAAAAAAAAAAEAAAAAAAADwPwAAAAAAAAAAAAAAAAAAAEAAAAAAAAAAAAAAAAAAAAAAAAAAAAAAAAAAAAAAAAAAAAAAAAAAAAAAAAAAAAAAAAAAAAAAAAAAAAAAAAAAAAAAAAAAAAAAAAAAAAAAAAAAAAAAAAAAAAhAAAAAAAAAAAAAAAAAAAAAAAAAAAAAAPA/AAAAAAAAAAAAAAAAAAAAAAAAAAAAAAAAAAAAAAAA8D8AAAAAAADwPwAAAAAAAAAAAAAAAAAAAAAAAAAAAAAAAAAAAAAAAPA/AAAAAAAAAAAAAAAAAAAAAAAAAAAAAAAAAAAAAAAAAAAAAAAAAAAAAAAAAAAAAPA/AAAAAAAAAAAAAAAAAAAAAAAAAAAAAAAAAAAAAAAAAAAAAAAAAAAAAAAAAAAAAPA/AAAAAAAA8D8AAAAAAAAAAAAAAAAAAPA/AAAAAAAAAAAAAAAAAAAQQAAAAAAAABhAAAAAAAAAAAAAAAAAAAAUQAAAAAAAACRAAAAAAAAAAEAAAAAAAAAAAAAAAAAAAAAAAAAAAAAA8D8AAAAAAAAAQAAAAAAAABBAAAAAAAAAAEAAAAAAAAAAAAAAAAAAAABAAAAAAAAA8D8AAAAAAAAAAAAAAAAAAABAAAAAAAAAAAAAAAAAAADwPwAAAAAAAAAAAAAAAAAAAAAAAAAAAAAAAAAAAAAAAAAAAAAAAAAAAAAAAAAAAAAAAAAAAAAAAAAAAAAAAAAAAAAAAAAAAAAQQAAAAAAAAAAAAAAAAAAAAAAAAAAAAADwPwAAAAAAAAAAAAAAAAAAAAAAAAAAAAAAAAAAAAAAAPA/AAAAAAAA8D8AAAAAAAAAAAAAAAAAAAAAAAAAAAAAAAAAAAAAAADwPwAAAAAAAAAAAAAAAAAAAAAAAAAAAAAAAAAAAAAAAAAAAAAAAAAAAAAAAAAAAADwPwAAAAAAAAAAAAAAAAAAAAAAAAAAAAAAAAAAAAAAAAAAAAAAAAAAAAAAAAAAAADwPwAAAAAAAPA/AAAAAAAAAAAAAAAAAADwPwAAAAAAAAAAAAAAAAAAEEAAAAAAAAAcQAAAAAAAAPA/AAAAAAAAGEAAAAAAAAAqQAAAAAAAAABAAAAAAAAAAAAAAAAAAAAAAAAAAAAAAABAAAAAAAAAAEAAAAAAAAAQQAAAAAAAABBAAAAAAAAAAAAAAAAAAAAAQAAAAAAAAPA/AAAAAAAAAAAAAAAAAAAAQAAAAAAAAAAAAAAAAAAA8D8AAAAAAAAAAAAAAAAAAAAAAAAAAAAAAAAAAAAAAAAAAAAAAAAAAAAAAAAAAAAAAAAAAAAAAAAAAAAAAAAAAAAAAAAAAAAAGEAAAAAAAAAAAAAAAAAAAAAAAAAAAAAA8D8AAAAAAAAAAAAAAAAAAAAAAAAAAAAAAAAAAAAAAADwPwAAAAAAAPA/AAAAAAAAAAAAAAAAAAAAAAAAAAAAAAAAAAAAAAAA8D8AAAAAAAAAAAAAAAAAAAAAAAAAAAAAAAAAAAAAAAAAAAAAAAAAAAAAAAAAAAAA8D8AAAAAAAAAAAAAAAAAAAAAAAAAAAAAAAAAAAAAAAAAAAAAAAAAAAAAAAAAAAAA8D8AAAAAAADwPwAAAAAAAAAAAAAAAAAA8D8AAAAAAAAAAAAAAAAAABBAAAAAAAAAIEAAAAAAAAAcQAAAAAAAADdAAAAAAAAAOEAAAAAAAAAwQAAAAAAAACJAAAAAAAAALEAAAAAAAAAoQAAAAAAAACJAAAAAAAAAKkAAAAAAAAA0QAAAAAAAADBAAAAAAAAAOEAAAAAAAAAAQAAAAAAAABRAAAAAAAAAJEAAAAAAAAAUQAAAAAAAAABAAAAAAAAAAEAAAAAAAAAAQAAAAAAAAABAAAAAAAAACEAAAAAAAAAcQAAAAAAAAAhAAAAAAAAAJEAAAAAAAAAoQAAAAAAAACxAAAAAAAAAIEAAAAAAAAAUQAAAAAAAABxAAAAAAAAAHEAAAAAAAAAmQAAAAAAAABxAAAAAAAAAOUAAAAAAAAAyQAAAAAAAABhAAAAAAAAAHEAAAAAAAAAcQAAAAAAAABRAAAAAAAAACEAAAAAAAAAQQAAAAAAAABRAAAAAAAAA8D8AAAAAAAAAAAAAAAAAAPA/AAAAAAAAAEAAAAAAAAAYQAAAAAAAAAhAAAAAAAAACEAAAAAAAAA5QAAAAAAAADxAAAAAAAAAOUAAAAAAAAA6QAAAAAAAADdAAAAAAAAAFEAAAAAAAAAQQAAAAAAAADBAAAAAAAAAKEAAAAAAAAA8QAAAAAAAAD1AAAAAAAAAM0AAAAAAAAAiQAAAAAAAAC5AAAAAAAAAKkAAAAAAAAAkQAAAAAAAACpAAAAAAAAANEAAAAAAAAAwQAAAAAAAADpAAAAAAAAACEAAAAAAAAAUQAAAAAAAACRAAAAAAAAAGEAAAAAAAAAIQAAAAAAAAABAAAAAAAAAAEAAAAAAAAAAQAAAAAAAAAhAAAAAAAAAHEAAAAAAAAAIQAAAAAAAACZAAAAAAAAAKEAAAAAAAAAuQAAAAAAAACBAAAAAAAAAFEAAAAAAAAAcQAAAAAAAABxAAAAAAAAAJkAAAAAAAAAcQAAAAAAAADlAAAAAAAAANkAAAAAAAAAYQAAAAAAAABxAAAAAAAAAHEAAAAAAAAAYQAAAAAAAAAhAAAAAAAAAEEAAAAAAAAAcQAAAAAAAAPA/AAAAAAAAAAAAAAAAAAAAQAAAAAAAAABAAAAAAAAAGEAAAAAAAAAIQAAAAAAAABBAAAAAAAAAO0AAAAAAAAA8QAAAAAAAADpAAAAAAAAAOkAAAAAAAAA3QAAAAAAAABRAAAAAAAAAEEAAAAAAAAAwQAAAAAAAAChAAAAAAAAAP0AAAAAAAAA9QAAAAAAAADRAAAAAAAAAIkAAAAAAAAAuQAAAAAAAACpAAAAAAAAAJEAAAAAAAAAqQAAAAAAAADRAAAAAAAAAMEAAAAAAAAA7QAAAAAAAABBAAAAAAAAAFEAAAAAAAAAmQAAAAAAAACJAAAAAAAAAIEAAAAAAAAAUQAAAAAAAABhAAAAAAAAACEAAAAAAAAAUQAAAAAAAABxAAAAAAAAAIEAAAAAAAAAuQAAAAAAAACpAAAAAAAAAMUAAAAAAAAAgQAAAAAAAABRAAAAAAAAAHEAAAAAAAAAcQAAAAAAAACZAAAAAAAAAIEAAAAAAAAA8QAAAAAAAADdAAAAAAAAAGEAAAAAAAAAcQAAAAAAAABxAAAAAAAAAGEAAAAAAAAAIQAAAAAAAABRAAAAAAAAAIEAAAAAAAADwPwAAAAAAAABAAAAAAAAAAEAAAAAAAAAIQAAAAAAAABxAAAAAAAAAFEAAAAAAAAAQQAAAAAAAAD5AAAAAAAAAPEAAAAAAAAA8QAAAAAAAAEBAAAAAAAAAPEAAAAAAAAAUQAAAAAAAABBAAAAAAAAAMEAAAAAAAAAoQAAAAAAAAD9AAAAAAAAAPUAAAAAAAAA0QAAAAAAAACJAAAAAAAAALkAAAAAAAAAqQAAAAAAAACRAAAAAAAAALEAAAAAAAAA0QAAAAAAAADBAAAAAAAAAO0AAAAAAAAAQQAAAAAAAABRAAAAAAAAAJkAAAAAAAAAiQAAAAAAAACBAAAAAAAAAFEAAAAAAAAAYQAAAAAAAAAhAAAAAAAAAFEAAAAAAAAAcQAAAAAAAACBAAAAAAAAALkAAAAAAAAAqQAAAAAAAADFAAAAAAAAAIEAAAAAAAAAUQAAAAAAAABxAAAAAAAAAHEAAAAAAAAAmQAAAAAAAACBAAAAAAAAAPUAAAAAAAAA3QAAAAAAAABhAAAAAAAAAHEAAAAAAAAAcQAAAAAAAABhAAAAAAAAACEAAAAAAAAAUQAAAAAAAACBAAAAAAAAA8D8AAAAAAAAAQAAAAAAAAABAAAAAAAAACEAAAAAAAAAcQAAAAAAAABRAAAAAAAAAEEAAAAAAAAA+QAAAAAAAAD1AAAAAAAAAPEAAAAAAAABAQAAAAAAAADxAAAAAAAAAFEAAAAAAAAAQQAAAAAAAADBAAAAAAAAAKEAAAAAAAAA/QAAAAAAAAD1AAAAAAAAANEAAAAAAAAAiQAAAAAAAAC5AAAAAAAAAKkAAAAAAAAAkQAAAAAAAACxAAAAAAAAANEAAAAAAAAAwQAAAAAAAADtAAAAAAAAAEEAAAAAAAAAUQAAAAAAAACZAAAAAAAAAIkAAAAAAAAAgQAAAAAAAABRAAAAAAAAAGEAAAAAAAAAIQAAAAAAAABRAAAAAAAAAHEAAAAAAAAAgQAAAAAAAADBAAAAAAAAAKkAAAAAAAAAxQAAAAAAAACBAAAAAAAAAFEAAAAAAAAAcQAAAAAAAABxAAAAAAAAAJkAAAAAAAAAgQAAAAAAAAD1AAAAAAAAAN0AAAAAAAAAYQAAAAAAAABxAAAAAAAAAHEAAAAAAAAAYQAAAAAAAAAhAAAAAAAAAFEAAAAAAAAAgQAAAAAAAAPA/AAAAAAAAAEAAAAAAAAAAQAAAAAAAAAhAAAAAAAAAHEAAAAAAAAAUQAAAAAAAABBAAAAAAAAAPkAAAAAAAAA9QAAAAAAAADxAAAAAAAAAQEAAAAAAAAA8QAAAAAAAABRAAAAAAAAAEEAAAAAAAAAwQAAAAAAAAChAAAAAAAAAP0AAAAAAAAA9QAAAAAAAADRAAAAAAAAAIkAAAAAAAAAuQAAAAAAAACpAAAAAAAAAJEAAAAAAAAAsQAAAAAAAADVAAAAAAAAAMEAAAAAAAAA8QAAAAAAAABBAAAAAAAAAGEAAAAAAAAAmQAAAAAAAACJAAAAAAAAAIEAAAAAAAAAYQAAAAAAAABhAAAAAAAAAEEAAAAAAAAAYQAAAAAAAABxAAAAAAAAAIkAAAAAAAAAyQAAAAAAAACpAAAAAAAAAMUAAAAAAAAAgQAAAAAAAABhAAAAAAAAAHEAAAAAAAAAgQAAAAAAAACpAAAAAAAAAIEAAAAAAAAA/QAAAAAAAADlAAAAAAAAAGEAAAAAAAAAkQAAAAAAAABxAAAAAAAAAGEAAAAAAAAAIQAAAAAAAABxAAAAAAAAAIkAAAAAAAAAAQAAAAAAAAAhAAAAAAAAAAEAAAAAAAAAIQAAAAAAAACBAAAAAAAAAFEAAAAAAAAAUQAAAAAAAAENAAAAAAAAAREAAAAAAAIBDQAAAAAAAgERAAAAAAAAAQkAAAAAAAAAYQAAAAAAAABBAAAAAAAAAMEAAAAAAAAAoQAAAAAAAAD9AAAAAAAAAPUAAAAAAAAA0QAAAAAAAACJAAAAAAAAALkAAAAAAAAAqQAAAAAAAACRAAAAAAAAALEAAAAAAAAA1QAAAAAAAADBAAAAAAAAAPEAAAAAAAAAQQAAAAAAAABhAAAAAAAAAJkAAAAAAAAAiQAAAAAAAACBAAAAAAAAAGEAAAAAAAAAYQAAAAAAAABBAAAAAAAAAGEAAAAAAAAAcQAAAAAAAACJAAAAAAAAAMkAAAAAAAAAqQAAAAAAAADNAAAAAAAAAIEAAAAAAAAAYQAAAAAAAABxAAAAAAAAAIEAAAAAAAAAqQAAAAAAAACBAAAAAAAAAP0AAAAAAAAA5QAAAAAAAABhAAAAAAAAAJEAAAAAAAAAcQAAAAAAAABhAAAAAAAAACEAAAAAAAAAcQAAAAAAAACJAAAAAAAAAAEAAAAAAAAAIQAAAAAAAAABAAAAAAAAACEAAAAAAAAAgQAAAAAAAABRAAAAAAAAAFEAAAAAAAABDQAAAAAAAAERAAAAAAACAQ0AAAAAAAIBEQAAAAAAAAEJAAAAAAAAAGEAAAAAAAAAQQAAAAAAAADBAAAAAAAAAKEAAAAAAAABAQAAAAAAAAD1AAAAAAAAANEAAAAAAAAAiQAAAAAAAAC5AAAAAAAAAKkAAAAAAAAAkQAAAAAAAACxAAAAAAAAANUAAAAAAAAAwQAAAAAAAADxAAAAAAAAAEEAAAAAAAAAYQAAAAAAAACZAAAAAAAAAIkAAAAAAAAAgQAAAAAAAABhAAAAAAAAAGEAAAAAAAAAQQAAAAAAAABhAAAAAAAAAHEAAAAAAAAAiQAAAAAAAADJAAAAAAAAAKkAAAAAAAAAzQAAAAAAAACBAAAAAAAAAGEAAAAAAAAAcQAAAAAAAACBAAAAAAAAAKkAAAAAAAAAgQAAAAAAAAD9AAAAAAAAAOUAAAAAAAAAYQAAAAAAAACRAAAAAAAAAHEAAAAAAAAAYQAAAAAAAAAhAAAAAAAAAHEAAAAAAAAAiQAAAAAAAAABAAAAAAAAACEAAAAAAAAAAQAAAAAAAAAhAAAAAAAAAIEAAAAAAAAAUQAAAAAAAABRAAAAAAAAAQ0AAAAAAAABEQAAAAAAAgENAAAAAAACAREAAAAAAAABCQAAAAAAAABhAAAAAAAAAGEAAAAAAAAAzQAAAAAAAACpAAAAAAAAAQUAAAAAAAAA9QAAAAAAAADVAAAAAAAAAIkAAAAAAAAAuQAAAAAAAACpAAAAAAAAAJEAAAAAAAAAwQAAAAAAAADVAAAAAAAAAMUAAAAAAAAA8QAAAAAAAABBAAAAAAAAAGEAAAAAAAAAmQAAAAAAAACJAAAAAAAAAIEAAAAAAAAAYQAAAAAAAABhAAAAAAAAAEEAAAAAAAAAYQAAAAAAAABxAAAAAAAAAIkAAAAAAAAAzQAAAAAAAACpAAAAAAAAANEAAAAAAAAAgQAAAAAAAABhAAAAAAAAAHEAAAAAAAAAgQAAAAAAAACpAAAAAAAAAIEAAAAAAAAA/QAAAAAAAADlAAAAAAAAAGEAAAAAAAAAkQAAAAAAAABxAAAAAAAAAGEAAAAAAAAAIQAAAAAAAABxAAAAAAAAAIkAAAAAAAAAAQAAAAAAAAAhAAAAAAAAAAEAAAAAAAAAIQAAAAAAAACBAAAAAAAAAFEAAAAAAAAAUQAAAAAAAgERAAAAAAAAARUAAAAAAAABEQAAAAAAAgERAAAAAAAAAQkAAAAAAAAAYQA==\",\"dtype\":\"float64\",\"shape\":[896]},\"value\":{\"__ndarray__\":\"AAAAAAAAAAAAAAAAAADwPwAAAAAAAAAAAAAAAAAAAAAAAAAAAAAAAAAAAAAAAAAAAAAAAAAAAAAAAAAAAAAAAAAAAAAAAAAAAAAAAAAAAAAAAAAAAAAAAAAAAAAAAAAAAAAAAAAAAAAAAAAAAAAAAAAAAAAAAAAAAAAAAAAAAAAAAAAAAAAAAAAAAAAAAAAAAAAAAAAAAAAAAAAAAAAAAAAAAAAAAAAAAAAAAAAAAAAAAAAAAAAAAAAAAAAAAAAAAAAAAAAAAAAAAAAAAAAAAAAAAAAAAAAAAAAAAAAAAEAAAAAAAAAAAAAAAAAAAAAAAAAAAAAAAAAAAAAAAAAAAAAAAAAAAAAAAAAAAAAAAAAAAAAAAAAAAAAAAAAAAAAAAAAAAAAAAAAAAAAAAAAAAAAAAAAAAAAAAAAAAAAAAAAAAAAAAAAAAAAAAAAAAAAAAAAAAAAAAAAAAAAAAAAAAAAAAAAAAAAAAAAAAAAAAAAAAAAAAAAAAAAAAAAAAAAAAAAAAAAAAAAAAAAAAAAAAAAAAAAAAAAAAAAAAAAAAAAAAAAAAAAAAAAAAAAAAAAAAAAAAAAAAAAAAAAAAAAAAAAAAAAAAABAAAAAAAAAAAAAAAAAAAAAAAAAAAAAAAAAAAAAAAAA8D8AAAAAAAAAAAAAAAAAAAAAAAAAAAAAAAAAAAAAAAAAAAAAAAAAAAAAAAAAAAAA8D8AAAAAAADwPwAAAAAAAAAAAAAAAAAAAAAAAAAAAADwPwAAAAAAAAAAAAAAAAAAAAAAAAAAAAAAAAAAAAAAAAAAAAAAAAAAAAAAAAAAAAAAAAAAAAAAAAAAAAAAAAAAAAAAAAAAAAAAAAAAAAAAAAAAAAAAAAAAAAAAAAAAAAAAAAAAAAAAAAAAAAAAAAAAAAAAAAAAAAAAAAAAAAAAAAAAAAAAAAAAAAAAAAAAAAAAAAAAAAAAAAAAAAAAAAAAAAAAAAAAAADwPwAAAAAAAAAAAAAAAAAAAAAAAAAAAAAAAAAAAAAAAAAAAAAAAAAAAAAAAAAAAAAAAAAAAAAAAAAAAAAAAAAAAAAAAAAAAAAAAAAAAAAAAAAAAAAAAAAAAAAAAAAAAAAAAAAAAAAAAAAAAAAAAAAAAAAAAAAAAAAAAAAAAAAAAAAAAAAAAAAA8D8AAAAAAAAAAAAAAAAAAAAAAAAAAAAAAAAAAAAAAAAAAAAAAAAAAPA/AAAAAAAAAAAAAAAAAAAAAAAAAAAAAPA/AAAAAAAAAAAAAAAAAAAAAAAAAAAAAAAAAAAAAAAAAAAAAAAAAAAAQAAAAAAAAABAAAAAAAAAAAAAAAAAAAAAAAAAAAAAAAAAAAAAAAAAAAAAAAAAAAAAAAAAAAAAAAAAAAAAAAAAAAAAAAAAAAAAAAAAAAAAAAAAAAAAAAAAAAAAAAAAAAAAAAAAAAAAAAAAAAAAAAAAAAAAAAAAAAAAAAAAAAAAAAAAAAAAAAAAAAAAAAAAAAAAAAAAAAAAAAAAAAAAAAAAAAAAAAAAAAAAAAAAAAAAAAAAAAAAAAAAAAAAAAAAAAAAAAAAAAAAAAAAAAAAAAAAAAAAAAAAAAAAAAAAAAAAAAAAAAAAAAAAAAAAAAAAAAAAAAAAAAAAAAAAAAAAAAAAAAAAAAAAAAAAAAAAAAAAAAAAAAAAAAAAAAAAAAAAAAAAAAAAAAAAAAAAAAAAAAAAAAAAAAAAAAAAAAAAAAAAAAAAAAAAAAAAAAAAAAAAAAAAAAAAAAAAAAAAAAAAAAAAAAAAAAAAAAAAAAAAAAAAAAAAAAAAAAAAAAAAAAAAAAAAAAAAAAAAAAAAAAAAAAAAAAAAAAAAAAAAAAAAAAAAAAAAAAAAAAAAAAAAAAAAAAAAAAAAAAAAAAAAAAAAAAAAAAAAAAAAAAAAAAAAAAAAAAAAAAAAAAAAAAAAAAAAAAAAAAAAAAAAAAAAAAAAAAAAAAAAAAAAAAAAAAAAAAAAAAAAAAAAAAAAAAAAAAAAAAAAAAAAAAAAAAAAAAAAAAAAAAAAAAAAAAAAAAAAAAAAAAAAAAAAAAAAAAAAAAAAAAAAAAAAAAAAAAAAAAAAAAAAAAAAAAAAAAAAAAAAAAAAAAAAAAAAAAAAAAAAAAAAAAAAAAAAAAAAAAAAAAAAAAAAAAAAAAAAAADwPwAAAAAAAAAAAAAAAAAAAAAAAAAAAAAAAAAAAAAAAAAAAAAAAAAAAAAAAAAAAAAAAAAAAAAAAAAAAAAAAAAAAAAAAAAAAAAAAAAAAAAAAAAAAAAAAAAAAAAAAAAAAAAAAAAAAAAAAAAAAAAAAAAAAAAAAAAAAAAAAAAAAAAAAAAAAAAAAAAA8D8AAAAAAAAAAAAAAAAAAAAAAAAAAAAA8D8AAAAAAAAAAAAAAAAAAABAAAAAAAAAEEAAAAAAAAAAAAAAAAAAAABAAAAAAAAAGEAAAAAAAAAAQAAAAAAAAAAAAAAAAAAAAAAAAAAAAADwPwAAAAAAAAAAAAAAAAAAAAAAAAAAAADwPwAAAAAAAAAAAAAAAAAAAEAAAAAAAAAAAAAAAAAAAAAAAAAAAAAAAEAAAAAAAAAAAAAAAAAAAAAAAAAAAAAAAAAAAAAAAAAAAAAAAAAAAAAAAAAAAAAAAAAAAAAAAAAAAAAAAAAAAAAAAAAAAAAAAAAAAAAAAAAAAAAAAAAAAPA/AAAAAAAAAAAAAAAAAAAAAAAAAAAAAPA/AAAAAAAAAAAAAAAAAAAAAAAAAAAAAAAAAAAAAAAAAAAAAAAAAAAAAAAAAAAAAAAAAAAAAAAAAAAAAAAAAAAAAAAAAAAAAPA/AAAAAAAAAAAAAAAAAAAAAAAAAAAAAAAAAAAAAAAAAAAAAAAAAAAAAAAAAAAAAPA/AAAAAAAAAAAAAAAAAAAAAAAAAAAAAAAAAAAAAAAAAAAAAAAAAAAAAAAAAAAAAAAAAAAAAAAAAAAAAAAAAAAAAAAAAAAAAAAAAAAAAAAAAAAAAAAAAAAAAAAAAAAAAAAAAAAAAAAAAAAAAAAAAAAIQAAAAAAAAABAAAAAAAAAAAAAAAAAAAAAAAAAAAAAAAAAAAAAAAAAAAAAAAAAAAAAAAAAAAAAAPA/AAAAAAAAAAAAAAAAAAAAAAAAAAAAAAAAAAAAAAAAAAAAAAAAAAAAAAAAAAAAAAAAAAAAAAAAAAAAAAAAAADwPwAAAAAAAAAAAAAAAAAAAAAAAAAAAAAAAAAAAAAAAAAAAAAAAAAAAAAAAAAAAAAAAAAAAAAAAAAAAAAAAAAAAAAAAAAAAADwPwAAAAAAAAAAAAAAAAAAAAAAAAAAAAAAAAAAAAAAAAAAAAAAAAAAAAAAAAAAAAAAAAAAAAAAAAAAAAAAAAAAAAAAAAAAAAAAAAAAAAAAAAAAAAAAAAAAAAAAAAAAAAAAAAAAAAAAAAAAAAAAAAAAAAAAAAAAAAAAAAAAAAAAAAAAAAAAAAAAAAAAAAAAAAAAAAAAAAAAAAAAAAAAAAAAAAAAAAAAAAAAAAAAAAAAAAAAAAAAAAAAAAAAAAAAAAAAAAAAAAAAAAAAAAAAAAAAAAAAAAAAAAAAAAAAAAAAAAAAAAAAAAAAAAAAAAAAAADwPwAAAAAAAPA/AAAAAAAA8D8AAAAAAAAIQAAAAAAAAAAAAAAAAAAAAAAAAAAAAAAAAAAAAAAAAPA/AAAAAAAAAAAAAAAAAAAAAAAAAAAAAABAAAAAAAAAAAAAAAAAAAAAAAAAAAAAAAAAAAAAAAAAAAAAAAAAAAAAAAAAAAAAAAAAAAAAAAAAAAAAAAAAAAAAAAAAAAAAAAAAAAAAAAAAAAAAAAAAAAAAAAAAAAAAAAAAAAAAAAAAAAAAAAAAAAAAAAAAAAAAAAAAAAAAAAAAAEAAAAAAAAAAAAAAAAAAAAAAAAAAAAAAAAAAAAAAAAAAAAAAAAAAAAAAAAAAAAAAAAAAAAAAAAAAAAAAAAAAAAAAAAAAAAAAAAAAAAAAAAAAAAAAAAAAAAAAAAAAAAAAAAAAAAAAAAAAAAAAAAAAAAAAAAAAAAAAAAAAAAAAAAAAAAAAAAAAAAAAAAAAAAAAAAAAAAAAAAAAAAAAAAAAAAAAAAAAAAAAAAAAAAAAAAAAAAAAAAAAAAAAAAAAAAAAAAAAAAAAAAAAAAAAAAAAAAAAAAAAAAAAAAAAAAAAAAAAAAAAAAAAAAAAAAAAAAAA8D8AAAAAAAAYQAAAAAAAADFAAAAAAAAAJkAAAAAAAAAsQAAAAAAAACJAAAAAAAAALEAAAAAAAAAkQAAAAAAAABxAAAAAAAAAIkAAAAAAAAAwQAAAAAAAADBAAAAAAAAANkAAAAAAAADwPwAAAAAAABRAAAAAAAAAIEAAAAAAAAAUQAAAAAAAAPA/AAAAAAAAAEAAAAAAAAAAQAAAAAAAAABAAAAAAAAACEAAAAAAAAAcQAAAAAAAAAhAAAAAAAAAJEAAAAAAAAAoQAAAAAAAACBAAAAAAAAAIEAAAAAAAAAUQAAAAAAAABhAAAAAAAAAHEAAAAAAAAAmQAAAAAAAABxAAAAAAAAAOEAAAAAAAAAxQAAAAAAAABhAAAAAAAAAHEAAAAAAAAAcQAAAAAAAABBAAAAAAAAACEAAAAAAAAAQQAAAAAAAABRAAAAAAAAA8D8AAAAAAAAAAAAAAAAAAAAAAAAAAAAAAEAAAAAAAAAYQAAAAAAAAAhAAAAAAAAACEAAAAAAAAA5QAAAAAAAADtAAAAAAAAAOEAAAAAAAAA6QAAAAAAAADZAAAAAAAAAFEAAAAAAAAAAAAAAAAAAACBAAAAAAAAAFEAAAAAAAAAUQAAAAAAAABRAAAAAAAAACEAAAAAAAAAAAAAAAAAAAPA/AAAAAAAA8D8AAAAAAADwPwAAAAAAAAAAAAAAAAAAAAAAAAAAAAAAAAAAAAAAAABAAAAAAAAA8D8AAAAAAAAAAAAAAAAAAAAAAAAAAAAA8D8AAAAAAADwPwAAAAAAAAAAAAAAAAAAAAAAAAAAAAAAAAAAAAAAAAAAAAAAAAAAAAAAAAAAAAAAAAAAAAAAAPA/AAAAAAAAAAAAAAAAAADwPwAAAAAAAAAAAAAAAAAAAAAAAAAAAAAAAAAAAAAAAAAAAAAAAAAAAAAAAAAAAAAAAAAAAAAAAAAAAAAAAAAAEEAAAAAAAAAAAAAAAAAAAAAAAAAAAAAAAAAAAAAAAADwPwAAAAAAAAAAAAAAAAAAAAAAAAAAAAAAQAAAAAAAAAAAAAAAAAAAAAAAAAAAAADwPwAAAAAAAAAAAAAAAAAAAAAAAAAAAAAAAAAAAAAAAPA/AAAAAAAAAEAAAAAAAAAAAAAAAAAAAPA/AAAAAAAAAAAAAAAAAAAAAAAAAAAAAAAAAAAAAAAAAAAAAAAAAAAAAAAAAAAAAAAAAAAAAAAACEAAAAAAAAAAAAAAAAAAAPA/AAAAAAAAAAAAAAAAAAAAAAAAAAAAAAAAAAAAAAAAAAAAAAAAAAAAAAAAAAAAAAAAAAAAAAAAAAAAAAAAAADwPwAAAAAAAPA/AAAAAAAAAAAAAAAAAADwPwAAAAAAAAhAAAAAAAAAFEAAAAAAAAAIQAAAAAAAABBAAAAAAAAA8D8AAAAAAAAAQAAAAAAAAAAAAAAAAAAAFEAAAAAAAAAQQAAAAAAAAPA/AAAAAAAAAEAAAAAAAAAAAAAAAAAAAAAAAAAAAAAAAAAAAAAAAAAAAAAAAAAAAAAAAAAAAAAA8D8AAAAAAAAIQAAAAAAAAPA/AAAAAAAAAAAAAAAAAAAAAAAAAAAAAAAAAAAAAAAAAAAAAAAAAAAAAAAAAAAAAPA/AAAAAAAA8D8AAAAAAAAAAAAAAAAAAABAAAAAAAAAAAAAAAAAAADwPwAAAAAAAPA/AAAAAAAAAEAAAAAAAAAAAAAAAAAAAAhAAAAAAAAAAAAAAAAAAAAAQAAAAAAAABhAAAAAAAAAFEAAAAAAAAAAAAAAAAAAAAAAAAAAAAAAAAAAAAAAAAAAAAAAAAAAAAAAAAAAAAAAAAAAAAAAAAAAAAAAAAAAAAAAAAAAAAAAAAAAAAAAAAAAAAAAAAAAAAAAAAAAAAAA8D8AAAAAAAAAAAAAAAAAAAAAAAAAAAAAAAAAAAAAAAAAAAAAAAAAAAAAAAAAAAAAAAAAAAAAAAAAAAAAAAAAAAAAAAAAAAAAAAAAAAAAAAAAAAAAAAAAAAAAAAAAAAAAAAAAAAAAAAAAAAAAAAAAAAAAAAAAAAAAAAAAAAAAAAAAAAAAAAAAAAAAAAAAAAAAAAAAAAAAAAAAAAAAAAAAAAAAAAAAAAAAAAAAAAAAAAAAAAAAAAAAAAAAAAAAAAAA8D8AAAAAAAAAAAAAAAAAAAAAAAAAAAAAAAAAAAAAAAAAAAAAAAAAAAAAAAAAAAAAAAAAAAAAAAAAAAAAAAAAAAAAAAAAAAAAAAAAAAAAAAAAAAAAAAAAAAAAAAAAAAAAAAAAAAAAAAAAAAAAAAAAAAAAAAAAAAAAAAAAAAAAAAAAAAAAAAAAAPA/AAAAAAAAAAAAAAAAAAAAAAAAAAAAAAAAAAAAAAAAAAAAAAAAAAAAAAAAAAAAAAAAAAAAAAAAAAAAAAAAAAAAAAAAAAAAAAAAAAAAAAAAAAAAAAAAAAAAAAAAAAAAAAAAAAAAAAAAAAAAAAAAAAAAAAAAAAAAAAAAAAAAAAAAAAAAAAAAAAAAAAAAAAAAAAAAAAAAAAAAAAAAAAAAAAAAAAAAAAAAAAAAAAAAAAAAAAAAAAAAAAAAAAAAAAAAAAAAAAAAAAAAAAAAAAAAAAAAAAAAAAAAAAAAAAAAAAAAAAAAAAAAAAAAAAAAAAAAAPA/AAAAAAAAAAAAAAAAAAAAAAAAAAAAAAAAAAAAAAAAAAAAAAAAAAAAAAAAAAAAAAAAAAAAAAAAAAAAAAAAAAAAAAAAAAAAAAAAAAAAAAAAAAAAAAAAAAAAAAAAAAAAAAAAAAAAAAAAAAAAAAAAAAAAAAAAAAAAAAAAAAAAAAAAAAAAAAAAAAAAAAAAAAAAAAAAAAAAAAAAAAAAAAAAAAAAAAAAAAAAAAAAAAAAAAAAAAAAAAAAAAAAAAAAAAAAAAAAAAAAAAAAAAAAAAAAAAAAAAAAAAAAAAAAAAAAAAAAAAAAAAAAAAAAAAAAAAAAAAAAAAAAAAAAAAAAAAAAAAAAAAAAAAAAAAAAAAAAAAAAAAAAAAAAAAAAAAAAAAAAAAAAAAAAAAAAAAAAAAAAAAAAAAAAAAAAAAAAAAAAAAAAAAAAAAAAAAAAAAAAAAAAAPA/AAAAAAAAAAAAAAAAAADwPwAAAAAAAAAAAAAAAAAA8D8AAAAAAAAAAAAAAAAAAAAAAAAAAAAAAAAAAAAAAADwPwAAAAAAAAAAAAAAAAAA8D8AAAAAAADwPwAAAAAAAAAAAAAAAAAA8D8AAAAAAAAAQAAAAAAAAAAAAAAAAAAAAAAAAAAAAAAAAAAAAAAAAPA/AAAAAAAAAAAAAAAAAADwPwAAAAAAAABAAAAAAAAAAAAAAAAAAAAAQAAAAAAAAABAAAAAAAAAAAAAAAAAAAAIQAAAAAAAAAAAAAAAAAAAAAAAAAAAAAAAAAAAAAAAAABAAAAAAAAA8D8AAAAAAADwPwAAAAAAAPA/AAAAAAAAAAAAAAAAAAAAAAAAAAAAAPA/AAAAAAAAAAAAAAAAAADwPwAAAAAAACBAAAAAAAAAJkAAAAAAAAAmQAAAAAAAACJAAAAAAAAAIEAAAAAAAADwPwAAAAAAAAAAAAAAAAAAAAAAAAAAAAAAAAAAAAAAAAAAAAAAAAAAAAAAAAAAAAAAAAAAAAAAAAAAAAAAAAAAAAAAAAAAAAAAAAAAAAAAAAAAAAAAAAAAAAAAAAAAAAAAAAAAAAAAAAAAAAAAAAAAAAAAAAAAAAAAAAAAAAAAAAAAAAAAAAAAAAAAAAAAAAAAAAAAAAAAAAAAAAAAAAAAAAAAAAAAAAAAAAAAAAAAAAAAAAAAAAAAAAAAAAAAAAAAAAAAAAAAAAAAAAAAAAAAAAAAAAAAAAAAAAAAAAAAAABAAAAAAAAAAAAAAAAAAAAAAAAAAAAAAAAAAAAAAAAAAAAAAAAAAAAAAAAAAAAAAAAAAAAAAAAAAAAAAAAAAAAAAAAAAAAAAAAAAAAAAAAAAAAAAAAAAAAAAAAAAAAAAAAAAAAAAAAAAAAAAAAAAAAAAAAAAAAAAAAAAAAAAAAAAAAAAAAAAAAAAAAAAAAAAAAAAAAAAAAAAAAAAAAAAAAAAAAAAAAAAAAAAAAAAAAAAAAAAAAAAAAAAAAAAAAAAAAAAAAAAAAAAAAAAAAAAAAAAAAAAAAAAAAAAAAAAAAAAAAAAAAAAAAAAAAAAAAAAAAAAAAAAAAAAAAAAAAAAADwPwAAAAAAAAAAAAAAAAAAAAAAAAAAAAAAAAAAAAAAAAAAAAAAAAAAAAAAAAAAAAAAAAAAAAAAAAAAAAAAAAAAAAAAAAAAAAAAAAAAAAAAAAAAAAAAAAAAAAAAAAAAAAAAAAAAAAAAAAAAAAAAAAAAAAAAAAAAAAAAAAAAAAAAAAAAAAAAAAAAAAAAAAAAAAAAAAAAAAAAAAAAAAAAAAAAAAAAAAAAAAAAAAAAAAAAAAAAAAAAAAAAAAAAAAAAAAAAAAAAAAAAAAAAAAAAAAAAAAAAAAAAAAAAAAAAAAAAAAAAAAAAAAAAAAAAAAAAAAAAAAAAAAAAAAAAAAAAAAAAAAAAAAAAAAAAAAAAAAAAAAAAAAAAAAAAAAAAAAAAAAAAAAAAAAAAAAAAAAAAAAAAAAAAAAAAAAAAAAAAAAAAAAAAAAAAAAAAAAAAAAAAAAAAAAAAAAAAAAAAAAAAAAAAAAAAAAAAAAAAAAAAAAAAAAAAAAAAAAAAAAAAAAAAAAAAAAAAAAAAAAAAAAAAAAAAAAAAAAAAAAAAAAAAAAAAAAAAAAAAAAAAAEAAAAAAAAAIQAAAAAAAAPA/AAAAAAAAAEAAAAAAAAAAAAAAAAAAAPA/AAAAAAAAAAAAAAAAAAAAAAAAAAAAAAAAAAAAAAAAAAAAAAAAAAAAQAAAAAAAAAAAAAAAAAAA8D8AAAAAAAAAAAAAAAAAAAAAAAAAAAAAAAAAAAAAAAAAAAAAAAAAAAAAAAAAAAAAAAAAAAAAAAAAAAAAAAAAAAAAAAAAAAAAAAAAAAAAAAAAAAAAAAAAAAAAAAAAAAAAAAAAAAAAAADwPwAAAAAAAAAAAAAAAAAA8D8AAAAAAAAAAAAAAAAAAAAAAAAAAAAAAAAAAAAAAAAAAAAAAAAAAAAAAAAAAAAAAAAAAAAAAAAAAAAAAAAAAAAAAAAAAAAAAAAAAAAAAAAAAAAAAAAAAAAAAAAAAAAAAAAAAAAAAAAAAAAAAAAAAAAAAAAAAAAAAAAAAAAAAAAAAAAAAAAAAAAAAAAAAAAAAAAAAAAAAAAAAAAAAAAAAAAAAAAAAAAAAAAAAAAAAAAAAAAAAAAAAAhAAAAAAAAAAEAAAAAAAADwPwAAAAAAAAAAAAAAAAAAAAAAAAAAAAAAAA==\",\"dtype\":\"float64\",\"shape\":[896]}},\"selected\":{\"id\":\"13232\",\"type\":\"Selection\"},\"selection_policy\":{\"id\":\"13258\",\"type\":\"UnionRenderers\"}},\"id\":\"13231\",\"type\":\"ColumnDataSource\"},{\"attributes\":{\"items\":[{\"id\":\"13246\",\"type\":\"LegendItem\"}],\"location\":[0,0]},\"id\":\"13245\",\"type\":\"Legend\"},{\"attributes\":{},\"id\":\"13214\",\"type\":\"BasicTicker\"},{\"attributes\":{\"callback\":null,\"renderers\":[{\"id\":\"13237\",\"type\":\"GlyphRenderer\"}],\"tags\":[\"hv_created\"],\"tooltips\":[[\"created_at\",\"@{created_at}\"],[\"Variable\",\"@{Variable}\"],[\"value\",\"@{value}\"]]},\"id\":\"13199\",\"type\":\"HoverTool\"}],\"root_ids\":[\"13200\"]},\"title\":\"Bokeh Application\",\"version\":\"1.3.4\"}};\n",
       "  var render_items = [{\"docid\":\"e5bcd8f5-ecd6-4a5d-b586-8a3da28161a2\",\"roots\":{\"13200\":\"89910eb0-794b-4193-8e7f-60346b712757\"}}];\n",
       "  root.Bokeh.embed.embed_items_notebook(docs_json, render_items);\n",
       "\n",
       "  }\n",
       "  if (root.Bokeh !== undefined) {\n",
       "    embed_document(root);\n",
       "  } else {\n",
       "    var attempts = 0;\n",
       "    var timer = setInterval(function(root) {\n",
       "      if (root.Bokeh !== undefined) {\n",
       "        embed_document(root);\n",
       "        clearInterval(timer);\n",
       "      }\n",
       "      attempts++;\n",
       "      if (attempts > 100) {\n",
       "        console.log(\"Bokeh: ERROR: Unable to run BokehJS code because BokehJS library is missing\");\n",
       "        clearInterval(timer);\n",
       "      }\n",
       "    }, 10, root)\n",
       "  }\n",
       "})(window);</script>"
      ],
      "text/plain": [
       ":Bars   [created_at,Variable]   (value)"
      ]
     },
     "metadata": {
      "application/vnd.holoviews_exec.v0+json": {
       "id": "13200"
      }
     },
     "output_type": "display_data"
    },
    {
     "data": {
      "application/vnd.holoviews_exec.v0+json": "",
      "text/html": [
       "<div id='13596' style='display: table; margin: 0 auto;'>\n",
       "\n",
       "\n",
       "\n",
       "\n",
       "\n",
       "  <div class=\"bk-root\" id=\"76dabe3a-7034-4aed-91b9-b384fa7c16f4\" data-root-id=\"13596\"></div>\n",
       "</div>\n",
       "<script type=\"application/javascript\">(function(root) {\n",
       "  function embed_document(root) {\n",
       "    \n",
       "  var docs_json = {\"38320d95-2b9a-47a7-a7c8-2320e102b923\":{\"roots\":{\"references\":[{\"attributes\":{\"children\":[{\"id\":\"13595\",\"type\":\"ToolbarBox\"},{\"id\":\"13593\",\"type\":\"GridBox\"}]},\"id\":\"13596\",\"type\":\"Column\"},{\"attributes\":{},\"id\":\"13417\",\"type\":\"CategoricalScale\"},{\"attributes\":{\"children\":[[{\"id\":\"13320\",\"subtype\":\"Figure\",\"type\":\"Plot\"},0,0],[{\"id\":\"13366\",\"subtype\":\"Figure\",\"type\":\"Plot\"},0,1],[{\"id\":\"13412\",\"subtype\":\"Figure\",\"type\":\"Plot\"},0,2],[{\"id\":\"13458\",\"subtype\":\"Figure\",\"type\":\"Plot\"},1,0],[{\"id\":\"13504\",\"subtype\":\"Figure\",\"type\":\"Plot\"},1,1]]},\"id\":\"13593\",\"type\":\"GridBox\"},{\"attributes\":{\"fill_alpha\":{\"value\":0.2},\"fill_color\":{\"value\":\"#1f77b3\"},\"line_alpha\":{\"value\":0.2},\"line_color\":{\"value\":\"black\"},\"top\":{\"field\":\"count\"},\"width\":{\"value\":0.8},\"x\":{\"field\":\"language\"}},\"id\":\"13355\",\"type\":\"VBar\"},{\"attributes\":{\"bottom_units\":\"screen\",\"fill_alpha\":{\"value\":0.5},\"fill_color\":{\"value\":\"lightgrey\"},\"left_units\":\"screen\",\"level\":\"overlay\",\"line_alpha\":{\"value\":1.0},\"line_color\":{\"value\":\"black\"},\"line_dash\":[4,4],\"line_width\":{\"value\":2},\"render_mode\":\"css\",\"right_units\":\"screen\",\"top_units\":\"screen\"},\"id\":\"13582\",\"type\":\"BoxAnnotation\"},{\"attributes\":{\"callback\":null,\"factors\":[\"CSS\",\"CSV\",\"CoffeeScript\",\"Graphviz (DOT)\",\"HTML\",\"JSON\",\"JavaScript\",\"Jupyter Notebook\",\"Markdown\",\"Python\",\"SVG\",\"Smarty\",\"Text\",\"TypeScript\",\"XML\",\"YAML\"],\"tags\":[[[\"language\",\"language\",null]]]},\"id\":\"13364\",\"type\":\"FactorRange\"},{\"attributes\":{},\"id\":\"13434\",\"type\":\"ResetTool\"},{\"attributes\":{},\"id\":\"13518\",\"type\":\"BasicTicker\"},{\"attributes\":{\"toolbar\":{\"id\":\"13594\",\"type\":\"ProxyToolbar\"},\"toolbar_location\":\"above\"},\"id\":\"13595\",\"type\":\"ToolbarBox\"},{\"attributes\":{},\"id\":\"13562\",\"type\":\"UnionRenderers\"},{\"attributes\":{},\"id\":\"13430\",\"type\":\"SaveTool\"},{\"attributes\":{\"axis_label\":\"language\",\"bounds\":\"auto\",\"formatter\":{\"id\":\"13451\",\"type\":\"CategoricalTickFormatter\"},\"major_label_orientation\":\"horizontal\",\"ticker\":{\"id\":\"13422\",\"type\":\"CategoricalTicker\"}},\"id\":\"13421\",\"type\":\"CategoricalAxis\"},{\"attributes\":{\"fill_alpha\":{\"value\":0.1},\"fill_color\":{\"value\":\"#1f77b3\"},\"line_alpha\":{\"value\":0.1},\"line_color\":{\"value\":\"black\"},\"top\":{\"field\":\"count\"},\"width\":{\"value\":0.8},\"x\":{\"field\":\"language\"}},\"id\":\"13400\",\"type\":\"VBar\"},{\"attributes\":{},\"id\":\"13523\",\"type\":\"PanTool\"},{\"attributes\":{\"data_source\":{\"id\":\"13350\",\"type\":\"ColumnDataSource\"},\"glyph\":{\"id\":\"13353\",\"type\":\"VBar\"},\"hover_glyph\":null,\"muted_glyph\":{\"id\":\"13355\",\"type\":\"VBar\"},\"nonselection_glyph\":{\"id\":\"13354\",\"type\":\"VBar\"},\"selection_glyph\":null,\"view\":{\"id\":\"13357\",\"type\":\"CDSView\"}},\"id\":\"13356\",\"type\":\"GlyphRenderer\"},{\"attributes\":{\"text\":\"2017\",\"text_color\":{\"value\":\"black\"},\"text_font_size\":{\"value\":\"12pt\"}},\"id\":\"13413\",\"type\":\"Title\"},{\"attributes\":{},\"id\":\"13478\",\"type\":\"WheelZoomTool\"},{\"attributes\":{},\"id\":\"13359\",\"type\":\"CategoricalTickFormatter\"},{\"attributes\":{\"dimension\":1,\"ticker\":{\"id\":\"13518\",\"type\":\"BasicTicker\"}},\"id\":\"13521\",\"type\":\"Grid\"},{\"attributes\":{},\"id\":\"13419\",\"type\":\"LinearScale\"},{\"attributes\":{\"source\":{\"id\":\"13350\",\"type\":\"ColumnDataSource\"}},\"id\":\"13357\",\"type\":\"CDSView\"},{\"attributes\":{\"ticker\":{\"id\":\"13330\",\"type\":\"CategoricalTicker\"}},\"id\":\"13332\",\"type\":\"Grid\"},{\"attributes\":{\"callback\":null,\"factors\":[\"CSS\",\"CSV\",\"CoffeeScript\",\"Graphviz (DOT)\",\"HTML\",\"JSON\",\"JavaScript\",\"Jupyter Notebook\",\"Markdown\",\"Python\",\"SVG\",\"Smarty\",\"Text\",\"TypeScript\",\"XML\",\"YAML\"],\"tags\":[[[\"language\",\"language\",null]]]},\"id\":\"13456\",\"type\":\"FactorRange\"},{\"attributes\":{},\"id\":\"13407\",\"type\":\"BasicTickFormatter\"},{\"attributes\":{},\"id\":\"13405\",\"type\":\"CategoricalTickFormatter\"},{\"attributes\":{},\"id\":\"13432\",\"type\":\"WheelZoomTool\"},{\"attributes\":{\"callback\":null,\"data\":{\"count\":{\"__ndarray__\":\"AAAAAAAAAAAAAAAAAAAIQAAAAAAAAABAAAAAAAAAAAAAAAAAAAAUQAAAAAAAAABAAAAAAAAAAEAAAAAAAEBWQAAAAAAAABRAAAAAAAAAM0AAAAAAAADwPwAAAAAAAAAAAAAAAAAAFEAAAAAAAAAAAAAAAAAAAAAAAAAAAAAACEA=\",\"dtype\":\"float64\",\"shape\":[16]},\"language\":[\"CSS\",\"CSV\",\"CoffeeScript\",\"Graphviz (DOT)\",\"HTML\",\"JSON\",\"JavaScript\",\"Jupyter Notebook\",\"Markdown\",\"Python\",\"SVG\",\"Smarty\",\"Text\",\"TypeScript\",\"XML\",\"YAML\"]},\"selected\":{\"id\":\"13489\",\"type\":\"Selection\"},\"selection_policy\":{\"id\":\"13580\",\"type\":\"UnionRenderers\"}},\"id\":\"13488\",\"type\":\"ColumnDataSource\"},{\"attributes\":{\"overlay\":{\"id\":\"13591\",\"type\":\"BoxAnnotation\"}},\"id\":\"13525\",\"type\":\"BoxZoomTool\"},{\"attributes\":{\"callback\":null,\"data\":{\"count\":{\"__ndarray__\":\"AAAAAAAA8D8AAAAAAAAIQAAAAAAAABBAAAAAAAAAAAAAAAAAAAAxQAAAAAAAABRAAAAAAAAAHEAAAAAAAEBWQAAAAAAAAD1AAAAAAAAAEEAAAAAAAAAAAAAAAAAAAAAAAAAAAAAAAAAAAAAAAAAAAAAAAAAAAPA/AAAAAAAAIkA=\",\"dtype\":\"float64\",\"shape\":[16]},\"language\":[\"CSS\",\"CSV\",\"CoffeeScript\",\"Graphviz (DOT)\",\"HTML\",\"JSON\",\"JavaScript\",\"Jupyter Notebook\",\"Markdown\",\"Python\",\"SVG\",\"Smarty\",\"Text\",\"TypeScript\",\"XML\",\"YAML\"]},\"selected\":{\"id\":\"13535\",\"type\":\"Selection\"},\"selection_policy\":{\"id\":\"13589\",\"type\":\"UnionRenderers\"}},\"id\":\"13534\",\"type\":\"ColumnDataSource\"},{\"attributes\":{},\"id\":\"13380\",\"type\":\"BasicTicker\"},{\"attributes\":{\"callback\":null,\"factors\":[\"CSS\",\"CSV\",\"CoffeeScript\",\"Graphviz (DOT)\",\"HTML\",\"JSON\",\"JavaScript\",\"Jupyter Notebook\",\"Markdown\",\"Python\",\"SVG\",\"Smarty\",\"Text\",\"TypeScript\",\"XML\",\"YAML\"],\"tags\":[[[\"language\",\"language\",null]]]},\"id\":\"13410\",\"type\":\"FactorRange\"},{\"attributes\":{\"fill_alpha\":{\"value\":0.2},\"fill_color\":{\"value\":\"#1f77b3\"},\"line_alpha\":{\"value\":0.2},\"line_color\":{\"value\":\"black\"},\"top\":{\"field\":\"count\"},\"width\":{\"value\":0.8},\"x\":{\"field\":\"language\"}},\"id\":\"13539\",\"type\":\"VBar\"},{\"attributes\":{\"callback\":null,\"renderers\":[{\"id\":\"13494\",\"type\":\"GlyphRenderer\"}],\"tags\":[\"hv_created\"],\"tooltips\":[[\"language\",\"@{language}\"],[\"count\",\"@{count}\"]]},\"id\":\"13457\",\"type\":\"HoverTool\"},{\"attributes\":{\"callback\":null,\"data\":{\"count\":{\"__ndarray__\":\"AAAAAAAAAEAAAAAAAAAAAAAAAAAAAAAAAAAAAAAAAAAAAAAAAAAAQAAAAAAAAPA/AAAAAAAAAEAAAAAAAMBVQAAAAAAAAABAAAAAAAAALkAAAAAAAAAAAAAAAAAAAPA/AAAAAAAAIEAAAAAAAAAAQAAAAAAAAAAAAAAAAAAAAEA=\",\"dtype\":\"float64\",\"shape\":[16]},\"language\":[\"CSS\",\"CSV\",\"CoffeeScript\",\"Graphviz (DOT)\",\"HTML\",\"JSON\",\"JavaScript\",\"Jupyter Notebook\",\"Markdown\",\"Python\",\"SVG\",\"Smarty\",\"Text\",\"TypeScript\",\"XML\",\"YAML\"]},\"selected\":{\"id\":\"13443\",\"type\":\"Selection\"},\"selection_policy\":{\"id\":\"13571\",\"type\":\"UnionRenderers\"}},\"id\":\"13442\",\"type\":\"ColumnDataSource\"},{\"attributes\":{},\"id\":\"13431\",\"type\":\"PanTool\"},{\"attributes\":{\"callback\":null,\"factors\":[\"CSS\",\"CSV\",\"CoffeeScript\",\"Graphviz (DOT)\",\"HTML\",\"JSON\",\"JavaScript\",\"Jupyter Notebook\",\"Markdown\",\"Python\",\"SVG\",\"Smarty\",\"Text\",\"TypeScript\",\"XML\",\"YAML\"],\"tags\":[[[\"language\",\"language\",null]]]},\"id\":\"13502\",\"type\":\"FactorRange\"},{\"attributes\":{},\"id\":\"13330\",\"type\":\"CategoricalTicker\"},{\"attributes\":{\"overlay\":{\"id\":\"13573\",\"type\":\"BoxAnnotation\"}},\"id\":\"13433\",\"type\":\"BoxZoomTool\"},{\"attributes\":{\"callback\":null,\"renderers\":[{\"id\":\"13540\",\"type\":\"GlyphRenderer\"}],\"tags\":[\"hv_created\"],\"tooltips\":[[\"language\",\"@{language}\"],[\"count\",\"@{count}\"]]},\"id\":\"13503\",\"type\":\"HoverTool\"},{\"attributes\":{\"active_drag\":\"auto\",\"active_inspect\":\"auto\",\"active_multi\":null,\"active_scroll\":\"auto\",\"active_tap\":\"auto\",\"tools\":[{\"id\":\"13411\",\"type\":\"HoverTool\"},{\"id\":\"13430\",\"type\":\"SaveTool\"},{\"id\":\"13431\",\"type\":\"PanTool\"},{\"id\":\"13432\",\"type\":\"WheelZoomTool\"},{\"id\":\"13433\",\"type\":\"BoxZoomTool\"},{\"id\":\"13434\",\"type\":\"ResetTool\"}]},\"id\":\"13435\",\"type\":\"Toolbar\"},{\"attributes\":{\"bottom_units\":\"screen\",\"fill_alpha\":{\"value\":0.5},\"fill_color\":{\"value\":\"lightgrey\"},\"left_units\":\"screen\",\"level\":\"overlay\",\"line_alpha\":{\"value\":1.0},\"line_color\":{\"value\":\"black\"},\"line_dash\":[4,4],\"line_width\":{\"value\":2},\"render_mode\":\"css\",\"right_units\":\"screen\",\"top_units\":\"screen\"},\"id\":\"13564\",\"type\":\"BoxAnnotation\"},{\"attributes\":{},\"id\":\"13524\",\"type\":\"WheelZoomTool\"},{\"attributes\":{\"bottom_units\":\"screen\",\"fill_alpha\":{\"value\":0.5},\"fill_color\":{\"value\":\"lightgrey\"},\"left_units\":\"screen\",\"level\":\"overlay\",\"line_alpha\":{\"value\":1.0},\"line_color\":{\"value\":\"black\"},\"line_dash\":[4,4],\"line_width\":{\"value\":2},\"render_mode\":\"css\",\"right_units\":\"screen\",\"top_units\":\"screen\"},\"id\":\"13591\",\"type\":\"BoxAnnotation\"},{\"attributes\":{},\"id\":\"13443\",\"type\":\"Selection\"},{\"attributes\":{},\"id\":\"13522\",\"type\":\"SaveTool\"},{\"attributes\":{},\"id\":\"13589\",\"type\":\"UnionRenderers\"},{\"attributes\":{},\"id\":\"13477\",\"type\":\"PanTool\"},{\"attributes\":{\"source\":{\"id\":\"13534\",\"type\":\"ColumnDataSource\"}},\"id\":\"13541\",\"type\":\"CDSView\"},{\"attributes\":{\"tools\":[{\"id\":\"13319\",\"type\":\"HoverTool\"},{\"id\":\"13338\",\"type\":\"SaveTool\"},{\"id\":\"13339\",\"type\":\"PanTool\"},{\"id\":\"13340\",\"type\":\"WheelZoomTool\"},{\"id\":\"13341\",\"type\":\"BoxZoomTool\"},{\"id\":\"13342\",\"type\":\"ResetTool\"},{\"id\":\"13365\",\"type\":\"HoverTool\"},{\"id\":\"13384\",\"type\":\"SaveTool\"},{\"id\":\"13385\",\"type\":\"PanTool\"},{\"id\":\"13386\",\"type\":\"WheelZoomTool\"},{\"id\":\"13387\",\"type\":\"BoxZoomTool\"},{\"id\":\"13388\",\"type\":\"ResetTool\"},{\"id\":\"13411\",\"type\":\"HoverTool\"},{\"id\":\"13430\",\"type\":\"SaveTool\"},{\"id\":\"13431\",\"type\":\"PanTool\"},{\"id\":\"13432\",\"type\":\"WheelZoomTool\"},{\"id\":\"13433\",\"type\":\"BoxZoomTool\"},{\"id\":\"13434\",\"type\":\"ResetTool\"},{\"id\":\"13457\",\"type\":\"HoverTool\"},{\"id\":\"13476\",\"type\":\"SaveTool\"},{\"id\":\"13477\",\"type\":\"PanTool\"},{\"id\":\"13478\",\"type\":\"WheelZoomTool\"},{\"id\":\"13479\",\"type\":\"BoxZoomTool\"},{\"id\":\"13480\",\"type\":\"ResetTool\"},{\"id\":\"13503\",\"type\":\"HoverTool\"},{\"id\":\"13522\",\"type\":\"SaveTool\"},{\"id\":\"13523\",\"type\":\"PanTool\"},{\"id\":\"13524\",\"type\":\"WheelZoomTool\"},{\"id\":\"13525\",\"type\":\"BoxZoomTool\"},{\"id\":\"13526\",\"type\":\"ResetTool\"}]},\"id\":\"13594\",\"type\":\"ProxyToolbar\"},{\"attributes\":{\"callback\":null,\"renderers\":[{\"id\":\"13448\",\"type\":\"GlyphRenderer\"}],\"tags\":[\"hv_created\"],\"tooltips\":[[\"language\",\"@{language}\"],[\"count\",\"@{count}\"]]},\"id\":\"13411\",\"type\":\"HoverTool\"},{\"attributes\":{\"axis_label\":\"language\",\"bounds\":\"auto\",\"formatter\":{\"id\":\"13359\",\"type\":\"CategoricalTickFormatter\"},\"major_label_orientation\":\"horizontal\",\"ticker\":{\"id\":\"13330\",\"type\":\"CategoricalTicker\"}},\"id\":\"13329\",\"type\":\"CategoricalAxis\"},{\"attributes\":{\"data_source\":{\"id\":\"13534\",\"type\":\"ColumnDataSource\"},\"glyph\":{\"id\":\"13537\",\"type\":\"VBar\"},\"hover_glyph\":null,\"muted_glyph\":{\"id\":\"13539\",\"type\":\"VBar\"},\"nonselection_glyph\":{\"id\":\"13538\",\"type\":\"VBar\"},\"selection_glyph\":null,\"view\":{\"id\":\"13541\",\"type\":\"CDSView\"}},\"id\":\"13540\",\"type\":\"GlyphRenderer\"},{\"attributes\":{},\"id\":\"13535\",\"type\":\"Selection\"},{\"attributes\":{},\"id\":\"13543\",\"type\":\"CategoricalTickFormatter\"},{\"attributes\":{},\"id\":\"13545\",\"type\":\"BasicTickFormatter\"},{\"attributes\":{\"callback\":null,\"end\":143.0,\"reset_end\":143.0,\"reset_start\":0.0,\"tags\":[[[\"count\",\"count\",null]]]},\"id\":\"13318\",\"type\":\"Range1d\"},{\"attributes\":{\"fill_alpha\":{\"value\":0.1},\"fill_color\":{\"value\":\"#1f77b3\"},\"line_alpha\":{\"value\":0.1},\"line_color\":{\"value\":\"black\"},\"top\":{\"field\":\"count\"},\"width\":{\"value\":0.8},\"x\":{\"field\":\"language\"}},\"id\":\"13446\",\"type\":\"VBar\"},{\"attributes\":{},\"id\":\"13342\",\"type\":\"ResetTool\"},{\"attributes\":{\"data_source\":{\"id\":\"13442\",\"type\":\"ColumnDataSource\"},\"glyph\":{\"id\":\"13445\",\"type\":\"VBar\"},\"hover_glyph\":null,\"muted_glyph\":{\"id\":\"13447\",\"type\":\"VBar\"},\"nonselection_glyph\":{\"id\":\"13446\",\"type\":\"VBar\"},\"selection_glyph\":null,\"view\":{\"id\":\"13449\",\"type\":\"CDSView\"}},\"id\":\"13448\",\"type\":\"GlyphRenderer\"},{\"attributes\":{\"source\":{\"id\":\"13442\",\"type\":\"ColumnDataSource\"}},\"id\":\"13449\",\"type\":\"CDSView\"},{\"attributes\":{},\"id\":\"13373\",\"type\":\"LinearScale\"},{\"attributes\":{\"callback\":null,\"data\":{\"count\":{\"__ndarray__\":\"AAAAAAAAAAAAAAAAAADwPwAAAAAAAAAAAAAAAAAA8D8AAAAAAADwPwAAAAAAAAAAAAAAAAAAAAAAAAAAAIBTQAAAAAAAABxAAAAAAAAAIEAAAAAAAADwPwAAAAAAAAAAAAAAAAAAKEAAAAAAAAAAAAAAAAAAAAAAAAAAAAAAAAA=\",\"dtype\":\"float64\",\"shape\":[16]},\"language\":[\"CSS\",\"CSV\",\"CoffeeScript\",\"Graphviz (DOT)\",\"HTML\",\"JSON\",\"JavaScript\",\"Jupyter Notebook\",\"Markdown\",\"Python\",\"SVG\",\"Smarty\",\"Text\",\"TypeScript\",\"XML\",\"YAML\"]},\"selected\":{\"id\":\"13397\",\"type\":\"Selection\"},\"selection_policy\":{\"id\":\"13562\",\"type\":\"UnionRenderers\"}},\"id\":\"13396\",\"type\":\"ColumnDataSource\"},{\"attributes\":{\"fill_color\":{\"value\":\"#1f77b3\"},\"top\":{\"field\":\"count\"},\"width\":{\"value\":0.8},\"x\":{\"field\":\"language\"}},\"id\":\"13399\",\"type\":\"VBar\"},{\"attributes\":{},\"id\":\"13489\",\"type\":\"Selection\"},{\"attributes\":{\"callback\":null,\"renderers\":[{\"id\":\"13402\",\"type\":\"GlyphRenderer\"}],\"tags\":[\"hv_created\"],\"tooltips\":[[\"language\",\"@{language}\"],[\"count\",\"@{count}\"]]},\"id\":\"13365\",\"type\":\"HoverTool\"},{\"attributes\":{\"data_source\":{\"id\":\"13488\",\"type\":\"ColumnDataSource\"},\"glyph\":{\"id\":\"13491\",\"type\":\"VBar\"},\"hover_glyph\":null,\"muted_glyph\":{\"id\":\"13493\",\"type\":\"VBar\"},\"nonselection_glyph\":{\"id\":\"13492\",\"type\":\"VBar\"},\"selection_glyph\":null,\"view\":{\"id\":\"13495\",\"type\":\"CDSView\"}},\"id\":\"13494\",\"type\":\"GlyphRenderer\"},{\"attributes\":{\"source\":{\"id\":\"13396\",\"type\":\"ColumnDataSource\"}},\"id\":\"13403\",\"type\":\"CDSView\"},{\"attributes\":{\"fill_color\":{\"value\":\"#1f77b3\"},\"top\":{\"field\":\"count\"},\"width\":{\"value\":0.8},\"x\":{\"field\":\"language\"}},\"id\":\"13537\",\"type\":\"VBar\"},{\"attributes\":{},\"id\":\"13334\",\"type\":\"BasicTicker\"},{\"attributes\":{\"fill_alpha\":{\"value\":0.1},\"fill_color\":{\"value\":\"#1f77b3\"},\"line_alpha\":{\"value\":0.1},\"line_color\":{\"value\":\"black\"},\"top\":{\"field\":\"count\"},\"width\":{\"value\":0.8},\"x\":{\"field\":\"language\"}},\"id\":\"13538\",\"type\":\"VBar\"},{\"attributes\":{},\"id\":\"13422\",\"type\":\"CategoricalTicker\"},{\"attributes\":{\"fill_alpha\":{\"value\":0.2},\"fill_color\":{\"value\":\"#1f77b3\"},\"line_alpha\":{\"value\":0.2},\"line_color\":{\"value\":\"black\"},\"top\":{\"field\":\"count\"},\"width\":{\"value\":0.8},\"x\":{\"field\":\"language\"}},\"id\":\"13493\",\"type\":\"VBar\"},{\"attributes\":{},\"id\":\"13499\",\"type\":\"BasicTickFormatter\"},{\"attributes\":{},\"id\":\"13338\",\"type\":\"SaveTool\"},{\"attributes\":{},\"id\":\"13351\",\"type\":\"Selection\"},{\"attributes\":{\"overlay\":{\"id\":\"13582\",\"type\":\"BoxAnnotation\"}},\"id\":\"13479\",\"type\":\"BoxZoomTool\"},{\"attributes\":{\"dimension\":1,\"ticker\":{\"id\":\"13472\",\"type\":\"BasicTicker\"}},\"id\":\"13475\",\"type\":\"Grid\"},{\"attributes\":{\"data_source\":{\"id\":\"13396\",\"type\":\"ColumnDataSource\"},\"glyph\":{\"id\":\"13399\",\"type\":\"VBar\"},\"hover_glyph\":null,\"muted_glyph\":{\"id\":\"13401\",\"type\":\"VBar\"},\"nonselection_glyph\":{\"id\":\"13400\",\"type\":\"VBar\"},\"selection_glyph\":null,\"view\":{\"id\":\"13403\",\"type\":\"CDSView\"}},\"id\":\"13402\",\"type\":\"GlyphRenderer\"},{\"attributes\":{\"source\":{\"id\":\"13488\",\"type\":\"ColumnDataSource\"}},\"id\":\"13495\",\"type\":\"CDSView\"},{\"attributes\":{\"axis_label\":\"\",\"bounds\":\"auto\",\"formatter\":{\"id\":\"13453\",\"type\":\"BasicTickFormatter\"},\"major_label_orientation\":\"horizontal\",\"ticker\":{\"id\":\"13426\",\"type\":\"BasicTicker\"}},\"id\":\"13425\",\"type\":\"LinearAxis\"},{\"attributes\":{\"ticker\":{\"id\":\"13514\",\"type\":\"CategoricalTicker\"}},\"id\":\"13516\",\"type\":\"Grid\"},{\"attributes\":{\"text\":\"2019\",\"text_color\":{\"value\":\"black\"},\"text_font_size\":{\"value\":\"12pt\"}},\"id\":\"13321\",\"type\":\"Title\"},{\"attributes\":{\"ticker\":{\"id\":\"13422\",\"type\":\"CategoricalTicker\"}},\"id\":\"13424\",\"type\":\"Grid\"},{\"attributes\":{\"fill_color\":{\"value\":\"#1f77b3\"},\"top\":{\"field\":\"count\"},\"width\":{\"value\":0.8},\"x\":{\"field\":\"language\"}},\"id\":\"13445\",\"type\":\"VBar\"},{\"attributes\":{\"callback\":null,\"data\":{\"count\":{\"__ndarray__\":\"AAAAAAAAAAAAAAAAAADwPwAAAAAAAAAAAAAAAAAAAEAAAAAAAADwPwAAAAAAAAAAAAAAAAAAAAAAAAAAAOBhQAAAAAAAABRAAAAAAAAANEAAAAAAAADwPwAAAAAAAAAAAAAAAAAASUAAAAAAAAAAAAAAAAAAAAAAAAAAAAAAGEA=\",\"dtype\":\"float64\",\"shape\":[16]},\"language\":[\"CSS\",\"CSV\",\"CoffeeScript\",\"Graphviz (DOT)\",\"HTML\",\"JSON\",\"JavaScript\",\"Jupyter Notebook\",\"Markdown\",\"Python\",\"SVG\",\"Smarty\",\"Text\",\"TypeScript\",\"XML\",\"YAML\"]},\"selected\":{\"id\":\"13351\",\"type\":\"Selection\"},\"selection_policy\":{\"id\":\"13553\",\"type\":\"UnionRenderers\"}},\"id\":\"13350\",\"type\":\"ColumnDataSource\"},{\"attributes\":{\"axis_label\":\"language\",\"bounds\":\"auto\",\"formatter\":{\"id\":\"13405\",\"type\":\"CategoricalTickFormatter\"},\"major_label_orientation\":\"horizontal\",\"ticker\":{\"id\":\"13376\",\"type\":\"CategoricalTicker\"}},\"id\":\"13375\",\"type\":\"CategoricalAxis\"},{\"attributes\":{},\"id\":\"13384\",\"type\":\"SaveTool\"},{\"attributes\":{\"ticker\":{\"id\":\"13376\",\"type\":\"CategoricalTicker\"}},\"id\":\"13378\",\"type\":\"Grid\"},{\"attributes\":{\"dimension\":1,\"ticker\":{\"id\":\"13334\",\"type\":\"BasicTicker\"}},\"id\":\"13337\",\"type\":\"Grid\"},{\"attributes\":{},\"id\":\"13376\",\"type\":\"CategoricalTicker\"},{\"attributes\":{},\"id\":\"13497\",\"type\":\"CategoricalTickFormatter\"},{\"attributes\":{},\"id\":\"13397\",\"type\":\"Selection\"},{\"attributes\":{\"bottom_units\":\"screen\",\"fill_alpha\":{\"value\":0.5},\"fill_color\":{\"value\":\"lightgrey\"},\"left_units\":\"screen\",\"level\":\"overlay\",\"line_alpha\":{\"value\":1.0},\"line_color\":{\"value\":\"black\"},\"line_dash\":[4,4],\"line_width\":{\"value\":2},\"render_mode\":\"css\",\"right_units\":\"screen\",\"top_units\":\"screen\"},\"id\":\"13573\",\"type\":\"BoxAnnotation\"},{\"attributes\":{},\"id\":\"13339\",\"type\":\"PanTool\"},{\"attributes\":{},\"id\":\"13340\",\"type\":\"WheelZoomTool\"},{\"attributes\":{},\"id\":\"13509\",\"type\":\"CategoricalScale\"},{\"attributes\":{\"active_drag\":\"auto\",\"active_inspect\":\"auto\",\"active_multi\":null,\"active_scroll\":\"auto\",\"active_tap\":\"auto\",\"tools\":[{\"id\":\"13457\",\"type\":\"HoverTool\"},{\"id\":\"13476\",\"type\":\"SaveTool\"},{\"id\":\"13477\",\"type\":\"PanTool\"},{\"id\":\"13478\",\"type\":\"WheelZoomTool\"},{\"id\":\"13479\",\"type\":\"BoxZoomTool\"},{\"id\":\"13480\",\"type\":\"ResetTool\"}]},\"id\":\"13481\",\"type\":\"Toolbar\"},{\"attributes\":{},\"id\":\"13580\",\"type\":\"UnionRenderers\"},{\"attributes\":{\"callback\":null,\"factors\":[\"CSS\",\"CSV\",\"CoffeeScript\",\"Graphviz (DOT)\",\"HTML\",\"JSON\",\"JavaScript\",\"Jupyter Notebook\",\"Markdown\",\"Python\",\"SVG\",\"Smarty\",\"Text\",\"TypeScript\",\"XML\",\"YAML\"],\"tags\":[[[\"language\",\"language\",null]]]},\"id\":\"13317\",\"type\":\"FactorRange\"},{\"attributes\":{\"text\":\"2015\",\"text_color\":{\"value\":\"black\"},\"text_font_size\":{\"value\":\"12pt\"}},\"id\":\"13505\",\"type\":\"Title\"},{\"attributes\":{\"fill_color\":{\"value\":\"#1f77b3\"},\"top\":{\"field\":\"count\"},\"width\":{\"value\":0.8},\"x\":{\"field\":\"language\"}},\"id\":\"13353\",\"type\":\"VBar\"},{\"attributes\":{},\"id\":\"13388\",\"type\":\"ResetTool\"},{\"attributes\":{\"dimension\":1,\"ticker\":{\"id\":\"13380\",\"type\":\"BasicTicker\"}},\"id\":\"13383\",\"type\":\"Grid\"},{\"attributes\":{},\"id\":\"13451\",\"type\":\"CategoricalTickFormatter\"},{\"attributes\":{\"fill_color\":{\"value\":\"#1f77b3\"},\"top\":{\"field\":\"count\"},\"width\":{\"value\":0.8},\"x\":{\"field\":\"language\"}},\"id\":\"13491\",\"type\":\"VBar\"},{\"attributes\":{},\"id\":\"13571\",\"type\":\"UnionRenderers\"},{\"attributes\":{\"align\":null,\"below\":[{\"id\":\"13329\",\"type\":\"CategoricalAxis\"}],\"center\":[{\"id\":\"13332\",\"type\":\"Grid\"},{\"id\":\"13337\",\"type\":\"Grid\"}],\"left\":[{\"id\":\"13333\",\"type\":\"LinearAxis\"}],\"margin\":null,\"min_border_bottom\":10,\"min_border_left\":10,\"min_border_right\":10,\"min_border_top\":10,\"plot_height\":300,\"plot_width\":300,\"renderers\":[{\"id\":\"13356\",\"type\":\"GlyphRenderer\"}],\"sizing_mode\":\"fixed\",\"title\":{\"id\":\"13321\",\"type\":\"Title\"},\"toolbar\":{\"id\":\"13343\",\"type\":\"Toolbar\"},\"toolbar_location\":null,\"x_range\":{\"id\":\"13317\",\"type\":\"FactorRange\"},\"x_scale\":{\"id\":\"13325\",\"type\":\"CategoricalScale\"},\"y_range\":{\"id\":\"13318\",\"type\":\"Range1d\"},\"y_scale\":{\"id\":\"13327\",\"type\":\"LinearScale\"}},\"id\":\"13320\",\"subtype\":\"Figure\",\"type\":\"Plot\"},{\"attributes\":{},\"id\":\"13426\",\"type\":\"BasicTicker\"},{\"attributes\":{},\"id\":\"13511\",\"type\":\"LinearScale\"},{\"attributes\":{\"align\":null,\"below\":[{\"id\":\"13513\",\"type\":\"CategoricalAxis\"}],\"center\":[{\"id\":\"13516\",\"type\":\"Grid\"},{\"id\":\"13521\",\"type\":\"Grid\"}],\"left\":[{\"id\":\"13517\",\"type\":\"LinearAxis\"}],\"margin\":null,\"min_border_bottom\":10,\"min_border_left\":10,\"min_border_right\":10,\"min_border_top\":10,\"plot_height\":300,\"plot_width\":300,\"renderers\":[{\"id\":\"13540\",\"type\":\"GlyphRenderer\"}],\"sizing_mode\":\"fixed\",\"title\":{\"id\":\"13505\",\"type\":\"Title\"},\"toolbar\":{\"id\":\"13527\",\"type\":\"Toolbar\"},\"toolbar_location\":null,\"x_range\":{\"id\":\"13502\",\"type\":\"FactorRange\"},\"x_scale\":{\"id\":\"13509\",\"type\":\"CategoricalScale\"},\"y_range\":{\"id\":\"13318\",\"type\":\"Range1d\"},\"y_scale\":{\"id\":\"13511\",\"type\":\"LinearScale\"}},\"id\":\"13504\",\"subtype\":\"Figure\",\"type\":\"Plot\"},{\"attributes\":{\"callback\":null,\"renderers\":[{\"id\":\"13356\",\"type\":\"GlyphRenderer\"}],\"tags\":[\"hv_created\"],\"tooltips\":[[\"language\",\"@{language}\"],[\"count\",\"@{count}\"]]},\"id\":\"13319\",\"type\":\"HoverTool\"},{\"attributes\":{\"text\":\"2018\",\"text_color\":{\"value\":\"black\"},\"text_font_size\":{\"value\":\"12pt\"}},\"id\":\"13367\",\"type\":\"Title\"},{\"attributes\":{},\"id\":\"13472\",\"type\":\"BasicTicker\"},{\"attributes\":{\"axis_label\":\"\",\"bounds\":\"auto\",\"formatter\":{\"id\":\"13499\",\"type\":\"BasicTickFormatter\"},\"major_label_orientation\":\"horizontal\",\"ticker\":{\"id\":\"13472\",\"type\":\"BasicTicker\"}},\"id\":\"13471\",\"type\":\"LinearAxis\"},{\"attributes\":{},\"id\":\"13553\",\"type\":\"UnionRenderers\"},{\"attributes\":{},\"id\":\"13385\",\"type\":\"PanTool\"},{\"attributes\":{\"fill_alpha\":{\"value\":0.2},\"fill_color\":{\"value\":\"#1f77b3\"},\"line_alpha\":{\"value\":0.2},\"line_color\":{\"value\":\"black\"},\"top\":{\"field\":\"count\"},\"width\":{\"value\":0.8},\"x\":{\"field\":\"language\"}},\"id\":\"13401\",\"type\":\"VBar\"},{\"attributes\":{},\"id\":\"13453\",\"type\":\"BasicTickFormatter\"},{\"attributes\":{},\"id\":\"13526\",\"type\":\"ResetTool\"},{\"attributes\":{\"axis_label\":\"\",\"bounds\":\"auto\",\"formatter\":{\"id\":\"13361\",\"type\":\"BasicTickFormatter\"},\"major_label_orientation\":\"horizontal\",\"ticker\":{\"id\":\"13334\",\"type\":\"BasicTicker\"}},\"id\":\"13333\",\"type\":\"LinearAxis\"},{\"attributes\":{\"overlay\":{\"id\":\"13564\",\"type\":\"BoxAnnotation\"}},\"id\":\"13387\",\"type\":\"BoxZoomTool\"},{\"attributes\":{\"active_drag\":\"auto\",\"active_inspect\":\"auto\",\"active_multi\":null,\"active_scroll\":\"auto\",\"active_tap\":\"auto\",\"tools\":[{\"id\":\"13319\",\"type\":\"HoverTool\"},{\"id\":\"13338\",\"type\":\"SaveTool\"},{\"id\":\"13339\",\"type\":\"PanTool\"},{\"id\":\"13340\",\"type\":\"WheelZoomTool\"},{\"id\":\"13341\",\"type\":\"BoxZoomTool\"},{\"id\":\"13342\",\"type\":\"ResetTool\"}]},\"id\":\"13343\",\"type\":\"Toolbar\"},{\"attributes\":{\"axis_label\":\"\",\"bounds\":\"auto\",\"formatter\":{\"id\":\"13545\",\"type\":\"BasicTickFormatter\"},\"major_label_orientation\":\"horizontal\",\"ticker\":{\"id\":\"13518\",\"type\":\"BasicTicker\"}},\"id\":\"13517\",\"type\":\"LinearAxis\"},{\"attributes\":{\"fill_alpha\":{\"value\":0.1},\"fill_color\":{\"value\":\"#1f77b3\"},\"line_alpha\":{\"value\":0.1},\"line_color\":{\"value\":\"black\"},\"top\":{\"field\":\"count\"},\"width\":{\"value\":0.8},\"x\":{\"field\":\"language\"}},\"id\":\"13492\",\"type\":\"VBar\"},{\"attributes\":{},\"id\":\"13514\",\"type\":\"CategoricalTicker\"},{\"attributes\":{\"ticker\":{\"id\":\"13468\",\"type\":\"CategoricalTicker\"}},\"id\":\"13470\",\"type\":\"Grid\"},{\"attributes\":{},\"id\":\"13386\",\"type\":\"WheelZoomTool\"},{\"attributes\":{\"axis_label\":\"language\",\"bounds\":\"auto\",\"formatter\":{\"id\":\"13543\",\"type\":\"CategoricalTickFormatter\"},\"major_label_orientation\":\"horizontal\",\"ticker\":{\"id\":\"13514\",\"type\":\"CategoricalTicker\"}},\"id\":\"13513\",\"type\":\"CategoricalAxis\"},{\"attributes\":{},\"id\":\"13327\",\"type\":\"LinearScale\"},{\"attributes\":{},\"id\":\"13465\",\"type\":\"LinearScale\"},{\"attributes\":{\"align\":null,\"below\":[{\"id\":\"13421\",\"type\":\"CategoricalAxis\"}],\"center\":[{\"id\":\"13424\",\"type\":\"Grid\"},{\"id\":\"13429\",\"type\":\"Grid\"}],\"left\":[{\"id\":\"13425\",\"type\":\"LinearAxis\"}],\"margin\":null,\"min_border_bottom\":10,\"min_border_left\":10,\"min_border_right\":10,\"min_border_top\":10,\"plot_height\":300,\"plot_width\":300,\"renderers\":[{\"id\":\"13448\",\"type\":\"GlyphRenderer\"}],\"sizing_mode\":\"fixed\",\"title\":{\"id\":\"13413\",\"type\":\"Title\"},\"toolbar\":{\"id\":\"13435\",\"type\":\"Toolbar\"},\"toolbar_location\":null,\"x_range\":{\"id\":\"13410\",\"type\":\"FactorRange\"},\"x_scale\":{\"id\":\"13417\",\"type\":\"CategoricalScale\"},\"y_range\":{\"id\":\"13318\",\"type\":\"Range1d\"},\"y_scale\":{\"id\":\"13419\",\"type\":\"LinearScale\"}},\"id\":\"13412\",\"subtype\":\"Figure\",\"type\":\"Plot\"},{\"attributes\":{\"align\":null,\"below\":[{\"id\":\"13375\",\"type\":\"CategoricalAxis\"}],\"center\":[{\"id\":\"13378\",\"type\":\"Grid\"},{\"id\":\"13383\",\"type\":\"Grid\"}],\"left\":[{\"id\":\"13379\",\"type\":\"LinearAxis\"}],\"margin\":null,\"min_border_bottom\":10,\"min_border_left\":10,\"min_border_right\":10,\"min_border_top\":10,\"plot_height\":300,\"plot_width\":300,\"renderers\":[{\"id\":\"13402\",\"type\":\"GlyphRenderer\"}],\"sizing_mode\":\"fixed\",\"title\":{\"id\":\"13367\",\"type\":\"Title\"},\"toolbar\":{\"id\":\"13389\",\"type\":\"Toolbar\"},\"toolbar_location\":null,\"x_range\":{\"id\":\"13364\",\"type\":\"FactorRange\"},\"x_scale\":{\"id\":\"13371\",\"type\":\"CategoricalScale\"},\"y_range\":{\"id\":\"13318\",\"type\":\"Range1d\"},\"y_scale\":{\"id\":\"13373\",\"type\":\"LinearScale\"}},\"id\":\"13366\",\"subtype\":\"Figure\",\"type\":\"Plot\"},{\"attributes\":{},\"id\":\"13468\",\"type\":\"CategoricalTicker\"},{\"attributes\":{\"active_drag\":\"auto\",\"active_inspect\":\"auto\",\"active_multi\":null,\"active_scroll\":\"auto\",\"active_tap\":\"auto\",\"tools\":[{\"id\":\"13503\",\"type\":\"HoverTool\"},{\"id\":\"13522\",\"type\":\"SaveTool\"},{\"id\":\"13523\",\"type\":\"PanTool\"},{\"id\":\"13524\",\"type\":\"WheelZoomTool\"},{\"id\":\"13525\",\"type\":\"BoxZoomTool\"},{\"id\":\"13526\",\"type\":\"ResetTool\"}]},\"id\":\"13527\",\"type\":\"Toolbar\"},{\"attributes\":{\"axis_label\":\"\",\"bounds\":\"auto\",\"formatter\":{\"id\":\"13407\",\"type\":\"BasicTickFormatter\"},\"major_label_orientation\":\"horizontal\",\"ticker\":{\"id\":\"13380\",\"type\":\"BasicTicker\"}},\"id\":\"13379\",\"type\":\"LinearAxis\"},{\"attributes\":{},\"id\":\"13361\",\"type\":\"BasicTickFormatter\"},{\"attributes\":{\"dimension\":1,\"ticker\":{\"id\":\"13426\",\"type\":\"BasicTicker\"}},\"id\":\"13429\",\"type\":\"Grid\"},{\"attributes\":{\"fill_alpha\":{\"value\":0.2},\"fill_color\":{\"value\":\"#1f77b3\"},\"line_alpha\":{\"value\":0.2},\"line_color\":{\"value\":\"black\"},\"top\":{\"field\":\"count\"},\"width\":{\"value\":0.8},\"x\":{\"field\":\"language\"}},\"id\":\"13447\",\"type\":\"VBar\"},{\"attributes\":{\"axis_label\":\"language\",\"bounds\":\"auto\",\"formatter\":{\"id\":\"13497\",\"type\":\"CategoricalTickFormatter\"},\"major_label_orientation\":\"horizontal\",\"ticker\":{\"id\":\"13468\",\"type\":\"CategoricalTicker\"}},\"id\":\"13467\",\"type\":\"CategoricalAxis\"},{\"attributes\":{},\"id\":\"13480\",\"type\":\"ResetTool\"},{\"attributes\":{},\"id\":\"13371\",\"type\":\"CategoricalScale\"},{\"attributes\":{},\"id\":\"13463\",\"type\":\"CategoricalScale\"},{\"attributes\":{\"text\":\"2016\",\"text_color\":{\"value\":\"black\"},\"text_font_size\":{\"value\":\"12pt\"}},\"id\":\"13459\",\"type\":\"Title\"},{\"attributes\":{},\"id\":\"13325\",\"type\":\"CategoricalScale\"},{\"attributes\":{\"bottom_units\":\"screen\",\"fill_alpha\":{\"value\":0.5},\"fill_color\":{\"value\":\"lightgrey\"},\"left_units\":\"screen\",\"level\":\"overlay\",\"line_alpha\":{\"value\":1.0},\"line_color\":{\"value\":\"black\"},\"line_dash\":[4,4],\"line_width\":{\"value\":2},\"render_mode\":\"css\",\"right_units\":\"screen\",\"top_units\":\"screen\"},\"id\":\"13555\",\"type\":\"BoxAnnotation\"},{\"attributes\":{\"fill_alpha\":{\"value\":0.1},\"fill_color\":{\"value\":\"#1f77b3\"},\"line_alpha\":{\"value\":0.1},\"line_color\":{\"value\":\"black\"},\"top\":{\"field\":\"count\"},\"width\":{\"value\":0.8},\"x\":{\"field\":\"language\"}},\"id\":\"13354\",\"type\":\"VBar\"},{\"attributes\":{},\"id\":\"13476\",\"type\":\"SaveTool\"},{\"attributes\":{\"active_drag\":\"auto\",\"active_inspect\":\"auto\",\"active_multi\":null,\"active_scroll\":\"auto\",\"active_tap\":\"auto\",\"tools\":[{\"id\":\"13365\",\"type\":\"HoverTool\"},{\"id\":\"13384\",\"type\":\"SaveTool\"},{\"id\":\"13385\",\"type\":\"PanTool\"},{\"id\":\"13386\",\"type\":\"WheelZoomTool\"},{\"id\":\"13387\",\"type\":\"BoxZoomTool\"},{\"id\":\"13388\",\"type\":\"ResetTool\"}]},\"id\":\"13389\",\"type\":\"Toolbar\"},{\"attributes\":{\"align\":null,\"below\":[{\"id\":\"13467\",\"type\":\"CategoricalAxis\"}],\"center\":[{\"id\":\"13470\",\"type\":\"Grid\"},{\"id\":\"13475\",\"type\":\"Grid\"}],\"left\":[{\"id\":\"13471\",\"type\":\"LinearAxis\"}],\"margin\":null,\"min_border_bottom\":10,\"min_border_left\":10,\"min_border_right\":10,\"min_border_top\":10,\"plot_height\":300,\"plot_width\":300,\"renderers\":[{\"id\":\"13494\",\"type\":\"GlyphRenderer\"}],\"sizing_mode\":\"fixed\",\"title\":{\"id\":\"13459\",\"type\":\"Title\"},\"toolbar\":{\"id\":\"13481\",\"type\":\"Toolbar\"},\"toolbar_location\":null,\"x_range\":{\"id\":\"13456\",\"type\":\"FactorRange\"},\"x_scale\":{\"id\":\"13463\",\"type\":\"CategoricalScale\"},\"y_range\":{\"id\":\"13318\",\"type\":\"Range1d\"},\"y_scale\":{\"id\":\"13465\",\"type\":\"LinearScale\"}},\"id\":\"13458\",\"subtype\":\"Figure\",\"type\":\"Plot\"},{\"attributes\":{\"overlay\":{\"id\":\"13555\",\"type\":\"BoxAnnotation\"}},\"id\":\"13341\",\"type\":\"BoxZoomTool\"}],\"root_ids\":[\"13596\"]},\"title\":\"Bokeh Application\",\"version\":\"1.3.4\"}};\n",
       "  var render_items = [{\"docid\":\"38320d95-2b9a-47a7-a7c8-2320e102b923\",\"roots\":{\"13596\":\"76dabe3a-7034-4aed-91b9-b384fa7c16f4\"}}];\n",
       "  root.Bokeh.embed.embed_items_notebook(docs_json, render_items);\n",
       "\n",
       "  }\n",
       "  if (root.Bokeh !== undefined) {\n",
       "    embed_document(root);\n",
       "  } else {\n",
       "    var attempts = 0;\n",
       "    var timer = setInterval(function(root) {\n",
       "      if (root.Bokeh !== undefined) {\n",
       "        embed_document(root);\n",
       "        clearInterval(timer);\n",
       "      }\n",
       "      attempts++;\n",
       "      if (attempts > 100) {\n",
       "        console.log(\"Bokeh: ERROR: Unable to run BokehJS code because BokehJS library is missing\");\n",
       "        clearInterval(timer);\n",
       "      }\n",
       "    }, 10, root)\n",
       "  }\n",
       "})(window);</script>"
      ],
      "text/plain": [
       ":Layout\n",
       "   .Bars.Count.I   :Bars   [language]   (count)\n",
       "   .Bars.Count.II  :Bars   [language]   (count)\n",
       "   .Bars.Count.III :Bars   [language]   (count)\n",
       "   .Bars.Count.IV  :Bars   [language]   (count)\n",
       "   .Bars.Count.V   :Bars   [language]   (count)"
      ]
     },
     "metadata": {
      "application/vnd.holoviews_exec.v0+json": {
       "id": "13596"
      }
     },
     "output_type": "display_data"
    },
    {
     "data": {
      "text/markdown": [
       "    display(files.set_index('created_at').groupby([λ['pandas.Grouper'](freq='M'), 'language']).filename.count().unstack().fillna(0).hvplot.bar(stacked=True, grid=True).opts(width=900), plot.cols(3))"
      ],
      "text/plain": [
       "    display(files.set_index('created_at').groupby([λ['pandas.Grouper'](freq='M'), 'language']).filename.count().unstack().fillna(0).hvplot.bar(stacked=True, grid=True).opts(width=900), plot.cols(3))"
      ]
     },
     "metadata": {},
     "output_type": "display_data"
    }
   ],
   "source": [
    "    display(files.set_index('created_at').groupby([λ['pandas.Grouper'](freq='M'), 'language']).filename.count().unstack().fillna(0).hvplot.bar(stacked=True, grid=True).opts(width=900), plot.cols(3))"
   ]
  },
  {
   "cell_type": "code",
   "execution_count": 285,
   "metadata": {},
   "outputs": [
    {
     "data": {
      "text/html": [
       "\n",
       "        <iframe\n",
       "            width=\"100%\"\n",
       "            height=\"800\"\n",
       "            src=\"https://nbviewer.jupyter.org/github/deathbeds/deathbeds.github.io/tree/master/deathbeds\"\n",
       "            frameborder=\"0\"\n",
       "            allowfullscreen\n",
       "        ></iframe>\n",
       "        "
      ],
      "text/plain": [
       "<IPython.lib.display.IFrame at 0x1232952e8>"
      ]
     },
     "execution_count": 285,
     "metadata": {},
     "output_type": "execute_result"
    },
    {
     "data": {
      "text/markdown": [
       "    iframe(\"https://nbviewer.jupyter.org/github/deathbeds/deathbeds.github.io/tree/master/deathbeds\")"
      ],
      "text/plain": [
       "    iframe(\"https://nbviewer.jupyter.org/github/deathbeds/deathbeds.github.io/tree/master/deathbeds\")"
      ]
     },
     "metadata": {},
     "output_type": "display_data"
    }
   ],
   "source": [
    "    iframe(\"https://nbviewer.jupyter.org/github/deathbeds/deathbeds.github.io/tree/master/deathbeds\")"
   ]
  },
  {
   "cell_type": "code",
   "execution_count": 286,
   "metadata": {},
   "outputs": [
    {
     "data": {
      "text/markdown": [
       "# Coding C@𝔏𝔏👁𝓖ⓇⒶ𝔐s are experiments in the composition of code and narrative."
      ],
      "text/plain": [
       "# Coding {{calligram}}s are experiments in the composition of code and narrative."
      ]
     },
     "metadata": {},
     "output_type": "display_data"
    }
   ],
   "source": [
    "# Coding {{calligram}}s are experiments in the composition of code and narrative."
   ]
  },
  {
   "cell_type": "code",
   "execution_count": 289,
   "metadata": {},
   "outputs": [
    {
     "data": {
      "text/markdown": [
       "## C@𝔏𝔏👁𝓖ⓇⒶ𝔐s are a model for type and form\n",
       "# independent of medium\n",
       "\n",
       "> ### Programmers, data scientists, any consumer of computers express themselves through text and form.\n",
       "\n",
       "![](https://user-images.githubusercontent.com/4236275/68415770-fffb5f00-018a-11ea-8bd2-303968171b5f.png)"
      ],
      "text/plain": [
       "## {{calligram}}s are a model for type and form\n",
       "# independent of medium\n",
       "\n",
       "> ### Programmers, data scientists, any consumer of computers express themselves through text and form.\n",
       "\n",
       "![](https://user-images.githubusercontent.com/4236275/68415770-fffb5f00-018a-11ea-8bd2-303968171b5f.png)"
      ]
     },
     "metadata": {},
     "output_type": "display_data"
    }
   ],
   "source": [
    "## {{calligram}}s are a model for type and form\n",
    "# independent of medium\n",
    "\n",
    "> ### Programmers, data scientists, any consumer of computers express themselves through text and form.\n",
    "\n",
    "![](https://user-images.githubusercontent.com/4236275/68415770-fffb5f00-018a-11ea-8bd2-303968171b5f.png)"
   ]
  },
  {
   "cell_type": "code",
   "execution_count": 290,
   "metadata": {
    "jupyter": {
     "source_hidden": true
    }
   },
   "outputs": [
    {
     "data": {
      "text/markdown": [
       "## practice informs practice\n",
       "> # Write the code you want to read.\n",
       "> ###### The medium is the message\n",
       "> ##### The model is the message"
      ],
      "text/plain": [
       "## practice informs practice\n",
       "> # Write the code you want to read.\n",
       "> ###### The medium is the message\n",
       "> ##### The model is the message"
      ]
     },
     "metadata": {},
     "output_type": "display_data"
    }
   ],
   "source": [
    "## practice informs practice\n",
    "> # Write the code you want to read.\n",
    "> ###### The medium is the message\n",
    "> ##### The model is the message"
   ]
  }
 ],
 "metadata": {
  "kernelspec": {
   "display_name": "Python 3",
   "language": "python",
   "name": "python3"
  },
  "language_info": {
   "codemirror_mode": {
    "name": "ipython",
    "version": 3
   },
   "file_extension": ".py",
   "mimetype": "text/x-python",
   "name": "python",
   "nbconvert_exporter": "python",
   "pygments_lexer": "ipython3",
   "version": "3.7.3"
  }
 },
 "nbformat": 4,
 "nbformat_minor": 4
}
