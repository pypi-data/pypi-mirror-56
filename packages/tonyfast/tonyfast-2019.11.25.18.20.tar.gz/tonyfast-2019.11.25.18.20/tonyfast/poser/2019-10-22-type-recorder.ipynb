{
 "cells": [
  {
   "cell_type": "code",
   "execution_count": 58,
   "metadata": {},
   "outputs": [],
   "source": [
    "    import dataclasses, typing, collections, functools\n",
    "\n",
    "    class Record(collections.defaultdict):\n",
    "        \"\"\"Record types called.\"\"\"\n",
    "        __init__ = functools.partialmethod(collections.defaultdict.__init__, functools.partial(collections.defaultdict, lambda: 0))\n",
    "        def __call__(self, callable):\n",
    "            @functools.wraps(callable)\n",
    "            def call(*args, **kwargs):\n",
    "                nonlocal self, callable\n",
    "                try:\n",
    "                    object = callable(*args, **kwargs)\n",
    "                    self[callable][typing.Callable[list(map(type, args)), type(object)]] += 1\n",
    "                    return object\n",
    "                except BaseException as e:\n",
    "                    self[callable][typing.Callable[list(map(type, args)), type(e)]] += 1\n",
    "                    raise e\n",
    "            return call"
   ]
  }
 ],
 "metadata": {
  "kernelspec": {
   "display_name": "Python 3",
   "language": "python",
   "name": "python3"
  },
  "language_info": {
   "codemirror_mode": {
    "name": "ipython",
    "version": 3
   },
   "file_extension": ".py",
   "mimetype": "text/x-python",
   "name": "python",
   "nbconvert_exporter": "python",
   "pygments_lexer": "ipython3",
   "version": "3.7.3"
  }
 },
 "nbformat": 4,
 "nbformat_minor": 4
}
