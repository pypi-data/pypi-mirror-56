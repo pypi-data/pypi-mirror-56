{
 "cells": [
  {
   "cell_type": "markdown",
   "metadata": {},
   "source": [
    "Automatically generate interactive widgets for functions."
   ]
  },
  {
   "cell_type": "code",
   "execution_count": 1,
   "metadata": {},
   "outputs": [],
   "source": [
    "    import ipywidgets, types, inspect, IPython, abc, hypothesis"
   ]
  },
  {
   "cell_type": "code",
   "execution_count": 2,
   "metadata": {},
   "outputs": [],
   "source": [
    "    @staticmethod\n",
    "    def patch_single_value(o):\n",
    "        object = widget_from_single_value(o) \n",
    "        strategy = __import__('hypothesis').strategies.from_type(o).wrapped_strategy\n",
    "        object = ipywidgets.interactive.widget_from_iterable([strategy.example() for x in range(20)])\n",
    "        return object"
   ]
  },
  {
   "cell_type": "code",
   "execution_count": 3,
   "metadata": {},
   "outputs": [],
   "source": [
    "    if 'widget_from_single_value' not in globals(): widget_from_single_value = ipywidgets.interactive.widget_from_single_value\n",
    "    ipywidgets.interactive.widget_from_single_value = patch_single_value"
   ]
  },
  {
   "cell_type": "code",
   "execution_count": 4,
   "metadata": {},
   "outputs": [],
   "source": [
    "    @type\n",
    "    def Function(): ...\n",
    "    manager = {}"
   ]
  },
  {
   "cell_type": "code",
   "execution_count": 5,
   "metadata": {},
   "outputs": [],
   "source": [
    "    def wrap(function):\n",
    "        def wrapped(*args, **kwargs):\n",
    "            object = function(*args, **kwargs)\n",
    "            object and print(object)\n",
    "        wrapped.__signature__ = inspect.signature(function)\n",
    "        return wrapped"
   ]
  },
  {
   "cell_type": "code",
   "execution_count": 6,
   "metadata": {},
   "outputs": [],
   "source": [
    "    def display_function_interactive(function):\n",
    "        global manager\n",
    "        print(function)\n",
    "        if function.__annotations__:\n",
    "            key = getattr(function, '__name__', str(function))\n",
    "            if key in manager: manager.pop(key).close()\n",
    "            try:\n",
    "                manager[key] = ipywidgets.interactive(wrap(function))\n",
    "                IPython.display.display(manager[key])\n",
    "            except ValueError: ...\n",
    "        return None"
   ]
  },
  {
   "cell_type": "code",
   "execution_count": 8,
   "metadata": {},
   "outputs": [],
   "source": [
    "    def unload_ipython_extension(shell):\n",
    "        shell.display_formatter.ipython_display_formatter.type_printers.pop(Function, None)\n",
    "    def load_ipython_extension(shell):\n",
    "        unload_ipython_extension(shell)\n",
    "        shell.display_formatter.ipython_display_formatter.for_type(Function, display_function_interactive)\n",
    "    __name__ == '__main__' and load_ipython_extension(get_ipython())"
   ]
  }
 ],
 "metadata": {
  "kernelspec": {
   "display_name": "Python 3",
   "language": "python",
   "name": "python3"
  },
  "language_info": {
   "codemirror_mode": {
    "name": "ipython",
    "version": 3
   },
   "file_extension": ".py",
   "mimetype": "text/x-python",
   "name": "python",
   "nbconvert_exporter": "python",
   "pygments_lexer": "ipython3",
   "version": "3.7.3"
  }
 },
 "nbformat": 4,
 "nbformat_minor": 4
}
