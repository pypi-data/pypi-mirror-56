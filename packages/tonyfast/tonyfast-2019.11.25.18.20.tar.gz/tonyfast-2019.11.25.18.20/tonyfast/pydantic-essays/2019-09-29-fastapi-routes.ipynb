{
 "cells": [
  {
   "cell_type": "markdown",
   "metadata": {},
   "source": [
    "Most canonical examples for [`fastapi`](https://github.com/tiangolo/fastapi) use `fastapi.FastAPI` to instantiate an application.  This notebook envisions a situation where an author has written several useful notebooks and they want to reuse as API's.  This is acheived with `fastapi` and `importnb`."
   ]
  },
  {
   "cell_type": "code",
   "execution_count": 16,
   "metadata": {},
   "outputs": [],
   "source": [
    "import requests, pandas, IPython"
   ]
  },
  {
   "cell_type": "markdown",
   "metadata": {},
   "source": [
    "`fastapi` provides the `fastapi.APIRouter` to build [bigger applications](https://fastapi.tiangolo.com/tutorial/bigger-applications/#apirouter)"
   ]
  },
  {
   "cell_type": "code",
   "execution_count": 17,
   "metadata": {},
   "outputs": [],
   "source": [
    "app = __import__('fastapi').APIRouter()  # Typically __import__('fastapi').FastAPI()"
   ]
  },
  {
   "cell_type": "markdown",
   "metadata": {},
   "source": [
    "`user` is an example endpoint that recieves __Github__ information for a username."
   ]
  },
  {
   "cell_type": "code",
   "execution_count": 18,
   "metadata": {},
   "outputs": [],
   "source": [
    "@app.get('/user')\n",
    "def user(name: str = 'tonyfast'):\n",
    "    global id\n",
    "    id = pandas.Series(requests.get(F'https://api.github.com/users/{name}').json())\n",
    "    return id.to_dict()\n",
    "\n",
    "__import__('requests_cache').install_cache('fastapi_routes') # Add a caching mechanism."
   ]
  },
  {
   "cell_type": "markdown",
   "metadata": {},
   "source": [
    "`gists` accesses the user's gist."
   ]
  },
  {
   "cell_type": "code",
   "execution_count": 19,
   "metadata": {},
   "outputs": [],
   "source": [
    "@app.get('/gists')\n",
    "def gists(pages: int = 2):\n",
    "    global id, df\n",
    "    globals().get('id', user())\n",
    "    df = pandas.concat([pandas.DataFrame(requests.get(\n",
    "        F'https://api.github.com/users/{id.login}/gists?page={i}').json()\n",
    "                                        ) for i in range(1, pages)])\n",
    "    return [x.to_dict() for n, x in df.iterrows()]"
   ]
  },
  {
   "cell_type": "markdown",
   "metadata": {},
   "source": [
    "Use the base `starlette` library to customize to [customize repsonses](https://fastapi.tiangolo.com/tutorial/custom-response/).  For example, we return a `pandas` table."
   ]
  },
  {
   "cell_type": "code",
   "execution_count": 20,
   "metadata": {},
   "outputs": [],
   "source": [
    "@app.get('/table', response_class=__import__('starlette').responses.HTMLResponse)\n",
    "def table(): return globals()['df'].to_html()"
   ]
  },
  {
   "cell_type": "markdown",
   "metadata": {},
   "source": [
    "## Running the application"
   ]
  },
  {
   "cell_type": "markdown",
   "metadata": {},
   "source": [
    "1. Running this notebook\n",
    "\n",
    "    Under the right conditions this notebook can be executed as a standalone application using the code below."
   ]
  },
  {
   "cell_type": "code",
   "execution_count": 21,
   "metadata": {},
   "outputs": [],
   "source": [
    "if __name__ == '__main__' and '__file__' in globals():\n",
    "    APP = __import__('fastapi').FastAPI()\n",
    "    APP.include_router(app)\n",
    "    __name__ == '__main__' and __import__('uvicorn').run(APP, host=\"0.0.0.0\", port=8000)"
   ]
  },
  {
   "cell_type": "markdown",
   "metadata": {},
   "source": [
    "2. Running many notebooks with `fastapi` and `uvicorn`.\n",
    "    \n",
    "    Create an application level python file to aggregrate the `fastapi.APIRouter`s into a unified application.  Each endpoint is prefix by the module name."
   ]
  },
  {
   "cell_type": "code",
   "execution_count": 22,
   "metadata": {},
   "outputs": [
    {
     "data": {
      "text/html": [
       "<style>.output_html .hll { background-color: #ffffcc }\n",
       ".output_html  { background: #f8f8f8; }\n",
       ".output_html .c { color: #408080; font-style: italic } /* Comment */\n",
       ".output_html .err { border: 1px solid #FF0000 } /* Error */\n",
       ".output_html .k { color: #008000; font-weight: bold } /* Keyword */\n",
       ".output_html .o { color: #666666 } /* Operator */\n",
       ".output_html .ch { color: #408080; font-style: italic } /* Comment.Hashbang */\n",
       ".output_html .cm { color: #408080; font-style: italic } /* Comment.Multiline */\n",
       ".output_html .cp { color: #BC7A00 } /* Comment.Preproc */\n",
       ".output_html .cpf { color: #408080; font-style: italic } /* Comment.PreprocFile */\n",
       ".output_html .c1 { color: #408080; font-style: italic } /* Comment.Single */\n",
       ".output_html .cs { color: #408080; font-style: italic } /* Comment.Special */\n",
       ".output_html .gd { color: #A00000 } /* Generic.Deleted */\n",
       ".output_html .ge { font-style: italic } /* Generic.Emph */\n",
       ".output_html .gr { color: #FF0000 } /* Generic.Error */\n",
       ".output_html .gh { color: #000080; font-weight: bold } /* Generic.Heading */\n",
       ".output_html .gi { color: #00A000 } /* Generic.Inserted */\n",
       ".output_html .go { color: #888888 } /* Generic.Output */\n",
       ".output_html .gp { color: #000080; font-weight: bold } /* Generic.Prompt */\n",
       ".output_html .gs { font-weight: bold } /* Generic.Strong */\n",
       ".output_html .gu { color: #800080; font-weight: bold } /* Generic.Subheading */\n",
       ".output_html .gt { color: #0044DD } /* Generic.Traceback */\n",
       ".output_html .kc { color: #008000; font-weight: bold } /* Keyword.Constant */\n",
       ".output_html .kd { color: #008000; font-weight: bold } /* Keyword.Declaration */\n",
       ".output_html .kn { color: #008000; font-weight: bold } /* Keyword.Namespace */\n",
       ".output_html .kp { color: #008000 } /* Keyword.Pseudo */\n",
       ".output_html .kr { color: #008000; font-weight: bold } /* Keyword.Reserved */\n",
       ".output_html .kt { color: #B00040 } /* Keyword.Type */\n",
       ".output_html .m { color: #666666 } /* Literal.Number */\n",
       ".output_html .s { color: #BA2121 } /* Literal.String */\n",
       ".output_html .na { color: #7D9029 } /* Name.Attribute */\n",
       ".output_html .nb { color: #008000 } /* Name.Builtin */\n",
       ".output_html .nc { color: #0000FF; font-weight: bold } /* Name.Class */\n",
       ".output_html .no { color: #880000 } /* Name.Constant */\n",
       ".output_html .nd { color: #AA22FF } /* Name.Decorator */\n",
       ".output_html .ni { color: #999999; font-weight: bold } /* Name.Entity */\n",
       ".output_html .ne { color: #D2413A; font-weight: bold } /* Name.Exception */\n",
       ".output_html .nf { color: #0000FF } /* Name.Function */\n",
       ".output_html .nl { color: #A0A000 } /* Name.Label */\n",
       ".output_html .nn { color: #0000FF; font-weight: bold } /* Name.Namespace */\n",
       ".output_html .nt { color: #008000; font-weight: bold } /* Name.Tag */\n",
       ".output_html .nv { color: #19177C } /* Name.Variable */\n",
       ".output_html .ow { color: #AA22FF; font-weight: bold } /* Operator.Word */\n",
       ".output_html .w { color: #bbbbbb } /* Text.Whitespace */\n",
       ".output_html .mb { color: #666666 } /* Literal.Number.Bin */\n",
       ".output_html .mf { color: #666666 } /* Literal.Number.Float */\n",
       ".output_html .mh { color: #666666 } /* Literal.Number.Hex */\n",
       ".output_html .mi { color: #666666 } /* Literal.Number.Integer */\n",
       ".output_html .mo { color: #666666 } /* Literal.Number.Oct */\n",
       ".output_html .sa { color: #BA2121 } /* Literal.String.Affix */\n",
       ".output_html .sb { color: #BA2121 } /* Literal.String.Backtick */\n",
       ".output_html .sc { color: #BA2121 } /* Literal.String.Char */\n",
       ".output_html .dl { color: #BA2121 } /* Literal.String.Delimiter */\n",
       ".output_html .sd { color: #BA2121; font-style: italic } /* Literal.String.Doc */\n",
       ".output_html .s2 { color: #BA2121 } /* Literal.String.Double */\n",
       ".output_html .se { color: #BB6622; font-weight: bold } /* Literal.String.Escape */\n",
       ".output_html .sh { color: #BA2121 } /* Literal.String.Heredoc */\n",
       ".output_html .si { color: #BB6688; font-weight: bold } /* Literal.String.Interpol */\n",
       ".output_html .sx { color: #008000 } /* Literal.String.Other */\n",
       ".output_html .sr { color: #BB6688 } /* Literal.String.Regex */\n",
       ".output_html .s1 { color: #BA2121 } /* Literal.String.Single */\n",
       ".output_html .ss { color: #19177C } /* Literal.String.Symbol */\n",
       ".output_html .bp { color: #008000 } /* Name.Builtin.Pseudo */\n",
       ".output_html .fm { color: #0000FF } /* Name.Function.Magic */\n",
       ".output_html .vc { color: #19177C } /* Name.Variable.Class */\n",
       ".output_html .vg { color: #19177C } /* Name.Variable.Global */\n",
       ".output_html .vi { color: #19177C } /* Name.Variable.Instance */\n",
       ".output_html .vm { color: #19177C } /* Name.Variable.Magic */\n",
       ".output_html .il { color: #666666 } /* Literal.Number.Integer.Long */</style><div class=\"highlight\"><pre><span></span><span class=\"n\">app</span> <span class=\"o\">=</span> <span class=\"nb\">__import__</span><span class=\"p\">(</span><span class=\"s1\">&#39;fastapi&#39;</span><span class=\"p\">)</span><span class=\"o\">.</span><span class=\"n\">FastAPI</span><span class=\"p\">()</span>\n",
       "<span class=\"k\">with</span> <span class=\"nb\">__import__</span><span class=\"p\">(</span><span class=\"s1\">&#39;importnb&#39;</span><span class=\"p\">)</span><span class=\"o\">.</span><span class=\"n\">Notebook</span><span class=\"p\">():</span>\n",
       "    <span class=\"k\">try</span><span class=\"p\">:</span> <span class=\"kn\">from</span> <span class=\"nn\">.</span> <span class=\"kn\">import</span> <span class=\"n\">__fastapi_routes</span>\n",
       "    <span class=\"k\">except</span><span class=\"p\">:</span> <span class=\"kn\">import</span> <span class=\"nn\">__fastapi_routes</span>\n",
       "<span class=\"n\">app</span><span class=\"o\">.</span><span class=\"n\">include_router</span><span class=\"p\">(</span><span class=\"n\">__fastapi_routes</span><span class=\"o\">.</span><span class=\"n\">app</span><span class=\"p\">,</span> <span class=\"n\">prefix</span><span class=\"o\">=</span><span class=\"n\">F</span><span class=\"s2\">&quot;/{__fastapi_routes.__name__}&quot;</span><span class=\"p\">)</span>\n",
       "<span class=\"vm\">__name__</span> <span class=\"o\">==</span> <span class=\"s1\">&#39;__main__&#39;</span> <span class=\"ow\">and</span> <span class=\"nb\">__import__</span><span class=\"p\">(</span><span class=\"s1\">&#39;uvicorn&#39;</span><span class=\"p\">)</span><span class=\"o\">.</span><span class=\"n\">run</span><span class=\"p\">(</span><span class=\"n\">app</span><span class=\"p\">,</span> <span class=\"n\">host</span><span class=\"o\">=</span><span class=\"s2\">&quot;0.0.0.0&quot;</span><span class=\"p\">,</span> <span class=\"n\">port</span><span class=\"o\">=</span><span class=\"mi\">8000</span><span class=\"p\">)</span>\n",
       "</pre></div>\n"
      ],
      "text/latex": [
       "\\begin{Verbatim}[commandchars=\\\\\\{\\}]\n",
       "\\PY{n}{app} \\PY{o}{=} \\PY{n+nb}{\\PYZus{}\\PYZus{}import\\PYZus{}\\PYZus{}}\\PY{p}{(}\\PY{l+s+s1}{\\PYZsq{}}\\PY{l+s+s1}{fastapi}\\PY{l+s+s1}{\\PYZsq{}}\\PY{p}{)}\\PY{o}{.}\\PY{n}{FastAPI}\\PY{p}{(}\\PY{p}{)}\n",
       "\\PY{k}{with} \\PY{n+nb}{\\PYZus{}\\PYZus{}import\\PYZus{}\\PYZus{}}\\PY{p}{(}\\PY{l+s+s1}{\\PYZsq{}}\\PY{l+s+s1}{importnb}\\PY{l+s+s1}{\\PYZsq{}}\\PY{p}{)}\\PY{o}{.}\\PY{n}{Notebook}\\PY{p}{(}\\PY{p}{)}\\PY{p}{:}\n",
       "    \\PY{k}{try}\\PY{p}{:} \\PY{k+kn}{from} \\PY{n+nn}{.} \\PY{k+kn}{import} \\PY{n}{\\PYZus{}\\PYZus{}fastapi\\PYZus{}routes}\n",
       "    \\PY{k}{except}\\PY{p}{:} \\PY{k+kn}{import} \\PY{n+nn}{\\PYZus{}\\PYZus{}fastapi\\PYZus{}routes}\n",
       "\\PY{n}{app}\\PY{o}{.}\\PY{n}{include\\PYZus{}router}\\PY{p}{(}\\PY{n}{\\PYZus{}\\PYZus{}fastapi\\PYZus{}routes}\\PY{o}{.}\\PY{n}{app}\\PY{p}{,} \\PY{n}{prefix}\\PY{o}{=}\\PY{n}{F}\\PY{l+s+s2}{\\PYZdq{}}\\PY{l+s+s2}{/\\PYZob{}\\PYZus{}\\PYZus{}fastapi\\PYZus{}routes.\\PYZus{}\\PYZus{}name\\PYZus{}\\PYZus{}\\PYZcb{}}\\PY{l+s+s2}{\\PYZdq{}}\\PY{p}{)}\n",
       "\\PY{n+nv+vm}{\\PYZus{}\\PYZus{}name\\PYZus{}\\PYZus{}} \\PY{o}{==} \\PY{l+s+s1}{\\PYZsq{}}\\PY{l+s+s1}{\\PYZus{}\\PYZus{}main\\PYZus{}\\PYZus{}}\\PY{l+s+s1}{\\PYZsq{}} \\PY{o+ow}{and} \\PY{n+nb}{\\PYZus{}\\PYZus{}import\\PYZus{}\\PYZus{}}\\PY{p}{(}\\PY{l+s+s1}{\\PYZsq{}}\\PY{l+s+s1}{uvicorn}\\PY{l+s+s1}{\\PYZsq{}}\\PY{p}{)}\\PY{o}{.}\\PY{n}{run}\\PY{p}{(}\\PY{n}{app}\\PY{p}{,} \\PY{n}{host}\\PY{o}{=}\\PY{l+s+s2}{\\PYZdq{}}\\PY{l+s+s2}{0.0.0.0}\\PY{l+s+s2}{\\PYZdq{}}\\PY{p}{,} \\PY{n}{port}\\PY{o}{=}\\PY{l+m+mi}{8000}\\PY{p}{)}\n",
       "\\end{Verbatim}\n"
      ],
      "text/plain": [
       "app = __import__('fastapi').FastAPI()\n",
       "with __import__('importnb').Notebook():\n",
       "    try: from . import __fastapi_routes\n",
       "    except: import __fastapi_routes\n",
       "app.include_router(__fastapi_routes.app, prefix=F\"/{__fastapi_routes.__name__}\")\n",
       "__name__ == '__main__' and __import__('uvicorn').run(app, host=\"0.0.0.0\", port=8000)"
      ]
     },
     "execution_count": 22,
     "metadata": {},
     "output_type": "execute_result"
    }
   ],
   "source": [
    "__name__ == '__main__' and '__file__' not in globals() and IPython.display.Code(filename='main.py')"
   ]
  }
 ],
 "metadata": {
  "kernelspec": {
   "display_name": "Python 3",
   "language": "python",
   "name": "python3"
  },
  "language_info": {
   "codemirror_mode": {
    "name": "ipython",
    "version": 3
   },
   "file_extension": ".py",
   "mimetype": "text/x-python",
   "name": "python",
   "nbconvert_exporter": "python",
   "pygments_lexer": "ipython3",
   "version": "3.7.3"
  }
 },
 "nbformat": 4,
 "nbformat_minor": 4
}
