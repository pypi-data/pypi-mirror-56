{
 "cells": [
  {
   "cell_type": "code",
   "execution_count": 1,
   "metadata": {},
   "outputs": [],
   "source": [
    "    __all__ = 'get',"
   ]
  },
  {
   "cell_type": "markdown",
   "metadata": {},
   "source": [
    "`get` is an `async` function to make requests to the github api.  if you have an access token in os.environ then you can make many requests."
   ]
  },
  {
   "cell_type": "code",
   "execution_count": 2,
   "metadata": {},
   "outputs": [],
   "source": [
    "    import aiohttp, gidgethub.aiohttp, asyncio, pandas"
   ]
  },
  {
   "cell_type": "code",
   "execution_count": 3,
   "metadata": {},
   "outputs": [],
   "source": [
    "    async def get(*object):\n",
    "        async with aiohttp.ClientSession() as session:\n",
    "            gh = gidgethub.aiohttp.GitHubAPI(session, \"deathbeds\")\n",
    "            return await asyncio.gather(*map(gh.getitem, object))"
   ]
  },
  {
   "cell_type": "code",
   "execution_count": 4,
   "metadata": {},
   "outputs": [],
   "source": [
    "    Ø = __name__ == '__main__'; \n",
    "    if Ø: import nest_asyncio; nest_asyncio.apply(); shell = get_ipython(); "
   ]
  },
  {
   "cell_type": "code",
   "execution_count": 5,
   "metadata": {},
   "outputs": [],
   "source": [
    "    Ø and shell.run_cell(\"\"\"(tony,) = await get('/users/tonyfast')\"\"\");"
   ]
  },
  {
   "cell_type": "code",
   "execution_count": 6,
   "metadata": {},
   "outputs": [],
   "source": [
    "    Ø and shell.run_cell(\"\"\"df = pandas.concat([\n",
    "        pandas.DataFrame(x)\n",
    "        for x in await get(*[F\"/users/tonyfast/gists?page={x}\" for x in range(1, min(3, tony['public_gists']//30 + 1))])\n",
    "    ])\"\"\");"
   ]
  }
 ],
 "metadata": {
  "kernelspec": {
   "display_name": "Python 3",
   "language": "python",
   "name": "python3"
  },
  "language_info": {
   "codemirror_mode": {
    "name": "ipython",
    "version": 3
   },
   "file_extension": ".py",
   "mimetype": "text/x-python",
   "name": "python",
   "nbconvert_exporter": "python",
   "pygments_lexer": "ipython3",
   "version": "3.7.3"
  }
 },
 "nbformat": 4,
 "nbformat_minor": 4
}
