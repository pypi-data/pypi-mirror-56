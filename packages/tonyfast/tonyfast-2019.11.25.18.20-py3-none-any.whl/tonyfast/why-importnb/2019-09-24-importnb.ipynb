{
 "cells": [
  {
   "cell_type": "code",
   "execution_count": 28,
   "metadata": {},
   "outputs": [],
   "source": [
    "    %reload_ext tonyfast\n",
    "    __import__('requests_cache').install_cache('importnb'); import inspect, sys, IPython, nbformat, nbconvert, pathlib, json, pytest"
   ]
  },
  {
   "cell_type": "markdown",
   "metadata": {},
   "source": [
    "# Why `importnb`?\n",
    "\n",
    "* Teaches good reproducible habits. __Restart and run all__\n",
    "* Promotes less complex notebooks.\n",
    "* Notebooks can be used as applications.\n",
    "* Notebooks seed tests."
   ]
  },
  {
   "cell_type": "code",
   "execution_count": 29,
   "metadata": {},
   "outputs": [],
   "source": [
    "    import importnb"
   ]
  },
  {
   "cell_type": "markdown",
   "metadata": {},
   "source": [
    "### Make notebook"
   ]
  },
  {
   "cell_type": "code",
   "execution_count": 30,
   "metadata": {},
   "outputs": [
    {
     "data": {
      "text/plain": [
       "208"
      ]
     },
     "execution_count": 30,
     "metadata": {},
     "output_type": "execute_result"
    }
   ],
   "source": [
    "    pathlib.Path('demo.ipynb').write_text(json.dumps(\n",
    "        nbformat.v4.new_notebook(cells=[nbformat.v4.new_code_cell(\"\"\"\n",
    "    foo = 10\n",
    "    print(F\"🥇 {foo}\")\"\"\".splitlines(True))])))"
   ]
  },
  {
   "cell_type": "markdown",
   "metadata": {},
   "source": [
    "# __import__ a notebook"
   ]
  },
  {
   "cell_type": "code",
   "execution_count": 31,
   "metadata": {},
   "outputs": [
    {
     "data": {
      "text/plain": [
       "'demo.ipynb'"
      ]
     },
     "execution_count": 31,
     "metadata": {},
     "output_type": "execute_result"
    }
   ],
   "source": [
    "    with importnb.Notebook():\n",
    "        import demo\n",
    "        \n",
    "    F\"{demo.__file__}\""
   ]
  },
  {
   "cell_type": "markdown",
   "metadata": {},
   "source": [
    "### Are the notebooks reload-able?"
   ]
  },
  {
   "cell_type": "code",
   "execution_count": 32,
   "metadata": {},
   "outputs": [],
   "source": [
    "    with pytest.raises(ModuleNotFoundError):\n",
    "        importnb.reload(demo)"
   ]
  },
  {
   "cell_type": "markdown",
   "metadata": {},
   "source": [
    "# 🤝 change the notebook"
   ]
  },
  {
   "cell_type": "code",
   "execution_count": 33,
   "metadata": {},
   "outputs": [
    {
     "data": {
      "text/plain": [
       "208"
      ]
     },
     "execution_count": 33,
     "metadata": {},
     "output_type": "execute_result"
    }
   ],
   "source": [
    "    pathlib.Path('demo.ipynb').write_text(json.dumps(\n",
    "        nbformat.v4.new_notebook(cells=[nbformat.v4.new_code_cell(\"\"\"\n",
    "    foo = \"What\"\n",
    "    print(F\"⓶ {foo}\")\"\"\".splitlines(True))])))"
   ]
  },
  {
   "cell_type": "code",
   "execution_count": 34,
   "metadata": {},
   "outputs": [
    {
     "name": "stdout",
     "output_type": "stream",
     "text": [
      "⓶ What\n"
     ]
    }
   ],
   "source": [
    "    with importnb.Notebook():\n",
    "        importnb.reload(demo)"
   ]
  },
  {
   "cell_type": "markdown",
   "metadata": {},
   "source": [
    "https://github.com/deathbeds/importnb"
   ]
  },
  {
   "cell_type": "markdown",
   "metadata": {},
   "source": [
    "## Relative imports.\n",
    "\n",
    "Import notebooks in `\"__init__.py\" and \"__main__.py\"` files."
   ]
  },
  {
   "cell_type": "code",
   "execution_count": 35,
   "metadata": {},
   "outputs": [
    {
     "data": {
      "text/html": [
       "<style>.output_html .hll { background-color: #ffffcc }\n",
       ".output_html  { background: #f8f8f8; }\n",
       ".output_html .c { color: #408080; font-style: italic } /* Comment */\n",
       ".output_html .err { border: 1px solid #FF0000 } /* Error */\n",
       ".output_html .k { color: #008000; font-weight: bold } /* Keyword */\n",
       ".output_html .o { color: #666666 } /* Operator */\n",
       ".output_html .ch { color: #408080; font-style: italic } /* Comment.Hashbang */\n",
       ".output_html .cm { color: #408080; font-style: italic } /* Comment.Multiline */\n",
       ".output_html .cp { color: #BC7A00 } /* Comment.Preproc */\n",
       ".output_html .cpf { color: #408080; font-style: italic } /* Comment.PreprocFile */\n",
       ".output_html .c1 { color: #408080; font-style: italic } /* Comment.Single */\n",
       ".output_html .cs { color: #408080; font-style: italic } /* Comment.Special */\n",
       ".output_html .gd { color: #A00000 } /* Generic.Deleted */\n",
       ".output_html .ge { font-style: italic } /* Generic.Emph */\n",
       ".output_html .gr { color: #FF0000 } /* Generic.Error */\n",
       ".output_html .gh { color: #000080; font-weight: bold } /* Generic.Heading */\n",
       ".output_html .gi { color: #00A000 } /* Generic.Inserted */\n",
       ".output_html .go { color: #888888 } /* Generic.Output */\n",
       ".output_html .gp { color: #000080; font-weight: bold } /* Generic.Prompt */\n",
       ".output_html .gs { font-weight: bold } /* Generic.Strong */\n",
       ".output_html .gu { color: #800080; font-weight: bold } /* Generic.Subheading */\n",
       ".output_html .gt { color: #0044DD } /* Generic.Traceback */\n",
       ".output_html .kc { color: #008000; font-weight: bold } /* Keyword.Constant */\n",
       ".output_html .kd { color: #008000; font-weight: bold } /* Keyword.Declaration */\n",
       ".output_html .kn { color: #008000; font-weight: bold } /* Keyword.Namespace */\n",
       ".output_html .kp { color: #008000 } /* Keyword.Pseudo */\n",
       ".output_html .kr { color: #008000; font-weight: bold } /* Keyword.Reserved */\n",
       ".output_html .kt { color: #B00040 } /* Keyword.Type */\n",
       ".output_html .m { color: #666666 } /* Literal.Number */\n",
       ".output_html .s { color: #BA2121 } /* Literal.String */\n",
       ".output_html .na { color: #7D9029 } /* Name.Attribute */\n",
       ".output_html .nb { color: #008000 } /* Name.Builtin */\n",
       ".output_html .nc { color: #0000FF; font-weight: bold } /* Name.Class */\n",
       ".output_html .no { color: #880000 } /* Name.Constant */\n",
       ".output_html .nd { color: #AA22FF } /* Name.Decorator */\n",
       ".output_html .ni { color: #999999; font-weight: bold } /* Name.Entity */\n",
       ".output_html .ne { color: #D2413A; font-weight: bold } /* Name.Exception */\n",
       ".output_html .nf { color: #0000FF } /* Name.Function */\n",
       ".output_html .nl { color: #A0A000 } /* Name.Label */\n",
       ".output_html .nn { color: #0000FF; font-weight: bold } /* Name.Namespace */\n",
       ".output_html .nt { color: #008000; font-weight: bold } /* Name.Tag */\n",
       ".output_html .nv { color: #19177C } /* Name.Variable */\n",
       ".output_html .ow { color: #AA22FF; font-weight: bold } /* Operator.Word */\n",
       ".output_html .w { color: #bbbbbb } /* Text.Whitespace */\n",
       ".output_html .mb { color: #666666 } /* Literal.Number.Bin */\n",
       ".output_html .mf { color: #666666 } /* Literal.Number.Float */\n",
       ".output_html .mh { color: #666666 } /* Literal.Number.Hex */\n",
       ".output_html .mi { color: #666666 } /* Literal.Number.Integer */\n",
       ".output_html .mo { color: #666666 } /* Literal.Number.Oct */\n",
       ".output_html .sa { color: #BA2121 } /* Literal.String.Affix */\n",
       ".output_html .sb { color: #BA2121 } /* Literal.String.Backtick */\n",
       ".output_html .sc { color: #BA2121 } /* Literal.String.Char */\n",
       ".output_html .dl { color: #BA2121 } /* Literal.String.Delimiter */\n",
       ".output_html .sd { color: #BA2121; font-style: italic } /* Literal.String.Doc */\n",
       ".output_html .s2 { color: #BA2121 } /* Literal.String.Double */\n",
       ".output_html .se { color: #BB6622; font-weight: bold } /* Literal.String.Escape */\n",
       ".output_html .sh { color: #BA2121 } /* Literal.String.Heredoc */\n",
       ".output_html .si { color: #BB6688; font-weight: bold } /* Literal.String.Interpol */\n",
       ".output_html .sx { color: #008000 } /* Literal.String.Other */\n",
       ".output_html .sr { color: #BB6688 } /* Literal.String.Regex */\n",
       ".output_html .s1 { color: #BA2121 } /* Literal.String.Single */\n",
       ".output_html .ss { color: #19177C } /* Literal.String.Symbol */\n",
       ".output_html .bp { color: #008000 } /* Name.Builtin.Pseudo */\n",
       ".output_html .fm { color: #0000FF } /* Name.Function.Magic */\n",
       ".output_html .vc { color: #19177C } /* Name.Variable.Class */\n",
       ".output_html .vg { color: #19177C } /* Name.Variable.Global */\n",
       ".output_html .vi { color: #19177C } /* Name.Variable.Instance */\n",
       ".output_html .vm { color: #19177C } /* Name.Variable.Magic */\n",
       ".output_html .il { color: #666666 } /* Literal.Number.Integer.Long */</style><div class=\"highlight\"><pre><span></span><span class=\"n\">__all__</span> <span class=\"o\">=</span> <span class=\"s1\">&#39;jschema&#39;</span><span class=\"p\">,</span>\n",
       "<span class=\"k\">with</span> <span class=\"nb\">__import__</span><span class=\"p\">(</span><span class=\"s1\">&#39;importnb&#39;</span><span class=\"p\">)</span><span class=\"o\">.</span><span class=\"n\">Notebook</span><span class=\"p\">(</span><span class=\"n\">lazy</span><span class=\"o\">=</span><span class=\"bp\">True</span><span class=\"p\">):</span>\n",
       "  <span class=\"kn\">from</span> <span class=\"nn\">.jschema</span> <span class=\"kn\">import</span> <span class=\"o\">*</span>\n",
       "</pre></div>\n"
      ],
      "text/latex": [
       "\\begin{Verbatim}[commandchars=\\\\\\{\\}]\n",
       "\\PY{n}{\\PYZus{}\\PYZus{}all\\PYZus{}\\PYZus{}} \\PY{o}{=} \\PY{l+s+s1}{\\PYZsq{}}\\PY{l+s+s1}{jschema}\\PY{l+s+s1}{\\PYZsq{}}\\PY{p}{,}\n",
       "\\PY{k}{with} \\PY{n+nb}{\\PYZus{}\\PYZus{}import\\PYZus{}\\PYZus{}}\\PY{p}{(}\\PY{l+s+s1}{\\PYZsq{}}\\PY{l+s+s1}{importnb}\\PY{l+s+s1}{\\PYZsq{}}\\PY{p}{)}\\PY{o}{.}\\PY{n}{Notebook}\\PY{p}{(}\\PY{n}{lazy}\\PY{o}{=}\\PY{n+nb+bp}{True}\\PY{p}{)}\\PY{p}{:}\n",
       "  \\PY{k+kn}{from} \\PY{n+nn}{.jschema} \\PY{k+kn}{import} \\PY{o}{*}\n",
       "\\end{Verbatim}\n"
      ],
      "text/plain": [
       "__all__ = 'jschema',\n",
       "with __import__('importnb').Notebook(lazy=True):\n",
       "  from .jschema import *"
      ]
     },
     "metadata": {},
     "output_type": "display_data"
    }
   ],
   "source": [
    "    IPython.display.display(\n",
    "        IPython.display.Code(\"https://gist.githubusercontent.com/tonyfast/fee98e31e3da90c3606c5dc14a703f0c/raw/780b50a6708b40c56274e4c66c82eeb48bee50e6/__init__.py\".text()))"
   ]
  },
  {
   "cell_type": "markdown",
   "metadata": {},
   "source": [
    "Notebooks that make extensions"
   ]
  },
  {
   "cell_type": "code",
   "execution_count": 36,
   "metadata": {},
   "outputs": [
    {
     "data": {
      "text/html": [
       "<style>.output_html .hll { background-color: #ffffcc }\n",
       ".output_html  { background: #f8f8f8; }\n",
       ".output_html .c { color: #408080; font-style: italic } /* Comment */\n",
       ".output_html .err { border: 1px solid #FF0000 } /* Error */\n",
       ".output_html .k { color: #008000; font-weight: bold } /* Keyword */\n",
       ".output_html .o { color: #666666 } /* Operator */\n",
       ".output_html .ch { color: #408080; font-style: italic } /* Comment.Hashbang */\n",
       ".output_html .cm { color: #408080; font-style: italic } /* Comment.Multiline */\n",
       ".output_html .cp { color: #BC7A00 } /* Comment.Preproc */\n",
       ".output_html .cpf { color: #408080; font-style: italic } /* Comment.PreprocFile */\n",
       ".output_html .c1 { color: #408080; font-style: italic } /* Comment.Single */\n",
       ".output_html .cs { color: #408080; font-style: italic } /* Comment.Special */\n",
       ".output_html .gd { color: #A00000 } /* Generic.Deleted */\n",
       ".output_html .ge { font-style: italic } /* Generic.Emph */\n",
       ".output_html .gr { color: #FF0000 } /* Generic.Error */\n",
       ".output_html .gh { color: #000080; font-weight: bold } /* Generic.Heading */\n",
       ".output_html .gi { color: #00A000 } /* Generic.Inserted */\n",
       ".output_html .go { color: #888888 } /* Generic.Output */\n",
       ".output_html .gp { color: #000080; font-weight: bold } /* Generic.Prompt */\n",
       ".output_html .gs { font-weight: bold } /* Generic.Strong */\n",
       ".output_html .gu { color: #800080; font-weight: bold } /* Generic.Subheading */\n",
       ".output_html .gt { color: #0044DD } /* Generic.Traceback */\n",
       ".output_html .kc { color: #008000; font-weight: bold } /* Keyword.Constant */\n",
       ".output_html .kd { color: #008000; font-weight: bold } /* Keyword.Declaration */\n",
       ".output_html .kn { color: #008000; font-weight: bold } /* Keyword.Namespace */\n",
       ".output_html .kp { color: #008000 } /* Keyword.Pseudo */\n",
       ".output_html .kr { color: #008000; font-weight: bold } /* Keyword.Reserved */\n",
       ".output_html .kt { color: #B00040 } /* Keyword.Type */\n",
       ".output_html .m { color: #666666 } /* Literal.Number */\n",
       ".output_html .s { color: #BA2121 } /* Literal.String */\n",
       ".output_html .na { color: #7D9029 } /* Name.Attribute */\n",
       ".output_html .nb { color: #008000 } /* Name.Builtin */\n",
       ".output_html .nc { color: #0000FF; font-weight: bold } /* Name.Class */\n",
       ".output_html .no { color: #880000 } /* Name.Constant */\n",
       ".output_html .nd { color: #AA22FF } /* Name.Decorator */\n",
       ".output_html .ni { color: #999999; font-weight: bold } /* Name.Entity */\n",
       ".output_html .ne { color: #D2413A; font-weight: bold } /* Name.Exception */\n",
       ".output_html .nf { color: #0000FF } /* Name.Function */\n",
       ".output_html .nl { color: #A0A000 } /* Name.Label */\n",
       ".output_html .nn { color: #0000FF; font-weight: bold } /* Name.Namespace */\n",
       ".output_html .nt { color: #008000; font-weight: bold } /* Name.Tag */\n",
       ".output_html .nv { color: #19177C } /* Name.Variable */\n",
       ".output_html .ow { color: #AA22FF; font-weight: bold } /* Operator.Word */\n",
       ".output_html .w { color: #bbbbbb } /* Text.Whitespace */\n",
       ".output_html .mb { color: #666666 } /* Literal.Number.Bin */\n",
       ".output_html .mf { color: #666666 } /* Literal.Number.Float */\n",
       ".output_html .mh { color: #666666 } /* Literal.Number.Hex */\n",
       ".output_html .mi { color: #666666 } /* Literal.Number.Integer */\n",
       ".output_html .mo { color: #666666 } /* Literal.Number.Oct */\n",
       ".output_html .sa { color: #BA2121 } /* Literal.String.Affix */\n",
       ".output_html .sb { color: #BA2121 } /* Literal.String.Backtick */\n",
       ".output_html .sc { color: #BA2121 } /* Literal.String.Char */\n",
       ".output_html .dl { color: #BA2121 } /* Literal.String.Delimiter */\n",
       ".output_html .sd { color: #BA2121; font-style: italic } /* Literal.String.Doc */\n",
       ".output_html .s2 { color: #BA2121 } /* Literal.String.Double */\n",
       ".output_html .se { color: #BB6622; font-weight: bold } /* Literal.String.Escape */\n",
       ".output_html .sh { color: #BA2121 } /* Literal.String.Heredoc */\n",
       ".output_html .si { color: #BB6688; font-weight: bold } /* Literal.String.Interpol */\n",
       ".output_html .sx { color: #008000 } /* Literal.String.Other */\n",
       ".output_html .sr { color: #BB6688 } /* Literal.String.Regex */\n",
       ".output_html .s1 { color: #BA2121 } /* Literal.String.Single */\n",
       ".output_html .ss { color: #19177C } /* Literal.String.Symbol */\n",
       ".output_html .bp { color: #008000 } /* Name.Builtin.Pseudo */\n",
       ".output_html .fm { color: #0000FF } /* Name.Function.Magic */\n",
       ".output_html .vc { color: #19177C } /* Name.Variable.Class */\n",
       ".output_html .vg { color: #19177C } /* Name.Variable.Global */\n",
       ".output_html .vi { color: #19177C } /* Name.Variable.Instance */\n",
       ".output_html .vm { color: #19177C } /* Name.Variable.Magic */\n",
       ".output_html .il { color: #666666 } /* Literal.Number.Integer.Long */</style><div class=\"highlight\"><pre><span></span><span class=\"k\">def</span> <span class=\"nf\">load_ipython_extension</span><span class=\"p\">(</span><span class=\"n\">shell</span><span class=\"p\">):</span>\n",
       "    <span class=\"k\">with</span> <span class=\"nb\">__import__</span><span class=\"p\">(</span><span class=\"s1\">&#39;importnb&#39;</span><span class=\"p\">)</span><span class=\"o\">.</span><span class=\"n\">Notebook</span><span class=\"p\">():</span> <span class=\"kn\">from</span> <span class=\"nn\">.</span> <span class=\"kn\">import</span> <span class=\"n\">jschema</span><span class=\"p\">,</span> <span class=\"n\">ainteractive</span>\n",
       "    <span class=\"n\">jschema</span><span class=\"o\">.</span><span class=\"n\">load_ipython_extension</span><span class=\"p\">(</span><span class=\"n\">shell</span><span class=\"p\">)</span>\n",
       "    <span class=\"n\">ainteractive</span><span class=\"o\">.</span><span class=\"n\">load_ipython_extension</span><span class=\"p\">(</span><span class=\"n\">shell</span><span class=\"p\">)</span>\n",
       "<span class=\"k\">def</span> <span class=\"nf\">unload_ipython_extension</span><span class=\"p\">(</span><span class=\"n\">shell</span><span class=\"p\">):</span>\n",
       "    <span class=\"k\">with</span> <span class=\"nb\">__import__</span><span class=\"p\">(</span><span class=\"s1\">&#39;importnb&#39;</span><span class=\"p\">)</span><span class=\"o\">.</span><span class=\"n\">Notebook</span><span class=\"p\">():</span> <span class=\"kn\">from</span> <span class=\"nn\">.</span> <span class=\"kn\">import</span> <span class=\"n\">jschema</span><span class=\"p\">,</span> <span class=\"n\">ainteractive</span>\n",
       "    <span class=\"n\">jschema</span><span class=\"o\">.</span><span class=\"n\">unload_ipython_extension</span><span class=\"p\">(</span><span class=\"n\">shell</span><span class=\"p\">)</span>\n",
       "    <span class=\"n\">ainteractive</span><span class=\"o\">.</span><span class=\"n\">unload_ipython_extension</span><span class=\"p\">(</span><span class=\"n\">shell</span><span class=\"p\">)</span>\n",
       "    \n",
       "</pre></div>\n"
      ],
      "text/latex": [
       "\\begin{Verbatim}[commandchars=\\\\\\{\\}]\n",
       "\\PY{k}{def} \\PY{n+nf}{load\\PYZus{}ipython\\PYZus{}extension}\\PY{p}{(}\\PY{n}{shell}\\PY{p}{)}\\PY{p}{:}\n",
       "    \\PY{k}{with} \\PY{n+nb}{\\PYZus{}\\PYZus{}import\\PYZus{}\\PYZus{}}\\PY{p}{(}\\PY{l+s+s1}{\\PYZsq{}}\\PY{l+s+s1}{importnb}\\PY{l+s+s1}{\\PYZsq{}}\\PY{p}{)}\\PY{o}{.}\\PY{n}{Notebook}\\PY{p}{(}\\PY{p}{)}\\PY{p}{:} \\PY{k+kn}{from} \\PY{n+nn}{.} \\PY{k+kn}{import} \\PY{n}{jschema}\\PY{p}{,} \\PY{n}{ainteractive}\n",
       "    \\PY{n}{jschema}\\PY{o}{.}\\PY{n}{load\\PYZus{}ipython\\PYZus{}extension}\\PY{p}{(}\\PY{n}{shell}\\PY{p}{)}\n",
       "    \\PY{n}{ainteractive}\\PY{o}{.}\\PY{n}{load\\PYZus{}ipython\\PYZus{}extension}\\PY{p}{(}\\PY{n}{shell}\\PY{p}{)}\n",
       "\\PY{k}{def} \\PY{n+nf}{unload\\PYZus{}ipython\\PYZus{}extension}\\PY{p}{(}\\PY{n}{shell}\\PY{p}{)}\\PY{p}{:}\n",
       "    \\PY{k}{with} \\PY{n+nb}{\\PYZus{}\\PYZus{}import\\PYZus{}\\PYZus{}}\\PY{p}{(}\\PY{l+s+s1}{\\PYZsq{}}\\PY{l+s+s1}{importnb}\\PY{l+s+s1}{\\PYZsq{}}\\PY{p}{)}\\PY{o}{.}\\PY{n}{Notebook}\\PY{p}{(}\\PY{p}{)}\\PY{p}{:} \\PY{k+kn}{from} \\PY{n+nn}{.} \\PY{k+kn}{import} \\PY{n}{jschema}\\PY{p}{,} \\PY{n}{ainteractive}\n",
       "    \\PY{n}{jschema}\\PY{o}{.}\\PY{n}{unload\\PYZus{}ipython\\PYZus{}extension}\\PY{p}{(}\\PY{n}{shell}\\PY{p}{)}\n",
       "    \\PY{n}{ainteractive}\\PY{o}{.}\\PY{n}{unload\\PYZus{}ipython\\PYZus{}extension}\\PY{p}{(}\\PY{n}{shell}\\PY{p}{)}\n",
       "    \n",
       "\\end{Verbatim}\n"
      ],
      "text/plain": [
       "def load_ipython_extension(shell):\n",
       "    with __import__('importnb').Notebook(): from . import jschema, ainteractive\n",
       "    jschema.load_ipython_extension(shell)\n",
       "    ainteractive.load_ipython_extension(shell)\n",
       "def unload_ipython_extension(shell):\n",
       "    with __import__('importnb').Notebook(): from . import jschema, ainteractive\n",
       "    jschema.unload_ipython_extension(shell)\n",
       "    ainteractive.unload_ipython_extension(shell)\n",
       "    "
      ]
     },
     "metadata": {},
     "output_type": "display_data"
    }
   ],
   "source": [
    "    IPython.display.display(\n",
    "        IPython.display.Code(\"https://raw.githubusercontent.com/tonyfast/gists/master/tonyfast/__init__.py\".text()))"
   ]
  },
  {
   "cell_type": "markdown",
   "metadata": {},
   "source": [
    "# [`__name__ == '__main__'` is important](https://nbviewer.jupyter.org/github/deathbeds/deathbeds.github.io/blob/master/deathbeds/2018-07-09-name-is-main.ipynb)\n",
    "\n",
    "In notebooks, we are working in the application.  _It hasn't been named yet._"
   ]
  },
  {
   "cell_type": "markdown",
   "metadata": {},
   "source": [
    "# What does `importnb` do?\n",
    "\n",
    "`...` temporarily modifies the `sys.path_hooks` used to discover typical python files."
   ]
  },
  {
   "cell_type": "markdown",
   "metadata": {},
   "source": [
    "### Before"
   ]
  },
  {
   "cell_type": "code",
   "execution_count": 37,
   "metadata": {},
   "outputs": [
    {
     "data": {
      "text/plain": [
       "((_frozen_importlib_external.ExtensionFileLoader,\n",
       "  ['.cpython-37m-darwin.so', '.abi3.so', '.so']),\n",
       " (_frozen_importlib_external.SourceFileLoader, ['.py']),\n",
       " (_frozen_importlib_external.SourcelessFileLoader, ['.pyc']))"
      ]
     },
     "execution_count": 37,
     "metadata": {},
     "output_type": "execute_result"
    }
   ],
   "source": [
    "    inspect.getclosurevars(sys.path_hooks[1]).nonlocals['loader_details']"
   ]
  },
  {
   "cell_type": "markdown",
   "metadata": {},
   "source": [
    "## After"
   ]
  },
  {
   "cell_type": "code",
   "execution_count": 41,
   "metadata": {},
   "outputs": [
    {
     "name": "stdout",
     "output_type": "stream",
     "text": [
      "((functools.partial(<class 'importnb.loader.Notebook'>, lazy=False, fuzzy=True, markdown_docstring=True, position=0, main=False), ('.ipynb',)), (<class '_frozen_importlib_external.ExtensionFileLoader'>, ['.cpython-37m-darwin.so', '.abi3.so', '.so']), (<class '_frozen_importlib_external.SourceFileLoader'>, ['.py']), (<class '_frozen_importlib_external.SourcelessFileLoader'>, ['.pyc']))\n"
     ]
    }
   ],
   "source": [
    "    with importnb.Notebook(): print(inspect.getclosurevars(sys.path_hooks[1]).nonlocals['loader_details'])"
   ]
  },
  {
   "cell_type": "markdown",
   "metadata": {},
   "source": [
    "### Parameterized notebooks\n",
    "\n"
   ]
  },
  {
   "cell_type": "code",
   "execution_count": 42,
   "metadata": {},
   "outputs": [],
   "source": [
    "    %%capture\n",
    "    f = importnb.Parameterize.load('demo.ipynb')"
   ]
  },
  {
   "cell_type": "code",
   "execution_count": 44,
   "metadata": {},
   "outputs": [
    {
     "name": "stdout",
     "output_type": "stream",
     "text": [
      "⓶  🙏\n"
     ]
    },
    {
     "data": {
      "text/plain": [
       "<module 'demo' from 'demo.ipynb'>"
      ]
     },
     "execution_count": 44,
     "metadata": {},
     "output_type": "execute_result"
    }
   ],
   "source": [
    "    f(foo=' 🙏')"
   ]
  },
  {
   "cell_type": "code",
   "execution_count": 43,
   "metadata": {},
   "outputs": [
    {
     "name": "stdout",
     "output_type": "stream",
     "text": [
      "<function _ at 0x113dd4d90>\n"
     ]
    },
    {
     "data": {
      "application/vnd.jupyter.widget-view+json": {
       "model_id": "e4a4b4f7ff614142b2e43e88e7bd3eb8",
       "version_major": 2,
       "version_minor": 0
      },
      "text/plain": [
       "interactive(children=(IntSlider(value=50, description='l'), Output()), _dom_classes=('widget-interact',))"
      ]
     },
     "metadata": {},
     "output_type": "display_data"
    }
   ],
   "source": [
    "    def _(l:(0, 100)): f(foo=l)\n",
    "    _"
   ]
  },
  {
   "cell_type": "markdown",
   "metadata": {},
   "source": [
    "## 😫 CLI looks busted."
   ]
  }
 ],
 "metadata": {
  "kernelspec": {
   "display_name": "Python 3",
   "language": "python",
   "name": "python3"
  },
  "language_info": {
   "codemirror_mode": {
    "name": "ipython",
    "version": 3
   },
   "file_extension": ".py",
   "mimetype": "text/x-python",
   "name": "python",
   "nbconvert_exporter": "python",
   "pygments_lexer": "ipython3",
   "version": "3.7.3"
  }
 },
 "nbformat": 4,
 "nbformat_minor": 4
}
