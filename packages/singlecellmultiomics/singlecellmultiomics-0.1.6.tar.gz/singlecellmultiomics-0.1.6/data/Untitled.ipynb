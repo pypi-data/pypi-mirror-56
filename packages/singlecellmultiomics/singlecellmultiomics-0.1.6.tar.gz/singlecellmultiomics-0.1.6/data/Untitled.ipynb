{
 "cells": [
  {
   "cell_type": "code",
   "execution_count": 1,
   "metadata": {},
   "outputs": [],
   "source": [
    "import pysam\n",
    "import glob\n",
    "\n",
    "for path in glob.glob('/hpc/hub_oudenaarden/bdebarbanson/data/lennart/viral_lineage/NLA/reAnalysis/raw/complete_demux_hexamer/raw_demultiplexed/*/*.bam'):\n",
    "    try:\n",
    "        with pysam.AlignmentFile(path )  as a:\n",
    "            d = a.header.as_dict()\n",
    "            flow_cells = set()\n",
    "            for rg in d['RG']:\n",
    "                flow_cell = rg['PU'].split('.')[0]\n",
    "                flow_cells.add(flow_cell)\n",
    "    except Exception as e:\n",
    "        pass\n",
    "\n",
    "to_check = glob.glob('*.fastq.gz')\n",
    "for path in to_check:\n",
    "    if not any( (flow_cell in f for f in flow_cells ) ):\n",
    "        print(path)"
   ]
  },
  {
   "cell_type": "code",
   "execution_count": 7,
   "metadata": {},
   "outputs": [],
   "source": [
    "import pysam\n",
    "import glob\n",
    "\n",
    "for path in glob.glob('/hpc/hub_oudenaarden/bdebarbanson/data/lennart/viral_lineage/NLA/reAnalysis/raw/complete_demux_hexamer/raw_demultiplexed/*/*.bam'):\n",
    "    try:\n",
    "        with pysam.AlignmentFile(path )  as a:\n",
    "            d = a.header.as_dict()\n",
    "            flow_cells = set()\n",
    "            for rg in d['RG']:\n",
    "                flow_cell = rg['PU'].split('.')[0]\n",
    "                flow_cells.add(flow_cell)\n",
    "    except Exception as e:\n",
    "        pass\n",
    "    print('#'+str( len(flow_cells)) )\n",
    "to_check = glob.glob('*.fastq.gz')\n",
    "for path in to_check:\n",
    "    if not any( (f in path for f in flow_cells ) ):\n",
    "        print(f'rsync -az {path} /hpc/hub_oudenaarden/bdebarbanson/data/lennart/viral_lineage/NLA/reAnalysis/raw/complete_demux_hexamer/')\n",
    "\n"
   ]
  },
  {
   "cell_type": "markdown",
   "metadata": {},
   "source": [
    "Voting result for Sample _s_ and base _b_\n",
    "\n",
    "1 if read_depth_(sample,base) / read_depth_(sample,reference) >= alpha (0.2) and read_depth ref + b are >= beta (10)\n",
    "\n",
    "1 if read_depth_(sample,base) / read_depth_(sample,reference) < alpha (very low evidence for alpha), but alternative bases are higher than beta (10)\n",
    "\n",
    "The most probable alternative base is Vb/|V| , which should be higher than lambda (0.9) and at least N votes total (2), where V is the amount of samples qualitied to vote \n",
    "\n",
    "\n",
    "Now we determine the fenotype\n",
    "Majority voting for coupling w (at least 90%)\n",
    "\n",
    "d_heterozygous_internal = min( NRR /, NAA) / NRR + NAA)"
   ]
  },
  {
   "cell_type": "code",
   "execution_count": null,
   "metadata": {},
   "outputs": [],
   "source": []
  }
 ],
 "metadata": {
  "kernelspec": {
   "display_name": "Python 3",
   "language": "python",
   "name": "python3"
  },
  "language_info": {
   "codemirror_mode": {
    "name": "ipython",
    "version": 3
   },
   "file_extension": ".py",
   "mimetype": "text/x-python",
   "name": "python",
   "nbconvert_exporter": "python",
   "pygments_lexer": "ipython3",
   "version": "3.7.3"
  }
 },
 "nbformat": 4,
 "nbformat_minor": 2
}
