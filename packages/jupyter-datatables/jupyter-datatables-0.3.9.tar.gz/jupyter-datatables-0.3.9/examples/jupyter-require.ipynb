{
 "cells": [
  {
   "cell_type": "markdown",
   "metadata": {
    "toc": true
   },
   "source": [
    "<h1>Table of Contents<span class=\"tocSkip\"></span></h1>\n",
    "<div class=\"toc\"><ul class=\"toc-item\"></ul></div>"
   ]
  },
  {
   "cell_type": "code",
   "execution_count": 1,
   "metadata": {
    "ExecuteTime": {
     "end_time": "2019-08-08T13:12:58.379036Z",
     "start_time": "2019-08-08T13:12:57.099130Z"
    },
    "require": [
     "notebook/js/codecell"
    ]
   },
   "outputs": [
    {
     "data": {
      "application/javascript": [
       "{ \n",
       "        'use strict';\n",
       "        \n",
       "        const href = \"https://use.fontawesome.com/releases/v5.8.1/css/all.css\";\n",
       "        const attributes = {'integrity': 'sha384-50oBUHEmvpQ+1lW4y57PTFmhCaXp0ML5d60M1M7uH2+nqUivzIebhndOJK28anvf', 'crossorigin': 'anonymous'} || {};\n",
       "\n",
       "        if ( !$(`link[href*=\"${href}\"]`).length ) {\n",
       "            let link = document.createElement(\"link\");\n",
       "\n",
       "            link.rel = \"stylesheet\";\n",
       "            link.type = \"text/css\";\n",
       "            try {\n",
       "                link.href = requirejs.toUrl(href, 'css');\n",
       "            } catch (error) {\n",
       "                link.href = href;\n",
       "            }\n",
       "            \n",
       "            Object.entries(attributes)\n",
       "                .forEach( ([attr, val]) => $(link).attr(attr, val) );\n",
       "            \n",
       "            document.head.appendChild(link);\n",
       "        }\n",
       "     }"
      ],
      "text/plain": [
       "<JupyterRequire.display.SafeScript object>"
      ]
     },
     "metadata": {
      "finalized": true
     },
     "output_type": "display_data"
    },
    {
     "data": {
      "application/javascript": [
       "{ \n",
       "        'use strict';\n",
       "        \n",
       "        const href = \"https://use.fontawesome.com/releases/v5.8.1/css/all.css\";\n",
       "        const attributes = {'integrity': 'sha384-50oBUHEmvpQ+1lW4y57PTFmhCaXp0ML5d60M1M7uH2+nqUivzIebhndOJK28anvf', 'crossorigin': 'anonymous'} || {};\n",
       "\n",
       "        if ( !$(`link[href*=\"${href}\"]`).length ) {\n",
       "            let link = document.createElement(\"link\");\n",
       "\n",
       "            link.rel = \"stylesheet\";\n",
       "            link.type = \"text/css\";\n",
       "            try {\n",
       "                link.href = requirejs.toUrl(href, 'css');\n",
       "            } catch (error) {\n",
       "                link.href = href;\n",
       "            }\n",
       "            \n",
       "            Object.entries(attributes)\n",
       "                .forEach( ([attr, val]) => $(link).attr(attr, val) );\n",
       "            \n",
       "            document.head.appendChild(link);\n",
       "        }\n",
       "     }"
      ],
      "text/plain": [
       "<JupyterRequire.display.SafeScript object>"
      ]
     },
     "metadata": {
      "finalized": true
     },
     "output_type": "display_data"
    }
   ],
   "source": [
    "%load_ext jupyter_require"
   ]
  },
  {
   "cell_type": "code",
   "execution_count": 2,
   "metadata": {
    "ExecuteTime": {
     "end_time": "2019-08-08T13:13:11.225054Z",
     "start_time": "2019-08-08T13:13:11.217267Z"
    }
   },
   "outputs": [],
   "source": [
    "script = \"\"\"\n",
    "/**\n",
    " * @module\n",
    " * @description  Print coloured circles into the cell output\n",
    " * @file  d3-simple-example.js\n",
    " */\n",
    "\n",
    " // Inspired by: https://www.d3-graph-gallery.com/intro_d3js.html\n",
    "\n",
    "// create SVG element in the output area\n",
    "// the ``element`` is a contextual binding to the output of the current cell\n",
    "let svg = d3.select(element.get(0))\n",
    "  .append('svg');\n",
    "\n",
    "// create group\n",
    "let g = svg.append('g');\n",
    "\n",
    "g.append(\"circle\")\n",
    "  .attr(\"cx\", 2).attr(\"cy\", 2).attr(\"r\", 40).style(\"fill\", \"blue\");\n",
    "g.append(\"circle\")\n",
    "  .attr(\"cx\", 140).attr(\"cy\", 70).attr(\"r\", 40).style(\"fill\", \"red\");\n",
    "g.append(\"circle\")\n",
    "  .attr(\"cx\", 300).attr(\"cy\", 100).attr(\"r\", 40).style(\"fill\", \"green\");\n",
    "\"\"\""
   ]
  },
  {
   "cell_type": "code",
   "execution_count": 3,
   "metadata": {
    "ExecuteTime": {
     "end_time": "2019-08-08T13:13:18.964219Z",
     "start_time": "2019-08-08T13:13:18.956340Z"
    }
   },
   "outputs": [],
   "source": [
    "from jupyter_require import require\n",
    "from jupyter_require import load_css\n",
    "\n",
    "require.config({\n",
    "  'd3': 'https://d3js.org/d3.v5.min',\n",
    "  'd3-hierarchy': 'https://d3js.org/d3-hierarchy.v1.min'\n",
    "})"
   ]
  },
  {
   "cell_type": "code",
   "execution_count": 4,
   "metadata": {
    "ExecuteTime": {
     "end_time": "2019-08-08T13:13:24.609849Z",
     "start_time": "2019-08-08T13:13:24.592738Z"
    },
    "require": [
     "d3"
    ]
   },
   "outputs": [
    {
     "data": {
      "text/html": [
       "<svg><g><circle cx=\"2\" cy=\"2\" r=\"40\" style=\"fill: blue;\"></circle><circle cx=\"140\" cy=\"70\" r=\"40\" style=\"fill: red;\"></circle><circle cx=\"300\" cy=\"100\" r=\"40\" style=\"fill: green;\"></circle></g></svg>"
      ],
      "text/plain": [
       "<JupyterRequire.display.FrozenOutput object>"
      ]
     },
     "metadata": {
      "finalized": true,
      "frozen": true
     },
     "output_type": "display_data"
    }
   ],
   "source": [
    "from jupyter_require import execute_with_requirements\n",
    "\n",
    "execute_with_requirements(script, ['d3'])"
   ]
  },
  {
   "cell_type": "markdown",
   "metadata": {},
   "source": [
    "---"
   ]
  },
  {
   "cell_type": "code",
   "execution_count": 5,
   "metadata": {
    "ExecuteTime": {
     "end_time": "2019-08-08T13:13:47.534961Z",
     "start_time": "2019-08-08T13:13:47.523397Z"
    },
    "require": [
     "d3"
    ]
   },
   "outputs": [
    {
     "data": {
      "text/html": [
       "<svg><g><circle cx=\"2\" cy=\"2\" r=\"40\" style=\"fill: blue;\"></circle><circle cx=\"140\" cy=\"70\" r=\"40\" style=\"fill: red;\"></circle><circle cx=\"300\" cy=\"100\" r=\"40\" style=\"fill: green;\"></circle></g></svg>"
      ],
      "text/plain": [
       "<JupyterRequire.display.FrozenOutput object>"
      ]
     },
     "metadata": {
      "finalized": true,
      "frozen": true
     },
     "output_type": "display_data"
    }
   ],
   "source": [
    "%%require d3\n",
    "\n",
    "/**\n",
    " * @module\n",
    " * @description  Print coloured circles into the cell output\n",
    " * @file  d3-simple-example.js\n",
    " */\n",
    "\n",
    " // Inspired by: https://www.d3-graph-gallery.com/intro_d3js.html\n",
    "\n",
    "// create SVG element in the output area\n",
    "// the ``element`` is a contextual binding to the output of the current cell\n",
    "let svg = d3.select(element.get(0))\n",
    "  .append('svg');\n",
    "\n",
    "// create group\n",
    "let g = svg.append('g');\n",
    "\n",
    "g.append(\"circle\")\n",
    "  .attr(\"cx\", 2).attr(\"cy\", 2).attr(\"r\", 40).style(\"fill\", \"blue\");\n",
    "g.append(\"circle\")\n",
    "  .attr(\"cx\", 140).attr(\"cy\", 70).attr(\"r\", 40).style(\"fill\", \"red\");\n",
    "g.append(\"circle\")\n",
    "  .attr(\"cx\", 300).attr(\"cy\", 100).attr(\"r\", 40).style(\"fill\", \"green\");"
   ]
  }
 ],
 "metadata": {
  "finalized": {
   "timestamp": 1565270158691,
   "trusted": true
  },
  "hide_input": false,
  "kernelspec": {
   "display_name": "jupyter-require",
   "language": "python",
   "name": "jupyter-require"
  },
  "language_info": {
   "codemirror_mode": {
    "name": "ipython",
    "version": 3
   },
   "file_extension": ".py",
   "mimetype": "text/x-python",
   "name": "python",
   "nbconvert_exporter": "python",
   "pygments_lexer": "ipython3",
   "version": "3.6.8"
  },
  "require": {
   "paths": {
    "d3": "https://d3js.org/d3.v5.min",
    "d3-hierarchy": "https://d3js.org/d3-hierarchy.v1.min"
   },
   "shim": {}
  },
  "toc": {
   "base_numbering": 1,
   "nav_menu": {},
   "number_sections": true,
   "sideBar": true,
   "skip_h1_title": true,
   "title_cell": "Table of Contents",
   "title_sidebar": "Contents",
   "toc_cell": true,
   "toc_position": {},
   "toc_section_display": true,
   "toc_window_display": false
  }
 },
 "nbformat": 4,
 "nbformat_minor": 2
}
