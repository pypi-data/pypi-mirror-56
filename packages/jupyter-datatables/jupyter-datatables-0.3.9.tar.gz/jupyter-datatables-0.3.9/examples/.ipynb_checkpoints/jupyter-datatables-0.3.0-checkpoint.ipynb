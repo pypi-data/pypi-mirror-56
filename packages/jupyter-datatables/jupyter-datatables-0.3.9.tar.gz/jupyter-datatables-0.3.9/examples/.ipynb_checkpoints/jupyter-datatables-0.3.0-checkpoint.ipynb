{
 "cells": [
  {
   "cell_type": "markdown",
   "metadata": {
    "toc": true
   },
   "source": [
    "<h1>Table of Contents<span class=\"tocSkip\"></span></h1>\n",
    "<div class=\"toc\"><ul class=\"toc-item\"><li><span><a href=\"#New-features\" data-toc-modified-id=\"New-features-1\"><span class=\"toc-item-num\">1&nbsp;&nbsp;</span>New features</a></span></li><li><span><a href=\"#Setup\" data-toc-modified-id=\"Setup-2\"><span class=\"toc-item-num\">2&nbsp;&nbsp;</span>Setup</a></span></li><li><span><a href=\"#Data\" data-toc-modified-id=\"Data-3\"><span class=\"toc-item-num\">3&nbsp;&nbsp;</span>Data</a></span></li><li><span><a href=\"#Representation\" data-toc-modified-id=\"Representation-4\"><span class=\"toc-item-num\">4&nbsp;&nbsp;</span>Representation</a></span></li><li><span><a href=\"#Support-for-Indices-(including-Date-dtype)\" data-toc-modified-id=\"Support-for-Indices-(including-Date-dtype)-5\"><span class=\"toc-item-num\">5&nbsp;&nbsp;</span>Support for Indices (including <code>Date</code> dtype)</a></span></li><li><span><a href=\"#Customization\" data-toc-modified-id=\"Customization-6\"><span class=\"toc-item-num\">6&nbsp;&nbsp;</span>Customization</a></span></li><li><span><a href=\"#Custom-Graph-Objects\" data-toc-modified-id=\"Custom-Graph-Objects-7\"><span class=\"toc-item-num\">7&nbsp;&nbsp;</span>Custom Graph Objects</a></span></li></ul></div>"
   ]
  },
  {
   "cell_type": "markdown",
   "metadata": {},
   "source": [
    "# Jupyter DataTables 0.3.0 - ChartJS\n",
    "\n",
    "<br>\n",
    "\n",
    "## New features\n",
    "\n",
    "- **ChartJS** charts (see https://github.com/CermakM/jupyter-datatables/issues/9)\n",
    "    - [x] Create `Bar` graph object\n",
    "    - [x] Create `CategoricalBar` graph object\n",
    "    - [x] [optional] Create `Line` graph object\n",
    "    - [x] [optional] Create `Scatter` graph object\n",
    "    - [x] Create `Histogram` graph object\n",
    "    - [x] <del>Create `TimeSeries` graph object</del> Implemented via `Linear` with timeseries index\n",
    "    - [x] ChartJS graphs are persistent\n",
    "    - [x] [stretch] There is a link between the table and ChartJS tooltip\n",
    "    \n",
    "- **modular** architecture (see https://github.com/CermakM/jupyter-datatables/issues/10)\n",
    "    - [x] it is possible to add custom data type mapping form Jupyter Notebook\n",
    "    - [x] it is possible to map data types to custom plotting function directly from Jupyter Notebook\n",
    "    - [x] custom graph objects\n",
    "    \n",
    "- intercative **tooltips**\n",
    "- static mode is more explanatory\n",
    "- sample size includes outliers"
   ]
  },
  {
   "cell_type": "code",
   "execution_count": null,
   "metadata": {
    "ExecuteTime": {
     "end_time": "2019-07-19T10:50:08.843367Z",
     "start_time": "2019-07-19T10:50:07.938679Z"
    }
   },
   "outputs": [],
   "source": []
  },
  {
   "cell_type": "code",
   "execution_count": null,
   "metadata": {
    "ExecuteTime": {
     "end_time": "2019-07-19T10:50:08.843367Z",
     "start_time": "2019-07-19T10:50:07.938679Z"
    }
   },
   "outputs": [],
   "source": [
    "!pip list | grep jupyter-require"
   ]
  },
  {
   "cell_type": "markdown",
   "metadata": {},
   "source": [
    "## Setup"
   ]
  },
  {
   "cell_type": "code",
   "execution_count": null,
   "metadata": {
    "ExecuteTime": {
     "end_time": "2019-07-19T10:49:19.640226Z",
     "start_time": "2019-07-19T10:49:19.623741Z"
    }
   },
   "outputs": [],
   "source": [
    "%load_ext autoreload\n",
    "%autoreload 2"
   ]
  },
  {
   "cell_type": "code",
   "execution_count": null,
   "metadata": {
    "ExecuteTime": {
     "end_time": "2019-07-19T10:49:20.077972Z",
     "start_time": "2019-07-19T10:49:19.643183Z"
    }
   },
   "outputs": [],
   "source": [
    "import sys\n",
    "import string\n",
    "\n",
    "import numpy as np\n",
    "import pandas as pd"
   ]
  },
  {
   "cell_type": "code",
   "execution_count": null,
   "metadata": {
    "ExecuteTime": {
     "end_time": "2019-07-19T10:49:20.097596Z",
     "start_time": "2019-07-19T10:49:20.081539Z"
    }
   },
   "outputs": [],
   "source": [
    "sys.path.insert(0, '../')"
   ]
  },
  {
   "cell_type": "code",
   "execution_count": null,
   "metadata": {
    "ExecuteTime": {
     "end_time": "2019-07-19T10:49:20.871641Z",
     "start_time": "2019-07-19T10:49:20.100009Z"
    },
    "require": [
     "notebook/js/codecell"
    ]
   },
   "outputs": [],
   "source": [
    "from jupyter_datatables import init_datatables_mode"
   ]
  },
  {
   "cell_type": "code",
   "execution_count": null,
   "metadata": {
    "ExecuteTime": {
     "end_time": "2019-07-19T10:49:20.900933Z",
     "start_time": "2019-07-19T10:49:20.874152Z"
    }
   },
   "outputs": [],
   "source": [
    "init_datatables_mode()"
   ]
  },
  {
   "cell_type": "markdown",
   "metadata": {},
   "source": [
    "---"
   ]
  },
  {
   "cell_type": "markdown",
   "metadata": {},
   "source": [
    "## Data"
   ]
  },
  {
   "cell_type": "code",
   "execution_count": null,
   "metadata": {
    "ExecuteTime": {
     "end_time": "2019-07-19T10:49:20.955921Z",
     "start_time": "2019-07-19T10:49:20.902800Z"
    }
   },
   "outputs": [],
   "source": [
    "df      = pd.DataFrame(np.random.randn(50, 5), columns=list(string.ascii_uppercase[:5]))\n",
    "df_long = pd.DataFrame(np.random.randn(int(1e5), 5), columns=list(string.ascii_uppercase[:5]))\n",
    "df_wide = pd.DataFrame(np.random.randn(50, 20), columns=list(string.ascii_uppercase[:20]))\n",
    "\n",
    "labels = [\"{0} - {1}\".format(i, i + 9) for i in range(0, 100, 10)]\n",
    "df_categorical = pd.DataFrame({'value': np.random.randint(0, 100, 20)})\n",
    "df_categorical['group'] = pd.cut(df_categorical.value, range(0, 105, 10), right=False, labels=labels)"
   ]
  },
  {
   "cell_type": "code",
   "execution_count": null,
   "metadata": {
    "ExecuteTime": {
     "end_time": "2019-07-19T10:49:20.991948Z",
     "start_time": "2019-07-19T10:49:20.959750Z"
    }
   },
   "outputs": [],
   "source": [
    "dft = pd.DataFrame({'A': np.random.rand(5),\n",
    "                    'B': [1, 1, 3, 2, 1],\n",
    "                    'C': 'This is a very long sentence that should automatically be trimmed',\n",
    "                    'D': [pd.Timestamp('20010101'), pd.Timestamp('20010102'), pd.Timestamp('20010103'), pd.Timestamp('20010104'), pd.Timestamp('20010105')],\n",
    "                    'E': pd.Series([1.0] * 5).astype('float32'),\n",
    "                    'F': [False, True, False, False, True],\n",
    "                   })\n",
    "\n",
    "dft.D = dft.D.apply(pd.to_datetime)\n",
    "dft.set_index('D', inplace=True)\n",
    "\n",
    "del dft.index.name"
   ]
  },
  {
   "cell_type": "markdown",
   "metadata": {},
   "source": [
    "---"
   ]
  },
  {
   "cell_type": "markdown",
   "metadata": {},
   "source": [
    "## Representation"
   ]
  },
  {
   "cell_type": "code",
   "execution_count": null,
   "metadata": {
    "ExecuteTime": {
     "end_time": "2019-07-19T10:49:21.098999Z",
     "start_time": "2019-07-19T10:49:20.995268Z"
    },
    "require": [
     ""
    ]
   },
   "outputs": [],
   "source": [
    "%%requirejs\n",
    "\n",
    "events = require('base/js/events')\n",
    "\n",
    "events.off('before_finalize.JupyterRequire')\n",
    "events.on('before_finalize.JupyterRequire', function() {\n",
    "    \n",
    "    const canvasElements = $('canvas')\n",
    "    \n",
    "    console.log(\"Finalizing canvas elements...\", canvasElements)\n",
    "    canvasElements.each((i, e) => {\n",
    "        const parent  = e.parentNode\n",
    "        const dataURL = canvas.toDataURL('image/png')\n",
    "        \n",
    "        const img = $(\"<img/>\", {src: dataURL, class: \"dt-chart-image\"}).get(0)\n",
    "        \n",
    "        console.debug(\"\\tResulting image: \", img)\n",
    "        \n",
    "        e.replaceWith(img)\n",
    "    })\n",
    "    \n",
    "    console.debug(\"\\tDisabling buttons and search fields...\")\n",
    "    \n",
    "    $('a.paginate_button, .dt-button, input[type=search], .dataTables_length select')\n",
    "        .off('click')\n",
    "        .css('cursor', 'not-allowed')\n",
    "        .css('color', '#999')\n",
    "        .addClass('disabled')\n",
    "        .prop('disabled', true)\n",
    "    \n",
    "    console.log(\"Canvas finalization completed successfully.\")\n",
    "})"
   ]
  },
  {
   "cell_type": "code",
   "execution_count": null,
   "metadata": {
    "ExecuteTime": {
     "end_time": "2019-07-19T10:49:21.193005Z",
     "start_time": "2019-07-19T10:49:21.102123Z"
    },
    "require": [
     "base/js/events",
     "datatables.net",
     "d3",
     "chartjs",
     "graph-objects",
     "jupyter-datatables"
    ]
   },
   "outputs": [],
   "source": [
    "df"
   ]
  },
  {
   "cell_type": "code",
   "execution_count": null,
   "metadata": {
    "ExecuteTime": {
     "end_time": "2019-07-19T10:49:22.243495Z",
     "start_time": "2019-07-19T10:49:21.196139Z"
    },
    "require": [
     "base/js/events",
     "datatables.net",
     "d3",
     "chartjs",
     "graph-objects",
     "jupyter-datatables"
    ],
    "scrolled": false
   },
   "outputs": [],
   "source": [
    "df_long"
   ]
  },
  {
   "cell_type": "markdown",
   "metadata": {},
   "source": [
    "Notice the automatic sampling, we sampled to 5,902 samples out of 100,000 while still preserving value of the data!\n",
    "\n",
    "If you wish, however, to disable that feature, you may do so:"
   ]
  },
  {
   "cell_type": "code",
   "execution_count": null,
   "metadata": {
    "ExecuteTime": {
     "end_time": "2019-07-19T10:49:22.267462Z",
     "start_time": "2019-07-19T10:49:22.245298Z"
    }
   },
   "outputs": [],
   "source": [
    "from jupyter_datatables.config import defaults\n",
    "\n",
    "defaults.sample_size = 1000"
   ]
  },
  {
   "cell_type": "code",
   "execution_count": null,
   "metadata": {
    "ExecuteTime": {
     "end_time": "2019-07-19T10:49:22.517420Z",
     "start_time": "2019-07-19T10:49:22.270985Z"
    },
    "require": [
     "base/js/events",
     "datatables.net",
     "d3",
     "chartjs",
     "graph-objects",
     "jupyter-datatables"
    ],
    "scrolled": false
   },
   "outputs": [],
   "source": [
    "df_long"
   ]
  },
  {
   "cell_type": "markdown",
   "metadata": {},
   "source": [
    "And to allow sampling again simply set `sample_size` to `None`:"
   ]
  },
  {
   "cell_type": "code",
   "execution_count": null,
   "metadata": {
    "ExecuteTime": {
     "end_time": "2019-07-19T10:49:22.534916Z",
     "start_time": "2019-07-19T10:49:22.521489Z"
    }
   },
   "outputs": [],
   "source": [
    "defaults.sample_size = None"
   ]
  },
  {
   "cell_type": "markdown",
   "metadata": {
    "ExecuteTime": {
     "end_time": "2019-07-18T22:09:39.967333Z",
     "start_time": "2019-07-18T22:09:39.936504Z"
    }
   },
   "source": [
    "Sampling can also be disabled completely (although it is not recommended). The `defaults.limit` specifies the limit after which, when exceeded, is a sample size computed."
   ]
  },
  {
   "cell_type": "code",
   "execution_count": null,
   "metadata": {
    "ExecuteTime": {
     "end_time": "2019-07-19T10:49:22.551744Z",
     "start_time": "2019-07-19T10:49:22.536412Z"
    }
   },
   "outputs": [],
   "source": [
    "defaults.limit = None"
   ]
  },
  {
   "cell_type": "markdown",
   "metadata": {},
   "source": [
    "Let's take a sampe from the table of size 10,000, otherwise the computation would take a while and will consume quite a lot of resources"
   ]
  },
  {
   "cell_type": "code",
   "execution_count": null,
   "metadata": {
    "ExecuteTime": {
     "end_time": "2019-07-19T10:49:23.733333Z",
     "start_time": "2019-07-19T10:49:22.554023Z"
    },
    "require": [
     "base/js/events",
     "datatables.net",
     "d3",
     "chartjs",
     "graph-objects",
     "jupyter-datatables"
    ],
    "scrolled": false
   },
   "outputs": [],
   "source": [
    "df_long.sample(10000)"
   ]
  },
  {
   "cell_type": "code",
   "execution_count": null,
   "metadata": {
    "ExecuteTime": {
     "end_time": "2019-07-19T10:49:23.889950Z",
     "start_time": "2019-07-19T10:49:23.736874Z"
    },
    "require": [
     "base/js/events",
     "datatables.net",
     "d3",
     "chartjs",
     "graph-objects",
     "jupyter-datatables"
    ],
    "scrolled": false
   },
   "outputs": [],
   "source": [
    "df_wide"
   ]
  },
  {
   "cell_type": "markdown",
   "metadata": {},
   "source": [
    "## Support for Indices (including `Date` dtype)"
   ]
  },
  {
   "cell_type": "markdown",
   "metadata": {
    "ExecuteTime": {
     "end_time": "2019-07-19T09:20:10.160974Z",
     "start_time": "2019-07-19T09:20:10.134311Z"
    }
   },
   "source": [
    "Lets change the default plot for `num` from `Histogram` to `Line` and check our timeseries-like DataFrame"
   ]
  },
  {
   "cell_type": "code",
   "execution_count": null,
   "metadata": {
    "ExecuteTime": {
     "end_time": "2019-07-19T10:49:23.987608Z",
     "start_time": "2019-07-19T10:49:23.891644Z"
    },
    "require": [
     ""
    ]
   },
   "outputs": [],
   "source": [
    "%%requirejs\n",
    "\n",
    "$.fn.dataTable.defaults.dTypePlotMap['num'].unshift('Line')"
   ]
  },
  {
   "cell_type": "code",
   "execution_count": null,
   "metadata": {
    "ExecuteTime": {
     "end_time": "2019-07-19T10:49:24.019744Z",
     "start_time": "2019-07-19T10:49:23.990348Z"
    },
    "require": [
     "base/js/events",
     "datatables.net",
     "d3",
     "chartjs",
     "graph-objects",
     "jupyter-datatables"
    ]
   },
   "outputs": [],
   "source": [
    "dft"
   ]
  },
  {
   "cell_type": "markdown",
   "metadata": {},
   "source": [
    "---"
   ]
  },
  {
   "cell_type": "markdown",
   "metadata": {
    "ExecuteTime": {
     "end_time": "2019-07-18T19:28:53.084883Z",
     "start_time": "2019-07-18T19:28:53.059439Z"
    }
   },
   "source": [
    "## Customization"
   ]
  },
  {
   "cell_type": "code",
   "execution_count": null,
   "metadata": {
    "ExecuteTime": {
     "end_time": "2019-07-19T10:49:24.564269Z",
     "start_time": "2019-07-19T10:49:24.025097Z"
    },
    "require": [
     "notebook/js/codecell"
    ]
   },
   "outputs": [],
   "source": [
    "%load_ext jupyter_require"
   ]
  },
  {
   "cell_type": "code",
   "execution_count": null,
   "metadata": {
    "ExecuteTime": {
     "end_time": "2019-07-19T10:49:24.684342Z",
     "start_time": "2019-07-19T10:49:24.567903Z"
    },
    "require": [
     ""
    ]
   },
   "outputs": [],
   "source": [
    "%%requirejs\n",
    "\n",
    "let defaultElementConfig = $(\"<pre/>\").html(JSON.stringify(Chart.defaults.global.elements, null, 4))\n",
    "\n",
    "element.append(defaultElementConfig)"
   ]
  },
  {
   "cell_type": "markdown",
   "metadata": {},
   "source": [
    "Check out [ChartJS](https://www.chartjs.org/docs/latest/general/) docs for more information about default settings"
   ]
  },
  {
   "cell_type": "markdown",
   "metadata": {},
   "source": [
    "---"
   ]
  },
  {
   "cell_type": "markdown",
   "metadata": {},
   "source": [
    "## Custom Graph Objects"
   ]
  },
  {
   "cell_type": "markdown",
   "metadata": {},
   "source": [
    "You can create your custom GraphObjects by implementing a function of the following specification:\n",
    "\n",
    "```ts\n",
    "interface Index {\n",
    "    data: Array<any>,\n",
    "    dtype: string\n",
    "}\n",
    "\n",
    "function(data: Array<any>, index: Array<Index>, dtype: string): Chart\n",
    "```"
   ]
  },
  {
   "cell_type": "markdown",
   "metadata": {},
   "source": [
    "Suppose we wanna plot colours and we want a special kind of plot for that"
   ]
  },
  {
   "cell_type": "code",
   "execution_count": null,
   "metadata": {
    "ExecuteTime": {
     "end_time": "2019-07-19T10:49:24.792117Z",
     "start_time": "2019-07-19T10:49:24.689332Z"
    },
    "require": [
     "chartjs"
    ]
   },
   "outputs": [],
   "source": [
    "%%requirejs chartjs\n",
    "\n",
    "let isValidColour = function(colour) {\n",
    "    let s = new Option().style\n",
    "    s.color = colour\n",
    "    \n",
    "    return s.color !== '' || console.debug(`Invalid CSS colour: '${colour}'.`)\n",
    "}\n",
    "\n",
    "let ColorPalette = function(data, index, dtype) {\n",
    "    const canvas = document.createElement('canvas')\n",
    "    const ctx    = canvas.getContext('2d')\n",
    "    \n",
    "    // perform check if the pattern is correct\n",
    "    if ( !data.every( d => typeof(d) === 'string' && isValidColour(d) ) ) {\n",
    "        console.debug(\"Data does not match colour pattern.\")\n",
    "        return\n",
    "    }\n",
    "    \n",
    "    // evenly slice the Pie chart by number of colours\n",
    "    const slices = new Array(data.length).fill(Number(1 / data.length).toFixed(2))\n",
    "    const labels = index[0].data\n",
    "    \n",
    "    let chart = new Chart(ctx, {\n",
    "        type: 'pie',\n",
    "        data: {\n",
    "            labels: labels,\n",
    "            datasets: [{\n",
    "                data: slices,\n",
    "                backgroundColor: data,\n",
    "            }]\n",
    "        },\n",
    "    })\n",
    "    \n",
    "    return chart\n",
    "}\n",
    "\n",
    "// Register the new chart\n",
    "$.fn.dataTable.defaults.graphObjects['ColorPalette'] = ColorPalette"
   ]
  },
  {
   "cell_type": "markdown",
   "metadata": {
    "ExecuteTime": {
     "end_time": "2019-07-18T19:55:59.832938Z",
     "start_time": "2019-07-18T19:55:59.718074Z"
    },
    "require": [
     "chartjs"
    ]
   },
   "source": [
    "And set it as default for the dtype you wanna use it for (in this case `string`):\n",
    "\n",
    "    The default setting is:\n",
    "   \n",
    "```\n",
    "   { \n",
    "       boolean:  ['CategoricalBar', 'Histogram'],\n",
    "       date:     ['CategoricalBar', 'Histogram'],\n",
    "       num:      ['Histogram', 'CategoricalBar', 'Bar', 'Line'],\n",
    "       string:   ['CategoricalBar', 'Histogram'],\n",
    "\n",
    "       undefined: ['Bar']\n",
    "   }\n",
    "    \n",
    "```\n",
    "\n",
    "    The order specifies fallback plots."
   ]
  },
  {
   "cell_type": "code",
   "execution_count": null,
   "metadata": {
    "ExecuteTime": {
     "end_time": "2019-07-19T10:49:24.901118Z",
     "start_time": "2019-07-19T10:49:24.794048Z"
    },
    "require": [
     ""
    ]
   },
   "outputs": [],
   "source": [
    "%%requirejs\n",
    "\n",
    "$.fn.dataTable.defaults.dTypePlotMap['string'].unshift('ColorPalette')"
   ]
  },
  {
   "cell_type": "code",
   "execution_count": null,
   "metadata": {
    "ExecuteTime": {
     "end_time": "2019-07-19T10:49:24.941046Z",
     "start_time": "2019-07-19T10:49:24.902712Z"
    },
    "require": [
     "base/js/events",
     "datatables.net",
     "d3",
     "chartjs",
     "graph-objects",
     "jupyter-datatables"
    ]
   },
   "outputs": [],
   "source": [
    "df_colours = pd.DataFrame([\n",
    "    {\n",
    "        \"colour\": \"red\",\n",
    "        \"value\" : \"rgb(255, 99, 132)\",\n",
    "    },\n",
    "    {\n",
    "        \"colour\": \"blue\",\n",
    "        \"value\" : \"rgb(54, 162, 235)\"\n",
    "    },\n",
    "    {\n",
    "        \"colour\": \"lightyellow\",\n",
    "        \"value\" : \"rgba(255, 205, 86, 0.3)\"  # alpha values via `rgba()`\n",
    "    },\n",
    "    {\n",
    "        \"colour\": \"darkorange\",\n",
    "        \"value\" : \"darkorange\"  # any valid CSS specifier\n",
    "    }\n",
    "])\n",
    "\n",
    "df_colours.set_index(\"colour\", inplace=True)\n",
    "\n",
    "# As of v0.3.0, DataTables do not support index names properly\n",
    "del df_colours.index.name\n",
    "\n",
    "df_colours"
   ]
  },
  {
   "cell_type": "markdown",
   "metadata": {},
   "source": [
    "We fall back to the default chart if the colour value is invalid based on our check and use the second chart in order:"
   ]
  },
  {
   "cell_type": "code",
   "execution_count": null,
   "metadata": {
    "ExecuteTime": {
     "end_time": "2019-07-19T10:49:24.975266Z",
     "start_time": "2019-07-19T10:49:24.942947Z"
    },
    "require": [
     "base/js/events",
     "datatables.net",
     "d3",
     "chartjs",
     "graph-objects",
     "jupyter-datatables"
    ],
    "scrolled": false
   },
   "outputs": [],
   "source": [
    "df_other = pd.DataFrame([\n",
    "    {\n",
    "        \"colour\": \"red\",\n",
    "        \"value\" : \"red\",\n",
    "    },\n",
    "    {\n",
    "        \"colour\": \"green\",\n",
    "        \"value\" : \"invalid\",\n",
    "    },\n",
    "    {\n",
    "        \"colour\": \"blue\",\n",
    "        \"value\" : \"blue\",\n",
    "    },\n",
    "    {\n",
    "        \"colour\": \"other\",\n",
    "        \"value\" : \"invalid\",\n",
    "    }\n",
    "])\n",
    "\n",
    "df_other.set_index(\"colour\", inplace=True)\n",
    "\n",
    "del df_other.index.name\n",
    "\n",
    "df_other"
   ]
  }
 ],
 "metadata": {
  "finalized": {
   "timestamp": 1563533379645,
   "trusted": true
  },
  "hide_input": false,
  "kernelspec": {
   "display_name": "jupyter-datatables",
   "language": "python",
   "name": "jupyter-datatables"
  },
  "language_info": {
   "codemirror_mode": {
    "name": "ipython",
    "version": 3
   },
   "file_extension": ".py",
   "mimetype": "text/x-python",
   "name": "python",
   "nbconvert_exporter": "python",
   "pygments_lexer": "ipython3",
   "version": "3.6.8"
  },
  "require": {
   "paths": {
    "buttons.colvis": "https://cdn.datatables.net/buttons/1.5.6/js/buttons.colVis.min",
    "buttons.flash": "https://cdn.datatables.net/buttons/1.5.6/js/buttons.flash.min",
    "buttons.html5": "https://cdn.datatables.net/buttons/1.5.6/js/buttons.html5.min",
    "buttons.print": "https://cdn.datatables.net/buttons/1.5.6/js/buttons.print.min",
    "chartjs": "https://cdnjs.cloudflare.com/ajax/libs/Chart.js/2.8.0/Chart",
    "d3": "https://d3js.org/d3.v5.min",
    "d3-array": "https://d3js.org/d3-array.v2.min",
    "datatables.net": "https://cdn.datatables.net/1.10.18/js/jquery.dataTables",
    "datatables.net-buttons": "https://cdn.datatables.net/buttons/1.5.6/js/dataTables.buttons.min",
    "datatables.responsive": "https://cdn.datatables.net/responsive/2.2.2/js/dataTables.responsive.min",
    "datatables.scroller": "https://cdn.datatables.net/scroller/2.0.0/js/dataTables.scroller.min",
    "datatables.select": "https://cdn.datatables.net/select/1.3.0/js/dataTables.select.min",
    "jszip": "https://cdnjs.cloudflare.com/ajax/libs/jszip/2.5.0/jszip.min",
    "moment": "https://cdnjs.cloudflare.com/ajax/libs/moment.js/2.8.0/moment",
    "pdfmake": "https://cdnjs.cloudflare.com/ajax/libs/pdfmake/0.1.36/pdfmake.min",
    "vfsfonts": "https://cdnjs.cloudflare.com/ajax/libs/pdfmake/0.1.36/vfs_fonts"
   },
   "shim": {
    "buttons.colvis": {
     "deps": [
      "jszip",
      "datatables.net-buttons"
     ]
    },
    "buttons.flash": {
     "deps": [
      "jszip",
      "datatables.net-buttons"
     ]
    },
    "buttons.html5": {
     "deps": [
      "jszip",
      "datatables.net-buttons"
     ]
    },
    "buttons.print": {
     "deps": [
      "jszip",
      "datatables.net-buttons"
     ]
    },
    "chartjs": {
     "deps": [
      "moment"
     ]
    },
    "datatables.net": {
     "exports": "$.fn.dataTable"
    },
    "datatables.net-buttons": {
     "deps": [
      "datatables.net"
     ]
    },
    "pdfmake": {
     "deps": [
      "datatables.net"
     ]
    },
    "vfsfonts": {
     "deps": [
      "datatables.net"
     ]
    }
   }
  },
  "toc": {
   "base_numbering": 1,
   "nav_menu": {},
   "number_sections": true,
   "sideBar": true,
   "skip_h1_title": true,
   "title_cell": "Table of Contents",
   "title_sidebar": "Contents",
   "toc_cell": true,
   "toc_position": {},
   "toc_section_display": true,
   "toc_window_display": false
  },
  "varInspector": {
   "cols": {
    "lenName": 16,
    "lenType": 16,
    "lenVar": 40
   },
   "kernels_config": {
    "python": {
     "delete_cmd_postfix": "",
     "delete_cmd_prefix": "del ",
     "library": "var_list.py",
     "varRefreshCmd": "print(var_dic_list())"
    },
    "r": {
     "delete_cmd_postfix": ") ",
     "delete_cmd_prefix": "rm(",
     "library": "var_list.r",
     "varRefreshCmd": "cat(var_dic_list()) "
    }
   },
   "types_to_exclude": [
    "module",
    "function",
    "builtin_function_or_method",
    "instance",
    "_Feature"
   ],
   "window_display": false
  }
 },
 "nbformat": 4,
 "nbformat_minor": 2
}
