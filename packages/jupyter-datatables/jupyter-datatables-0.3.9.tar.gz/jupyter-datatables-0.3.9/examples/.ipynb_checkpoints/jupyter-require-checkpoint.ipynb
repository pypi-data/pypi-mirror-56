{
 "cells": [
  {
   "cell_type": "markdown",
   "metadata": {
    "toc": true
   },
   "source": [
    "<h1>Table of Contents<span class=\"tocSkip\"></span></h1>\n",
    "<div class=\"toc\"><ul class=\"toc-item\"></ul></div>"
   ]
  },
  {
   "cell_type": "code",
   "execution_count": null,
   "metadata": {
    "ExecuteTime": {
     "end_time": "2019-08-08T12:50:19.725171Z",
     "start_time": "2019-08-08T12:50:18.415563Z"
    },
    "require": [
     "notebook/js/codecell"
    ]
   },
   "outputs": [],
   "source": [
    "%load_ext jupyter_require"
   ]
  },
  {
   "cell_type": "code",
   "execution_count": null,
   "metadata": {
    "ExecuteTime": {
     "end_time": "2019-08-08T12:50:27.847644Z",
     "start_time": "2019-08-08T12:50:27.838721Z"
    }
   },
   "outputs": [],
   "source": [
    "script = \"\"\"\n",
    "/**\n",
    " * @module\n",
    " * @description  Print coloured circles into the cell output\n",
    " * @file  d3-simple-example.js\n",
    " */\n",
    "\n",
    " // Inspired by: https://www.d3-graph-gallery.com/intro_d3js.html\n",
    "\n",
    "// create SVG element in the output area\n",
    "// the ``element`` is a contextual binding to the output of the current cell\n",
    "let svg = d3.select(element.get(0))\n",
    "  .append('svg');\n",
    "\n",
    "// create group\n",
    "let g = svg.append('g');\n",
    "\n",
    "g.append(\"circle\")\n",
    "  .attr(\"cx\", 2).attr(\"cy\", 2).attr(\"r\", 40).style(\"fill\", \"blue\");\n",
    "g.append(\"circle\")\n",
    "  .attr(\"cx\", 140).attr(\"cy\", 70).attr(\"r\", 40).style(\"fill\", \"red\");\n",
    "g.append(\"circle\")\n",
    "  .attr(\"cx\", 300).attr(\"cy\", 100).attr(\"r\", 40).style(\"fill\", \"green\");\n",
    "\"\"\""
   ]
  },
  {
   "cell_type": "code",
   "execution_count": null,
   "metadata": {
    "ExecuteTime": {
     "end_time": "2019-08-08T12:51:25.900140Z",
     "start_time": "2019-08-08T12:51:25.891008Z"
    }
   },
   "outputs": [],
   "source": [
    "from jupyter_require import require\n",
    "from jupyter_require import load_css\n",
    "\n",
    "require.config({\n",
    "  'd3': 'https://d3js.org/d3.v5.min',\n",
    "  'd3-hierarchy': 'https://d3js.org/d3-hierarchy.v1.min'\n",
    "})"
   ]
  },
  {
   "cell_type": "code",
   "execution_count": null,
   "metadata": {
    "ExecuteTime": {
     "end_time": "2019-08-08T12:52:09.835857Z",
     "start_time": "2019-08-08T12:52:09.827684Z"
    },
    "require": [
     "d3"
    ]
   },
   "outputs": [],
   "source": [
    "from jupyter_require import execute_with_requirements\n",
    "\n",
    "execute_with_requirements(script, ['d3'])"
   ]
  },
  {
   "cell_type": "markdown",
   "metadata": {},
   "source": [
    "---"
   ]
  },
  {
   "cell_type": "code",
   "execution_count": null,
   "metadata": {
    "ExecuteTime": {
     "end_time": "2019-08-08T12:52:30.644793Z",
     "start_time": "2019-08-08T12:52:30.638257Z"
    },
    "require": [
     "d3"
    ]
   },
   "outputs": [],
   "source": [
    "%%require d3\n",
    "\n",
    "/**\n",
    " * @module\n",
    " * @description  Print coloured circles into the cell output\n",
    " * @file  d3-simple-example.js\n",
    " */\n",
    "\n",
    " // Inspired by: https://www.d3-graph-gallery.com/intro_d3js.html\n",
    "\n",
    "// create SVG element in the output area\n",
    "// the ``element`` is a contextual binding to the output of the current cell\n",
    "let svg = d3.select(element.get(0))\n",
    "  .append('svg');\n",
    "\n",
    "// create group\n",
    "let g = svg.append('g');\n",
    "\n",
    "g.append(\"circle\")\n",
    "  .attr(\"cx\", 2).attr(\"cy\", 2).attr(\"r\", 40).style(\"fill\", \"blue\");\n",
    "g.append(\"circle\")\n",
    "  .attr(\"cx\", 140).attr(\"cy\", 70).attr(\"r\", 40).style(\"fill\", \"red\");\n",
    "g.append(\"circle\")\n",
    "  .attr(\"cx\", 300).attr(\"cy\", 100).attr(\"r\", 40).style(\"fill\", \"green\");"
   ]
  }
 ],
 "metadata": {
  "finalized": {
   "timestamp": 1565268761199,
   "trusted": true
  },
  "hide_input": false,
  "kernelspec": {
   "display_name": "jupyter-require",
   "language": "python",
   "name": "jupyter-require"
  },
  "language_info": {
   "codemirror_mode": {
    "name": "ipython",
    "version": 3
   },
   "file_extension": ".py",
   "mimetype": "text/x-python",
   "name": "python",
   "nbconvert_exporter": "python",
   "pygments_lexer": "ipython3",
   "version": "3.6.8"
  },
  "require": {
   "paths": {
    "d3": "https://d3js.org/d3.v5.min",
    "d3-hierarchy": "https://d3js.org/d3-hierarchy.v1.min"
   },
   "shim": {}
  },
  "toc": {
   "base_numbering": 1,
   "nav_menu": {},
   "number_sections": true,
   "sideBar": true,
   "skip_h1_title": true,
   "title_cell": "Table of Contents",
   "title_sidebar": "Contents",
   "toc_cell": true,
   "toc_position": {},
   "toc_section_display": true,
   "toc_window_display": false
  }
 },
 "nbformat": 4,
 "nbformat_minor": 2
}
