{
 "cells": [
  {
   "cell_type": "markdown",
   "metadata": {
    "toc": true
   },
   "source": [
    "<h1>Table of Contents<span class=\"tocSkip\"></span></h1>\n",
    "<div class=\"toc\"><ul class=\"toc-item\"><li><span><a href=\"#New-features\" data-toc-modified-id=\"New-features-1\"><span class=\"toc-item-num\">1&nbsp;&nbsp;</span>New features</a></span></li><li><span><a href=\"#New-in-v0.4.0\" data-toc-modified-id=\"New-in-v0.4.0-2\"><span class=\"toc-item-num\">2&nbsp;&nbsp;</span>New in v0.4.0</a></span></li><li><span><a href=\"#Setup\" data-toc-modified-id=\"Setup-3\"><span class=\"toc-item-num\">3&nbsp;&nbsp;</span>Setup</a></span></li><li><span><a href=\"#Data\" data-toc-modified-id=\"Data-4\"><span class=\"toc-item-num\">4&nbsp;&nbsp;</span>Data</a></span></li><li><span><a href=\"#Representation\" data-toc-modified-id=\"Representation-5\"><span class=\"toc-item-num\">5&nbsp;&nbsp;</span>Representation</a></span></li><li><span><a href=\"#Support-for-Indices-(including-Date-dtype)\" data-toc-modified-id=\"Support-for-Indices-(including-Date-dtype)-6\"><span class=\"toc-item-num\">6&nbsp;&nbsp;</span>Support for Indices (including <code>Date</code> dtype)</a></span></li><li><span><a href=\"#Customization\" data-toc-modified-id=\"Customization-7\"><span class=\"toc-item-num\">7&nbsp;&nbsp;</span>Customization</a></span></li><li><span><a href=\"#Custom-Graph-Objects\" data-toc-modified-id=\"Custom-Graph-Objects-8\"><span class=\"toc-item-num\">8&nbsp;&nbsp;</span>Custom Graph Objects</a></span></li></ul></div>"
   ]
  },
  {
   "cell_type": "markdown",
   "metadata": {},
   "source": [
    "# Jupyter DataTables v0.3.0 - ChartJS\n",
    "\n",
    "<br>\n",
    "\n",
    "## New features\n",
    "\n",
    "- **ChartJS** charts (see https://github.com/CermakM/jupyter-datatables/issues/9)\n",
    "    - [x] Create `Bar` graph object\n",
    "    - [x] Create `CategoricalBar` graph object\n",
    "    - [x] [optional] Create `Line` graph object\n",
    "    - [x] [optional] Create `Scatter` graph object\n",
    "    - [x] Create `Histogram` graph object\n",
    "    - [x] <del>Create `TimeSeries` graph object</del> Implemented via `Linear` with timeseries index\n",
    "    - [x] ChartJS graphs are persistent\n",
    "    - [x] [stretch] There is a link between the table and ChartJS tooltip\n",
    "    \n",
    "- **modular** architecture (see https://github.com/CermakM/jupyter-datatables/issues/10)\n",
    "    - [x] it is possible to add custom data type mapping form Jupyter Notebook\n",
    "    - [x] it is possible to map data types to custom plotting function directly from Jupyter Notebook\n",
    "    - [x] custom graph objects\n",
    "    \n",
    "- intercative **tooltips**\n",
    "- static mode is more explanatory\n",
    "- sample size includes outliers\n",
    "    \n",
    "## New in v0.4.0\n",
    "\n",
    "- [x] Interactvie chart **Toolbar**\n",
    "- [x] Graph type selection via the toolbar settings\n",
    "- [x] Refactorings:\n",
    "    - `dTypePlotMap` -> `chartMap`"
   ]
  },
  {
   "cell_type": "markdown",
   "metadata": {},
   "source": [
    "## Setup"
   ]
  },
  {
   "cell_type": "code",
   "execution_count": null,
   "metadata": {
    "ExecuteTime": {
     "end_time": "2019-11-17T10:11:12.044112Z",
     "start_time": "2019-11-17T10:11:12.025495Z"
    }
   },
   "outputs": [],
   "source": [
    "%load_ext autoreload\n",
    "%autoreload 2"
   ]
  },
  {
   "cell_type": "code",
   "execution_count": null,
   "metadata": {
    "ExecuteTime": {
     "end_time": "2019-11-17T10:11:12.437920Z",
     "start_time": "2019-11-17T10:11:12.046787Z"
    }
   },
   "outputs": [],
   "source": [
    "import sys\n",
    "import string\n",
    "\n",
    "import numpy as np\n",
    "import pandas as pd"
   ]
  },
  {
   "cell_type": "code",
   "execution_count": null,
   "metadata": {
    "ExecuteTime": {
     "end_time": "2019-11-17T10:11:12.457886Z",
     "start_time": "2019-11-17T10:11:12.440771Z"
    }
   },
   "outputs": [],
   "source": [
    "sys.path.insert(0, '/home/macermak/code/jupyter-datatables/')"
   ]
  },
  {
   "cell_type": "code",
   "execution_count": null,
   "metadata": {
    "ExecuteTime": {
     "end_time": "2019-11-17T10:11:12.683138Z",
     "start_time": "2019-11-17T10:11:12.460036Z"
    },
    "require": [
     "notebook/js/codecell"
    ]
   },
   "outputs": [],
   "source": [
    "from jupyter_datatables import enable\n",
    "from jupyter_datatables import disable\n",
    "from jupyter_datatables import init_datatables_mode"
   ]
  },
  {
   "cell_type": "code",
   "execution_count": null,
   "metadata": {
    "ExecuteTime": {
     "end_time": "2019-11-17T10:11:12.710214Z",
     "start_time": "2019-11-17T10:11:12.684674Z"
    }
   },
   "outputs": [],
   "source": [
    "init_datatables_mode()"
   ]
  },
  {
   "cell_type": "markdown",
   "metadata": {},
   "source": [
    "---"
   ]
  },
  {
   "cell_type": "markdown",
   "metadata": {},
   "source": [
    "## Data"
   ]
  },
  {
   "cell_type": "code",
   "execution_count": null,
   "metadata": {
    "ExecuteTime": {
     "end_time": "2019-11-17T10:09:07.637492Z",
     "start_time": "2019-11-17T10:09:07.566782Z"
    }
   },
   "outputs": [],
   "source": [
    "df      = pd.DataFrame(np.random.randn(50, 5), columns=list(string.ascii_uppercase[:5]))\n",
    "df_long = pd.DataFrame(np.random.randn(int(1e5), 5), columns=list(string.ascii_uppercase[:5]))\n",
    "df_wide = pd.DataFrame(np.random.randn(50, 20), columns=list(string.ascii_uppercase[:20]))\n",
    "\n",
    "labels = [\"{0} - {1}\".format(i, i + 9) for i in range(0, 100, 10)]\n",
    "df_categorical = pd.DataFrame({'value': np.random.randint(0, 100, 20)})\n",
    "df_categorical['group'] = pd.cut(df_categorical.value, range(0, 105, 10), right=False, labels=labels)"
   ]
  },
  {
   "cell_type": "code",
   "execution_count": null,
   "metadata": {
    "ExecuteTime": {
     "end_time": "2019-11-17T10:09:08.598044Z",
     "start_time": "2019-11-17T10:09:08.559083Z"
    }
   },
   "outputs": [],
   "source": [
    "dft = pd.DataFrame({'A': np.random.rand(5),\n",
    "                    'B': [1, 1, 3, 2, 1],\n",
    "                    'C': 'This is a very long sentence that should automatically be trimmed',\n",
    "                    'D': [pd.Timestamp('20010101'), pd.Timestamp('20010102'), pd.Timestamp('20010103'), pd.Timestamp('20010104'), pd.Timestamp('20010105')],\n",
    "                    'E': pd.Series([1.0] * 5).astype('float32'),\n",
    "                    'F': [False, True, False, False, True],\n",
    "                   })\n",
    "\n",
    "dft.D = dft.D.apply(pd.to_datetime)\n",
    "dft.set_index('D', inplace=True)\n",
    "\n",
    "del dft.index.name"
   ]
  },
  {
   "cell_type": "markdown",
   "metadata": {},
   "source": [
    "---"
   ]
  },
  {
   "cell_type": "markdown",
   "metadata": {},
   "source": [
    "## Representation"
   ]
  },
  {
   "cell_type": "code",
   "execution_count": null,
   "metadata": {
    "ExecuteTime": {
     "end_time": "2019-11-17T10:09:11.644019Z",
     "start_time": "2019-11-17T10:09:11.563939Z"
    },
    "require": [
     "base/js/events",
     "datatables.net",
     "d3",
     "chartjs",
     "dt-config",
     "dt-components",
     "dt-graph-objects",
     "dt-toolbar",
     "dt-tooltips",
     "jupyter-datatables"
    ],
    "slideshow": {
     "slide_type": "slide"
    }
   },
   "outputs": [],
   "source": [
    "df"
   ]
  },
  {
   "cell_type": "code",
   "execution_count": null,
   "metadata": {
    "ExecuteTime": {
     "end_time": "2019-11-17T10:09:18.691165Z",
     "start_time": "2019-11-17T10:09:18.666615Z"
    }
   },
   "outputs": [],
   "source": [
    "disable()"
   ]
  },
  {
   "cell_type": "code",
   "execution_count": null,
   "metadata": {
    "ExecuteTime": {
     "end_time": "2019-11-17T10:09:20.775111Z",
     "start_time": "2019-11-17T10:09:20.705985Z"
    },
    "require": [
     "base/js/events",
     "datatables.net",
     "d3",
     "chartjs",
     "dt-config",
     "dt-components",
     "dt-graph-objects",
     "dt-toolbar",
     "dt-tooltips",
     "jupyter-datatables"
    ]
   },
   "outputs": [],
   "source": [
    "df"
   ]
  },
  {
   "cell_type": "code",
   "execution_count": null,
   "metadata": {
    "ExecuteTime": {
     "end_time": "2019-08-08T13:27:34.099430Z",
     "start_time": "2019-08-08T13:27:32.592062Z"
    },
    "require": [
     "base/js/events",
     "datatables.net",
     "d3",
     "chartjs",
     "dt-config",
     "dt-components",
     "dt-graph-objects",
     "dt-toolbar",
     "dt-tooltips",
     "jupyter-datatables"
    ],
    "scrolled": false,
    "slideshow": {
     "slide_type": "slide"
    }
   },
   "outputs": [],
   "source": [
    "df_long"
   ]
  },
  {
   "cell_type": "markdown",
   "metadata": {},
   "source": [
    "Notice the automatic sampling, we sampled to 5,902 samples out of 100,000 while still preserving value of the data!\n",
    "\n",
    "If you wish, however, to disable that feature, you may do so:"
   ]
  },
  {
   "cell_type": "code",
   "execution_count": null,
   "metadata": {
    "ExecuteTime": {
     "end_time": "2019-08-07T09:55:25.566922Z",
     "start_time": "2019-08-07T09:55:25.503613Z"
    }
   },
   "outputs": [],
   "source": [
    "from jupyter_datatables.config import defaults\n",
    "\n",
    "defaults.sample_size = 1000"
   ]
  },
  {
   "cell_type": "code",
   "execution_count": null,
   "metadata": {
    "ExecuteTime": {
     "end_time": "2019-08-07T09:55:25.994612Z",
     "start_time": "2019-08-07T09:55:25.577851Z"
    },
    "require": [
     "base/js/events",
     "datatables.net",
     "d3",
     "chartjs",
     "dt-config",
     "dt-components",
     "dt-graph-objects",
     "dt-toolbar",
     "dt-tooltips",
     "jupyter-datatables"
    ],
    "scrolled": false,
    "slideshow": {
     "slide_type": "slide"
    }
   },
   "outputs": [],
   "source": [
    "df_long"
   ]
  },
  {
   "cell_type": "markdown",
   "metadata": {},
   "source": [
    "And to allow sampling again simply set `sample_size` to `None`:"
   ]
  },
  {
   "cell_type": "code",
   "execution_count": null,
   "metadata": {
    "ExecuteTime": {
     "end_time": "2019-08-07T09:55:26.021315Z",
     "start_time": "2019-08-07T09:55:25.997797Z"
    }
   },
   "outputs": [],
   "source": [
    "defaults.sample_size = None"
   ]
  },
  {
   "cell_type": "markdown",
   "metadata": {
    "ExecuteTime": {
     "end_time": "2019-07-18T22:09:39.967333Z",
     "start_time": "2019-07-18T22:09:39.936504Z"
    }
   },
   "source": [
    "Sampling can also be disabled completely (although it is not recommended). The `defaults.limit` specifies the limit after which, when exceeded, is a sample size computed."
   ]
  },
  {
   "cell_type": "code",
   "execution_count": null,
   "metadata": {
    "ExecuteTime": {
     "end_time": "2019-08-07T09:55:26.056650Z",
     "start_time": "2019-08-07T09:55:26.024821Z"
    }
   },
   "outputs": [],
   "source": [
    "defaults.limit = None"
   ]
  },
  {
   "cell_type": "markdown",
   "metadata": {},
   "source": [
    "Let's take a sampe from the table of size 10,000, otherwise the computation would take a while and will consume quite a lot of resources"
   ]
  },
  {
   "cell_type": "code",
   "execution_count": null,
   "metadata": {
    "ExecuteTime": {
     "end_time": "2019-08-07T09:55:27.819192Z",
     "start_time": "2019-08-07T09:55:26.095047Z"
    },
    "require": [
     "base/js/events",
     "datatables.net",
     "d3",
     "chartjs",
     "dt-config",
     "dt-components",
     "dt-graph-objects",
     "dt-toolbar",
     "dt-tooltips",
     "jupyter-datatables"
    ],
    "scrolled": false
   },
   "outputs": [],
   "source": [
    "df_long.sample(10000)"
   ]
  },
  {
   "cell_type": "markdown",
   "metadata": {},
   "source": [
    "Wide DataTables work as expected:"
   ]
  },
  {
   "cell_type": "code",
   "execution_count": null,
   "metadata": {
    "ExecuteTime": {
     "end_time": "2019-08-07T09:55:28.002145Z",
     "start_time": "2019-08-07T09:55:27.821877Z"
    },
    "require": [
     "base/js/events",
     "datatables.net",
     "d3",
     "chartjs",
     "dt-config",
     "dt-components",
     "dt-graph-objects",
     "dt-toolbar",
     "dt-tooltips",
     "jupyter-datatables"
    ],
    "scrolled": false
   },
   "outputs": [],
   "source": [
    "df_wide"
   ]
  },
  {
   "cell_type": "markdown",
   "metadata": {},
   "source": [
    "## Support for Indices (including `Date` dtype)"
   ]
  },
  {
   "cell_type": "markdown",
   "metadata": {
    "ExecuteTime": {
     "end_time": "2019-07-19T09:20:10.160974Z",
     "start_time": "2019-07-19T09:20:10.134311Z"
    }
   },
   "source": [
    "Lets change the default plot for `num` from `Histogram` to `Line` and check our timeseries-like DataFrame"
   ]
  },
  {
   "cell_type": "code",
   "execution_count": null,
   "metadata": {
    "ExecuteTime": {
     "end_time": "2019-08-07T09:55:28.134723Z",
     "start_time": "2019-08-07T09:55:28.005660Z"
    },
    "require": [
     ""
    ]
   },
   "outputs": [],
   "source": [
    "%%requirejs\n",
    "\n",
    "$.fn.dataTable.defaults.dTypePlotMap['num'].unshift('Line')"
   ]
  },
  {
   "cell_type": "code",
   "execution_count": null,
   "metadata": {
    "ExecuteTime": {
     "end_time": "2019-08-07T09:55:28.178394Z",
     "start_time": "2019-08-07T09:55:28.137882Z"
    },
    "require": [
     "base/js/events",
     "datatables.net",
     "d3",
     "chartjs",
     "dt-config",
     "dt-components",
     "dt-graph-objects",
     "dt-toolbar",
     "dt-tooltips",
     "jupyter-datatables"
    ]
   },
   "outputs": [],
   "source": [
    "dft"
   ]
  },
  {
   "cell_type": "markdown",
   "metadata": {},
   "source": [
    "---"
   ]
  },
  {
   "cell_type": "markdown",
   "metadata": {
    "ExecuteTime": {
     "end_time": "2019-07-18T19:28:53.084883Z",
     "start_time": "2019-07-18T19:28:53.059439Z"
    }
   },
   "source": [
    "## Customization"
   ]
  },
  {
   "cell_type": "code",
   "execution_count": null,
   "metadata": {
    "ExecuteTime": {
     "end_time": "2019-08-08T13:29:25.919203Z",
     "start_time": "2019-08-08T13:29:25.371880Z"
    },
    "require": [
     "notebook/js/codecell"
    ]
   },
   "outputs": [],
   "source": [
    "%load_ext jupyter_require"
   ]
  },
  {
   "cell_type": "code",
   "execution_count": null,
   "metadata": {
    "ExecuteTime": {
     "end_time": "2019-08-08T13:29:29.546947Z",
     "start_time": "2019-08-08T13:29:29.333484Z"
    },
    "require": [
     ""
    ]
   },
   "outputs": [],
   "source": [
    "%%requirejs\n",
    "\n",
    "let defaultElementConfig = $(\"<pre/>\").html(JSON.stringify(Chart.defaults.global.elements, null, 4))\n",
    "\n",
    "element.append(defaultElementConfig)"
   ]
  },
  {
   "cell_type": "markdown",
   "metadata": {},
   "source": [
    "Check out [ChartJS](https://www.chartjs.org/docs/latest/general/) docs for more information about default settings"
   ]
  },
  {
   "cell_type": "markdown",
   "metadata": {},
   "source": [
    "---"
   ]
  },
  {
   "cell_type": "markdown",
   "metadata": {},
   "source": [
    "## Custom Graph Objects"
   ]
  },
  {
   "cell_type": "markdown",
   "metadata": {},
   "source": [
    "You can create your custom GraphObjects by implementing a function of the following specification:\n",
    "\n",
    "```ts\n",
    "interface Index {\n",
    "    data: Array<any>,\n",
    "    dtype: string\n",
    "}\n",
    "\n",
    "function(data: Array<any>, index: Array<Index>, dtype: string): Chart\n",
    "```"
   ]
  },
  {
   "cell_type": "markdown",
   "metadata": {},
   "source": [
    "Suppose we wanna plot colours and we want a special kind of plot for that"
   ]
  },
  {
   "cell_type": "code",
   "execution_count": null,
   "metadata": {
    "ExecuteTime": {
     "end_time": "2019-08-08T13:30:29.380158Z",
     "start_time": "2019-08-08T13:30:29.141666Z"
    },
    "require": [
     "chartjs"
    ]
   },
   "outputs": [],
   "source": [
    "%%requirejs chartjs\n",
    "\n",
    "let isValidColour = function(colour) {\n",
    "    let s = new Option().style\n",
    "    s.color = colour\n",
    "    \n",
    "    return s.color !== '' || console.debug(`Invalid CSS colour: '${colour}'.`)\n",
    "}\n",
    "\n",
    "let ColorPalette = function(data, index, dtype) {\n",
    "    const canvas = document.createElement('canvas')\n",
    "    const ctx    = canvas.getContext('2d')\n",
    "    \n",
    "    // perform check if the pattern is correct\n",
    "    if ( !data.every( d => typeof(d) === 'string' && isValidColour(d) ) ) {\n",
    "        console.debug(\"Data does not match colour pattern.\")\n",
    "        return\n",
    "    }\n",
    "    \n",
    "    // evenly slice the Pie chart by number of colours\n",
    "    const slices = new Array(data.length).fill(Number(1 / data.length).toFixed(2))\n",
    "    const labels = index[0].data\n",
    "    \n",
    "    let chart = new Chart(ctx, {\n",
    "        type: 'pie',\n",
    "        data: {\n",
    "            labels: labels,\n",
    "            datasets: [{\n",
    "                data: slices,\n",
    "                backgroundColor: data,\n",
    "            }]\n",
    "        },\n",
    "    })\n",
    "    \n",
    "    return chart\n",
    "}\n",
    "\n",
    "// Register the new chart\n",
    "$.fn.dataTable.defaults.graphObjects['ColorPalette'] = ColorPalette"
   ]
  },
  {
   "cell_type": "markdown",
   "metadata": {
    "ExecuteTime": {
     "end_time": "2019-07-18T19:55:59.832938Z",
     "start_time": "2019-07-18T19:55:59.718074Z"
    },
    "require": [
     "chartjs"
    ]
   },
   "source": [
    "And set it as default for the dtype you wanna use it for (in this case `string`):\n",
    "\n",
    "    The default setting is:\n",
    "   \n",
    "```\n",
    "   { \n",
    "       boolean:  ['CategoricalBar', 'Histogram'],\n",
    "       date:     ['CategoricalBar', 'Histogram'],\n",
    "       num:      ['Histogram', 'CategoricalBar', 'Bar', 'Line'],\n",
    "       string:   ['CategoricalBar'],\n",
    "\n",
    "       undefined: ['Bar']\n",
    "   }\n",
    "    \n",
    "```\n",
    "\n",
    "    The order specifies fallback plots."
   ]
  },
  {
   "cell_type": "code",
   "execution_count": null,
   "metadata": {
    "ExecuteTime": {
     "end_time": "2019-08-08T13:31:36.510202Z",
     "start_time": "2019-08-08T13:31:36.347438Z"
    },
    "require": [
     ""
    ]
   },
   "outputs": [],
   "source": [
    "%%requirejs\n",
    "\n",
    "$.fn.dataTable.defaults.chartMap['string'].unshift('ColorPalette')"
   ]
  },
  {
   "cell_type": "code",
   "execution_count": null,
   "metadata": {
    "ExecuteTime": {
     "end_time": "2019-08-08T13:31:41.023833Z",
     "start_time": "2019-08-08T13:31:40.924408Z"
    },
    "require": [
     "base/js/events",
     "datatables.net",
     "d3",
     "chartjs",
     "dt-config",
     "dt-components",
     "dt-graph-objects",
     "dt-toolbar",
     "dt-tooltips",
     "jupyter-datatables"
    ],
    "slideshow": {
     "slide_type": "slide"
    }
   },
   "outputs": [],
   "source": [
    "df_colours = pd.DataFrame([\n",
    "    {\n",
    "        \"colour\": \"red\",\n",
    "        \"value\" : \"rgb(255, 99, 132)\",\n",
    "    },\n",
    "    {\n",
    "        \"colour\": \"blue\",\n",
    "        \"value\" : \"rgb(54, 162, 235)\"\n",
    "    },\n",
    "    {\n",
    "        \"colour\": \"lightyellow\",\n",
    "        \"value\" : \"rgba(255, 205, 86, 0.3)\"  # alpha values via `rgba()`\n",
    "    },\n",
    "    {\n",
    "        \"colour\": \"darkorange\",\n",
    "        \"value\" : \"darkorange\"  # any valid CSS specifier\n",
    "    }\n",
    "])\n",
    "\n",
    "df_colours.set_index(\"colour\", inplace=True)\n",
    "\n",
    "# As of v0.3.0, DataTables do not support index names properly\n",
    "del df_colours.index.name\n",
    "\n",
    "df_colours"
   ]
  },
  {
   "cell_type": "markdown",
   "metadata": {},
   "source": [
    "We fall back to the default chart if the colour value is invalid based on our check and use the second chart in order:"
   ]
  },
  {
   "cell_type": "code",
   "execution_count": null,
   "metadata": {
    "ExecuteTime": {
     "end_time": "2019-08-08T13:32:31.284322Z",
     "start_time": "2019-08-08T13:32:31.186983Z"
    },
    "require": [
     "base/js/events",
     "datatables.net",
     "d3",
     "chartjs",
     "dt-config",
     "dt-components",
     "dt-graph-objects",
     "dt-toolbar",
     "dt-tooltips",
     "jupyter-datatables"
    ],
    "scrolled": false
   },
   "outputs": [],
   "source": [
    "df_other = pd.DataFrame([\n",
    "    {\n",
    "        \"colour\": \"red\",\n",
    "        \"value\" : \"red\",\n",
    "    },\n",
    "    {\n",
    "        \"colour\": \"green\",\n",
    "        \"value\" : \"invalid\",\n",
    "    },\n",
    "    {\n",
    "        \"colour\": \"blue\",\n",
    "        \"value\" : \"blue\",\n",
    "    },\n",
    "    {\n",
    "        \"colour\": \"other\",\n",
    "        \"value\" : \"invalid\",\n",
    "    }\n",
    "])\n",
    "\n",
    "df_other.set_index(\"colour\", inplace=True)\n",
    "\n",
    "del df_other.index.name\n",
    "\n",
    "df_other"
   ]
  }
 ],
 "metadata": {
  "celltoolbar": "Slideshow",
  "finalized": {
   "timestamp": 1565272237108,
   "trusted": true
  },
  "hide_input": false,
  "kernelspec": {
   "display_name": "jupyter-datatables",
   "language": "python",
   "name": "jupyter-datatables"
  },
  "language_info": {
   "codemirror_mode": {
    "name": "ipython",
    "version": 3
   },
   "file_extension": ".py",
   "mimetype": "text/x-python",
   "name": "python",
   "nbconvert_exporter": "python",
   "pygments_lexer": "ipython3",
   "version": "3.6.8"
  },
  "require": {
   "paths": {
    "buttons.colvis": "https://cdn.datatables.net/buttons/1.5.6/js/buttons.colVis.min",
    "buttons.flash": "https://cdn.datatables.net/buttons/1.5.6/js/buttons.flash.min",
    "buttons.html5": "https://cdn.datatables.net/buttons/1.5.6/js/buttons.html5.min",
    "buttons.print": "https://cdn.datatables.net/buttons/1.5.6/js/buttons.print.min",
    "chartjs": "https://cdnjs.cloudflare.com/ajax/libs/Chart.js/2.8.0/Chart",
    "d3": "https://d3js.org/d3.v5.min",
    "d3-array": "https://d3js.org/d3-array.v2.min",
    "datatables.net": "https://cdn.datatables.net/1.10.18/js/jquery.dataTables",
    "datatables.net-buttons": "https://cdn.datatables.net/buttons/1.5.6/js/dataTables.buttons.min",
    "datatables.responsive": "https://cdn.datatables.net/responsive/2.2.2/js/dataTables.responsive.min",
    "datatables.scroller": "https://cdn.datatables.net/scroller/2.0.0/js/dataTables.scroller.min",
    "datatables.select": "https://cdn.datatables.net/select/1.3.0/js/dataTables.select.min",
    "jszip": "https://cdnjs.cloudflare.com/ajax/libs/jszip/2.5.0/jszip.min",
    "moment": "https://cdnjs.cloudflare.com/ajax/libs/moment.js/2.8.0/moment",
    "pdfmake": "https://cdnjs.cloudflare.com/ajax/libs/pdfmake/0.1.36/pdfmake.min",
    "vfsfonts": "https://cdnjs.cloudflare.com/ajax/libs/pdfmake/0.1.36/vfs_fonts"
   },
   "shim": {
    "buttons.colvis": {
     "deps": [
      "jszip",
      "datatables.net-buttons"
     ]
    },
    "buttons.flash": {
     "deps": [
      "jszip",
      "datatables.net-buttons"
     ]
    },
    "buttons.html5": {
     "deps": [
      "jszip",
      "datatables.net-buttons"
     ]
    },
    "buttons.print": {
     "deps": [
      "jszip",
      "datatables.net-buttons"
     ]
    },
    "chartjs": {
     "deps": [
      "moment"
     ]
    },
    "datatables.net": {
     "exports": "$.fn.dataTable"
    },
    "datatables.net-buttons": {
     "deps": [
      "datatables.net"
     ]
    },
    "pdfmake": {
     "deps": [
      "datatables.net"
     ]
    },
    "vfsfonts": {
     "deps": [
      "datatables.net"
     ]
    }
   }
  },
  "toc": {
   "base_numbering": 1,
   "nav_menu": {},
   "number_sections": true,
   "sideBar": true,
   "skip_h1_title": true,
   "title_cell": "Table of Contents",
   "title_sidebar": "Contents",
   "toc_cell": true,
   "toc_position": {},
   "toc_section_display": true,
   "toc_window_display": false
  },
  "varInspector": {
   "cols": {
    "lenName": 16,
    "lenType": 16,
    "lenVar": 40
   },
   "kernels_config": {
    "python": {
     "delete_cmd_postfix": "",
     "delete_cmd_prefix": "del ",
     "library": "var_list.py",
     "varRefreshCmd": "print(var_dic_list())"
    },
    "r": {
     "delete_cmd_postfix": ") ",
     "delete_cmd_prefix": "rm(",
     "library": "var_list.r",
     "varRefreshCmd": "cat(var_dic_list()) "
    }
   },
   "types_to_exclude": [
    "module",
    "function",
    "builtin_function_or_method",
    "instance",
    "_Feature"
   ],
   "window_display": false
  }
 },
 "nbformat": 4,
 "nbformat_minor": 2
}
