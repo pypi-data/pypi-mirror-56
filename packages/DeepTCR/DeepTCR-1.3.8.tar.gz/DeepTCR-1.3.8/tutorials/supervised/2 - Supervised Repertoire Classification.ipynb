{
 "cells": [
  {
   "cell_type": "markdown",
   "metadata": {},
   "source": [
    "# Supervised Repertoire Classification"
   ]
  },
  {
   "cell_type": "markdown",
   "metadata": {},
   "source": [
    "While solving a sequence classification can be useful in the cases where the label applies to every sequence in a sample (such as in tetramer-sorted T-cells), there are times where the label may truly only apply to a set of sequences. For example, in the case where one may sequence tumor-infiltrating lymphocytes (TIL) and  there is a label at the repertoire/sample level such as which therapy the sample received. In this case, there may be a structural signature within a set of sequences that is predictive but not every single sequence has that signature. This is a case where we want to learn what is the structural signature buried in a set of sequenes and which sequences carry this signature."
   ]
  },
  {
   "cell_type": "markdown",
   "metadata": {},
   "source": [
    "To demo this utility of a repertoire/sample level classifier, we will first upload dat from the Rudqvist dataseet. In this dataset, 20 mice with implanted tumors were treated with 4 modes of therapy (Control, 9H10, RT, or Combo). We want to know whether the TCRrepertoire from their tumors is predictive of the therapy they received."
   ]
  },
  {
   "cell_type": "code",
   "execution_count": 1,
   "metadata": {},
   "outputs": [
    {
     "name": "stdout",
     "output_type": "stream",
     "text": [
      "Loading Data...\n",
      "Embedding Sequences...\n",
      "Data Loaded\n"
     ]
    },
    {
     "name": "stderr",
     "output_type": "stream",
     "text": [
      "Process ForkPoolWorker-16:\n",
      "Process ForkPoolWorker-3:\n",
      "Process ForkPoolWorker-33:\n",
      "Process ForkPoolWorker-17:\n",
      "Process ForkPoolWorker-23:\n",
      "Process ForkPoolWorker-18:\n",
      "Process ForkPoolWorker-9:\n",
      "Process ForkPoolWorker-36:\n",
      "Process ForkPoolWorker-32:\n",
      "Process ForkPoolWorker-39:\n",
      "Process ForkPoolWorker-10:\n",
      "Process ForkPoolWorker-15:\n",
      "Process ForkPoolWorker-27:\n",
      "Process ForkPoolWorker-5:\n",
      "Process ForkPoolWorker-20:\n",
      "Process ForkPoolWorker-14:\n",
      "Traceback (most recent call last):\n",
      "Process ForkPoolWorker-6:\n",
      "Traceback (most recent call last):\n",
      "Traceback (most recent call last):\n",
      "Process ForkPoolWorker-12:\n",
      "Process ForkPoolWorker-37:\n",
      "Traceback (most recent call last):\n",
      "Traceback (most recent call last):\n",
      "Traceback (most recent call last):\n",
      "Process ForkPoolWorker-29:\n",
      "Traceback (most recent call last):\n",
      "Process ForkPoolWorker-2:\n",
      "Process ForkPoolWorker-35:\n",
      "Process ForkPoolWorker-26:\n",
      "Process ForkPoolWorker-21:\n",
      "Process ForkPoolWorker-31:\n",
      "Process ForkPoolWorker-38:\n",
      "Process ForkPoolWorker-40:\n",
      "Process ForkPoolWorker-30:\n",
      "Process ForkPoolWorker-7:\n",
      "Process ForkPoolWorker-11:\n",
      "Process ForkPoolWorker-28:\n",
      "Process ForkPoolWorker-19:\n",
      "Process ForkPoolWorker-24:\n",
      "Process ForkPoolWorker-22:\n",
      "Process ForkPoolWorker-25:\n",
      "Process ForkPoolWorker-4:\n",
      "Process ForkPoolWorker-8:\n",
      "Process ForkPoolWorker-1:\n",
      "Process ForkPoolWorker-34:\n",
      "Process ForkPoolWorker-13:\n",
      "Traceback (most recent call last):\n",
      "  File \"/usr/lib/python3.6/multiprocessing/process.py\", line 258, in _bootstrap\n",
      "    self.run()\n",
      "Traceback (most recent call last):\n",
      "Traceback (most recent call last):\n",
      "Traceback (most recent call last):\n",
      "Traceback (most recent call last):\n",
      "Traceback (most recent call last):\n",
      "  File \"/usr/lib/python3.6/multiprocessing/process.py\", line 258, in _bootstrap\n",
      "    self.run()\n",
      "Traceback (most recent call last):\n",
      "Traceback (most recent call last):\n",
      "  File \"/usr/lib/python3.6/multiprocessing/process.py\", line 258, in _bootstrap\n",
      "    self.run()\n",
      "Traceback (most recent call last):\n",
      "Traceback (most recent call last):\n",
      "Exception ignored in: <bound method Context.__del__ of <zmq.sugar.context.Context object at 0x7f52be4e3b38>>\n",
      "Traceback (most recent call last):\n",
      "  File \"/usr/local/lib/python3.6/dist-packages/zmq/sugar/context.py\", line 46, in __del__\n",
      "    self.term()\n",
      "  File \"zmq/backend/cython/context.pyx\", line 136, in zmq.backend.cython.context.Context.term\n",
      "  File \"zmq/backend/cython/checkrc.pxd\", line 12, in zmq.backend.cython.checkrc._check_rc\n",
      "KeyboardInterrupt: \n",
      "  File \"/usr/lib/python3.6/multiprocessing/process.py\", line 258, in _bootstrap\n",
      "    self.run()\n",
      "  File \"/usr/lib/python3.6/multiprocessing/process.py\", line 93, in run\n",
      "    self._target(*self._args, **self._kwargs)\n",
      "  File \"/usr/lib/python3.6/multiprocessing/pool.py\", line 108, in worker\n",
      "    task = get()\n",
      "  File \"/usr/lib/python3.6/multiprocessing/queues.py\", line 334, in get\n",
      "    with self._rlock:\n",
      "  File \"/usr/lib/python3.6/multiprocessing/synchronize.py\", line 95, in __enter__\n",
      "    return self._semlock.__enter__()\n",
      "KeyboardInterrupt\n"
     ]
    }
   ],
   "source": [
    "import sys\n",
    "sys.path.append('../../')\n",
    "from DeepTCR.DeepTCR import DeepTCR_WF\n",
    "\n",
    "# Instantiate training object\n",
    "DTCR_WF = DeepTCR_WF('Tutorial')\n",
    "\n",
    "#Load Data from directories\n",
    "DTCR_WF.Get_Data(directory='../../Data/Rudqvist',Load_Prev_Data=False,aggregate_by_aa=True,\n",
    "               aa_column_beta=1,count_column=2,v_beta_column=7,d_beta_column=14,j_beta_column=21)"
   ]
  },
  {
   "cell_type": "markdown",
   "metadata": {},
   "source": [
    "Following loading the data, we will split our data into test/train and then train the model."
   ]
  },
  {
   "cell_type": "code",
   "execution_count": 2,
   "metadata": {},
   "outputs": [
    {
     "name": "stderr",
     "output_type": "stream",
     "text": [
      "WARNING: Logging before flag parsing goes to stderr.\n",
      "W1004 20:48:29.909550 139995146635072 deprecation_wrapper.py:119] From ../../DeepTCR/functions/Layers.py:130: The name tf.placeholder is deprecated. Please use tf.compat.v1.placeholder instead.\n",
      "\n",
      "W1004 20:48:29.918837 139995146635072 deprecation_wrapper.py:119] From ../../DeepTCR/functions/Layers.py:140: The name tf.placeholder_with_default is deprecated. Please use tf.compat.v1.placeholder_with_default instead.\n",
      "\n",
      "W1004 20:48:29.921924 139995146635072 deprecation_wrapper.py:119] From ../../DeepTCR/functions/Layers.py:141: The name tf.sparse.placeholder is deprecated. Please use tf.compat.v1.sparse.placeholder instead.\n",
      "\n",
      "W1004 20:48:29.930583 139995146635072 deprecation_wrapper.py:119] From ../../DeepTCR/functions/Layers.py:12: The name tf.get_variable is deprecated. Please use tf.compat.v1.get_variable instead.\n",
      "\n",
      "W1004 20:48:29.932635 139995146635072 deprecation.py:506] From /usr/local/lib/python3.6/dist-packages/tensorflow/python/ops/init_ops.py:1251: calling VarianceScaling.__init__ (from tensorflow.python.ops.init_ops) with dtype is deprecated and will be removed in a future version.\n",
      "Instructions for updating:\n",
      "Call initializer instance with the dtype argument instead of passing it to the constructor\n",
      "W1004 20:48:29.976086 139995146635072 deprecation_wrapper.py:119] From ../../DeepTCR/functions/Layers.py:156: The name tf.variable_scope is deprecated. Please use tf.compat.v1.variable_scope instead.\n",
      "\n",
      "W1004 20:48:30.011341 139995146635072 deprecation.py:323] From ../../DeepTCR/functions/Layers.py:98: conv2d (from tensorflow.python.layers.convolutional) is deprecated and will be removed in a future version.\n",
      "Instructions for updating:\n",
      "Use `tf.keras.layers.Conv2D` instead.\n",
      "W1004 20:48:30.209697 139995146635072 deprecation.py:323] From ../../DeepTCR/functions/Layers.py:99: flatten (from tensorflow.python.layers.core) is deprecated and will be removed in a future version.\n",
      "Instructions for updating:\n",
      "Use keras.layers.flatten instead.\n",
      "W1004 20:48:30.367146 139995146635072 deprecation.py:323] From ../../DeepTCR/functions/Layers.py:102: dropout (from tensorflow.python.layers.core) is deprecated and will be removed in a future version.\n",
      "Instructions for updating:\n",
      "Use keras.layers.dropout instead.\n",
      "W1004 20:48:30.900394 139995146635072 lazy_loader.py:50] \n",
      "The TensorFlow contrib module will not be included in TensorFlow 2.0.\n",
      "For more information, please see:\n",
      "  * https://github.com/tensorflow/community/blob/master/rfcs/20180907-contrib-sunset.md\n",
      "  * https://github.com/tensorflow/addons\n",
      "  * https://github.com/tensorflow/io (for I/O related ops)\n",
      "If you depend on functionality not listed there, please file an issue.\n",
      "\n",
      "W1004 20:48:30.901713 139995146635072 deprecation.py:323] From ../../DeepTCR/functions/MIL.py:50: dense (from tensorflow.python.layers.core) is deprecated and will be removed in a future version.\n",
      "Instructions for updating:\n",
      "Use keras.layers.dense instead.\n",
      "W1004 20:48:31.988414 139995146635072 deprecation_wrapper.py:119] From ../../DeepTCR/DeepTCR.py:3321: The name tf.trainable_variables is deprecated. Please use tf.compat.v1.trainable_variables instead.\n",
      "\n",
      "W1004 20:48:31.989610 139995146635072 deprecation_wrapper.py:119] From ../../DeepTCR/DeepTCR.py:3322: The name tf.losses.get_regularization_loss is deprecated. Please use tf.compat.v1.losses.get_regularization_loss instead.\n",
      "\n",
      "W1004 20:48:31.991455 139995146635072 deprecation_wrapper.py:119] From ../../DeepTCR/DeepTCR.py:3326: The name tf.train.AdamOptimizer is deprecated. Please use tf.compat.v1.train.AdamOptimizer instead.\n",
      "\n",
      "W1004 20:48:32.946830 139995146635072 deprecation.py:323] From /usr/local/lib/python3.6/dist-packages/tensorflow/python/ops/math_grad.py:1205: add_dispatch_support.<locals>.wrapper (from tensorflow.python.ops.array_ops) is deprecated and will be removed in a future version.\n",
      "Instructions for updating:\n",
      "Use tf.where in 2.0, which has the same broadcast rule as np.where\n",
      "W1004 20:48:36.534812 139995146635072 deprecation_wrapper.py:119] From ../../DeepTCR/DeepTCR.py:3342: The name tf.train.Saver is deprecated. Please use tf.compat.v1.train.Saver instead.\n",
      "\n"
     ]
    },
    {
     "name": "stdout",
     "output_type": "stream",
     "text": [
      "Training_Statistics: \n",
      " Epoch: 0 Training loss: 1.61578 Validation loss: 1.56924 Testing loss: 1.56026 Training Accuracy: 0.25 Validation Accuracy: 0.25 Testing Accuracy: 0.25 Testing AUC: 0.91667\n",
      "Training_Statistics: \n",
      " Epoch: 1 Training loss: 1.56478 Validation loss: 1.52729 Testing loss: 1.51791 Training Accuracy: 0.25 Validation Accuracy: 0.25 Testing Accuracy: 0.25 Testing AUC: 0.91667\n",
      "Training_Statistics: \n",
      " Epoch: 2 Training loss: 1.51916 Validation loss: 1.48931 Testing loss: 1.48005 Training Accuracy: 0.25 Validation Accuracy: 0.25 Testing Accuracy: 0.25 Testing AUC: 0.91667\n",
      "Training_Statistics: \n",
      " Epoch: 3 Training loss: 1.47777 Validation loss: 1.45522 Testing loss: 1.44644 Training Accuracy: 0.25 Validation Accuracy: 0.25 Testing Accuracy: 0.25 Testing AUC: 0.91667\n",
      "Training_Statistics: \n",
      " Epoch: 4 Training loss: 1.44084 Validation loss: 1.42605 Testing loss: 1.41791 Training Accuracy: 0.25 Validation Accuracy: 0.25 Testing Accuracy: 0.25 Testing AUC: 0.91667\n",
      "Training_Statistics: \n",
      " Epoch: 5 Training loss: 1.40928 Validation loss: 1.40369 Testing loss: 1.39617 Training Accuracy: 0.25 Validation Accuracy: 0.25 Testing Accuracy: 0.25 Testing AUC: 0.75\n",
      "Training_Statistics: \n",
      " Epoch: 6 Training loss: 1.38495 Validation loss: 1.38899 Testing loss: 1.38200 Training Accuracy: 0.25 Validation Accuracy: 0.25 Testing Accuracy: 0.25 Testing AUC: 0.75\n",
      "Training_Statistics: \n",
      " Epoch: 7 Training loss: 1.36883 Validation loss: 1.38212 Testing loss: 1.37567 Training Accuracy: 0.33333 Validation Accuracy: 0.25 Testing Accuracy: 0.25 Testing AUC: 0.75\n",
      "Training_Statistics: \n",
      " Epoch: 8 Training loss: 1.36087 Validation loss: 1.38149 Testing loss: 1.37567 Training Accuracy: 0.25 Validation Accuracy: 0.25 Testing Accuracy: 0.25 Testing AUC: 0.75\n",
      "Training_Statistics: \n",
      " Epoch: 9 Training loss: 1.35942 Validation loss: 1.38390 Testing loss: 1.37879 Training Accuracy: 0.25 Validation Accuracy: 0.25 Testing Accuracy: 0.25 Testing AUC: 0.75\n",
      "Training_Statistics: \n",
      " Epoch: 10 Training loss: 1.36121 Validation loss: 1.38635 Testing loss: 1.38198 Training Accuracy: 0.25 Validation Accuracy: 0.5 Testing Accuracy: 0.25 Testing AUC: 0.75\n",
      "Training_Statistics: \n",
      " Epoch: 11 Training loss: 1.36275 Validation loss: 1.38719 Testing loss: 1.38337 Training Accuracy: 0.41667 Validation Accuracy: 0.25 Testing Accuracy: 0.25 Testing AUC: 0.75\n",
      "Training_Statistics: \n",
      " Epoch: 12 Training loss: 1.36210 Validation loss: 1.38611 Testing loss: 1.38266 Training Accuracy: 0.25 Validation Accuracy: 0.25 Testing Accuracy: 0.25 Testing AUC: 0.75\n",
      "Training_Statistics: \n",
      " Epoch: 13 Training loss: 1.35890 Validation loss: 1.38364 Testing loss: 1.38035 Training Accuracy: 0.25 Validation Accuracy: 0.25 Testing Accuracy: 0.25 Testing AUC: 0.75\n",
      "Training_Statistics: \n",
      " Epoch: 14 Training loss: 1.35360 Validation loss: 1.38037 Testing loss: 1.37734 Training Accuracy: 0.25 Validation Accuracy: 0.25 Testing Accuracy: 0.25 Testing AUC: 0.75\n",
      "Training_Statistics: \n",
      " Epoch: 15 Training loss: 1.34712 Validation loss: 1.37683 Testing loss: 1.37428 Training Accuracy: 0.25 Validation Accuracy: 0.25 Testing Accuracy: 0.25 Testing AUC: 0.75\n",
      "Training_Statistics: \n",
      " Epoch: 16 Training loss: 1.34020 Validation loss: 1.37357 Testing loss: 1.37171 Training Accuracy: 0.41667 Validation Accuracy: 0.5 Testing Accuracy: 0.25 Testing AUC: 0.75\n",
      "Training_Statistics: \n",
      " Epoch: 17 Training loss: 1.33346 Validation loss: 1.37099 Testing loss: 1.36986 Training Accuracy: 0.58333 Validation Accuracy: 0.5 Testing Accuracy: 0.5 Testing AUC: 0.75\n",
      "Training_Statistics: \n",
      " Epoch: 18 Training loss: 1.32741 Validation loss: 1.36914 Testing loss: 1.36867 Training Accuracy: 0.58333 Validation Accuracy: 0.5 Testing Accuracy: 0.5 Testing AUC: 0.75\n",
      "Training_Statistics: \n",
      " Epoch: 19 Training loss: 1.32211 Validation loss: 1.36789 Testing loss: 1.36809 Training Accuracy: 0.66667 Validation Accuracy: 0.5 Testing Accuracy: 0.5 Testing AUC: 0.75\n",
      "Training_Statistics: \n",
      " Epoch: 20 Training loss: 1.31733 Validation loss: 1.36680 Testing loss: 1.36803 Training Accuracy: 0.75 Validation Accuracy: 0.5 Testing Accuracy: 0.25 Testing AUC: 0.66667\n",
      "Training_Statistics: \n",
      " Epoch: 21 Training loss: 1.31274 Validation loss: 1.36572 Testing loss: 1.36804 Training Accuracy: 0.75 Validation Accuracy: 0.5 Testing Accuracy: 0.0 Testing AUC: 0.66667\n",
      "Training_Statistics: \n",
      " Epoch: 22 Training loss: 1.30827 Validation loss: 1.36445 Testing loss: 1.36810 Training Accuracy: 0.58333 Validation Accuracy: 0.25 Testing Accuracy: 0.0 Testing AUC: 0.66667\n",
      "Training_Statistics: \n",
      " Epoch: 23 Training loss: 1.30376 Validation loss: 1.36300 Testing loss: 1.36805 Training Accuracy: 0.41667 Validation Accuracy: 0.25 Testing Accuracy: 0.25 Testing AUC: 0.66667\n",
      "Training_Statistics: \n",
      " Epoch: 24 Training loss: 1.29912 Validation loss: 1.36147 Testing loss: 1.36789 Training Accuracy: 0.5 Validation Accuracy: 0.25 Testing Accuracy: 0.25 Testing AUC: 0.66667\n",
      "Training_Statistics: \n",
      " Epoch: 25 Training loss: 1.29432 Validation loss: 1.35980 Testing loss: 1.36752 Training Accuracy: 0.5 Validation Accuracy: 0.25 Testing Accuracy: 0.25 Testing AUC: 0.66667\n",
      "Training_Statistics: \n",
      " Epoch: 26 Training loss: 1.28944 Validation loss: 1.35794 Testing loss: 1.36702 Training Accuracy: 0.41667 Validation Accuracy: 0.25 Testing Accuracy: 0.25 Testing AUC: 0.66667\n",
      "Training_Statistics: \n",
      " Epoch: 27 Training loss: 1.28449 Validation loss: 1.35588 Testing loss: 1.36639 Training Accuracy: 0.33333 Validation Accuracy: 0.25 Testing Accuracy: 0.25 Testing AUC: 0.66667\n",
      "Training_Statistics: \n",
      " Epoch: 28 Training loss: 1.27941 Validation loss: 1.35367 Testing loss: 1.36565 Training Accuracy: 0.33333 Validation Accuracy: 0.25 Testing Accuracy: 0.25 Testing AUC: 0.66667\n",
      "Done Training\n"
     ]
    }
   ],
   "source": [
    "DTCR_WF.Get_Train_Valid_Test(test_size=0.25)\n",
    "DTCR_WF.Train()"
   ]
  },
  {
   "cell_type": "markdown",
   "metadata": {},
   "source": [
    "Following training, we can view the performance through plotting the ROC curves."
   ]
  },
  {
   "cell_type": "code",
   "execution_count": 3,
   "metadata": {},
   "outputs": [
    {
     "data": {
      "image/png": "[encoded data removed]",
      "text/plain": [
       "<Figure size 432x288 with 1 Axes>"
      ]
     },
     "metadata": {
      "needs_background": "light"
     },
     "output_type": "display_data"
    }
   ],
   "source": [
    "DTCR_WF.AUC_Curve()"
   ]
  },
  {
   "cell_type": "markdown",
   "metadata": {},
   "source": [
    "You might notice that given how small this dataset is, doing one training split does not give us a good assesment for how predictive the TCR signature may be. In this case, we would want to use a K-fold cross validation to train on 16 of the samples and test on 4 and iterate until we've covered the entire cohort. When calling the K-fold cross validation command, one can provide the number of folds or if none is provided, it assumes a leave-one-out strategy. Therefore, we will set the folds to 5 where each fold will contain 4 samples. Here, we will also utilize an option for training where we apply a hinge loss to the training data where the per-sample loss is only used to penalize the model if it is above a certain threshold. This prevents over-fitting of the neural network. The idea here is that once a sample has been called correctly, there is no additional benefit to get it 'more right'. This is a particularly good training strategy when we are working with small datasets such as this one. We will also set the combine_train_valid parameter to True to combine what was originally the train and validation sets into one training set while leaving the test set for assessing performance. Otherwise, this method normally applies an early stopping criterion on the validation set. Since we have combined our train and validation sets together, we need to apply a stopping criterion on this training data. We will set the minimum loss before stopping training on the training data to 0.1. This means that when the average training loss hits 0.1, the neural network will stop training.\n",
    "\n",
    "Here, we will also introduce other hyper-parameters we can modify including changing the size of the network. The size of the network parameter chooses the number of nodes for the 3 convolutional layers. Here, we will switch the sie of the network to 'small' which use 12,32,64 nodes respectively for the 3 conv layers. We will also leave out 4 samples for testing while we use 16 for training. Finally, we will also train our model with 64 concepts, a hyper-parameter of the multiple-instance learning (MIL) algorithm that we can change depending on the level of heterogeneity we expect in our data."
   ]
  },
  {
   "cell_type": "code",
   "execution_count": 8,
   "metadata": {},
   "outputs": [],
   "source": [
    "%%capture\n",
    "folds = 5\n",
    "size_of_net = 'small'\n",
    "num_concepts=64\n",
    "hinge_loss_t = 0.1\n",
    "train_loss_min=0.1\n",
    "DTCR_WF.K_Fold_CrossVal(combine_train_valid=True, hinge_loss_t = hinge_loss_t,train_loss_min = train_loss_min,folds=folds,\n",
    "                       num_concepts=num_concepts, size_of_net=size_of_net)"
   ]
  },
  {
   "cell_type": "markdown",
   "metadata": {},
   "source": [
    "We can then assess the performance once again through plotting the ROC curves."
   ]
  },
  {
   "cell_type": "code",
   "execution_count": 9,
   "metadata": {},
   "outputs": [
    {
     "data": {
      "image/png": "[encoded data removed]",
      "text/plain": [
       "<Figure size 432x288 with 1 Axes>"
      ]
     },
     "metadata": {
      "needs_background": "light"
     },
     "output_type": "display_data"
    }
   ],
   "source": [
    "DTCR_WF.AUC_Curve()"
   ]
  },
  {
   "cell_type": "markdown",
   "metadata": {},
   "source": [
    "We can also train our model in a Monte-Carlo fashion where we perform N number of monte-carlo simulation, randomly sampling train/test sets to train our model and assess predictive signature in our data in a more granular way."
   ]
  },
  {
   "cell_type": "code",
   "execution_count": 10,
   "metadata": {},
   "outputs": [],
   "source": [
    "%%capture\n",
    "folds = 25\n",
    "LOO = 4\n",
    "epochs_min = 10\n",
    "size_of_net = 'small'\n",
    "num_concepts=64\n",
    "hinge_loss_t = 0.1\n",
    "train_loss_min=0.1\n",
    "\n",
    "DTCR_WF.Monte_Carlo_CrossVal(folds=folds,LOO=LOO,epochs_min=epochs_min,num_concepts=num_concepts,size_of_net=size_of_net,\n",
    "                             train_loss_min=train_loss_min,hinge_loss_t=hinge_loss_t,combine_train_valid=True)"
   ]
  },
  {
   "cell_type": "markdown",
   "metadata": {},
   "source": [
    "Once again, we can look at the performance via a ROC curve."
   ]
  },
  {
   "cell_type": "code",
   "execution_count": 11,
   "metadata": {},
   "outputs": [
    {
     "data": {
      "image/png": "[encoded data removed]",
      "text/plain": [
       "<Figure size 432x288 with 1 Axes>"
      ]
     },
     "metadata": {
      "needs_background": "light"
     },
     "output_type": "display_data"
    }
   ],
   "source": [
    "DTCR_WF.AUC_Curve()"
   ]
  },
  {
   "cell_type": "markdown",
   "metadata": {},
   "source": [
    "Once our algorithm has been trained, we may want to see which sequences are the most strongly predicted for each label. To do this we will run the following command. The output of the command is a dictionary of dataframes within the object we can view. Additionally, these dataframes can be found in the results folder underneath the subdirectory 'Rep_Sequences'."
   ]
  },
  {
   "cell_type": "code",
   "execution_count": 12,
   "metadata": {},
   "outputs": [],
   "source": [
    "DTCR_WF.Representative_Sequences()"
   ]
  },
  {
   "cell_type": "code",
   "execution_count": 13,
   "metadata": {},
   "outputs": [
    {
     "name": "stdout",
     "output_type": "stream",
     "text": [
      "      alpha            beta      v_beta      d_beta      j_beta v_alpha  \\\n",
      "12045  None   CASSLPASYEQYF  TCRBV12-01  unresolved  TCRBJ02-07    None   \n",
      "11735  None    CASGAWGYEQYF  TCRBV13-02  unresolved  TCRBJ02-07    None   \n",
      "11736  None  CASGLQMGQYEQYF  TCRBV13-02  TCBDD01-01  TCRBJ02-07    None   \n",
      "12110  None   CASSDGESDTQYF  TCRBV13-01  TCBDD01-01  TCRBJ02-05    None   \n",
      "12091  None   CASSLGSYAEQFF  TCRBV14-01  unresolved  TCRBJ02-01    None   \n",
      "13044  None    CASGAWGYEQYF  TCRBV13-02  unresolved  TCRBJ02-07    None   \n",
      "15210  None   CASSLGGRDEQYF  TCRBV03-01  TCBDD02-01  TCRBJ02-07    None   \n",
      "14089  None    FASGAWGYEQYF  TCRBV13-02  unresolved  TCRBJ02-07    None   \n",
      "15795  None    CASGAWGYEQYF  TCRBV13-02  unresolved  TCRBJ02-07    None   \n",
      "17055  None   CASSLGLYAEQFF  TCRBV13-01  unresolved  TCRBJ02-01    None   \n",
      "\n",
      "      j_alpha    Class         Sample      Freq  Counts           HLA  \\\n",
      "12045    None  Control  CONTROL-3.tsv  0.001773       2  [N, o, n, e]   \n",
      "11735    None  Control  CONTROL-3.tsv  0.140957     159  [N, o, n, e]   \n",
      "11736    None  Control  CONTROL-3.tsv  0.039007      44  [N, o, n, e]   \n",
      "12110    None  Control  CONTROL-3.tsv  0.000887       1  [N, o, n, e]   \n",
      "12091    None  Control  CONTROL-3.tsv  0.000887       1  [N, o, n, e]   \n",
      "13044    None  Control  CONTROL-5.tsv  0.172929     879  [N, o, n, e]   \n",
      "15210    None  Control  CONTROL-5.tsv  0.000197       1  [N, o, n, e]   \n",
      "14089    None  Control  CONTROL-5.tsv  0.000197       1  [N, o, n, e]   \n",
      "15795    None  Control  CONTROL-1.tsv  0.057541     132  [N, o, n, e]   \n",
      "17055    None  Control  CONTROL-1.tsv  0.000436       1  [N, o, n, e]   \n",
      "\n",
      "           9H10     Combo   Control        RT  \n",
      "12045  0.000296  0.000076  0.999429  0.000199  \n",
      "11735  0.000235  0.000082  0.999418  0.000265  \n",
      "11736  0.000297  0.000077  0.999293  0.000333  \n",
      "12110  0.000385  0.000071  0.999293  0.000251  \n",
      "12091  0.000637  0.000084  0.998865  0.000415  \n",
      "13044  0.000446  0.000196  0.998828  0.000530  \n",
      "15210  0.000696  0.000112  0.998781  0.000410  \n",
      "14089  0.000411  0.000181  0.998778  0.000629  \n",
      "15795  0.000666  0.000266  0.998745  0.000323  \n",
      "17055  0.000819  0.000211  0.998704  0.000266  \n"
     ]
    }
   ],
   "source": [
    "print(DTCR_WF.Rep_Seq['Control'])"
   ]
  },
  {
   "cell_type": "markdown",
   "metadata": {},
   "source": [
    "Furthermore, we may want to know which learned motifs are associated with a given label. To do this, we can run the following command with the label we want to know the predictive motifs for."
   ]
  },
  {
   "cell_type": "code",
   "execution_count": 14,
   "metadata": {},
   "outputs": [
    {
     "name": "stdout",
     "output_type": "stream",
     "text": [
      "Motif Identification Completed\n"
     ]
    }
   ],
   "source": [
    "DTCR_WF.Motif_Identification('Control')"
   ]
  },
  {
   "cell_type": "markdown",
   "metadata": {},
   "source": [
    "The motifs can then be found in fasta files in the results folder underneath (label)(alpha/beta)Motifs. These fasta fiels can then be used with \"https://weblogo.berkeley.edu/logo.cgi\" for motif visualization."
   ]
  },
  {
   "cell_type": "code",
   "execution_count": null,
   "metadata": {},
   "outputs": [],
   "source": []
  }
 ],
 "metadata": {
  "kernelspec": {
   "display_name": "Python 3",
   "language": "python",
   "name": "python3"
  },
  "language_info": {
   "codemirror_mode": {
    "name": "ipython",
    "version": 3
   },
   "file_extension": ".py",
   "mimetype": "text/x-python",
   "name": "python",
   "nbconvert_exporter": "python",
   "pygments_lexer": "ipython3",
   "version": "3.6.8"
  }
 },
 "nbformat": 4,
 "nbformat_minor": 2
}
