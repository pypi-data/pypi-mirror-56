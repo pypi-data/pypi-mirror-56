{
 "cells": [
  {
   "cell_type": "markdown",
   "metadata": {},
   "source": [
    "# Clustering TCR Sequences"
   ]
  },
  {
   "cell_type": "markdown",
   "metadata": {},
   "source": [
    "Following featurization of the TCRSeq data, users will often want to cluster the TCRSeq data to identify possible antigen-specific clusters of sequences. In order to do this, we have provided multiple ways for clustering your TCR sequences."
   ]
  },
  {
   "cell_type": "markdown",
   "metadata": {},
   "source": [
    "## Phenograph Clustering"
   ]
  },
  {
   "cell_type": "markdown",
   "metadata": {},
   "source": [
    "The first method we will explore is using a network-graph based clustering algorithm called Phenograph (https://github.com/jacoblevine/PhenoGraph). This method automatically determines the number of clusters in the data by maximizing the modularity of the network-graph asssembled from the data. Of note, this algorithm is very fast and will be useful for when there are possibly thousands to tens of thouands of sequences to cluster. However, clusters by this method tend to be quite large."
   ]
  },
  {
   "cell_type": "markdown",
   "metadata": {},
   "source": [
    "First, we will load data and train the VAE."
   ]
  },
  {
   "cell_type": "code",
   "execution_count": 1,
   "metadata": {},
   "outputs": [],
   "source": [
    "%%capture\n",
    "import sys\n",
    "sys.path.append('../../')\n",
    "from DeepTCR.DeepTCR import DeepTCR_U\n",
    "\n",
    "# Instantiate training object\n",
    "DTCRU = DeepTCR_U('Tutorial')\n",
    "\n",
    "#Load Data from directories\n",
    "DTCRU.Get_Data(directory='../../Data/Murine_Antigens',Load_Prev_Data=False,aggregate_by_aa=True,\n",
    "               aa_column_beta=0,count_column=1,v_beta_column=2,j_beta_column=3)\n",
    "\n",
    "#Train VAE\n",
    "DTCRU.Train_VAE(Load_Prev_Data=False)\n"
   ]
  },
  {
   "cell_type": "markdown",
   "metadata": {},
   "source": [
    "We will then run the clustering command."
   ]
  },
  {
   "cell_type": "code",
   "execution_count": 2,
   "metadata": {},
   "outputs": [
    {
     "name": "stdout",
     "output_type": "stream",
     "text": [
      "Finding 30 nearest neighbors using minkowski metric and 'auto' algorithm\n",
      "Neighbors computed in 2.4460246562957764 seconds\n",
      "Jaccard graph constructed in 1.2568926811218262 seconds\n",
      "Wrote graph to binary file in 0.24796557426452637 seconds\n",
      "Running Louvain modularity optimization\n",
      "After 1 runs, maximum modularity is Q = 0.889629\n",
      "Louvain completed 21 runs in 2.964170455932617 seconds\n",
      "PhenoGraph complete in 6.92734694480896 seconds\n",
      "Clustering Done\n"
     ]
    }
   ],
   "source": [
    "DTCRU.Cluster(clustering_method='phenograph')"
   ]
  },
  {
   "cell_type": "markdown",
   "metadata": {},
   "source": [
    "Following clustering, we can view the clustering solutions by looking at the object variable called Cluster_DFs."
   ]
  },
  {
   "cell_type": "code",
   "execution_count": 3,
   "metadata": {},
   "outputs": [
    {
     "name": "stdout",
     "output_type": "stream",
     "text": [
      "    Alpha_Sequences      Beta_Sequences   Labels                Sample  \\\n",
      "0              None     CASSPGTGGTERLFF    Db-F2             Db-F2.tsv   \n",
      "1              None       CASSMGANERLFF    Db-F2             Db-F2.tsv   \n",
      "2              None       CASSLGSQNTLYF   Db-M45            Db-M45.tsv   \n",
      "3              None       CASSLGGQNTLYF   Db-M45            Db-M45.tsv   \n",
      "4              None    CASSPGQGVSNERLFF   Db-M45            Db-M45.tsv   \n",
      "5              None      CASSLVGDQNTLYF   Db-M45            Db-M45.tsv   \n",
      "6              None       CASSPGGQNTLYF   Db-M45            Db-M45.tsv   \n",
      "7              None     CASSSGGGSQNTLYF   Db-M45            Db-M45.tsv   \n",
      "8              None    CASSRGWGGPENTLYF   Db-M45            Db-M45.tsv   \n",
      "9              None       CASSLSSQNTLYF   Db-M45            Db-M45.tsv   \n",
      "10             None       CASSAGGENTLYF   Db-M45            Db-M45.tsv   \n",
      "11             None       CASSLGTENTLYF   Db-M45            Db-M45.tsv   \n",
      "12             None   CASSLEDWGDSQNTLYF   Db-M45            Db-M45.tsv   \n",
      "13             None       CASSLGGHERLFF   Db-M45            Db-M45.tsv   \n",
      "14             None       CASSLGGADTLYF   Db-M45            Db-M45.tsv   \n",
      "15             None     CASSLGGGSQNTLYF   Db-M45            Db-M45.tsv   \n",
      "16             None   CASSLDRRNSYNSPLYF    Db-NP             Db-NP.tsv   \n",
      "17             None     CAWSHTGGARNTLYF    Db-NP             Db-NP.tsv   \n",
      "18             None        CASSLWRDTLYF    Db-NP             Db-NP.tsv   \n",
      "19             None    CASSQESLPSNERLFF    Db-NP             Db-NP.tsv   \n",
      "20             None     CASSQEDWGQNTLYF    Db-NP             Db-NP.tsv   \n",
      "21             None    CASSPWGGADQNTLYF    Db-NP             Db-NP.tsv   \n",
      "22             None     CASSQDQGAPERLFF    Db-NP             Db-NP.tsv   \n",
      "23             None    CASSTRDRRSQNTLYF    Db-NP             Db-NP.tsv   \n",
      "24             None    CASSLGTGGIQNTLYF    Db-NP             Db-NP.tsv   \n",
      "25             None       CASRDFSQNTLYF    Db-NP             Db-NP.tsv   \n",
      "26             None     CASSLTAISNERLFF    Db-NP             Db-NP.tsv   \n",
      "27             None     CASSLRGLSQNTLYF    Db-NP             Db-NP.tsv   \n",
      "28             None      CASSLGGQKNTLYF    Db-NP             Db-NP.tsv   \n",
      "29             None    CASSLGDSLYNSPLYF    Db-NP             Db-NP.tsv   \n",
      "..              ...                 ...      ...                   ...   \n",
      "144            None        CTCTGGGERLFF  Kb-TRP2  Kb-2_Sp_Con_TRP2.tsv   \n",
      "145            None   CASSQDFRGTSQNTLYF  Kb-TRP2  Kb-2_Sp_Con_TRP2.tsv   \n",
      "146            None      CASAGLGGQNTLYF  Kb-TRP2  Kb-2_Sp_Con_TRP2.tsv   \n",
      "147            None     QKTAYDTISNERLFF  Kb-TRP2  Kb-2_Sp_Con_TRP2.tsv   \n",
      "148            None     NRTCRTEPNNQAPLF  Kb-TRP2  Kb-2_Sp_Con_TRP2.tsv   \n",
      "149            None       CASSGQGNERLFF  Kb-TRP2  Kb-2_Sp_Con_TRP2.tsv   \n",
      "150            None     CASSFPGQGNTEVFF  Kb-TRP2  Kb-2_Sp_Con_TRP2.tsv   \n",
      "151            None     CASGDLTGGQNTLYF  Kb-TRP2  Kb-2_Sp_Con_TRP2.tsv   \n",
      "152            None    CASSLDRRVSNERLFF  Kb-TRP2  Kb-2_Sp_Con_TRP2.tsv   \n",
      "153            None   CASSQERQLISNERLFF  Kb-TRP2  Kb-2_Sp_Con_TRP2.tsv   \n",
      "154            None     QKTAYDTISNERLFF  Kb-TRP2     Kb-7_dLN_TRP2.tsv   \n",
      "155            None     CASSFHRDYNSPLYF  Kb-TRP2     Kb-7_dLN_TRP2.tsv   \n",
      "156            None  YASSLKNQGSPSTNTLYF  Kb-TRP2     Kb-7_dLN_TRP2.tsv   \n",
      "157            None     EDTAYDTISNERLFF  Kb-TRP2     Kb-7_dLN_TRP2.tsv   \n",
      "158            None      CSSSHQGTNERLFF  Kb-TRP2     Kb-7_dLN_TRP2.tsv   \n",
      "159            None      KGPIRSTSQNTLYF  Kb-TRP2     Kb-7_dLN_TRP2.tsv   \n",
      "160            None      SPHRTGWPALALTD  Kb-TRP2     Kb-7_dLN_TRP2.tsv   \n",
      "161            None     RSIAHDTISNERLFF  Kb-TRP2     Kb-7_dLN_TRP2.tsv   \n",
      "162            None       CASSFSTQNTLYF  Kb-TRP2     Kb-7_dLN_TRP2.tsv   \n",
      "163            None       CASSFDSNERLFF  Kb-TRP2     Kb-7_dLN_TRP2.tsv   \n",
      "164            None      CASMQGISQNTLYF  Kb-TRP2     Kb-7_dLN_TRP2.tsv   \n",
      "165            None      CASSHSRGNERLFF  Kb-TRP2     Kb-7_dLN_TRP2.tsv   \n",
      "166            None      CASSLRGANERLFF  Kb-TRP2     Kb-7_dLN_TRP2.tsv   \n",
      "167            None    CASSLGWGTSQNTLYF  Kb-TRP2     Kb-7_dLN_TRP2.tsv   \n",
      "168            None     CASSLELGSQNTLYF  Kb-TRP2     Kb-7_dLN_TRP2.tsv   \n",
      "169            None       CASSTTSQNTLYF  Kb-m139           Kb-m139.tsv   \n",
      "170            None      CASSTGRNQNTLYF  Kb-m139           Kb-m139.tsv   \n",
      "171            None       CASGETSQNTLYF  Kb-m139           Kb-m139.tsv   \n",
      "172            None     CASRSGGGGQNTLYF  Kb-m139           Kb-m139.tsv   \n",
      "173            None       CASSINRGNTLYF  Kb-m139           Kb-m139.tsv   \n",
      "\n",
      "     Frequency V_alpha J_alpha      V_beta D_beta      J_beta           HLA  \n",
      "0     0.008547    None    None  TCRBV19-03   None  TCRBJ01-04  [N, o, n, e]  \n",
      "1     0.008547    None    None  TCRBV19-01   None  TCRBJ01-04  [N, o, n, e]  \n",
      "2     0.017182    None    None  TCRBV12-01   None  TCRBJ02-04  [N, o, n, e]  \n",
      "3     0.006873    None    None  TCRBV12-01   None  TCRBJ02-04  [N, o, n, e]  \n",
      "4     0.003436    None    None  TCRBV12-01   None  TCRBJ01-04  [N, o, n, e]  \n",
      "5     0.003436    None    None  TCRBV12-01   None  TCRBJ02-04  [N, o, n, e]  \n",
      "6     0.003436    None    None  TCRBV12-02   None  TCRBJ02-04  [N, o, n, e]  \n",
      "7     0.003436    None    None  TCRBV12-02   None  TCRBJ02-04  [N, o, n, e]  \n",
      "8     0.003436    None    None  TCRBV17-01   None  TCRBJ02-04  [N, o, n, e]  \n",
      "9     0.003436    None    None  TCRBV12-01   None  TCRBJ02-04  [N, o, n, e]  \n",
      "10    0.003436    None    None  TCRBV12-02   None  TCRBJ02-04  [N, o, n, e]  \n",
      "11    0.003436    None    None  TCRBV12-01   None  TCRBJ02-04  [N, o, n, e]  \n",
      "12    0.003436    None    None  TCRBV12-01   None  TCRBJ02-04  [N, o, n, e]  \n",
      "13    0.003436    None    None  TCRBV12-01   None  TCRBJ01-04  [N, o, n, e]  \n",
      "14    0.003436    None    None  TCRBV12-01   None  TCRBJ02-04  [N, o, n, e]  \n",
      "15    0.003436    None    None  TCRBV12-01   None  TCRBJ02-04  [N, o, n, e]  \n",
      "16    0.009836    None    None  TCRBV12-01   None  TCRBJ01-06  [N, o, n, e]  \n",
      "17    0.006557    None    None  TCRBV31-01   None  TCRBJ02-04  [N, o, n, e]  \n",
      "18    0.006557    None    None  TCRBV26-01   None  TCRBJ02-04  [N, o, n, e]  \n",
      "19    0.003279    None    None  TCRBV02-01   None  TCRBJ01-04  [N, o, n, e]  \n",
      "20    0.003279    None    None  TCRBV02-01   None  TCRBJ02-04  [N, o, n, e]  \n",
      "21    0.003279    None    None  TCRBV05-04   None  TCRBJ02-04  [N, o, n, e]  \n",
      "22    0.003279    None    None  TCRBV05-01   None  TCRBJ01-04  [N, o, n, e]  \n",
      "23    0.003279    None    None  TCRBV26-01   None  TCRBJ02-04  [N, o, n, e]  \n",
      "24    0.003279    None    None  TCRBV24-02   None  TCRBJ02-04  [N, o, n, e]  \n",
      "25    0.003279    None    None  TCRBV19-03   None  TCRBJ02-04  [N, o, n, e]  \n",
      "26    0.003279    None    None  TCRBV16-01   None  TCRBJ01-04  [N, o, n, e]  \n",
      "27    0.003279    None    None  TCRBV05-04   None  TCRBJ02-04  [N, o, n, e]  \n",
      "28    0.003279    None    None  TCRBV16-01   None  TCRBJ02-04  [N, o, n, e]  \n",
      "29    0.003279    None    None  TCRBV12-01   None  TCRBJ01-06  [N, o, n, e]  \n",
      "..         ...     ...     ...         ...    ...         ...           ...  \n",
      "144   0.011628    None    None  TCRBV01-01   None  TCRBJ01-04  [N, o, n, e]  \n",
      "145   0.009967    None    None  TCRBV05-01   None  TCRBJ02-04  [N, o, n, e]  \n",
      "146   0.004983    None    None  TCRBV13-02   None  TCRBJ02-04  [N, o, n, e]  \n",
      "147   0.004983    None    None  TCRBV15-01   None  TCRBJ01-04  [N, o, n, e]  \n",
      "148   0.001661    None    None  TCRBV15-01   None  TCRBJ01-05  [N, o, n, e]  \n",
      "149   0.001661    None    None  TCRBV12-01   None  TCRBJ01-04  [N, o, n, e]  \n",
      "150   0.001661    None    None  TCRBV15-01   None  TCRBJ01-01  [N, o, n, e]  \n",
      "151   0.001661    None    None  TCRBV13-02   None  TCRBJ02-04  [N, o, n, e]  \n",
      "152   0.001661    None    None  TCRBV12-02   None  TCRBJ01-04  [N, o, n, e]  \n",
      "153   0.001661    None    None  TCRBV05-01   None  TCRBJ01-04  [N, o, n, e]  \n",
      "154   0.020619    None    None  TCRBV15-01   None  TCRBJ01-04  [N, o, n, e]  \n",
      "155   0.010309    None    None  TCRBV14-01   None  TCRBJ01-06  [N, o, n, e]  \n",
      "156   0.010309    None    None  TCRBV06-01   None  TCRBJ02-04  [N, o, n, e]  \n",
      "157   0.005155    None    None  TCRBV15-01   None  TCRBJ01-04  [N, o, n, e]  \n",
      "158   0.005155    None    None  TCRBV23-01   None  TCRBJ01-04  [N, o, n, e]  \n",
      "159   0.005155    None    None  TCRBV15-01   None  TCRBJ02-04  [N, o, n, e]  \n",
      "160   0.005155    None    None  TCRBV15-01   None  TCRBJ02-06  [N, o, n, e]  \n",
      "161   0.005155    None    None  TCRBV15-01   None  TCRBJ01-04  [N, o, n, e]  \n",
      "162   0.005155    None    None  TCRBV16-01   None  TCRBJ02-04  [N, o, n, e]  \n",
      "163   0.005155    None    None  TCRBV03-01   None  TCRBJ01-04  [N, o, n, e]  \n",
      "164   0.005155    None    None  TCRBV03-01   None  TCRBJ02-04  [N, o, n, e]  \n",
      "165   0.005155    None    None  TCRBV12-01   None  TCRBJ01-04  [N, o, n, e]  \n",
      "166   0.005155    None    None  TCRBV15-01   None  TCRBJ01-04  [N, o, n, e]  \n",
      "167   0.005155    None    None  TCRBV16-01   None  TCRBJ02-04  [N, o, n, e]  \n",
      "168   0.005155    None    None  TCRBV16-01   None  TCRBJ02-04  [N, o, n, e]  \n",
      "169   0.034483    None    None  TCRBV26-01   None  TCRBJ02-04  [N, o, n, e]  \n",
      "170   0.011494    None    None  TCRBV17-01   None  TCRBJ02-04  [N, o, n, e]  \n",
      "171   0.011494    None    None  TCRBV13-04   None  TCRBJ02-04  [N, o, n, e]  \n",
      "172   0.011494    None    None  TCRBV15-01   None  TCRBJ02-04  [N, o, n, e]  \n",
      "173   0.011494    None    None  TCRBV19-01   None  TCRBJ02-04  [N, o, n, e]  \n",
      "\n",
      "[174 rows x 11 columns]\n"
     ]
    }
   ],
   "source": [
    "DFs = DTCRU.Cluster_DFs\n",
    "print(DFs[0])"
   ]
  },
  {
   "cell_type": "markdown",
   "metadata": {},
   "source": [
    "We can also choose to save these results to a directory called Name of object + '_Results' by setting the write_to_sheets parameter to True. There, we can find the propritons of every sample in each cluster and csv files for every cluster detailing the sequence information with other information as well."
   ]
  },
  {
   "cell_type": "code",
   "execution_count": 4,
   "metadata": {},
   "outputs": [
    {
     "name": "stdout",
     "output_type": "stream",
     "text": [
      "Finding 30 nearest neighbors using minkowski metric and 'auto' algorithm\n",
      "Neighbors computed in 2.1649014949798584 seconds\n",
      "Jaccard graph constructed in 1.3692421913146973 seconds\n",
      "Wrote graph to binary file in 0.25616955757141113 seconds\n",
      "Running Louvain modularity optimization\n",
      "After 1 runs, maximum modularity is Q = 0.889114\n",
      "After 3 runs, maximum modularity is Q = 0.890796\n",
      "Louvain completed 23 runs in 3.6276657581329346 seconds\n",
      "PhenoGraph complete in 7.433722734451294 seconds\n",
      "Clustering Done\n"
     ]
    }
   ],
   "source": [
    "DTCRU.Cluster(clustering_method='phenograph',write_to_sheets=True)"
   ]
  },
  {
   "cell_type": "markdown",
   "metadata": {},
   "source": [
    "We can also employ two other clustering algorithms (hierarchical clustering and DBSCAN). For these types of methods, we can either control the settings for the algorithm such as the threshold parameter (t), the criterion/linkage algorithm for heirarchical clustering, or we can allow the method to determine the optimal threshold parameter by maximizing the silhoutte score of the clustering solution. First, if we run hierarchial clustering letting the program determing the right threshold parameters:"
   ]
  },
  {
   "cell_type": "markdown",
   "metadata": {},
   "source": [
    "## Hierarchical Clustering"
   ]
  },
  {
   "cell_type": "code",
   "execution_count": 5,
   "metadata": {},
   "outputs": [
    {
     "name": "stdout",
     "output_type": "stream",
     "text": [
      "Clustering Done\n"
     ]
    }
   ],
   "source": [
    "DTCRU.Cluster(clustering_method='hierarchical')"
   ]
  },
  {
   "cell_type": "markdown",
   "metadata": {},
   "source": [
    "Or we can set the parameters ourselves."
   ]
  },
  {
   "cell_type": "code",
   "execution_count": 6,
   "metadata": {},
   "outputs": [
    {
     "name": "stdout",
     "output_type": "stream",
     "text": [
      "Clustering Done\n"
     ]
    }
   ],
   "source": [
    "DTCRU.Cluster(clustering_method='hierarchical',criterion='distance',t=1.0)"
   ]
  },
  {
   "cell_type": "markdown",
   "metadata": {},
   "source": [
    "## DBSCAN clustering"
   ]
  },
  {
   "cell_type": "markdown",
   "metadata": {},
   "source": [
    "And to use DBSCAN..."
   ]
  },
  {
   "cell_type": "code",
   "execution_count": 7,
   "metadata": {},
   "outputs": [
    {
     "name": "stdout",
     "output_type": "stream",
     "text": [
      "Clustering Done\n"
     ]
    }
   ],
   "source": [
    "DTCRU.Cluster(clustering_method='dbscan')"
   ]
  },
  {
   "cell_type": "markdown",
   "metadata": {},
   "source": [
    "In the case there are perhaps too many sequences to efficiently cluster the data quickly, one can downsample the data and then use a k-nearest neighbor algorithm to classify the rest of the sequences like so .Here, we will downsample 500 sequenes for clustering and then assign the rest via KNN."
   ]
  },
  {
   "cell_type": "code",
   "execution_count": 8,
   "metadata": {},
   "outputs": [
    {
     "name": "stdout",
     "output_type": "stream",
     "text": [
      "Finding 30 nearest neighbors using minkowski metric and 'auto' algorithm\n",
      "Neighbors computed in 0.15642714500427246 seconds\n",
      "Jaccard graph constructed in 0.2672147750854492 seconds\n",
      "Wrote graph to binary file in 0.14577651023864746 seconds\n",
      "Running Louvain modularity optimization\n",
      "After 1 runs, maximum modularity is Q = 0.692053\n",
      "After 2 runs, maximum modularity is Q = 0.697311\n",
      "After 3 runs, maximum modularity is Q = 0.700883\n",
      "Louvain completed 23 runs in 3.4247944355010986 seconds\n",
      "PhenoGraph complete in 4.003698348999023 seconds\n",
      "Clustering Done\n"
     ]
    }
   ],
   "source": [
    "DTCRU.Cluster(clustering_method='phenograph',sample=500)"
   ]
  },
  {
   "cell_type": "markdown",
   "metadata": {},
   "source": [
    "Finally, we can visualize the clustering results through a UMAP representation of the sequences."
   ]
  },
  {
   "cell_type": "markdown",
   "metadata": {},
   "source": [
    "## Clustering Visualization"
   ]
  },
  {
   "cell_type": "code",
   "execution_count": 9,
   "metadata": {},
   "outputs": [
    {
     "data": {
      "image/png": "[encoded data removed]",
      "text/plain": [
       "<matplotlib.figure.Figure at 0x7f9dbd973668>"
      ]
     },
     "metadata": {},
     "output_type": "display_data"
    }
   ],
   "source": [
    "DTCRU.UMAP_Plot(by_cluster=True)"
   ]
  },
  {
   "cell_type": "code",
   "execution_count": null,
   "metadata": {},
   "outputs": [],
   "source": []
  }
 ],
 "metadata": {
  "kernelspec": {
   "display_name": "Python 3",
   "language": "python",
   "name": "python3"
  },
  "language_info": {
   "codemirror_mode": {
    "name": "ipython",
    "version": 3
   },
   "file_extension": ".py",
   "mimetype": "text/x-python",
   "name": "python",
   "nbconvert_exporter": "python",
   "pygments_lexer": "ipython3",
   "version": "3.6.8"
  }
 },
 "nbformat": 4,
 "nbformat_minor": 2
}
