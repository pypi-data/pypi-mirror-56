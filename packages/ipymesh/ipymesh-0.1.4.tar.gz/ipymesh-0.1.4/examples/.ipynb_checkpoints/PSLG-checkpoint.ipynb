{
 "cells": [
  {
   "cell_type": "code",
   "execution_count": null,
   "metadata": {
    "hideOutput": true
   },
   "outputs": [],
   "source": [
    "from ipymesh import PSLGEditor\n",
    "import pandas as pd"
   ]
  },
  {
   "cell_type": "code",
   "execution_count": null,
   "metadata": {},
   "outputs": [],
   "source": [
    "editor = PSLGEditor(vertices=[(0.2, 0.1),\n",
    "                              (0.2, 0.9),\n",
    "                              (0.9, 0.9)],\n",
    "                   vertexFlags=[1, 1, 1],\n",
    "                   segments=[(0, 1),\n",
    "                             (1, 2),\n",
    "                             (0, 2)],\n",
    "                   segmentFlags=[1, 1, 1],\n",
    "                   regions=[(0.4, 0.75)],\n",
    "                   regionFlags=[1],\n",
    "                   holes=[(0.4, 0.6), (0.8, 0.3)],\n",
    "\n",
    "                   regionTypes=[1, 2, 0],\n",
    "                   boundaryTypes=[1, 2, 0],\n",
    "                   Lx=10.0,\n",
    "                   Ly=1.0,\n",
    "                   width=800,\n",
    "                   height=200)\n",
    "editor"
   ]
  },
  {
   "cell_type": "code",
   "execution_count": null,
   "metadata": {
    "hideOutput": true
   },
   "outputs": [],
   "source": [
    "pd.DataFrame(zip(editor.vertices, editor.vertexFlags), columns=['vertices','vertexFlags'])"
   ]
  },
  {
   "cell_type": "code",
   "execution_count": null,
   "metadata": {},
   "outputs": [],
   "source": [
    "pd.DataFrame(zip(editor.segments, editor.segmentFlags),columns=['segments','segmentFlags'])"
   ]
  },
  {
   "cell_type": "code",
   "execution_count": null,
   "metadata": {},
   "outputs": [],
   "source": [
    "pd.DataFrame(zip(editor.regions, editor.regionFlags),columns=['regions','regionFlags'])"
   ]
  },
  {
   "cell_type": "code",
   "execution_count": null,
   "metadata": {},
   "outputs": [],
   "source": [
    "pd.DataFrame(pd.Series(editor.holes), columns=['holes'])"
   ]
  },
  {
   "cell_type": "code",
   "execution_count": null,
   "metadata": {},
   "outputs": [],
   "source": [
    "editor.vertexFlags = [0, 0, 0]\n",
    "editor.vertices = [(0.1, 0.1), (0.1, 0.9), (2, 0.9)]\n",
    "editor.segments = [(0, 1), (1, 2), (0, 2)]\n",
    "editor.segmentFlags = [1, 1, 1]\n",
    "editor.regions = [(0.5, 0.75), (0.6, 0.8)]\n",
    "editor.regionFlags = [1, 2]\n",
    "editor.holes = [(0.3, 0.8)]\n",
    "editor.sync()"
   ]
  }
 ],
 "metadata": {
  "kernelspec": {
   "display_name": "Python 3",
   "language": "python",
   "name": "python3"
  },
  "language_info": {
   "codemirror_mode": {
    "name": "ipython",
    "version": 3
   },
   "file_extension": ".py",
   "mimetype": "text/x-python",
   "name": "python",
   "nbconvert_exporter": "python",
   "pygments_lexer": "ipython3",
   "version": "3.7.3"
  }
 },
 "nbformat": 4,
 "nbformat_minor": 2
}
