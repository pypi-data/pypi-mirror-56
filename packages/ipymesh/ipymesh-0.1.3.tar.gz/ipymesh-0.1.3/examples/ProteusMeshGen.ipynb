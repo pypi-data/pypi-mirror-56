{
 "cells": [
  {
   "cell_type": "code",
   "execution_count": 1,
   "metadata": {
    "extensions": {
     "jupyter_dashboards": {
      "version": 1,
      "views": {
       "grid_default": {
        "hidden": true
       },
       "report_default": {}
      }
     }
    }
   },
   "outputs": [],
   "source": [
    "%matplotlib ipympl\n",
    "from ipymesh import PSLGEditor\n",
    "from proteus import Domain\n",
    "\n",
    "class PSLG_DomainEditor(PSLGEditor,Domain.PlanarStraightLineGraphDomain):\n",
    "    def __init__(self, *args, **kwargs):\n",
    "        super(PSLG_DomainEditor, self).__init__(*args, **kwargs)"
   ]
  },
  {
   "cell_type": "code",
   "execution_count": 2,
   "metadata": {
    "extensions": {
     "jupyter_dashboards": {
      "version": 1,
      "views": {
       "grid_default": {
        "col": 0,
        "height": 19,
        "hidden": false,
        "row": 0,
        "width": null
       },
       "report_default": {}
      }
     }
    }
   },
   "outputs": [
    {
     "data": {
      "application/vnd.jupyter.widget-view+json": {
       "model_id": "59de03af91224e6a919ec3d398a2f133",
       "version_major": 2,
       "version_minor": 0
      },
      "text/html": [
       "<p>Failed to display Jupyter Widget of type <code>PSLG_DomainEditor</code>.</p>\n",
       "<p>\n",
       "  If you're reading this message in the Jupyter Notebook or JupyterLab Notebook, it may mean\n",
       "  that the widgets JavaScript is still loading. If this message persists, it\n",
       "  likely means that the widgets JavaScript library is either not installed or\n",
       "  not enabled. See the <a href=\"https://ipywidgets.readthedocs.io/en/stable/user_install.html\">Jupyter\n",
       "  Widgets Documentation</a> for setup instructions.\n",
       "</p>\n",
       "<p>\n",
       "  If you're reading this message in another frontend (for example, a static\n",
       "  rendering on GitHub or <a href=\"https://nbviewer.jupyter.org/\">NBViewer</a>),\n",
       "  it may mean that your frontend doesn't currently support widgets.\n",
       "</p>\n"
      ],
      "text/plain": [
       "PSLG_DomainEditor(boundaryTypes=[1, 2, 0], height=600, holes=[[0.3487011973063151, 0.5881998697916667]], regionFlags=[1], regionTypes=[1, 2, 0], regions=[(0.4, 0.75)], segmentFlags=[1, 2, 2, 2, 2, 2, 2, 2, 2, 2, 2, 1], segments=[[0, 1], [5, 6], [4, 5], [3, 4], [2, 3], [2, 7], [1, 7], [8, 11], [8, 9], [9, 10], [10, 11], [0, 6]], sync_toggle=True, vertexFlags=[1, 1, 2, 2, 2, 2, 2, 2, 2, 2, 2, 2], vertices=[[0.1, 0.1], [0.1, 0.9], [0.9120345052083333, 0.5249609375], [0.618701171875, 0.5049609375], [0.6220345052083334, 0.3216276041666667], [0.913701171875, 0.33329427083333335], [0.918701171875, 0.1], [0.898701171875, 0.9082942708333334], [0.23536786397298176, 0.6149609375], [0.37036786397298177, 0.4882942708333333], [0.4553678385416667, 0.5916276041666667], [0.3203678639729818, 0.7132942708333333]], width=600)"
      ]
     },
     "metadata": {},
     "output_type": "display_data"
    }
   ],
   "source": [
    "deditor = PSLG_DomainEditor(vertices=[[0.1, 0.1], \n",
    "                                      [0.1, 0.9], \n",
    "                                      [0.9120345052083333, 0.5249609375], \n",
    "                                      [0.618701171875, 0.5049609375], \n",
    "                                      [0.6220345052083334, 0.3216276041666667], \n",
    "                                      [0.913701171875, 0.33329427083333335], \n",
    "                                      [0.918701171875, 0.1], \n",
    "                                      [0.898701171875, 0.9082942708333334], \n",
    "                                      [0.23536786397298176, 0.6149609375], \n",
    "                                      [0.37036786397298177, 0.4882942708333333], \n",
    "                                      [0.4553678385416667, 0.5916276041666667], \n",
    "                                      [0.3203678639729818, 0.7132942708333333]], \n",
    "                            vertexFlags=[1, 1, 2, 2, 2, 2, 2, 2, 2, 2, 2, 2], \n",
    "                            segments=[[0, 1], [5, 6], [4, 5], [3, 4], [2, 3], \n",
    "                                      [2, 7], [1, 7], [8, 11], [8, 9], [9, 10], \n",
    "                                      [10, 11], [0, 6]], \n",
    "                            segmentFlags=[1, 2, 2, 2, 2, 2, 2, 2, 2, 2, 2, 1], \n",
    "                            regions=[(0.4, 0.75)], \n",
    "                            regionFlags=[1], \n",
    "                            regionTypes=[1, 2, 0],\n",
    "                            holes=[[0.3487011973063151, 0.5881998697916667]],\n",
    "                            boundaryTypes=[1,2,0],\n",
    "                            regionConstraints=None)\n",
    "deditor"
   ]
  },
  {
   "cell_type": "code",
   "execution_count": 3,
   "metadata": {
    "extensions": {
     "jupyter_dashboards": {
      "version": 1,
      "views": {
       "grid_default": {
        "hidden": true
       },
       "report_default": {}
      }
     }
    }
   },
   "outputs": [],
   "source": [
    "from proteus import TriangleTools\n",
    "deditor.writePoly('mesh')\n",
    "tmesh = TriangleTools.TriangleBaseMesh(baseFlags='VApq30Dena{0:f}'.format(0.01),\n",
    "                                       nbase=1,\n",
    "                                       verbose=10)\n",
    "tmesh.readFromPolyFile(deditor.polyfile)\n",
    "tmesh.writeToFile(deditor.polyfile)\n",
    "mesh=tmesh.convertToProteusMesh(verbose=1)"
   ]
  },
  {
   "cell_type": "code",
   "execution_count": 4,
   "metadata": {
    "extensions": {
     "jupyter_dashboards": {
      "version": 1,
      "views": {
       "grid_default": {
        "col": 5,
        "height": 17,
        "hidden": false,
        "row": 19,
        "width": 7
       },
       "report_default": {}
      }
     }
    }
   },
   "outputs": [
    {
     "data": {
      "application/vnd.jupyter.widget-view+json": {
       "model_id": "b635755838e04111af5f3654cf46b0a9",
       "version_major": 2,
       "version_minor": 0
      },
      "text/html": [
       "<p>Failed to display Jupyter Widget of type <code>FigureCanvasNbAgg</code>.</p>\n",
       "<p>\n",
       "  If you're reading this message in the Jupyter Notebook or JupyterLab Notebook, it may mean\n",
       "  that the widgets JavaScript is still loading. If this message persists, it\n",
       "  likely means that the widgets JavaScript library is either not installed or\n",
       "  not enabled. See the <a href=\"https://ipywidgets.readthedocs.io/en/stable/user_install.html\">Jupyter\n",
       "  Widgets Documentation</a> for setup instructions.\n",
       "</p>\n",
       "<p>\n",
       "  If you're reading this message in another frontend (for example, a static\n",
       "  rendering on GitHub or <a href=\"https://nbviewer.jupyter.org/\">NBViewer</a>),\n",
       "  it may mean that your frontend doesn't currently support widgets.\n",
       "</p>\n"
      ],
      "text/plain": [
       "FigureCanvasNbAgg()"
      ]
     },
     "metadata": {},
     "output_type": "display_data"
    }
   ],
   "source": [
    "from matplotlib import pyplot as plt\n",
    "plt.figure()\n",
    "cmap = plt.cm.get_cmap('jet')\n",
    "colors = ['b','g','r','c','m','y','k','w']\n",
    "plt.tripcolor(mesh.nodeArray[:,0],\n",
    "              mesh.nodeArray[:,1],\n",
    "              mesh.elementNodesArray,\n",
    "              edgecolors='k',\n",
    "              linewidth=3,\n",
    "              facecolors=mesh.elementMaterialTypes,\n",
    "              cmap=cmap)\n",
    "for si in range(mesh.nElementBoundaries_global):\n",
    "    n0,n1=mesh.elementBoundaryNodesArray[si]\n",
    "    k=mesh.elementBoundaryMaterialTypes[si]\n",
    "    plt.plot([mesh.nodeArray[n0][0],\n",
    "             mesh.nodeArray[n1][0]],\n",
    "             [mesh.nodeArray[n0][1],\n",
    "             mesh.nodeArray[n1][1]],\n",
    "             color=colors[k],\n",
    "             linewidth=3)"
   ]
  },
  {
   "cell_type": "code",
   "execution_count": 5,
   "metadata": {},
   "outputs": [],
   "source": [
    "#print(\"vertices=\"+`deditor.vertices`+\n",
    "#      \", vertexFlags=\"+`deditor.vertexFlags`+\n",
    "#      \", segments=\"+`deditor.segments`+\n",
    "#      \", segmentFlags=\"+`deditor.segmentFlags`+\n",
    "#      \", regions=\"+`deditor.regions`+\n",
    "#      \", regionFlags\"+`deditor.regionFlags`+\n",
    "#      \", holes\"+`deditor.holes`)"
   ]
  },
  {
   "cell_type": "code",
   "execution_count": 6,
   "metadata": {
    "extensions": {
     "jupyter_dashboards": {
      "version": 1,
      "views": {
       "grid_default": {
        "hidden": true
       },
       "report_default": {}
      }
     }
    }
   },
   "outputs": [],
   "source": [
    "from proteus.TransportCoefficients import TC_base\n",
    "class LAD(TC_base):\n",
    "    \"\"\"\n",
    "    The coefficients of the linear advection-diffusion equation\n",
    "    \"\"\"\n",
    "    def __init__(self,M,A,B):\n",
    "        TC_base.__init__(self, \n",
    "                         nc=1, #number of components\n",
    "                         variableNames=['u'],\n",
    "                         mass      = {0:{0:'linear'}},\n",
    "                         advection = {0:{0:'linear'}},\n",
    "                         diffusion = {0:{0:{0:'constant'}}},\n",
    "                         potential = {0:{0:'u'}},\n",
    "                         reaction  = {0:{0:'linear'}})\n",
    "        self.M=M;\n",
    "        self.A=A;\n",
    "        self.B=B;\n",
    "    \n",
    "    def evaluate(self,t,c):\n",
    "        c[('m',0)][:]         = self.M*c[('u',0)]  \n",
    "        c[('dm',0,0)][:]      = self.M\n",
    "        c[('f',0)][...,0]     = self.B[0]*c[('u',0)]\n",
    "        c[('f',0)][...,1]     = self.B[1]*c[('u',0)]\n",
    "        c[('df',0,0)][...,0]  = self.B[0]\n",
    "        c[('df',0,0)][...,1]  = self.B[1]\n",
    "        c[('a',0,0)][...,0,0] = self.A[0][0]\n",
    "        c[('a',0,0)][...,1,1] = self.A[1][1]"
   ]
  },
  {
   "cell_type": "code",
   "execution_count": 7,
   "metadata": {},
   "outputs": [],
   "source": [
    "from proteus.iproteus import * \n",
    "Profiling.logLevel=7\n",
    "Profiling.verbose=False\n",
    "from proteus import default_p as p\n",
    "#physics\n",
    "p.name = \"ladr_2d\"\n",
    "p.nd = 2; #Two dimensions\n",
    "p.L=(1.0,1.0); \n",
    "p.T=1.0\n",
    "p.domain=deditor\n",
    "p.coefficients=LAD(M=1.0,\n",
    "                    A=[[0.001,0.0],\n",
    "                       [0.0,0.001]],\n",
    "                    B=[2.0,1.0])\n",
    "\n",
    "def getDBC(x,flag):\n",
    "    if flag == 1:\n",
    "        return lambda x,t: 1.0\n",
    "    if flag == 2:\n",
    "        return lambda x,t: 0.0\n",
    "\n",
    "def getFlux(x,flag):\n",
    "    return None\n",
    "    \n",
    "p.dirichletConditions = {0:getDBC}\n",
    "p.advectiveFluxBoundaryConditions = {0:getFlux}\n",
    "p.diffusiveFluxBoundaryConditions = {0:{0:getFlux}}\n",
    "p.periodicDirichletConditions = None\n",
    "class IC:\n",
    "    def __init__(self):\n",
    "        pass\n",
    "    def uOfXT(self,x,t):\n",
    "        eps=1.0e-4\n",
    "        if x[0] <= 0.1+eps or x[1] <= 0.1+eps:\n",
    "            return 1.0\n",
    "        else:\n",
    "            return 0.0\n",
    "\n",
    "p.initialConditions  = {0:IC()}"
   ]
  },
  {
   "cell_type": "code",
   "execution_count": 8,
   "metadata": {},
   "outputs": [],
   "source": [
    "from proteus import default_n as n\n",
    "import proteus as pr\n",
    "n.timeIntegration = pr.TimeIntegration.BackwardEuler_cfl\n",
    "n.stepController = pr.StepControl.Min_dt_cfl_controller\n",
    "n.runCFL=0.9\n",
    "n.femSpaces = {0:pr.FemTools.C0_AffineLinearOnSimplexWithNodalBasis}\n",
    "n.elementQuadrature = pr.Quadrature.SimplexGaussQuadrature(p.nd,3)\n",
    "n.elementBoundaryQuadrature = pr.Quadrature.SimplexGaussQuadrature(p.nd-1,3)\n",
    "n.subgridError = pr.SubgridError.AdvectionDiffusionReaction_ASGS(p.coefficients,\n",
    "                                                                 p.nd,\n",
    "                                                                 lag=True)\n",
    "n.shockCapturing = pr.ShockCapturing.ResGradQuad_SC(p.coefficients,\n",
    "                                                    p.nd,\n",
    "                                                    shockCapturingFactor=2,\n",
    "                                                    lag=True)\n",
    "n.numericalFluxType = pr.NumericalFlux.Advection_DiagonalUpwind_Diffusion_SIPG_exterior\n",
    "n.triangleOptions=\"q30DenAa\"+`0.001`\n",
    "n.tnList=[float(i)/40.0 for i in range(11)]\n",
    "n.matrix = pr.LinearAlgebraTools.SparseMatrix\n",
    "n.multilevelLinearSolver = pr.LinearSolvers.LU\n",
    "n.l_atol_res = 1.0e-8\n",
    "n.parallelPartitioningType = pr.MeshTools.MeshParallelPartitioningTypes.node\n",
    "n.nLayersOfOverlapForParallel = 1\n",
    "n.periodicDirichletConditions = None"
   ]
  },
  {
   "cell_type": "code",
   "execution_count": 9,
   "metadata": {},
   "outputs": [],
   "source": [
    "from proteus import default_s,default_so, SplitOperator\n",
    "so = default_so\n",
    "so.name = p.name \n",
    "so.sList=[default_s]\n",
    "so.tnList = n.tnList\n",
    "#so.systemStepControllerType = SplitOperator.Sequential_FixedStep\n",
    "#so.systemStepControllerType = SplitOperator.Sequential_FixedStep_Simple\n",
    "#so.dt_system_fixed= 0.001\n",
    "so.systemStepControllerType = SplitOperator.Sequential_MinModelStep\n",
    "so.systemStepExact= False"
   ]
  },
  {
   "cell_type": "code",
   "execution_count": 10,
   "metadata": {},
   "outputs": [
    {
     "name": "stderr",
     "output_type": "stream",
     "text": [
      "/home/cekees/proteus/linux2/lib/python2.7/site-packages/h5py/__init__.py:36: FutureWarning: Conversion of the second argument of issubdtype from `float` to `np.floating` is deprecated. In future, it will be treated as `np.float64 == np.dtype(float).type`.\n",
      "  from ._conv import register_converters as _register_converters\n"
     ]
    }
   ],
   "source": [
    "from proteus import NumericalSolution\n",
    "ns = NumericalSolution.NS_base(so,[p],[n],so.sList,opts)"
   ]
  },
  {
   "cell_type": "code",
   "execution_count": 11,
   "metadata": {},
   "outputs": [],
   "source": [
    "failed = ns.calculateSolution('ladr_run1')\n",
    "assert(not failed)"
   ]
  },
  {
   "cell_type": "code",
   "execution_count": 12,
   "metadata": {},
   "outputs": [
    {
     "data": {
      "application/vnd.jupyter.widget-view+json": {
       "model_id": "bf7aebc57d7b4ae0a2850c124e098d03",
       "version_major": 2,
       "version_minor": 0
      },
      "text/html": [
       "<p>Failed to display Jupyter Widget of type <code>FigureCanvasNbAgg</code>.</p>\n",
       "<p>\n",
       "  If you're reading this message in the Jupyter Notebook or JupyterLab Notebook, it may mean\n",
       "  that the widgets JavaScript is still loading. If this message persists, it\n",
       "  likely means that the widgets JavaScript library is either not installed or\n",
       "  not enabled. See the <a href=\"https://ipywidgets.readthedocs.io/en/stable/user_install.html\">Jupyter\n",
       "  Widgets Documentation</a> for setup instructions.\n",
       "</p>\n",
       "<p>\n",
       "  If you're reading this message in another frontend (for example, a static\n",
       "  rendering on GitHub or <a href=\"https://nbviewer.jupyter.org/\">NBViewer</a>),\n",
       "  it may mean that your frontend doesn't currently support widgets.\n",
       "</p>\n"
      ],
      "text/plain": [
       "FigureCanvasNbAgg()"
      ]
     },
     "metadata": {},
     "output_type": "display_data"
    },
    {
     "data": {
      "text/plain": [
       "<matplotlib.colorbar.Colorbar at 0x7f4dc79d6dd0>"
      ]
     },
     "execution_count": 12,
     "metadata": {},
     "output_type": "execute_result"
    }
   ],
   "source": [
    "%matplotlib ipympl\n",
    "from matplotlib import pyplot as plt\n",
    "fig = plt.figure()\n",
    "x = ns.modelList[0].levelModelList[-1].mesh.nodeArray[:,0]\n",
    "y = ns.modelList[0].levelModelList[-1].mesh.nodeArray[:,1]\n",
    "triangles = ns.modelList[0].levelModelList[-1].mesh.elementNodesArray\n",
    "u = ns.modelList[0].levelModelList[-1].u[0].dof\n",
    "plt.tricontourf(x,y,triangles,u,cmap='jet')\n",
    "plt.colorbar()"
   ]
  },
  {
   "cell_type": "code",
   "execution_count": 13,
   "metadata": {},
   "outputs": [
    {
     "data": {
      "application/vnd.jupyter.widget-view+json": {
       "model_id": "e09cdc9954ae438b84b73898652eb2ce",
       "version_major": 2,
       "version_minor": 0
      },
      "text/html": [
       "<p>Failed to display Jupyter Widget of type <code>FigureCanvasNbAgg</code>.</p>\n",
       "<p>\n",
       "  If you're reading this message in the Jupyter Notebook or JupyterLab Notebook, it may mean\n",
       "  that the widgets JavaScript is still loading. If this message persists, it\n",
       "  likely means that the widgets JavaScript library is either not installed or\n",
       "  not enabled. See the <a href=\"https://ipywidgets.readthedocs.io/en/stable/user_install.html\">Jupyter\n",
       "  Widgets Documentation</a> for setup instructions.\n",
       "</p>\n",
       "<p>\n",
       "  If you're reading this message in another frontend (for example, a static\n",
       "  rendering on GitHub or <a href=\"https://nbviewer.jupyter.org/\">NBViewer</a>),\n",
       "  it may mean that your frontend doesn't currently support widgets.\n",
       "</p>\n"
      ],
      "text/plain": [
       "FigureCanvasNbAgg()"
      ]
     },
     "metadata": {},
     "output_type": "display_data"
    },
    {
     "data": {
      "text/plain": [
       "[<matplotlib.lines.Line2D at 0x7f4dc794dc50>,\n",
       " <matplotlib.lines.Line2D at 0x7f4dc794dd10>]"
      ]
     },
     "execution_count": 13,
     "metadata": {},
     "output_type": "execute_result"
    }
   ],
   "source": [
    "fig = plt.figure()\n",
    "plt.triplot(x,y,triangles)"
   ]
  },
  {
   "cell_type": "code",
   "execution_count": 14,
   "metadata": {},
   "outputs": [
    {
     "data": {
      "application/vnd.jupyter.widget-view+json": {
       "model_id": "14ac58592e70462985215407a45c1c86",
       "version_major": 2,
       "version_minor": 0
      },
      "text/html": [
       "<p>Failed to display Jupyter Widget of type <code>FigureCanvasNbAgg</code>.</p>\n",
       "<p>\n",
       "  If you're reading this message in the Jupyter Notebook or JupyterLab Notebook, it may mean\n",
       "  that the widgets JavaScript is still loading. If this message persists, it\n",
       "  likely means that the widgets JavaScript library is either not installed or\n",
       "  not enabled. See the <a href=\"https://ipywidgets.readthedocs.io/en/stable/user_install.html\">Jupyter\n",
       "  Widgets Documentation</a> for setup instructions.\n",
       "</p>\n",
       "<p>\n",
       "  If you're reading this message in another frontend (for example, a static\n",
       "  rendering on GitHub or <a href=\"https://nbviewer.jupyter.org/\">NBViewer</a>),\n",
       "  it may mean that your frontend doesn't currently support widgets.\n",
       "</p>\n"
      ],
      "text/plain": [
       "FigureCanvasNbAgg()"
      ]
     },
     "metadata": {},
     "output_type": "display_data"
    }
   ],
   "source": [
    "import matplotlib.tri as mtri\n",
    "from tables import  open_file\n",
    "import numpy as np\n",
    "archive = open_file('ladr_2d.h5','r')\n",
    "domain = p.domain\n",
    "domain.x=[domain.x0, domain.y0]\n",
    "domain.L=[domain.Lx, domain.Ly]\n",
    "domain.nd=2\n",
    "domain.getBoundingBox()\n",
    "triang = mtri.Triangulation(x, y, triangles)\n",
    "xg = np.linspace(0, domain.L[0], 20)\n",
    "yg = np.linspace(0, domain.L[1], 20)\n",
    "plt.figure()\n",
    "for it,t in enumerate(n.tnList):\n",
    "    u = archive.get_node(\"/u_t\"+`it`)\n",
    "    plt.clf()\n",
    "    plt.xlabel(r'z[m]')\n",
    "    plt.ylabel(r'x[m]')\n",
    "    colors = ['b','g','r','c','m','y','k','w']\n",
    "    plt.xlim(domain.x[0]-0.1*domain.L[0],domain.x[0]+domain.L[0]+0.1*domain.L[0])    \n",
    "    for si,s in enumerate(domain.segments):\n",
    "        plt.plot([domain.vertices[s[0]][0],\n",
    "                     domain.vertices[s[1]][0]],\n",
    "                    [domain.vertices[s[0]][1],\n",
    "                     domain.vertices[s[1]][1]],\n",
    "                    color=colors[domain.segmentFlags[si]-1],\n",
    "                    linewidth=2,\n",
    "                    marker='o')\n",
    "    plt.tricontourf(x,y,triangles, u,levels=np.linspace(-0.2,1.2,101),cmap='jet')\n",
    "    plt.colorbar()\n",
    "    plt.title('T=%2.2f' % (t,))\n",
    "    plt.axis('equal')\n",
    "    plt.xlim((0,domain.L[0]))\n",
    "    plt.savefig('phi%4.4d.png' % (it,))"
   ]
  },
  {
   "cell_type": "code",
   "execution_count": 15,
   "metadata": {},
   "outputs": [
    {
     "name": "stdout",
     "output_type": "stream",
     "text": [
      "ffmpeg version 3.2.4-1build2 Copyright (c) 2000-2017 the FFmpeg developers\n",
      "  built with gcc 6.3.0 (Ubuntu 6.3.0-8ubuntu1) 20170221\n",
      "  configuration: --prefix=/usr --extra-version=1build2 --toolchain=hardened --libdir=/usr/lib/x86_64-linux-gnu --incdir=/usr/include/x86_64-linux-gnu --enable-gpl --disable-stripping --enable-avresample --enable-avisynth --enable-gnutls --enable-ladspa --enable-libass --enable-libbluray --enable-libbs2b --enable-libcaca --enable-libcdio --enable-libebur128 --enable-libflite --enable-libfontconfig --enable-libfreetype --enable-libfribidi --enable-libgme --enable-libgsm --enable-libmp3lame --enable-libopenjpeg --enable-libopenmpt --enable-libopus --enable-libpulse --enable-librubberband --enable-libshine --enable-libsnappy --enable-libsoxr --enable-libspeex --enable-libssh --enable-libtheora --enable-libtwolame --enable-libvorbis --enable-libvpx --enable-libwavpack --enable-libwebp --enable-libx265 --enable-libxvid --enable-libzmq --enable-libzvbi --enable-omx --enable-openal --enable-opengl --enable-sdl2 --enable-libdc1394 --enable-libiec61883 --enable-chromaprint --enable-frei0r --enable-libopencv --enable-libx264 --enable-shared\n",
      "  libavutil      55. 34.101 / 55. 34.101\n",
      "  libavcodec     57. 64.101 / 57. 64.101\n",
      "  libavformat    57. 56.101 / 57. 56.101\n",
      "  libavdevice    57.  1.100 / 57.  1.100\n",
      "  libavfilter     6. 65.100 /  6. 65.100\n",
      "  libavresample   3.  1.  0 /  3.  1.  0\n",
      "  libswscale      4.  2.100 /  4.  2.100\n",
      "  libswresample   2.  3.100 /  2.  3.100\n",
      "  libpostproc    54.  1.100 / 54.  1.100\n",
      "Input #0, image2, from 'phi%4d.png':\n",
      "  Duration: 00:00:00.44, start: 0.000000, bitrate: N/A\n",
      "    Stream #0:0: Video: png, rgba(pc), 640x480 [SAR 3937:3937 DAR 4:3], 25 fps, 25 tbr, 25 tbn, 25 tbc\n",
      "\u001b[0;33mNo pixel format specified, yuv444p for H.264 encoding chosen.\n",
      "Use -pix_fmt yuv420p for compatibility with outdated media players.\n",
      "\u001b[0m\u001b[1;36m[libx264 @ 0x55d9b6ca2c00] \u001b[0musing SAR=1/1\n",
      "\u001b[1;36m[libx264 @ 0x55d9b6ca2c00] \u001b[0musing cpu capabilities: MMX2 SSE2Fast SSSE3 SSE4.2 AVX FMA3 AVX2 LZCNT BMI2\n",
      "\u001b[1;36m[libx264 @ 0x55d9b6ca2c00] \u001b[0mprofile High 4:4:4 Predictive, level 3.0, 4:4:4 8-bit\n",
      "\u001b[1;36m[libx264 @ 0x55d9b6ca2c00] \u001b[0m264 - core 148 r2748 97eaef2 - H.264/MPEG-4 AVC codec - Copyleft 2003-2016 - http://www.videolan.org/x264.html - options: cabac=1 ref=3 deblock=1:0:0 analyse=0x3:0x113 me=hex subme=7 psy=1 psy_rd=1.00:0.00 mixed_ref=1 me_range=16 chroma_me=1 trellis=1 8x8dct=1 cqm=0 deadzone=21,11 fast_pskip=1 chroma_qp_offset=4 threads=6 lookahead_threads=1 sliced_threads=0 nr=0 decimate=1 interlaced=0 bluray_compat=0 constrained_intra=0 bframes=3 b_pyramid=2 b_adapt=1 b_bias=0 direct=1 weightb=1 open_gop=0 weightp=2 keyint=250 keyint_min=25 scenecut=40 intra_refresh=0 rc_lookahead=40 rc=crf mbtree=1 crf=23.0 qcomp=0.60 qpmin=0 qpmax=69 qpstep=4 ip_ratio=1.40 aq=1:1.00\n",
      "Output #0, mp4, to 'tankPhi.mp4':\n",
      "  Metadata:\n",
      "    encoder         : Lavf57.56.101\n",
      "    Stream #0:0: Video: h264 (libx264) ([33][0][0][0] / 0x0021), yuv444p, 640x480 [SAR 1:1 DAR 4:3], q=-1--1, 25 fps, 12800 tbn, 25 tbc\n",
      "    Metadata:\n",
      "      encoder         : Lavc57.64.101 libx264\n",
      "    Side data:\n",
      "      cpb: bitrate max/min/avg: 0/0/0 buffer size: 0 vbv_delay: -1\n",
      "Stream mapping:\n",
      "  Stream #0:0 -> #0:0 (png (native) -> h264 (libx264))\n",
      "Press [q] to stop, [?] for help\n",
      "frame=   11 fps=0.0 q=-1.0 Lsize=      29kB time=00:00:00.32 bitrate= 741.3kbits/s speed=2.35x    \n",
      "video:28kB audio:0kB subtitle:0kB other streams:0kB global headers:0kB muxing overhead: 3.402594%\n",
      "\u001b[1;36m[libx264 @ 0x55d9b6ca2c00] \u001b[0mframe I:1     Avg QP:24.72  size: 10844\n",
      "\u001b[1;36m[libx264 @ 0x55d9b6ca2c00] \u001b[0mframe P:4     Avg QP:25.27  size:  2348\n",
      "\u001b[1;36m[libx264 @ 0x55d9b6ca2c00] \u001b[0mframe B:6     Avg QP:26.92  size:  1293\n",
      "\u001b[1;36m[libx264 @ 0x55d9b6ca2c00] \u001b[0mconsecutive B-frames: 27.3%  0.0%  0.0% 72.7%\n",
      "\u001b[1;36m[libx264 @ 0x55d9b6ca2c00] \u001b[0mmb I  I16..4: 20.7% 57.4% 21.9%\n",
      "\u001b[1;36m[libx264 @ 0x55d9b6ca2c00] \u001b[0mmb P  I16..4:  5.0% 10.2%  1.9%  P16..4:  6.8%  3.7%  2.0%  0.0%  0.0%    skip:70.4%\n",
      "\u001b[1;36m[libx264 @ 0x55d9b6ca2c00] \u001b[0mmb B  I16..4:  1.7%  3.8%  0.2%  B16..8: 14.5%  3.7%  0.3%  direct: 0.6%  skip:75.2%  L0:37.2% L1:57.7% BI: 5.1%\n",
      "\u001b[1;36m[libx264 @ 0x55d9b6ca2c00] \u001b[0m8x8 transform intra:59.7% inter:90.4%\n",
      "\u001b[1;36m[libx264 @ 0x55d9b6ca2c00] \u001b[0mcoded y,u,v intra: 16.4% 11.8% 12.2% inter: 2.9% 2.7% 2.8%\n",
      "\u001b[1;36m[libx264 @ 0x55d9b6ca2c00] \u001b[0mi16 v,h,dc,p: 47% 32%  2% 20%\n",
      "\u001b[1;36m[libx264 @ 0x55d9b6ca2c00] \u001b[0mi8 v,h,dc,ddl,ddr,vr,hd,vl,hu: 42% 15% 22%  1%  6%  6%  5%  1%  1%\n",
      "\u001b[1;36m[libx264 @ 0x55d9b6ca2c00] \u001b[0mi4 v,h,dc,ddl,ddr,vr,hd,vl,hu: 36% 36% 13%  2%  4%  3%  2%  2%  1%\n",
      "\u001b[1;36m[libx264 @ 0x55d9b6ca2c00] \u001b[0mWeighted P-Frames: Y:0.0% UV:0.0%\n",
      "\u001b[1;36m[libx264 @ 0x55d9b6ca2c00] \u001b[0mref P L0: 78.5% 11.5%  6.3%  3.7%\n",
      "\u001b[1;36m[libx264 @ 0x55d9b6ca2c00] \u001b[0mref B L0: 91.9%  7.6%  0.5%\n",
      "\u001b[1;36m[libx264 @ 0x55d9b6ca2c00] \u001b[0mref B L1: 96.4%  3.6%\n",
      "\u001b[1;36m[libx264 @ 0x55d9b6ca2c00] \u001b[0mkb/s:509.02\n"
     ]
    }
   ],
   "source": [
    "!rm tankPhi.mp4; ffmpeg -i phi%4d.png -vcodec libx264 tankPhi.mp4"
   ]
  },
  {
   "cell_type": "code",
   "execution_count": 16,
   "metadata": {},
   "outputs": [
    {
     "data": {
      "text/html": [
       "<video controls>\n",
       "<source type =\"video/mp4\" src=\"data:video/mp4;base64,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\"/>\n",
       "Your browser does not support the video tag\n",
       "</video>"
      ],
      "text/plain": [
       "<IPython.core.display.HTML object>"
      ]
     },
     "execution_count": 16,
     "metadata": {},
     "output_type": "execute_result"
    }
   ],
   "source": [
    "from IPython.core.display import HTML\n",
    "data_uri_mp4 = open(\"tankPhi.mp4\", \"rb\").read().encode(\"base64\").replace(\"\\n\", \"\")\n",
    "video_tag = \"\"\"<video controls>\n",
    "<source type =\"video/mp4\" src=\"data:video/mp4;base64,{mp4}\"/>\n",
    "Your browser does not support the video tag\n",
    "</video>\"\"\".format(mp4=data_uri_mp4)\n",
    "HTML(data=video_tag)"
   ]
  }
 ],
 "metadata": {
  "extensions": {
   "jupyter_dashboards": {
    "activeView": "grid_default",
    "version": 1,
    "views": {
     "grid_default": {
      "cellMargin": 10,
      "defaultCellHeight": 20,
      "maxColumns": 12,
      "name": "grid",
      "type": "grid"
     },
     "report_default": {
      "name": "report",
      "type": "report"
     }
    }
   }
  },
  "kernelspec": {
   "display_name": "Python 2",
   "language": "python",
   "name": "python2"
  },
  "language_info": {
   "codemirror_mode": {
    "name": "ipython",
    "version": 2
   },
   "file_extension": ".py",
   "mimetype": "text/x-python",
   "name": "python",
   "nbconvert_exporter": "python",
   "pygments_lexer": "ipython2",
   "version": "2.7.11"
  }
 },
 "nbformat": 4,
 "nbformat_minor": 2
}
