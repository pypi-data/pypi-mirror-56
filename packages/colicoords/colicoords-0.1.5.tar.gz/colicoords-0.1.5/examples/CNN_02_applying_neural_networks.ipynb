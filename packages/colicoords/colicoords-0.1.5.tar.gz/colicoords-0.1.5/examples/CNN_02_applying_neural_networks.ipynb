{
 "cells": [
  {
   "cell_type": "code",
   "execution_count": 19,
   "metadata": {},
   "outputs": [],
   "source": [
    "%matplotlib notebook\n",
    "import matplotlib.pyplot as plt\n",
    "from colicoords.cnn.unet import get_unet_256\n",
    "from colicoords.cnn.preprocess import norm_hampel, resize_stack\n",
    "import numpy as np\n",
    "import mahotas as mh\n",
    "import tifffile"
   ]
  },
  {
   "cell_type": "markdown",
   "metadata": {},
   "source": [
    "In this example we will apply the previously trained convolutional neural network to new binary images to segment them. The first step is to load the data, apply preprocessing and to generate a new empty model. This model must be the exact same shape as the one that was used to train the network."
   ]
  },
  {
   "cell_type": "code",
   "execution_count": 2,
   "metadata": {},
   "outputs": [],
   "source": [
    "brightfield = tifffile.imread(r'PATH TO BRIGHTFIELD')\n",
    "brightfield_resized = resize_stack(brightfield, 0.5)\n",
    "bf_norm = np.stack([norm_hampel(arr) for arr in brightfield_resized])"
   ]
  },
  {
   "cell_type": "code",
   "execution_count": 6,
   "metadata": {},
   "outputs": [],
   "source": [
    "model = get_unet_256(input_shape=(256, 256, 1))"
   ]
  },
  {
   "cell_type": "code",
   "execution_count": 7,
   "metadata": {},
   "outputs": [],
   "source": [
    "model.load_weights('PATH TO MODEL WEIGHTS.h5')"
   ]
  },
  {
   "cell_type": "markdown",
   "metadata": {},
   "source": [
    "After loading the data and the model we are ready to segment new images. Because the input shape of the model is `(256, 256, 1)` the model expects a stack of images in the shape `(z, 256, 256, 1)`. The input brightfield stack shape is currently `(z, 256, 256)`, therefore `np.expand_dims` is used to create the required shape. "
   ]
  },
  {
   "cell_type": "code",
   "execution_count": 10,
   "metadata": {},
   "outputs": [],
   "source": [
    "prediction = model.predict(np.expand_dims(bf_norm, -1))"
   ]
  },
  {
   "cell_type": "markdown",
   "metadata": {},
   "source": [
    "Conversely, the output shape is `(z, 256, 256, 1)` so the last dimension is removed by `squeeze()`, and the image is resized back to `(z, 512, 512)`. "
   ]
  },
  {
   "cell_type": "code",
   "execution_count": 13,
   "metadata": {},
   "outputs": [
    {
     "data": {
      "text/plain": [
       "(474, 512, 512)"
      ]
     },
     "execution_count": 13,
     "metadata": {},
     "output_type": "execute_result"
    }
   ],
   "source": [
    "predict_resized = resize_stack(prediction.squeeze(), 2)\n",
    "predict_resized.shape"
   ]
  },
  {
   "cell_type": "markdown",
   "metadata": {},
   "source": [
    "The output image has values between 0 and 1, where if the output is 1 probability is high that that pixel belongs to a cell. Lower values can occur on cells which might be out of focus (unless the network was trained on sufficient out of focus cells), or cells with poor signal-to-noise ratios.\n",
    "\n",
    "The final binary can be obtained by simply thresholding the prediction images. In the following cell this is done with a value of 0.5."
   ]
  },
  {
   "cell_type": "code",
   "execution_count": null,
   "metadata": {},
   "outputs": [],
   "source": [
    "tifffile.imsave('OUTPUT_PATH', (predict_resized > 0.5).astype(int))"
   ]
  }
 ],
 "metadata": {
  "kernelspec": {
   "display_name": "Python 3",
   "language": "python",
   "name": "python3"
  },
  "language_info": {
   "codemirror_mode": {
    "name": "ipython",
    "version": 3
   },
   "file_extension": ".py",
   "mimetype": "text/x-python",
   "name": "python",
   "nbconvert_exporter": "python",
   "pygments_lexer": "ipython3",
   "version": "3.6.5"
  }
 },
 "nbformat": 4,
 "nbformat_minor": 2
}
