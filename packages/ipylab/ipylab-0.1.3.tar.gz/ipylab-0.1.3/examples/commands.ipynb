{
 "cells": [
  {
   "cell_type": "markdown",
   "metadata": {},
   "source": [
    "# Command Registry"
   ]
  },
  {
   "cell_type": "code",
   "execution_count": null,
   "metadata": {},
   "outputs": [],
   "source": [
    "from ipylab import JupyterFrontEnd\n",
    "\n",
    "app = JupyterFrontEnd()"
   ]
  },
  {
   "cell_type": "code",
   "execution_count": null,
   "metadata": {},
   "outputs": [],
   "source": [
    "app.version"
   ]
  },
  {
   "cell_type": "markdown",
   "metadata": {},
   "source": [
    "## List all commands"
   ]
  },
  {
   "cell_type": "code",
   "execution_count": null,
   "metadata": {},
   "outputs": [],
   "source": [
    "app.commands.list_commands()"
   ]
  },
  {
   "cell_type": "markdown",
   "metadata": {},
   "source": [
    "## Create a new console"
   ]
  },
  {
   "cell_type": "code",
   "execution_count": null,
   "metadata": {},
   "outputs": [],
   "source": [
    "app.commands.execute('console:create', {\n",
    "    'insertMode': 'split-right',\n",
    "    'kernelPreference': {\n",
    "        'shutdownOnClose': True,\n",
    "    }\n",
    "})"
   ]
  },
  {
   "cell_type": "markdown",
   "metadata": {},
   "source": [
    "## Change the theme"
   ]
  },
  {
   "cell_type": "code",
   "execution_count": null,
   "metadata": {},
   "outputs": [],
   "source": [
    "app.commands.execute('apputils:change-theme', { 'theme': 'JupyterLab Dark' })"
   ]
  },
  {
   "cell_type": "markdown",
   "metadata": {},
   "source": [
    "## Create a new terminal"
   ]
  },
  {
   "cell_type": "code",
   "execution_count": null,
   "metadata": {},
   "outputs": [],
   "source": [
    "app.commands.execute('terminal:create-new')"
   ]
  },
  {
   "cell_type": "markdown",
   "metadata": {},
   "source": [
    "## Ready event\n",
    "\n",
    "Some functionalities might require the `JupyterFrontEnd` widget to be ready on the frontend first.\n",
    "\n",
    "This is for example the case when listing all the available commands, or retrieving the version with `app.version`.\n",
    "\n",
    "The `on_ready` method can be used to register a callback that will be fired when the frontend is ready."
   ]
  },
  {
   "cell_type": "code",
   "execution_count": null,
   "metadata": {},
   "outputs": [],
   "source": [
    "from ipylab import JupyterFrontEnd\n",
    "from ipywidgets import Output\n",
    "\n",
    "app = JupyterFrontEnd()\n",
    "out = Output()\n",
    "\n",
    "def init():\n",
    "    # show the first 5 commands\n",
    "    cmds = app.commands.list_commands()[:5]\n",
    "    out.append_stdout(cmds)\n",
    "\n",
    "app.on_ready(init)\n",
    "out"
   ]
  },
  {
   "cell_type": "markdown",
   "metadata": {},
   "source": [
    "Or using `asyncio`:"
   ]
  },
  {
   "cell_type": "code",
   "execution_count": null,
   "metadata": {},
   "outputs": [],
   "source": [
    "import asyncio\n",
    "\n",
    "app = JupyterFrontEnd()\n",
    "\n",
    "out = Output()\n",
    "\n",
    "async def init():\n",
    "    await app.ready()\n",
    "    cmds = app.commands.list_commands()[:5]\n",
    "    out.append_stdout(cmds)\n",
    "\n",
    "asyncio.create_task(init())\n",
    "out"
   ]
  }
 ],
 "metadata": {
  "kernelspec": {
   "display_name": "Python 3",
   "language": "python",
   "name": "python3"
  },
  "language_info": {
   "codemirror_mode": {
    "name": "ipython",
    "version": 3
   },
   "file_extension": ".py",
   "mimetype": "text/x-python",
   "name": "python",
   "nbconvert_exporter": "python",
   "pygments_lexer": "ipython3",
   "version": "3.8.0"
  }
 },
 "nbformat": 4,
 "nbformat_minor": 4
}
